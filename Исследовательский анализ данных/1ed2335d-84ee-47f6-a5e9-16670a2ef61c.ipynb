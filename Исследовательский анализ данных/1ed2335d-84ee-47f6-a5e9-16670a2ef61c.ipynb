{
 "cells": [
  {
   "cell_type": "markdown",
   "metadata": {
    "id": "-VFbjcb3Awb7"
   },
   "source": [
    "# Исследование объявлений о продаже квартир\n",
    "\n",
    "В вашем распоряжении данные сервиса Яндекс Недвижимость — архив объявлений о продаже квартир в Санкт-Петербурге и соседних населённых пунктах за несколько лет. Вам нужно научиться определять рыночную стоимость объектов недвижимости. Для этого проведите исследовательский анализ данных и установите параметры, влияющие на цену объектов. Это позволит построить автоматизированную систему: она отследит аномалии и мошенническую деятельность.\n",
    "\n",
    "По каждой квартире на продажу доступны два вида данных. Первые вписаны пользователем, вторые — получены автоматически на основе картографических данных. Например, расстояние до центра, аэропорта и других объектов — эти данные автоматически получены из геосервисов. Количество парков и водоёмов также заполняется без участия пользователя."
   ]
  },
  {
   "cell_type": "markdown",
   "metadata": {
    "id": "aeFLH07FAwb9"
   },
   "source": [
    "### Откройте файл с данными и изучите общую информацию"
   ]
  },
  {
   "cell_type": "code",
   "execution_count": 1,
   "metadata": {
    "id": "7MZxY65pAwb9"
   },
   "outputs": [],
   "source": [
    "import pandas as pd\n",
    "\n",
    "data = pd.read_csv('/datasets/real_estate_data.csv', sep='\\t')"
   ]
  },
  {
   "cell_type": "code",
   "execution_count": 2,
   "metadata": {},
   "outputs": [
    {
     "name": "stdout",
     "output_type": "stream",
     "text": [
      "<class 'pandas.core.frame.DataFrame'>\n",
      "RangeIndex: 23699 entries, 0 to 23698\n",
      "Data columns (total 22 columns):\n",
      " #   Column                Non-Null Count  Dtype  \n",
      "---  ------                --------------  -----  \n",
      " 0   total_images          23699 non-null  int64  \n",
      " 1   last_price            23699 non-null  float64\n",
      " 2   total_area            23699 non-null  float64\n",
      " 3   first_day_exposition  23699 non-null  object \n",
      " 4   rooms                 23699 non-null  int64  \n",
      " 5   ceiling_height        14504 non-null  float64\n",
      " 6   floors_total          23613 non-null  float64\n",
      " 7   living_area           21796 non-null  float64\n",
      " 8   floor                 23699 non-null  int64  \n",
      " 9   is_apartment          2775 non-null   object \n",
      " 10  studio                23699 non-null  bool   \n",
      " 11  open_plan             23699 non-null  bool   \n",
      " 12  kitchen_area          21421 non-null  float64\n",
      " 13  balcony               12180 non-null  float64\n",
      " 14  locality_name         23650 non-null  object \n",
      " 15  airports_nearest      18157 non-null  float64\n",
      " 16  cityCenters_nearest   18180 non-null  float64\n",
      " 17  parks_around3000      18181 non-null  float64\n",
      " 18  parks_nearest         8079 non-null   float64\n",
      " 19  ponds_around3000      18181 non-null  float64\n",
      " 20  ponds_nearest         9110 non-null   float64\n",
      " 21  days_exposition       20518 non-null  float64\n",
      "dtypes: bool(2), float64(14), int64(3), object(3)\n",
      "memory usage: 3.7+ MB\n"
     ]
    }
   ],
   "source": [
    "data.info()"
   ]
  },
  {
   "cell_type": "code",
   "execution_count": 3,
   "metadata": {},
   "outputs": [
    {
     "data": {
      "text/html": [
       "<div>\n",
       "<style scoped>\n",
       "    .dataframe tbody tr th:only-of-type {\n",
       "        vertical-align: middle;\n",
       "    }\n",
       "\n",
       "    .dataframe tbody tr th {\n",
       "        vertical-align: top;\n",
       "    }\n",
       "\n",
       "    .dataframe thead th {\n",
       "        text-align: right;\n",
       "    }\n",
       "</style>\n",
       "<table border=\"1\" class=\"dataframe\">\n",
       "  <thead>\n",
       "    <tr style=\"text-align: right;\">\n",
       "      <th></th>\n",
       "      <th>total_images</th>\n",
       "      <th>last_price</th>\n",
       "      <th>total_area</th>\n",
       "      <th>first_day_exposition</th>\n",
       "      <th>rooms</th>\n",
       "      <th>ceiling_height</th>\n",
       "      <th>floors_total</th>\n",
       "      <th>living_area</th>\n",
       "      <th>floor</th>\n",
       "      <th>is_apartment</th>\n",
       "      <th>studio</th>\n",
       "      <th>open_plan</th>\n",
       "      <th>kitchen_area</th>\n",
       "      <th>balcony</th>\n",
       "      <th>locality_name</th>\n",
       "      <th>airports_nearest</th>\n",
       "      <th>cityCenters_nearest</th>\n",
       "      <th>parks_around3000</th>\n",
       "      <th>parks_nearest</th>\n",
       "      <th>ponds_around3000</th>\n",
       "      <th>ponds_nearest</th>\n",
       "      <th>days_exposition</th>\n",
       "    </tr>\n",
       "  </thead>\n",
       "  <tbody>\n",
       "    <tr>\n",
       "      <th>0</th>\n",
       "      <td>20</td>\n",
       "      <td>13000000.0</td>\n",
       "      <td>108.0</td>\n",
       "      <td>2019-03-07T00:00:00</td>\n",
       "      <td>3</td>\n",
       "      <td>2.70</td>\n",
       "      <td>16.0</td>\n",
       "      <td>51.0</td>\n",
       "      <td>8</td>\n",
       "      <td>NaN</td>\n",
       "      <td>False</td>\n",
       "      <td>False</td>\n",
       "      <td>25.0</td>\n",
       "      <td>NaN</td>\n",
       "      <td>Санкт-Петербург</td>\n",
       "      <td>18863.0</td>\n",
       "      <td>16028.0</td>\n",
       "      <td>1.0</td>\n",
       "      <td>482.0</td>\n",
       "      <td>2.0</td>\n",
       "      <td>755.0</td>\n",
       "      <td>NaN</td>\n",
       "    </tr>\n",
       "    <tr>\n",
       "      <th>1</th>\n",
       "      <td>7</td>\n",
       "      <td>3350000.0</td>\n",
       "      <td>40.4</td>\n",
       "      <td>2018-12-04T00:00:00</td>\n",
       "      <td>1</td>\n",
       "      <td>NaN</td>\n",
       "      <td>11.0</td>\n",
       "      <td>18.6</td>\n",
       "      <td>1</td>\n",
       "      <td>NaN</td>\n",
       "      <td>False</td>\n",
       "      <td>False</td>\n",
       "      <td>11.0</td>\n",
       "      <td>2.0</td>\n",
       "      <td>посёлок Шушары</td>\n",
       "      <td>12817.0</td>\n",
       "      <td>18603.0</td>\n",
       "      <td>0.0</td>\n",
       "      <td>NaN</td>\n",
       "      <td>0.0</td>\n",
       "      <td>NaN</td>\n",
       "      <td>81.0</td>\n",
       "    </tr>\n",
       "    <tr>\n",
       "      <th>2</th>\n",
       "      <td>10</td>\n",
       "      <td>5196000.0</td>\n",
       "      <td>56.0</td>\n",
       "      <td>2015-08-20T00:00:00</td>\n",
       "      <td>2</td>\n",
       "      <td>NaN</td>\n",
       "      <td>5.0</td>\n",
       "      <td>34.3</td>\n",
       "      <td>4</td>\n",
       "      <td>NaN</td>\n",
       "      <td>False</td>\n",
       "      <td>False</td>\n",
       "      <td>8.3</td>\n",
       "      <td>0.0</td>\n",
       "      <td>Санкт-Петербург</td>\n",
       "      <td>21741.0</td>\n",
       "      <td>13933.0</td>\n",
       "      <td>1.0</td>\n",
       "      <td>90.0</td>\n",
       "      <td>2.0</td>\n",
       "      <td>574.0</td>\n",
       "      <td>558.0</td>\n",
       "    </tr>\n",
       "    <tr>\n",
       "      <th>3</th>\n",
       "      <td>0</td>\n",
       "      <td>64900000.0</td>\n",
       "      <td>159.0</td>\n",
       "      <td>2015-07-24T00:00:00</td>\n",
       "      <td>3</td>\n",
       "      <td>NaN</td>\n",
       "      <td>14.0</td>\n",
       "      <td>NaN</td>\n",
       "      <td>9</td>\n",
       "      <td>NaN</td>\n",
       "      <td>False</td>\n",
       "      <td>False</td>\n",
       "      <td>NaN</td>\n",
       "      <td>0.0</td>\n",
       "      <td>Санкт-Петербург</td>\n",
       "      <td>28098.0</td>\n",
       "      <td>6800.0</td>\n",
       "      <td>2.0</td>\n",
       "      <td>84.0</td>\n",
       "      <td>3.0</td>\n",
       "      <td>234.0</td>\n",
       "      <td>424.0</td>\n",
       "    </tr>\n",
       "    <tr>\n",
       "      <th>4</th>\n",
       "      <td>2</td>\n",
       "      <td>10000000.0</td>\n",
       "      <td>100.0</td>\n",
       "      <td>2018-06-19T00:00:00</td>\n",
       "      <td>2</td>\n",
       "      <td>3.03</td>\n",
       "      <td>14.0</td>\n",
       "      <td>32.0</td>\n",
       "      <td>13</td>\n",
       "      <td>NaN</td>\n",
       "      <td>False</td>\n",
       "      <td>False</td>\n",
       "      <td>41.0</td>\n",
       "      <td>NaN</td>\n",
       "      <td>Санкт-Петербург</td>\n",
       "      <td>31856.0</td>\n",
       "      <td>8098.0</td>\n",
       "      <td>2.0</td>\n",
       "      <td>112.0</td>\n",
       "      <td>1.0</td>\n",
       "      <td>48.0</td>\n",
       "      <td>121.0</td>\n",
       "    </tr>\n",
       "  </tbody>\n",
       "</table>\n",
       "</div>"
      ],
      "text/plain": [
       "   total_images  last_price  total_area first_day_exposition  rooms  \\\n",
       "0            20  13000000.0       108.0  2019-03-07T00:00:00      3   \n",
       "1             7   3350000.0        40.4  2018-12-04T00:00:00      1   \n",
       "2            10   5196000.0        56.0  2015-08-20T00:00:00      2   \n",
       "3             0  64900000.0       159.0  2015-07-24T00:00:00      3   \n",
       "4             2  10000000.0       100.0  2018-06-19T00:00:00      2   \n",
       "\n",
       "   ceiling_height  floors_total  living_area  floor is_apartment  studio  \\\n",
       "0            2.70          16.0         51.0      8          NaN   False   \n",
       "1             NaN          11.0         18.6      1          NaN   False   \n",
       "2             NaN           5.0         34.3      4          NaN   False   \n",
       "3             NaN          14.0          NaN      9          NaN   False   \n",
       "4            3.03          14.0         32.0     13          NaN   False   \n",
       "\n",
       "   open_plan  kitchen_area  balcony    locality_name  airports_nearest  \\\n",
       "0      False          25.0      NaN  Санкт-Петербург           18863.0   \n",
       "1      False          11.0      2.0   посёлок Шушары           12817.0   \n",
       "2      False           8.3      0.0  Санкт-Петербург           21741.0   \n",
       "3      False           NaN      0.0  Санкт-Петербург           28098.0   \n",
       "4      False          41.0      NaN  Санкт-Петербург           31856.0   \n",
       "\n",
       "   cityCenters_nearest  parks_around3000  parks_nearest  ponds_around3000  \\\n",
       "0              16028.0               1.0          482.0               2.0   \n",
       "1              18603.0               0.0            NaN               0.0   \n",
       "2              13933.0               1.0           90.0               2.0   \n",
       "3               6800.0               2.0           84.0               3.0   \n",
       "4               8098.0               2.0          112.0               1.0   \n",
       "\n",
       "   ponds_nearest  days_exposition  \n",
       "0          755.0              NaN  \n",
       "1            NaN             81.0  \n",
       "2          574.0            558.0  \n",
       "3          234.0            424.0  \n",
       "4           48.0            121.0  "
      ]
     },
     "execution_count": 3,
     "metadata": {},
     "output_type": "execute_result"
    }
   ],
   "source": [
    "pd.set_option('display.max_columns', None)\n",
    "data.head()"
   ]
  },
  {
   "cell_type": "code",
   "execution_count": 4,
   "metadata": {},
   "outputs": [
    {
     "data": {
      "text/plain": [
       "array([[<AxesSubplot:title={'center':'total_images'}>,\n",
       "        <AxesSubplot:title={'center':'last_price'}>,\n",
       "        <AxesSubplot:title={'center':'total_area'}>,\n",
       "        <AxesSubplot:title={'center':'rooms'}>],\n",
       "       [<AxesSubplot:title={'center':'ceiling_height'}>,\n",
       "        <AxesSubplot:title={'center':'floors_total'}>,\n",
       "        <AxesSubplot:title={'center':'living_area'}>,\n",
       "        <AxesSubplot:title={'center':'floor'}>],\n",
       "       [<AxesSubplot:title={'center':'kitchen_area'}>,\n",
       "        <AxesSubplot:title={'center':'balcony'}>,\n",
       "        <AxesSubplot:title={'center':'airports_nearest'}>,\n",
       "        <AxesSubplot:title={'center':'cityCenters_nearest'}>],\n",
       "       [<AxesSubplot:title={'center':'parks_around3000'}>,\n",
       "        <AxesSubplot:title={'center':'parks_nearest'}>,\n",
       "        <AxesSubplot:title={'center':'ponds_around3000'}>,\n",
       "        <AxesSubplot:title={'center':'ponds_nearest'}>],\n",
       "       [<AxesSubplot:title={'center':'days_exposition'}>, <AxesSubplot:>,\n",
       "        <AxesSubplot:>, <AxesSubplot:>]], dtype=object)"
      ]
     },
     "execution_count": 4,
     "metadata": {},
     "output_type": "execute_result"
    },
    {
     "data": {
      "image/png": "[encoded data removed]",
      "text/plain": [
       "<Figure size 1080x1440 with 20 Axes>"
      ]
     },
     "metadata": {
      "needs_background": "light"
     },
     "output_type": "display_data"
    }
   ],
   "source": [
    "data.hist(figsize=(15, 20))"
   ]
  },
  {
   "cell_type": "markdown",
   "metadata": {},
   "source": [
    "Судя по графикам в данных явно есть пропуски и ошибочные значения. В значении rooms, не может быть 0 комнат, по крайней мере 1 всегда есть, а также высота потолков выглядит неправдоподобно. Такие ошибки могут быть связаны с человеческим фактором или некоректным вводом данных.  \n",
    "Явных дубликатов не наблюдается. "
   ]
  },
  {
   "cell_type": "markdown",
   "metadata": {
    "id": "-O5NtivEAwb9"
   },
   "source": [
    "### Выполните предобработку данных"
   ]
  },
  {
   "cell_type": "code",
   "execution_count": 5,
   "metadata": {
    "scrolled": false
   },
   "outputs": [
    {
     "data": {
      "text/plain": [
       "total_images                0\n",
       "last_price                  0\n",
       "total_area                  0\n",
       "first_day_exposition        0\n",
       "rooms                       0\n",
       "ceiling_height           9195\n",
       "floors_total               86\n",
       "living_area              1903\n",
       "floor                       0\n",
       "is_apartment            20924\n",
       "studio                      0\n",
       "open_plan                   0\n",
       "kitchen_area             2278\n",
       "balcony                 11519\n",
       "locality_name              49\n",
       "airports_nearest         5542\n",
       "cityCenters_nearest      5519\n",
       "parks_around3000         5518\n",
       "parks_nearest           15620\n",
       "ponds_around3000         5518\n",
       "ponds_nearest           14589\n",
       "days_exposition          3181\n",
       "dtype: int64"
      ]
     },
     "execution_count": 5,
     "metadata": {},
     "output_type": "execute_result"
    }
   ],
   "source": [
    "data.isna().sum()"
   ]
  },
  {
   "cell_type": "markdown",
   "metadata": {},
   "source": [
    "Чтобы лучше разобраться, что делать с пропусками в данных, надо понять, какой процент от всего набора данных они занимают. "
   ]
  },
  {
   "cell_type": "code",
   "execution_count": 6,
   "metadata": {},
   "outputs": [
    {
     "data": {
      "text/plain": [
       "total_images             0.000000\n",
       "last_price               0.000000\n",
       "total_area               0.000000\n",
       "first_day_exposition     0.000000\n",
       "rooms                    0.000000\n",
       "ceiling_height          38.799105\n",
       "floors_total             0.362885\n",
       "living_area              8.029875\n",
       "floor                    0.000000\n",
       "is_apartment            88.290645\n",
       "studio                   0.000000\n",
       "open_plan                0.000000\n",
       "kitchen_area             9.612220\n",
       "balcony                 48.605426\n",
       "locality_name            0.206760\n",
       "airports_nearest        23.384953\n",
       "cityCenters_nearest     23.287902\n",
       "parks_around3000        23.283683\n",
       "parks_nearest           65.909954\n",
       "ponds_around3000        23.283683\n",
       "ponds_nearest           61.559559\n",
       "days_exposition         13.422507\n",
       "dtype: float64"
      ]
     },
     "execution_count": 6,
     "metadata": {},
     "output_type": "execute_result"
    }
   ],
   "source": [
    "data.isna().mean() * 100"
   ]
  },
  {
   "cell_type": "code",
   "execution_count": 7,
   "metadata": {},
   "outputs": [
    {
     "data": {
      "text/plain": [
       "False    2725\n",
       "True       50\n",
       "Name: is_apartment, dtype: int64"
      ]
     },
     "execution_count": 7,
     "metadata": {},
     "output_type": "execute_result"
    }
   ],
   "source": [
    "data['is_apartment'].value_counts() #проверим в каком формате указаны ответы, где нет пропусков"
   ]
  },
  {
   "cell_type": "markdown",
   "metadata": {
    "id": "7v3vAeTuAwb-"
   },
   "source": [
    "Высоту потолков(ceiling_height), количество этажей(floors_total),жилую площадь(living_area), площадь кухни(kitchen_area), количество дней размещения объявления(days_exposition) заменим медианным значением, так как оно наименее негативно скажется на дальнейшей обработке данных, пропуски в этих полях могли вознкнуть из-за невнимательности пользователей, если их заполнение было необязательным.  \n",
    "\n",
    "Название населённого пункта(locality_name) заменяем на \"другой\", поскольку это категориальная переменная, и это не сильно повлиет на анализ. \n",
    "\n",
    "Количество балконов(balcony) заменим на 0, потому что такие пропуски логично интерпретировать как отсутствие балконов. \n",
    "\n",
    "Апартаменты(is_apartment) заменяем на значение False, по аналогии с количеством балконов. \n",
    "\n",
    "Пропуски в столбцах airports_nearest, cityCenters_nearest, parks_around3000, ponds_around3000 заменим медианой по locality_name, так как заполнение общей медианой может сильно исказить данные, стоит их уточнить по местности. \n",
    "\n",
    "Пропуски в parks_nearest и ponds_nearest оставим без изменений, потому что процент пропусков достаточно высокий и замена исказит анализ. "
   ]
  },
  {
   "cell_type": "code",
   "execution_count": 8,
   "metadata": {},
   "outputs": [],
   "source": [
    "data['ceiling_height'] = data['ceiling_height'].fillna(data['ceiling_height'].median())\n",
    "data['floors_total'] = data['floors_total'].fillna(data['floors_total'].median())\n",
    "data.loc[data['floor'] > data['floors_total'], 'floors_total'] = data['floor']\n",
    "data['living_area'] = data['living_area'].fillna(data['total_area'] * data['living_area'].mean() / data['total_area'].mean())\n",
    "data['kitchen_area'] = data['kitchen_area'].fillna(data['total_area'] * data['kitchen_area'].mean() / data['total_area'].mean())"
   ]
  },
  {
   "cell_type": "code",
   "execution_count": 9,
   "metadata": {},
   "outputs": [],
   "source": [
    "data = data.dropna(subset=['locality_name'])"
   ]
  },
  {
   "cell_type": "code",
   "execution_count": 10,
   "metadata": {},
   "outputs": [],
   "source": [
    "data['balcony'] = data['balcony'].fillna(0)"
   ]
  },
  {
   "cell_type": "code",
   "execution_count": 11,
   "metadata": {},
   "outputs": [],
   "source": [
    "data['is_apartment'] = data['is_apartment'].fillna(False)"
   ]
  },
  {
   "cell_type": "code",
   "execution_count": 13,
   "metadata": {
    "scrolled": true
   },
   "outputs": [
    {
     "data": {
      "text/plain": [
       "total_images                0\n",
       "last_price                  0\n",
       "total_area                  0\n",
       "first_day_exposition        0\n",
       "rooms                       0\n",
       "ceiling_height              0\n",
       "floors_total                0\n",
       "living_area                 0\n",
       "floor                       0\n",
       "is_apartment                0\n",
       "studio                      0\n",
       "open_plan                   0\n",
       "kitchen_area                0\n",
       "balcony                     0\n",
       "locality_name               0\n",
       "airports_nearest         5534\n",
       "cityCenters_nearest      5511\n",
       "parks_around3000         5510\n",
       "parks_nearest           15586\n",
       "ponds_around3000         5510\n",
       "ponds_nearest           14565\n",
       "days_exposition          3180\n",
       "dtype: int64"
      ]
     },
     "execution_count": 13,
     "metadata": {},
     "output_type": "execute_result"
    }
   ],
   "source": [
    "#проверим теперь количество пропусков\n",
    "data.isna().sum()"
   ]
  },
  {
   "cell_type": "markdown",
   "metadata": {},
   "source": [
    "В столбце first_day_exposition изменяем тип данных на datetime64, поскольку так будет удобнее проводить анализ по времени. \n",
    "В столбце is_apartment изменяем тип данных на bool, также для дальнейшего удобства. "
   ]
  },
  {
   "cell_type": "code",
   "execution_count": 14,
   "metadata": {},
   "outputs": [],
   "source": [
    "data['first_day_exposition'] = pd.to_datetime(data['first_day_exposition'])  \n",
    "data['is_apartment'] = data['is_apartment'].astype(bool)"
   ]
  },
  {
   "cell_type": "code",
   "execution_count": 15,
   "metadata": {},
   "outputs": [
    {
     "data": {
      "text/plain": [
       "array(['санкт-петербург', 'поселок шушары', 'городской поселок янино-1',\n",
       "       'поселок парголово', 'поселок мурино', 'ломоносов', 'сертолово',\n",
       "       'петергоф', 'пушкин', 'деревня кудрово', 'коммунар', 'колпино',\n",
       "       'поселок городского типа красный бор', 'гатчина',\n",
       "       'деревня федоровское', 'выборг', 'кронштадт', 'кировск',\n",
       "       'деревня новое девяткино', 'поселок металлострой',\n",
       "       'поселок городского типа лебяжье',\n",
       "       'поселок городского типа сиверский', 'поселок молодцово',\n",
       "       'поселок городского типа кузьмоловский',\n",
       "       'садовое товарищество новая ропша', 'павловск',\n",
       "       'деревня пикколово', 'всеволожск', 'волхов', 'кингисепп',\n",
       "       'приозерск', 'сестрорецк', 'деревня куттузи', 'поселок аннино',\n",
       "       'поселок городского типа ефимовский', 'поселок плодовое',\n",
       "       'деревня заклинье', 'поселок торковичи', 'поселок первомайское',\n",
       "       'красное село', 'поселок понтонный', 'сясьстрой', 'деревня старая',\n",
       "       'деревня лесколово', 'поселок новый свет', 'сланцы',\n",
       "       'село путилово', 'ивангород', 'мурино', 'шлиссельбург',\n",
       "       'никольское', 'зеленогорск', 'сосновый бор', 'деревня оржицы',\n",
       "       'деревня кальтино', 'кудрово', 'поселок романовка',\n",
       "       'поселок бугры', 'поселок городского типа рощино', 'кириши',\n",
       "       'луга', 'волосово', 'отрадное', 'село павлово', 'поселок оредеж',\n",
       "       'село копорье', 'поселок молодежное', 'тихвин', 'поселок победа',\n",
       "       'деревня нурма', 'поселок городского типа синявино', 'тосно',\n",
       "       'поселок стрельна', 'бокситогорск', 'поселок александровская',\n",
       "       'деревня лопухинка', 'пикалево', 'поселок терволово',\n",
       "       'поселок городского типа советский', 'подпорожье',\n",
       "       'поселок петровское', 'поселок городского типа токсово',\n",
       "       'поселок сельцо', 'поселок городского типа вырица',\n",
       "       'деревня кипень', 'деревня келози', 'деревня вартемяги',\n",
       "       'поселок тельмана', 'поселок севастьяново',\n",
       "       'городской поселок большая ижора', 'городской поселок павлово',\n",
       "       'деревня агалатово', 'поселок новогорелово',\n",
       "       'городской поселок лесогорский', 'деревня лаголово',\n",
       "       'поселок цвелодубово', 'поселок городского типа рахья',\n",
       "       'деревня белогорка', 'поселок заводской',\n",
       "       'городской поселок новоселье', 'деревня большие колпаны',\n",
       "       'деревня горбунки', 'деревня батово', 'деревня заневка',\n",
       "       'деревня иссад', 'приморск', 'городской поселок федоровское',\n",
       "       'деревня мистолово', 'новая ладога', 'поселок зимитицы',\n",
       "       'поселок барышево', 'деревня разметелево',\n",
       "       'поселок городского типа имени свердлова', 'деревня пеники',\n",
       "       'поселок рябово', 'деревня пудомяги', 'поселок станции корнево',\n",
       "       'деревня низино', 'деревня бегуницы', 'поселок поляны',\n",
       "       'городской поселок мга', 'поселок елизаветино',\n",
       "       'поселок городского типа кузнечное', 'деревня колтуши',\n",
       "       'поселок запорожское', 'деревня гостилицы',\n",
       "       'деревня малое карлино', 'поселок мичуринское',\n",
       "       'поселок городского типа имени морозова', 'поселок песочный',\n",
       "       'поселок сосново', 'деревня аро', 'поселок ильичево',\n",
       "       'поселок городского типа тайцы', 'деревня малое верево',\n",
       "       'деревня извара', 'поселок станции вещево', 'село паша',\n",
       "       'деревня калитино', 'поселок городского типа ульяновка',\n",
       "       'деревня чудской бор', 'поселок городского типа дубровка',\n",
       "       'деревня мины', 'поселок войсковицы', 'деревня коркино',\n",
       "       'поселок ропша', 'поселок городского типа приладожский',\n",
       "       'поселок щеглово', 'поселок гаврилово', 'лодейное поле',\n",
       "       'деревня рабитицы', 'поселок городского типа никольский',\n",
       "       'деревня кузьмолово', 'деревня малые колпаны',\n",
       "       'поселок петро-славянка', 'городской поселок назия',\n",
       "       'поселок репино', 'поселок углово', 'поселок старая малукса',\n",
       "       'садовое товарищество рахья', 'деревня меньково',\n",
       "       'деревня старые бегуницы', 'поселок саперный', 'поселок семрино',\n",
       "       'поселок глажево', 'поселок кобринское', 'деревня гарболово',\n",
       "       'деревня юкки', 'поселок станции приветнинское',\n",
       "       'деревня мануйлово', 'деревня пчева', 'поселок цвылево',\n",
       "       'поселок мельниково', 'поселок пудость', 'поселок усть-луга',\n",
       "       'светогорск', 'любань', 'поселок селезнево',\n",
       "       'поселок городского типа рябово', 'каменногорск', 'деревня кривко',\n",
       "       'поселок глебычево', 'деревня парицы', 'поселок жилпоселок',\n",
       "       'поселок городского типа мга', 'поселок войскорово',\n",
       "       'село никольское', 'поселок стеклянный',\n",
       "       'поселок городского типа важины', 'поселок мыза-ивановка',\n",
       "       'село русско-высоцкое', 'поселок городского типа форносово',\n",
       "       'село старая ладога', 'поселок житково',\n",
       "       'городской поселок виллози', 'деревня лампово',\n",
       "       'деревня шпаньково', 'деревня лаврики', 'поселок сумино',\n",
       "       'поселок возрождение', 'деревня старосиверская',\n",
       "       'поселок кикерино', 'деревня старое хинколово',\n",
       "       'поселок пригородный', 'поселок торфяное',\n",
       "       'городской поселок будогощь', 'поселок суходолье',\n",
       "       'поселок красная долина', 'деревня хапо-ое',\n",
       "       'поселок городского типа дружная горка', 'поселок лисий нос',\n",
       "       'деревня яльгелево', 'село рождествено', 'деревня старополье',\n",
       "       'поселок левашово', 'деревня сяськелево', 'деревня камышовка',\n",
       "       'садоводческое некоммерческое товарищество лесная поляна',\n",
       "       'деревня хязельки', 'поселок жилгородок',\n",
       "       'поселок городского типа павлово', 'деревня ялгино',\n",
       "       'поселок новый учхоз', 'городской поселок рощино',\n",
       "       'поселок гончарово', 'поселок почап', 'поселок саперное',\n",
       "       'поселок платформа 69-й километр', 'поселок каложицы',\n",
       "       'деревня фалилеево', 'деревня пельгора',\n",
       "       'поселок городского типа лесогорский', 'деревня торошковичи',\n",
       "       'поселок белоостров', 'поселок алексеевка', 'поселок серебрянский',\n",
       "       'поселок лукаши', 'деревня щеглово', 'деревня тарасово',\n",
       "       'поселок кингисеппский',\n",
       "       'поселок при железнодорожной станции вещево', 'поселок ушаки',\n",
       "       'деревня котлы', 'деревня сижно', 'деревня торосово',\n",
       "       'поселок форт красная горка', 'деревня новолисино',\n",
       "       'поселок станции громово', 'деревня глинка',\n",
       "       'поселок городского типа назия', 'деревня старая пустошь',\n",
       "       'поселок коммунары', 'поселок починок',\n",
       "       'поселок городского типа вознесенье', 'деревня разбегаево',\n",
       "       'поселок гладкое',\n",
       "       'поселок при железнодорожной станции приветнинское',\n",
       "       'поселок тесово-4', 'деревня бор', 'поселок коробицыно',\n",
       "       'деревня большая вруда', 'деревня курковицы',\n",
       "       'городской поселок советский', 'поселок кобралово',\n",
       "       'деревня суоранда', 'поселок городского типа кондратьево',\n",
       "       'коттеджный поселок счастье', 'поселок любань', 'деревня реброво',\n",
       "       'деревня зимитицы', 'деревня тойворово', 'поселок семиозерье',\n",
       "       'поселок лесное', 'поселок совхозный', 'поселок ленинское',\n",
       "       'поселок суйда', 'деревня нижние осельки', 'поселок станции свирь',\n",
       "       'поселок перово', 'высоцк', 'поселок гарболово', 'село шум',\n",
       "       'поселок котельский', 'поселок станции лужайка',\n",
       "       'деревня большая пустомержа', 'поселок красносельское',\n",
       "       'деревня вахнова кара', 'деревня пижма',\n",
       "       'коттеджный поселок кивеннапа север', 'поселок ромашки',\n",
       "       'деревня каськово', 'деревня куровицы', 'поселок плоское',\n",
       "       'поселок городского типа большая ижора', 'поселок кирпичное',\n",
       "       'деревня ям-тесово', 'деревня раздолье', 'деревня терпилицы',\n",
       "       'поселок шугозеро', 'деревня ваганово', 'поселок пушное',\n",
       "       'садовое товарищество садко', 'поселок усть-ижора',\n",
       "       'деревня выскатка', 'городской поселок свирьстрой',\n",
       "       'поселок громово', 'деревня кисельня', 'деревня трубников бор',\n",
       "       'поселок калитино', 'поселок высокоключевой',\n",
       "       'садовое товарищество приладожский',\n",
       "       'поселок пансионат зеленый бор', 'деревня ненимяки',\n",
       "       'деревня снегиревка', 'деревня рапполово', 'деревня пустынка',\n",
       "       'поселок рабитицы', 'деревня большой сабск', 'деревня русско',\n",
       "       'деревня лупполово', 'деревня большое рейзино',\n",
       "       'деревня малая романовка', 'поселок дружноселье', 'поселок пчевжа',\n",
       "       'поселок володарское', 'деревня нижняя',\n",
       "       'коттеджный поселок лесное', 'деревня тихковицы',\n",
       "       'деревня борисова грива', 'поселок дзержинского'], dtype=object)"
      ]
     },
     "execution_count": 15,
     "metadata": {},
     "output_type": "execute_result"
    }
   ],
   "source": [
    "data['locality_name'] = data['locality_name'].str.lower() #приводим все названия к одному регистру\n",
    "data['locality_name'] = data['locality_name'].str.replace('ё', 'е') #заменяем все буквы ё на е\n",
    "data['locality_name'].unique() #смотрим уникальные значения, чтобы выыявить неявные дубликаты"
   ]
  },
  {
   "cell_type": "markdown",
   "metadata": {},
   "source": [
    "Прежде всего видно, что многие дубликаты возникли из-за разной интерпритации названия поселка, уберем из названий \"городского типа\" и уберем лишние пробелы. "
   ]
  },
  {
   "cell_type": "code",
   "execution_count": 16,
   "metadata": {
    "scrolled": false
   },
   "outputs": [
    {
     "data": {
      "text/plain": [
       "array(['санкт-петербург', 'поселок шушары', 'городской поселок янино-1',\n",
       "       'поселок парголово', 'поселок мурино', 'ломоносов', 'сертолово',\n",
       "       'петергоф', 'пушкин', 'деревня кудрово', 'коммунар', 'колпино',\n",
       "       'поселок  красный бор', 'гатчина', 'деревня федоровское', 'выборг',\n",
       "       'кронштадт', 'кировск', 'деревня новое девяткино',\n",
       "       'поселок металлострой', 'поселок  лебяжье', 'поселок  сиверский',\n",
       "       'поселок молодцово', 'поселок  кузьмоловский',\n",
       "       'садовое товарищество новая ропша', 'павловск',\n",
       "       'деревня пикколово', 'всеволожск', 'волхов', 'кингисепп',\n",
       "       'приозерск', 'сестрорецк', 'деревня куттузи', 'поселок аннино',\n",
       "       'поселок  ефимовский', 'поселок плодовое', 'деревня заклинье',\n",
       "       'поселок торковичи', 'поселок первомайское', 'красное село',\n",
       "       'поселок понтонный', 'сясьстрой', 'деревня старая',\n",
       "       'деревня лесколово', 'поселок новый свет', 'сланцы',\n",
       "       'село путилово', 'ивангород', 'мурино', 'шлиссельбург',\n",
       "       'никольское', 'зеленогорск', 'сосновый бор', 'деревня оржицы',\n",
       "       'деревня кальтино', 'кудрово', 'поселок романовка',\n",
       "       'поселок бугры', 'поселок  рощино', 'кириши', 'луга', 'волосово',\n",
       "       'отрадное', 'село павлово', 'поселок оредеж', 'село копорье',\n",
       "       'поселок молодежное', 'тихвин', 'поселок победа', 'деревня нурма',\n",
       "       'поселок  синявино', 'тосно', 'поселок стрельна', 'бокситогорск',\n",
       "       'поселок александровская', 'деревня лопухинка', 'пикалево',\n",
       "       'поселок терволово', 'поселок  советский', 'подпорожье',\n",
       "       'поселок петровское', 'поселок  токсово', 'поселок сельцо',\n",
       "       'поселок  вырица', 'деревня кипень', 'деревня келози',\n",
       "       'деревня вартемяги', 'поселок тельмана', 'поселок севастьяново',\n",
       "       'городской поселок большая ижора', 'городской поселок павлово',\n",
       "       'деревня агалатово', 'поселок новогорелово',\n",
       "       'городской поселок лесогорский', 'деревня лаголово',\n",
       "       'поселок цвелодубово', 'поселок  рахья', 'деревня белогорка',\n",
       "       'поселок заводской', 'городской поселок новоселье',\n",
       "       'деревня большие колпаны', 'деревня горбунки', 'деревня батово',\n",
       "       'деревня заневка', 'деревня иссад', 'приморск',\n",
       "       'городской поселок федоровское', 'деревня мистолово',\n",
       "       'новая ладога', 'поселок зимитицы', 'поселок барышево',\n",
       "       'деревня разметелево', 'поселок  имени свердлова',\n",
       "       'деревня пеники', 'поселок рябово', 'деревня пудомяги',\n",
       "       'поселок станции корнево', 'деревня низино', 'деревня бегуницы',\n",
       "       'поселок поляны', 'городской поселок мга', 'поселок елизаветино',\n",
       "       'поселок  кузнечное', 'деревня колтуши', 'поселок запорожское',\n",
       "       'деревня гостилицы', 'деревня малое карлино',\n",
       "       'поселок мичуринское', 'поселок  имени морозова',\n",
       "       'поселок песочный', 'поселок сосново', 'деревня аро',\n",
       "       'поселок ильичево', 'поселок  тайцы', 'деревня малое верево',\n",
       "       'деревня извара', 'поселок станции вещево', 'село паша',\n",
       "       'деревня калитино', 'поселок  ульяновка', 'деревня чудской бор',\n",
       "       'поселок  дубровка', 'деревня мины', 'поселок войсковицы',\n",
       "       'деревня коркино', 'поселок ропша', 'поселок  приладожский',\n",
       "       'поселок щеглово', 'поселок гаврилово', 'лодейное поле',\n",
       "       'деревня рабитицы', 'поселок  никольский', 'деревня кузьмолово',\n",
       "       'деревня малые колпаны', 'поселок петро-славянка',\n",
       "       'городской поселок назия', 'поселок репино', 'поселок углово',\n",
       "       'поселок старая малукса', 'садовое товарищество рахья',\n",
       "       'деревня меньково', 'деревня старые бегуницы', 'поселок саперный',\n",
       "       'поселок семрино', 'поселок глажево', 'поселок кобринское',\n",
       "       'деревня гарболово', 'деревня юкки',\n",
       "       'поселок станции приветнинское', 'деревня мануйлово',\n",
       "       'деревня пчева', 'поселок цвылево', 'поселок мельниково',\n",
       "       'поселок пудость', 'поселок усть-луга', 'светогорск', 'любань',\n",
       "       'поселок селезнево', 'поселок  рябово', 'каменногорск',\n",
       "       'деревня кривко', 'поселок глебычево', 'деревня парицы',\n",
       "       'поселок жилпоселок', 'поселок  мга', 'поселок войскорово',\n",
       "       'село никольское', 'поселок стеклянный', 'поселок  важины',\n",
       "       'поселок мыза-ивановка', 'село русско-высоцкое',\n",
       "       'поселок  форносово', 'село старая ладога', 'поселок житково',\n",
       "       'городской поселок виллози', 'деревня лампово',\n",
       "       'деревня шпаньково', 'деревня лаврики', 'поселок сумино',\n",
       "       'поселок возрождение', 'деревня старосиверская',\n",
       "       'поселок кикерино', 'деревня старое хинколово',\n",
       "       'поселок пригородный', 'поселок торфяное',\n",
       "       'городской поселок будогощь', 'поселок суходолье',\n",
       "       'поселок красная долина', 'деревня хапо-ое',\n",
       "       'поселок  дружная горка', 'поселок лисий нос', 'деревня яльгелево',\n",
       "       'село рождествено', 'деревня старополье', 'поселок левашово',\n",
       "       'деревня сяськелево', 'деревня камышовка',\n",
       "       'садоводческое некоммерческое товарищество лесная поляна',\n",
       "       'деревня хязельки', 'поселок жилгородок', 'поселок  павлово',\n",
       "       'деревня ялгино', 'поселок новый учхоз',\n",
       "       'городской поселок рощино', 'поселок гончарово', 'поселок почап',\n",
       "       'поселок саперное', 'поселок платформа 69-й километр',\n",
       "       'поселок каложицы', 'деревня фалилеево', 'деревня пельгора',\n",
       "       'поселок  лесогорский', 'деревня торошковичи',\n",
       "       'поселок белоостров', 'поселок алексеевка', 'поселок серебрянский',\n",
       "       'поселок лукаши', 'деревня щеглово', 'деревня тарасово',\n",
       "       'поселок кингисеппский',\n",
       "       'поселок при железнодорожной станции вещево', 'поселок ушаки',\n",
       "       'деревня котлы', 'деревня сижно', 'деревня торосово',\n",
       "       'поселок форт красная горка', 'деревня новолисино',\n",
       "       'поселок станции громово', 'деревня глинка', 'поселок  назия',\n",
       "       'деревня старая пустошь', 'поселок коммунары', 'поселок починок',\n",
       "       'поселок  вознесенье', 'деревня разбегаево', 'поселок гладкое',\n",
       "       'поселок при железнодорожной станции приветнинское',\n",
       "       'поселок тесово-4', 'деревня бор', 'поселок коробицыно',\n",
       "       'деревня большая вруда', 'деревня курковицы',\n",
       "       'городской поселок советский', 'поселок кобралово',\n",
       "       'деревня суоранда', 'поселок  кондратьево',\n",
       "       'коттеджный поселок счастье', 'поселок любань', 'деревня реброво',\n",
       "       'деревня зимитицы', 'деревня тойворово', 'поселок семиозерье',\n",
       "       'поселок лесное', 'поселок совхозный', 'поселок ленинское',\n",
       "       'поселок суйда', 'деревня нижние осельки', 'поселок станции свирь',\n",
       "       'поселок перово', 'высоцк', 'поселок гарболово', 'село шум',\n",
       "       'поселок котельский', 'поселок станции лужайка',\n",
       "       'деревня большая пустомержа', 'поселок красносельское',\n",
       "       'деревня вахнова кара', 'деревня пижма',\n",
       "       'коттеджный поселок кивеннапа север', 'поселок ромашки',\n",
       "       'деревня каськово', 'деревня куровицы', 'поселок плоское',\n",
       "       'поселок  большая ижора', 'поселок кирпичное', 'деревня ям-тесово',\n",
       "       'деревня раздолье', 'деревня терпилицы', 'поселок шугозеро',\n",
       "       'деревня ваганово', 'поселок пушное', 'садовое товарищество садко',\n",
       "       'поселок усть-ижора', 'деревня выскатка',\n",
       "       'городской поселок свирьстрой', 'поселок громово',\n",
       "       'деревня кисельня', 'деревня трубников бор', 'поселок калитино',\n",
       "       'поселок высокоключевой', 'садовое товарищество приладожский',\n",
       "       'поселок пансионат зеленый бор', 'деревня ненимяки',\n",
       "       'деревня снегиревка', 'деревня рапполово', 'деревня пустынка',\n",
       "       'поселок рабитицы', 'деревня большой сабск', 'деревня русско',\n",
       "       'деревня лупполово', 'деревня большое рейзино',\n",
       "       'деревня малая романовка', 'поселок дружноселье', 'поселок пчевжа',\n",
       "       'поселок володарское', 'деревня нижняя',\n",
       "       'коттеджный поселок лесное', 'деревня тихковицы',\n",
       "       'деревня борисова грива', 'поселок дзержинского'], dtype=object)"
      ]
     },
     "execution_count": 16,
     "metadata": {},
     "output_type": "execute_result"
    }
   ],
   "source": [
    "data['locality_name'] = data['locality_name'].str.replace('  ', ' ').str.replace('городского типа', '').str.strip()\n",
    "data['locality_name'].unique()"
   ]
  },
  {
   "cell_type": "markdown",
   "metadata": {},
   "source": [
    "Также видим дубликаты из-за коттеджного или городского поселка, удалим и эти приписки. "
   ]
  },
  {
   "cell_type": "code",
   "execution_count": 17,
   "metadata": {
    "scrolled": false
   },
   "outputs": [
    {
     "data": {
      "text/plain": [
       "array(['санкт-петербург', 'поселок шушары', 'поселок янино-1',\n",
       "       'поселок парголово', 'поселок мурино', 'ломоносов', 'сертолово',\n",
       "       'петергоф', 'пушкин', 'деревня кудрово', 'коммунар', 'колпино',\n",
       "       'поселок красный бор', 'гатчина', 'деревня федоровское', 'выборг',\n",
       "       'кронштадт', 'кировск', 'деревня новое девяткино',\n",
       "       'поселок металлострой', 'поселок лебяжье', 'поселок сиверский',\n",
       "       'поселок молодцово', 'поселок кузьмоловский',\n",
       "       'садовое товарищество новая ропша', 'павловск',\n",
       "       'деревня пикколово', 'всеволожск', 'волхов', 'кингисепп',\n",
       "       'приозерск', 'сестрорецк', 'деревня куттузи', 'поселок аннино',\n",
       "       'поселок ефимовский', 'поселок плодовое', 'деревня заклинье',\n",
       "       'поселок торковичи', 'поселок первомайское', 'красное село',\n",
       "       'поселок понтонный', 'сясьстрой', 'деревня старая',\n",
       "       'деревня лесколово', 'поселок новый свет', 'сланцы',\n",
       "       'село путилово', 'ивангород', 'мурино', 'шлиссельбург',\n",
       "       'никольское', 'зеленогорск', 'сосновый бор', 'деревня оржицы',\n",
       "       'деревня кальтино', 'кудрово', 'поселок романовка',\n",
       "       'поселок бугры', 'поселок рощино', 'кириши', 'луга', 'волосово',\n",
       "       'отрадное', 'село павлово', 'поселок оредеж', 'село копорье',\n",
       "       'поселок молодежное', 'тихвин', 'поселок победа', 'деревня нурма',\n",
       "       'поселок синявино', 'тосно', 'поселок стрельна', 'бокситогорск',\n",
       "       'поселок александровская', 'деревня лопухинка', 'пикалево',\n",
       "       'поселок терволово', 'поселок советский', 'подпорожье',\n",
       "       'поселок петровское', 'поселок токсово', 'поселок сельцо',\n",
       "       'поселок вырица', 'деревня кипень', 'деревня келози',\n",
       "       'деревня вартемяги', 'поселок тельмана', 'поселок севастьяново',\n",
       "       'поселок большая ижора', 'поселок павлово', 'деревня агалатово',\n",
       "       'поселок новогорелово', 'поселок лесогорский', 'деревня лаголово',\n",
       "       'поселок цвелодубово', 'поселок рахья', 'деревня белогорка',\n",
       "       'поселок заводской', 'поселок новоселье',\n",
       "       'деревня большие колпаны', 'деревня горбунки', 'деревня батово',\n",
       "       'деревня заневка', 'деревня иссад', 'приморск',\n",
       "       'поселок федоровское', 'деревня мистолово', 'новая ладога',\n",
       "       'поселок зимитицы', 'поселок барышево', 'деревня разметелево',\n",
       "       'поселок имени свердлова', 'деревня пеники', 'поселок рябово',\n",
       "       'деревня пудомяги', 'поселок станции корнево', 'деревня низино',\n",
       "       'деревня бегуницы', 'поселок поляны', 'поселок мга',\n",
       "       'поселок елизаветино', 'поселок кузнечное', 'деревня колтуши',\n",
       "       'поселок запорожское', 'деревня гостилицы',\n",
       "       'деревня малое карлино', 'поселок мичуринское',\n",
       "       'поселок имени морозова', 'поселок песочный', 'поселок сосново',\n",
       "       'деревня аро', 'поселок ильичево', 'поселок тайцы',\n",
       "       'деревня малое верево', 'деревня извара', 'поселок станции вещево',\n",
       "       'село паша', 'деревня калитино', 'поселок ульяновка',\n",
       "       'деревня чудской бор', 'поселок дубровка', 'деревня мины',\n",
       "       'поселок войсковицы', 'деревня коркино', 'поселок ропша',\n",
       "       'поселок приладожский', 'поселок щеглово', 'поселок гаврилово',\n",
       "       'лодейное поле', 'деревня рабитицы', 'поселок никольский',\n",
       "       'деревня кузьмолово', 'деревня малые колпаны',\n",
       "       'поселок петро-славянка', 'поселок назия', 'поселок репино',\n",
       "       'поселок углово', 'поселок старая малукса',\n",
       "       'садовое товарищество рахья', 'деревня меньково',\n",
       "       'деревня старые бегуницы', 'поселок саперный', 'поселок семрино',\n",
       "       'поселок глажево', 'поселок кобринское', 'деревня гарболово',\n",
       "       'деревня юкки', 'поселок станции приветнинское',\n",
       "       'деревня мануйлово', 'деревня пчева', 'поселок цвылево',\n",
       "       'поселок мельниково', 'поселок пудость', 'поселок усть-луга',\n",
       "       'светогорск', 'любань', 'поселок селезнево', 'каменногорск',\n",
       "       'деревня кривко', 'поселок глебычево', 'деревня парицы',\n",
       "       'поселок жилпоселок', 'поселок войскорово', 'село никольское',\n",
       "       'поселок стеклянный', 'поселок важины', 'поселок мыза-ивановка',\n",
       "       'село русско-высоцкое', 'поселок форносово', 'село старая ладога',\n",
       "       'поселок житково', 'поселок виллози', 'деревня лампово',\n",
       "       'деревня шпаньково', 'деревня лаврики', 'поселок сумино',\n",
       "       'поселок возрождение', 'деревня старосиверская',\n",
       "       'поселок кикерино', 'деревня старое хинколово',\n",
       "       'поселок пригородный', 'поселок торфяное', 'поселок будогощь',\n",
       "       'поселок суходолье', 'поселок красная долина', 'деревня хапо-ое',\n",
       "       'поселок дружная горка', 'поселок лисий нос', 'деревня яльгелево',\n",
       "       'село рождествено', 'деревня старополье', 'поселок левашово',\n",
       "       'деревня сяськелево', 'деревня камышовка',\n",
       "       'садоводческое некоммерческое товарищество лесная поляна',\n",
       "       'деревня хязельки', 'поселок жилгородок', 'деревня ялгино',\n",
       "       'поселок новый учхоз', 'поселок гончарово', 'поселок почап',\n",
       "       'поселок саперное', 'поселок платформа 69-й километр',\n",
       "       'поселок каложицы', 'деревня фалилеево', 'деревня пельгора',\n",
       "       'деревня торошковичи', 'поселок белоостров', 'поселок алексеевка',\n",
       "       'поселок серебрянский', 'поселок лукаши', 'деревня щеглово',\n",
       "       'деревня тарасово', 'поселок кингисеппский',\n",
       "       'поселок при железнодорожной станции вещево', 'поселок ушаки',\n",
       "       'деревня котлы', 'деревня сижно', 'деревня торосово',\n",
       "       'поселок форт красная горка', 'деревня новолисино',\n",
       "       'поселок станции громово', 'деревня глинка',\n",
       "       'деревня старая пустошь', 'поселок коммунары', 'поселок починок',\n",
       "       'поселок вознесенье', 'деревня разбегаево', 'поселок гладкое',\n",
       "       'поселок при железнодорожной станции приветнинское',\n",
       "       'поселок тесово-4', 'деревня бор', 'поселок коробицыно',\n",
       "       'деревня большая вруда', 'деревня курковицы', 'поселок кобралово',\n",
       "       'деревня суоранда', 'поселок кондратьево', 'поселок счастье',\n",
       "       'поселок любань', 'деревня реброво', 'деревня зимитицы',\n",
       "       'деревня тойворово', 'поселок семиозерье', 'поселок лесное',\n",
       "       'поселок совхозный', 'поселок ленинское', 'поселок суйда',\n",
       "       'деревня нижние осельки', 'поселок станции свирь',\n",
       "       'поселок перово', 'высоцк', 'поселок гарболово', 'село шум',\n",
       "       'поселок котельский', 'поселок станции лужайка',\n",
       "       'деревня большая пустомержа', 'поселок красносельское',\n",
       "       'деревня вахнова кара', 'деревня пижма', 'поселок кивеннапа север',\n",
       "       'поселок ромашки', 'деревня каськово', 'деревня куровицы',\n",
       "       'поселок плоское', 'поселок кирпичное', 'деревня ям-тесово',\n",
       "       'деревня раздолье', 'деревня терпилицы', 'поселок шугозеро',\n",
       "       'деревня ваганово', 'поселок пушное', 'садовое товарищество садко',\n",
       "       'поселок усть-ижора', 'деревня выскатка', 'поселок свирьстрой',\n",
       "       'поселок громово', 'деревня кисельня', 'деревня трубников бор',\n",
       "       'поселок калитино', 'поселок высокоключевой',\n",
       "       'садовое товарищество приладожский',\n",
       "       'поселок пансионат зеленый бор', 'деревня ненимяки',\n",
       "       'деревня снегиревка', 'деревня рапполово', 'деревня пустынка',\n",
       "       'поселок рабитицы', 'деревня большой сабск', 'деревня русско',\n",
       "       'деревня лупполово', 'деревня большое рейзино',\n",
       "       'деревня малая романовка', 'поселок дружноселье', 'поселок пчевжа',\n",
       "       'поселок володарское', 'деревня нижняя', 'деревня тихковицы',\n",
       "       'деревня борисова грива', 'поселок дзержинского'], dtype=object)"
      ]
     },
     "execution_count": 17,
     "metadata": {},
     "output_type": "execute_result"
    }
   ],
   "source": [
    "data['locality_name'] = data['locality_name'].str.replace('коттеджный', '').str.replace('городской', '').str.strip().str.replace('  ', ' ')\n",
    "data['locality_name'].unique()"
   ]
  },
  {
   "cell_type": "markdown",
   "metadata": {
    "id": "QCcvyY6YAwb-"
   },
   "source": [
    "### Добавьте в таблицу новые столбцы"
   ]
  },
  {
   "cell_type": "code",
   "execution_count": 18,
   "metadata": {},
   "outputs": [],
   "source": [
    "data['metr_price'] = (data['last_price']/data['total_area']).round(2)  \n",
    "\n",
    "data['weekday'] = pd.to_datetime(data['first_day_exposition']).dt.weekday\n",
    "\n",
    "data['month'] = pd.to_datetime(data['first_day_exposition']).dt.month\n",
    "\n",
    "data['year'] = pd.to_datetime(data['first_day_exposition']).dt.year\n",
    "\n",
    "def floor(row):\n",
    "    if row['floor'] == 1:\n",
    "        return 'первый'\n",
    "    elif row['floor'] == row['floors_total']:\n",
    "        return 'последний'\n",
    "    else:\n",
    "        return 'другой'\n",
    "\n",
    "data['floor_type'] = data.apply(floor, axis=1)\n",
    "\n",
    "data['cityCenters_nearest_km'] = (data['cityCenters_nearest'] / 1000).round(0)"
   ]
  },
  {
   "cell_type": "code",
   "execution_count": 19,
   "metadata": {
    "scrolled": false
   },
   "outputs": [
    {
     "data": {
      "text/html": [
       "<div>\n",
       "<style scoped>\n",
       "    .dataframe tbody tr th:only-of-type {\n",
       "        vertical-align: middle;\n",
       "    }\n",
       "\n",
       "    .dataframe tbody tr th {\n",
       "        vertical-align: top;\n",
       "    }\n",
       "\n",
       "    .dataframe thead th {\n",
       "        text-align: right;\n",
       "    }\n",
       "</style>\n",
       "<table border=\"1\" class=\"dataframe\">\n",
       "  <thead>\n",
       "    <tr style=\"text-align: right;\">\n",
       "      <th></th>\n",
       "      <th>total_images</th>\n",
       "      <th>last_price</th>\n",
       "      <th>total_area</th>\n",
       "      <th>first_day_exposition</th>\n",
       "      <th>rooms</th>\n",
       "      <th>ceiling_height</th>\n",
       "      <th>floors_total</th>\n",
       "      <th>living_area</th>\n",
       "      <th>floor</th>\n",
       "      <th>is_apartment</th>\n",
       "      <th>studio</th>\n",
       "      <th>open_plan</th>\n",
       "      <th>kitchen_area</th>\n",
       "      <th>balcony</th>\n",
       "      <th>locality_name</th>\n",
       "      <th>airports_nearest</th>\n",
       "      <th>cityCenters_nearest</th>\n",
       "      <th>parks_around3000</th>\n",
       "      <th>parks_nearest</th>\n",
       "      <th>ponds_around3000</th>\n",
       "      <th>ponds_nearest</th>\n",
       "      <th>days_exposition</th>\n",
       "      <th>metr_price</th>\n",
       "      <th>weekday</th>\n",
       "      <th>month</th>\n",
       "      <th>year</th>\n",
       "      <th>floor_type</th>\n",
       "      <th>cityCenters_nearest_km</th>\n",
       "    </tr>\n",
       "  </thead>\n",
       "  <tbody>\n",
       "    <tr>\n",
       "      <th>0</th>\n",
       "      <td>20</td>\n",
       "      <td>13000000.0</td>\n",
       "      <td>108.0</td>\n",
       "      <td>2019-03-07</td>\n",
       "      <td>3</td>\n",
       "      <td>2.70</td>\n",
       "      <td>16.0</td>\n",
       "      <td>51.000000</td>\n",
       "      <td>8</td>\n",
       "      <td>False</td>\n",
       "      <td>False</td>\n",
       "      <td>False</td>\n",
       "      <td>25.000000</td>\n",
       "      <td>0.0</td>\n",
       "      <td>санкт-петербург</td>\n",
       "      <td>18863.0</td>\n",
       "      <td>16028.0</td>\n",
       "      <td>1.0</td>\n",
       "      <td>482.0</td>\n",
       "      <td>2.0</td>\n",
       "      <td>755.0</td>\n",
       "      <td>NaN</td>\n",
       "      <td>120370.37</td>\n",
       "      <td>3</td>\n",
       "      <td>3</td>\n",
       "      <td>2019</td>\n",
       "      <td>другой</td>\n",
       "      <td>16.0</td>\n",
       "    </tr>\n",
       "    <tr>\n",
       "      <th>1</th>\n",
       "      <td>7</td>\n",
       "      <td>3350000.0</td>\n",
       "      <td>40.4</td>\n",
       "      <td>2018-12-04</td>\n",
       "      <td>1</td>\n",
       "      <td>2.65</td>\n",
       "      <td>11.0</td>\n",
       "      <td>18.600000</td>\n",
       "      <td>1</td>\n",
       "      <td>False</td>\n",
       "      <td>False</td>\n",
       "      <td>False</td>\n",
       "      <td>11.000000</td>\n",
       "      <td>2.0</td>\n",
       "      <td>поселок шушары</td>\n",
       "      <td>12817.0</td>\n",
       "      <td>18603.0</td>\n",
       "      <td>0.0</td>\n",
       "      <td>NaN</td>\n",
       "      <td>0.0</td>\n",
       "      <td>NaN</td>\n",
       "      <td>81.0</td>\n",
       "      <td>82920.79</td>\n",
       "      <td>1</td>\n",
       "      <td>12</td>\n",
       "      <td>2018</td>\n",
       "      <td>первый</td>\n",
       "      <td>19.0</td>\n",
       "    </tr>\n",
       "    <tr>\n",
       "      <th>2</th>\n",
       "      <td>10</td>\n",
       "      <td>5196000.0</td>\n",
       "      <td>56.0</td>\n",
       "      <td>2015-08-20</td>\n",
       "      <td>2</td>\n",
       "      <td>2.65</td>\n",
       "      <td>5.0</td>\n",
       "      <td>34.300000</td>\n",
       "      <td>4</td>\n",
       "      <td>False</td>\n",
       "      <td>False</td>\n",
       "      <td>False</td>\n",
       "      <td>8.300000</td>\n",
       "      <td>0.0</td>\n",
       "      <td>санкт-петербург</td>\n",
       "      <td>21741.0</td>\n",
       "      <td>13933.0</td>\n",
       "      <td>1.0</td>\n",
       "      <td>90.0</td>\n",
       "      <td>2.0</td>\n",
       "      <td>574.0</td>\n",
       "      <td>558.0</td>\n",
       "      <td>92785.71</td>\n",
       "      <td>3</td>\n",
       "      <td>8</td>\n",
       "      <td>2015</td>\n",
       "      <td>другой</td>\n",
       "      <td>14.0</td>\n",
       "    </tr>\n",
       "    <tr>\n",
       "      <th>3</th>\n",
       "      <td>0</td>\n",
       "      <td>64900000.0</td>\n",
       "      <td>159.0</td>\n",
       "      <td>2015-07-24</td>\n",
       "      <td>3</td>\n",
       "      <td>2.65</td>\n",
       "      <td>14.0</td>\n",
       "      <td>90.785766</td>\n",
       "      <td>9</td>\n",
       "      <td>False</td>\n",
       "      <td>False</td>\n",
       "      <td>False</td>\n",
       "      <td>27.848168</td>\n",
       "      <td>0.0</td>\n",
       "      <td>санкт-петербург</td>\n",
       "      <td>28098.0</td>\n",
       "      <td>6800.0</td>\n",
       "      <td>2.0</td>\n",
       "      <td>84.0</td>\n",
       "      <td>3.0</td>\n",
       "      <td>234.0</td>\n",
       "      <td>424.0</td>\n",
       "      <td>408176.10</td>\n",
       "      <td>4</td>\n",
       "      <td>7</td>\n",
       "      <td>2015</td>\n",
       "      <td>другой</td>\n",
       "      <td>7.0</td>\n",
       "    </tr>\n",
       "    <tr>\n",
       "      <th>4</th>\n",
       "      <td>2</td>\n",
       "      <td>10000000.0</td>\n",
       "      <td>100.0</td>\n",
       "      <td>2018-06-19</td>\n",
       "      <td>2</td>\n",
       "      <td>3.03</td>\n",
       "      <td>14.0</td>\n",
       "      <td>32.000000</td>\n",
       "      <td>13</td>\n",
       "      <td>False</td>\n",
       "      <td>False</td>\n",
       "      <td>False</td>\n",
       "      <td>41.000000</td>\n",
       "      <td>0.0</td>\n",
       "      <td>санкт-петербург</td>\n",
       "      <td>31856.0</td>\n",
       "      <td>8098.0</td>\n",
       "      <td>2.0</td>\n",
       "      <td>112.0</td>\n",
       "      <td>1.0</td>\n",
       "      <td>48.0</td>\n",
       "      <td>121.0</td>\n",
       "      <td>100000.00</td>\n",
       "      <td>1</td>\n",
       "      <td>6</td>\n",
       "      <td>2018</td>\n",
       "      <td>другой</td>\n",
       "      <td>8.0</td>\n",
       "    </tr>\n",
       "  </tbody>\n",
       "</table>\n",
       "</div>"
      ],
      "text/plain": [
       "   total_images  last_price  total_area first_day_exposition  rooms  \\\n",
       "0            20  13000000.0       108.0           2019-03-07      3   \n",
       "1             7   3350000.0        40.4           2018-12-04      1   \n",
       "2            10   5196000.0        56.0           2015-08-20      2   \n",
       "3             0  64900000.0       159.0           2015-07-24      3   \n",
       "4             2  10000000.0       100.0           2018-06-19      2   \n",
       "\n",
       "   ceiling_height  floors_total  living_area  floor  is_apartment  studio  \\\n",
       "0            2.70          16.0    51.000000      8         False   False   \n",
       "1            2.65          11.0    18.600000      1         False   False   \n",
       "2            2.65           5.0    34.300000      4         False   False   \n",
       "3            2.65          14.0    90.785766      9         False   False   \n",
       "4            3.03          14.0    32.000000     13         False   False   \n",
       "\n",
       "   open_plan  kitchen_area  balcony    locality_name  airports_nearest  \\\n",
       "0      False     25.000000      0.0  санкт-петербург           18863.0   \n",
       "1      False     11.000000      2.0   поселок шушары           12817.0   \n",
       "2      False      8.300000      0.0  санкт-петербург           21741.0   \n",
       "3      False     27.848168      0.0  санкт-петербург           28098.0   \n",
       "4      False     41.000000      0.0  санкт-петербург           31856.0   \n",
       "\n",
       "   cityCenters_nearest  parks_around3000  parks_nearest  ponds_around3000  \\\n",
       "0              16028.0               1.0          482.0               2.0   \n",
       "1              18603.0               0.0            NaN               0.0   \n",
       "2              13933.0               1.0           90.0               2.0   \n",
       "3               6800.0               2.0           84.0               3.0   \n",
       "4               8098.0               2.0          112.0               1.0   \n",
       "\n",
       "   ponds_nearest  days_exposition  metr_price  weekday  month  year  \\\n",
       "0          755.0              NaN   120370.37        3      3  2019   \n",
       "1            NaN             81.0    82920.79        1     12  2018   \n",
       "2          574.0            558.0    92785.71        3      8  2015   \n",
       "3          234.0            424.0   408176.10        4      7  2015   \n",
       "4           48.0            121.0   100000.00        1      6  2018   \n",
       "\n",
       "  floor_type  cityCenters_nearest_km  \n",
       "0     другой                    16.0  \n",
       "1     первый                    19.0  \n",
       "2     другой                    14.0  \n",
       "3     другой                     7.0  \n",
       "4     другой                     8.0  "
      ]
     },
     "execution_count": 19,
     "metadata": {},
     "output_type": "execute_result"
    }
   ],
   "source": [
    "data.head() #проверяем новые столбцы"
   ]
  },
  {
   "cell_type": "markdown",
   "metadata": {
    "id": "pPyxrKWTAwb-"
   },
   "source": [
    "### исследовательский анализ данных"
   ]
  },
  {
   "cell_type": "code",
   "execution_count": 20,
   "metadata": {
    "id": "V2f0D3kLAwb-"
   },
   "outputs": [
    {
     "data": {
      "text/plain": [
       "<AxesSubplot:>"
      ]
     },
     "execution_count": 20,
     "metadata": {},
     "output_type": "execute_result"
    },
    {
     "data": {
      "image/png": "[encoded data removed]",
      "text/plain": [
       "<Figure size 432x288 with 1 Axes>"
      ]
     },
     "metadata": {
      "needs_background": "light"
     },
     "output_type": "display_data"
    }
   ],
   "source": [
    "data['floor_type'].value_counts().plot(kind='bar')"
   ]
  },
  {
   "cell_type": "code",
   "execution_count": 21,
   "metadata": {},
   "outputs": [
    {
     "data": {
      "text/plain": [
       "<AxesSubplot:>"
      ]
     },
     "execution_count": 21,
     "metadata": {},
     "output_type": "execute_result"
    },
    {
     "data": {
      "image/png": "[encoded data removed]",
      "text/plain": [
       "<Figure size 432x288 with 1 Axes>"
      ]
     },
     "metadata": {
      "needs_background": "light"
     },
     "output_type": "display_data"
    }
   ],
   "source": [
    "data['living_area'].hist(bins=30)"
   ]
  },
  {
   "cell_type": "code",
   "execution_count": 22,
   "metadata": {},
   "outputs": [
    {
     "data": {
      "text/plain": [
       "<AxesSubplot:>"
      ]
     },
     "execution_count": 22,
     "metadata": {},
     "output_type": "execute_result"
    },
    {
     "data": {
      "image/png": "[encoded data removed]",
      "text/plain": [
       "<Figure size 432x288 with 1 Axes>"
      ]
     },
     "metadata": {
      "needs_background": "light"
     },
     "output_type": "display_data"
    }
   ],
   "source": [
    "(data['last_price']/1000000).hist(range=(1,10),bins=30)"
   ]
  },
  {
   "cell_type": "code",
   "execution_count": 23,
   "metadata": {},
   "outputs": [
    {
     "data": {
      "text/plain": [
       "<AxesSubplot:>"
      ]
     },
     "execution_count": 23,
     "metadata": {},
     "output_type": "execute_result"
    },
    {
     "data": {
      "image/png": "[encoded data removed]",
      "text/plain": [
       "<Figure size 432x288 with 1 Axes>"
      ]
     },
     "metadata": {
      "needs_background": "light"
     },
     "output_type": "display_data"
    }
   ],
   "source": [
    "data['total_area'].hist(bins=30)"
   ]
  },
  {
   "cell_type": "code",
   "execution_count": 24,
   "metadata": {},
   "outputs": [
    {
     "data": {
      "text/plain": [
       "<AxesSubplot:>"
      ]
     },
     "execution_count": 24,
     "metadata": {},
     "output_type": "execute_result"
    },
    {
     "data": {
      "image/png": "[encoded data removed]",
      "text/plain": [
       "<Figure size 432x288 with 1 Axes>"
      ]
     },
     "metadata": {
      "needs_background": "light"
     },
     "output_type": "display_data"
    }
   ],
   "source": [
    "data['kitchen_area'].hist(bins=30)"
   ]
  },
  {
   "cell_type": "code",
   "execution_count": 25,
   "metadata": {},
   "outputs": [
    {
     "data": {
      "text/plain": [
       "<AxesSubplot:>"
      ]
     },
     "execution_count": 25,
     "metadata": {},
     "output_type": "execute_result"
    },
    {
     "data": {
      "image/png": "[encoded data removed]",
      "text/plain": [
       "<Figure size 432x288 with 1 Axes>"
      ]
     },
     "metadata": {
      "needs_background": "light"
     },
     "output_type": "display_data"
    }
   ],
   "source": [
    "data['rooms'].hist(bins=30)"
   ]
  },
  {
   "cell_type": "code",
   "execution_count": 26,
   "metadata": {},
   "outputs": [
    {
     "data": {
      "text/plain": [
       "<AxesSubplot:>"
      ]
     },
     "execution_count": 26,
     "metadata": {},
     "output_type": "execute_result"
    },
    {
     "data": {
      "image/png": "[encoded data removed]",
      "text/plain": [
       "<Figure size 432x288 with 1 Axes>"
      ]
     },
     "metadata": {
      "needs_background": "light"
     },
     "output_type": "display_data"
    }
   ],
   "source": [
    "data['ceiling_height'].hist(bins=30)"
   ]
  },
  {
   "cell_type": "code",
   "execution_count": 27,
   "metadata": {},
   "outputs": [
    {
     "data": {
      "text/plain": [
       "<AxesSubplot:>"
      ]
     },
     "execution_count": 27,
     "metadata": {},
     "output_type": "execute_result"
    },
    {
     "data": {
      "image/png": "[encoded data removed]",
      "text/plain": [
       "<Figure size 432x288 with 1 Axes>"
      ]
     },
     "metadata": {
      "needs_background": "light"
     },
     "output_type": "display_data"
    }
   ],
   "source": [
    "data['floors_total'].hist(bins=30)"
   ]
  },
  {
   "cell_type": "code",
   "execution_count": 28,
   "metadata": {},
   "outputs": [
    {
     "data": {
      "text/plain": [
       "<AxesSubplot:>"
      ]
     },
     "execution_count": 28,
     "metadata": {},
     "output_type": "execute_result"
    },
    {
     "data": {
      "image/png": "[encoded data removed]",
      "text/plain": [
       "<Figure size 432x288 with 1 Axes>"
      ]
     },
     "metadata": {
      "needs_background": "light"
     },
     "output_type": "display_data"
    }
   ],
   "source": [
    "data['cityCenters_nearest'].hist(bins=30)"
   ]
  },
  {
   "cell_type": "code",
   "execution_count": 29,
   "metadata": {},
   "outputs": [
    {
     "data": {
      "text/plain": [
       "<AxesSubplot:>"
      ]
     },
     "execution_count": 29,
     "metadata": {},
     "output_type": "execute_result"
    },
    {
     "data": {
      "image/png": "[encoded data removed]",
      "text/plain": [
       "<Figure size 432x288 with 1 Axes>"
      ]
     },
     "metadata": {
      "needs_background": "light"
     },
     "output_type": "display_data"
    }
   ],
   "source": [
    "data['parks_nearest'].hist(bins=30)"
   ]
  },
  {
   "cell_type": "code",
   "execution_count": 30,
   "metadata": {
    "scrolled": true
   },
   "outputs": [
    {
     "data": {
      "text/html": [
       "<div>\n",
       "<style scoped>\n",
       "    .dataframe tbody tr th:only-of-type {\n",
       "        vertical-align: middle;\n",
       "    }\n",
       "\n",
       "    .dataframe tbody tr th {\n",
       "        vertical-align: top;\n",
       "    }\n",
       "\n",
       "    .dataframe thead th {\n",
       "        text-align: right;\n",
       "    }\n",
       "</style>\n",
       "<table border=\"1\" class=\"dataframe\">\n",
       "  <thead>\n",
       "    <tr style=\"text-align: right;\">\n",
       "      <th></th>\n",
       "      <th>total_images</th>\n",
       "      <th>last_price</th>\n",
       "      <th>total_area</th>\n",
       "      <th>rooms</th>\n",
       "      <th>ceiling_height</th>\n",
       "      <th>floors_total</th>\n",
       "      <th>living_area</th>\n",
       "      <th>floor</th>\n",
       "      <th>kitchen_area</th>\n",
       "      <th>balcony</th>\n",
       "      <th>airports_nearest</th>\n",
       "      <th>cityCenters_nearest</th>\n",
       "      <th>parks_around3000</th>\n",
       "      <th>parks_nearest</th>\n",
       "      <th>ponds_around3000</th>\n",
       "      <th>ponds_nearest</th>\n",
       "      <th>days_exposition</th>\n",
       "      <th>metr_price</th>\n",
       "      <th>weekday</th>\n",
       "      <th>month</th>\n",
       "      <th>year</th>\n",
       "      <th>cityCenters_nearest_km</th>\n",
       "    </tr>\n",
       "  </thead>\n",
       "  <tbody>\n",
       "    <tr>\n",
       "      <th>count</th>\n",
       "      <td>23650.000000</td>\n",
       "      <td>2.365000e+04</td>\n",
       "      <td>23650.000000</td>\n",
       "      <td>23650.000000</td>\n",
       "      <td>23650.000000</td>\n",
       "      <td>23650.000000</td>\n",
       "      <td>23650.000000</td>\n",
       "      <td>23650.000000</td>\n",
       "      <td>23650.000000</td>\n",
       "      <td>23650.000000</td>\n",
       "      <td>18116.000000</td>\n",
       "      <td>18139.000000</td>\n",
       "      <td>18140.000000</td>\n",
       "      <td>8064.000000</td>\n",
       "      <td>18140.000000</td>\n",
       "      <td>9085.000000</td>\n",
       "      <td>20470.000000</td>\n",
       "      <td>2.365000e+04</td>\n",
       "      <td>23650.000000</td>\n",
       "      <td>23650.000000</td>\n",
       "      <td>23650.000000</td>\n",
       "      <td>18139.000000</td>\n",
       "    </tr>\n",
       "    <tr>\n",
       "      <th>mean</th>\n",
       "      <td>9.862326</td>\n",
       "      <td>6.541127e+06</td>\n",
       "      <td>60.329069</td>\n",
       "      <td>2.070106</td>\n",
       "      <td>2.724311</td>\n",
       "      <td>10.680803</td>\n",
       "      <td>34.582279</td>\n",
       "      <td>5.893277</td>\n",
       "      <td>10.502873</td>\n",
       "      <td>0.591712</td>\n",
       "      <td>28803.225878</td>\n",
       "      <td>14197.860742</td>\n",
       "      <td>0.611577</td>\n",
       "      <td>490.830729</td>\n",
       "      <td>0.769680</td>\n",
       "      <td>518.059879</td>\n",
       "      <td>180.753200</td>\n",
       "      <td>9.943225e+04</td>\n",
       "      <td>2.568710</td>\n",
       "      <td>6.401564</td>\n",
       "      <td>2017.370021</td>\n",
       "      <td>14.191576</td>\n",
       "    </tr>\n",
       "    <tr>\n",
       "      <th>std</th>\n",
       "      <td>5.682278</td>\n",
       "      <td>1.089640e+07</td>\n",
       "      <td>35.661808</td>\n",
       "      <td>1.078620</td>\n",
       "      <td>0.989255</td>\n",
       "      <td>6.589013</td>\n",
       "      <td>22.359584</td>\n",
       "      <td>4.883317</td>\n",
       "      <td>6.037438</td>\n",
       "      <td>0.959662</td>\n",
       "      <td>12637.314144</td>\n",
       "      <td>8606.830295</td>\n",
       "      <td>0.802003</td>\n",
       "      <td>342.554386</td>\n",
       "      <td>0.937948</td>\n",
       "      <td>277.841733</td>\n",
       "      <td>219.777916</td>\n",
       "      <td>5.033794e+04</td>\n",
       "      <td>1.788808</td>\n",
       "      <td>3.491418</td>\n",
       "      <td>1.037806</td>\n",
       "      <td>8.614645</td>\n",
       "    </tr>\n",
       "    <tr>\n",
       "      <th>min</th>\n",
       "      <td>0.000000</td>\n",
       "      <td>1.219000e+04</td>\n",
       "      <td>12.000000</td>\n",
       "      <td>0.000000</td>\n",
       "      <td>1.000000</td>\n",
       "      <td>1.000000</td>\n",
       "      <td>2.000000</td>\n",
       "      <td>1.000000</td>\n",
       "      <td>1.300000</td>\n",
       "      <td>0.000000</td>\n",
       "      <td>0.000000</td>\n",
       "      <td>181.000000</td>\n",
       "      <td>0.000000</td>\n",
       "      <td>1.000000</td>\n",
       "      <td>0.000000</td>\n",
       "      <td>13.000000</td>\n",
       "      <td>1.000000</td>\n",
       "      <td>1.118300e+02</td>\n",
       "      <td>0.000000</td>\n",
       "      <td>1.000000</td>\n",
       "      <td>2014.000000</td>\n",
       "      <td>0.000000</td>\n",
       "    </tr>\n",
       "    <tr>\n",
       "      <th>25%</th>\n",
       "      <td>6.000000</td>\n",
       "      <td>3.400000e+06</td>\n",
       "      <td>40.000000</td>\n",
       "      <td>1.000000</td>\n",
       "      <td>2.600000</td>\n",
       "      <td>5.000000</td>\n",
       "      <td>19.000000</td>\n",
       "      <td>2.000000</td>\n",
       "      <td>7.000000</td>\n",
       "      <td>0.000000</td>\n",
       "      <td>18575.750000</td>\n",
       "      <td>9241.000000</td>\n",
       "      <td>0.000000</td>\n",
       "      <td>288.000000</td>\n",
       "      <td>0.000000</td>\n",
       "      <td>293.000000</td>\n",
       "      <td>45.000000</td>\n",
       "      <td>7.661496e+04</td>\n",
       "      <td>1.000000</td>\n",
       "      <td>3.000000</td>\n",
       "      <td>2017.000000</td>\n",
       "      <td>9.000000</td>\n",
       "    </tr>\n",
       "    <tr>\n",
       "      <th>50%</th>\n",
       "      <td>9.000000</td>\n",
       "      <td>4.650000e+06</td>\n",
       "      <td>52.000000</td>\n",
       "      <td>2.000000</td>\n",
       "      <td>2.650000</td>\n",
       "      <td>9.000000</td>\n",
       "      <td>30.000000</td>\n",
       "      <td>4.000000</td>\n",
       "      <td>9.000000</td>\n",
       "      <td>0.000000</td>\n",
       "      <td>26756.500000</td>\n",
       "      <td>13105.000000</td>\n",
       "      <td>0.000000</td>\n",
       "      <td>454.500000</td>\n",
       "      <td>1.000000</td>\n",
       "      <td>502.000000</td>\n",
       "      <td>95.000000</td>\n",
       "      <td>9.500000e+04</td>\n",
       "      <td>3.000000</td>\n",
       "      <td>6.000000</td>\n",
       "      <td>2017.000000</td>\n",
       "      <td>13.000000</td>\n",
       "    </tr>\n",
       "    <tr>\n",
       "      <th>75%</th>\n",
       "      <td>14.000000</td>\n",
       "      <td>6.799000e+06</td>\n",
       "      <td>69.700000</td>\n",
       "      <td>3.000000</td>\n",
       "      <td>2.700000</td>\n",
       "      <td>16.000000</td>\n",
       "      <td>42.100000</td>\n",
       "      <td>8.000000</td>\n",
       "      <td>12.000000</td>\n",
       "      <td>1.000000</td>\n",
       "      <td>37294.000000</td>\n",
       "      <td>16293.000000</td>\n",
       "      <td>1.000000</td>\n",
       "      <td>612.000000</td>\n",
       "      <td>1.000000</td>\n",
       "      <td>730.000000</td>\n",
       "      <td>231.000000</td>\n",
       "      <td>1.142742e+05</td>\n",
       "      <td>4.000000</td>\n",
       "      <td>10.000000</td>\n",
       "      <td>2018.000000</td>\n",
       "      <td>16.000000</td>\n",
       "    </tr>\n",
       "    <tr>\n",
       "      <th>max</th>\n",
       "      <td>50.000000</td>\n",
       "      <td>7.630000e+08</td>\n",
       "      <td>900.000000</td>\n",
       "      <td>19.000000</td>\n",
       "      <td>100.000000</td>\n",
       "      <td>60.000000</td>\n",
       "      <td>409.700000</td>\n",
       "      <td>33.000000</td>\n",
       "      <td>112.000000</td>\n",
       "      <td>5.000000</td>\n",
       "      <td>84869.000000</td>\n",
       "      <td>65968.000000</td>\n",
       "      <td>3.000000</td>\n",
       "      <td>3190.000000</td>\n",
       "      <td>3.000000</td>\n",
       "      <td>1344.000000</td>\n",
       "      <td>1580.000000</td>\n",
       "      <td>1.907500e+06</td>\n",
       "      <td>6.000000</td>\n",
       "      <td>12.000000</td>\n",
       "      <td>2019.000000</td>\n",
       "      <td>66.000000</td>\n",
       "    </tr>\n",
       "  </tbody>\n",
       "</table>\n",
       "</div>"
      ],
      "text/plain": [
       "       total_images    last_price    total_area         rooms  ceiling_height  \\\n",
       "count  23650.000000  2.365000e+04  23650.000000  23650.000000    23650.000000   \n",
       "mean       9.862326  6.541127e+06     60.329069      2.070106        2.724311   \n",
       "std        5.682278  1.089640e+07     35.661808      1.078620        0.989255   \n",
       "min        0.000000  1.219000e+04     12.000000      0.000000        1.000000   \n",
       "25%        6.000000  3.400000e+06     40.000000      1.000000        2.600000   \n",
       "50%        9.000000  4.650000e+06     52.000000      2.000000        2.650000   \n",
       "75%       14.000000  6.799000e+06     69.700000      3.000000        2.700000   \n",
       "max       50.000000  7.630000e+08    900.000000     19.000000      100.000000   \n",
       "\n",
       "       floors_total   living_area         floor  kitchen_area       balcony  \\\n",
       "count  23650.000000  23650.000000  23650.000000  23650.000000  23650.000000   \n",
       "mean      10.680803     34.582279      5.893277     10.502873      0.591712   \n",
       "std        6.589013     22.359584      4.883317      6.037438      0.959662   \n",
       "min        1.000000      2.000000      1.000000      1.300000      0.000000   \n",
       "25%        5.000000     19.000000      2.000000      7.000000      0.000000   \n",
       "50%        9.000000     30.000000      4.000000      9.000000      0.000000   \n",
       "75%       16.000000     42.100000      8.000000     12.000000      1.000000   \n",
       "max       60.000000    409.700000     33.000000    112.000000      5.000000   \n",
       "\n",
       "       airports_nearest  cityCenters_nearest  parks_around3000  parks_nearest  \\\n",
       "count      18116.000000         18139.000000      18140.000000    8064.000000   \n",
       "mean       28803.225878         14197.860742          0.611577     490.830729   \n",
       "std        12637.314144          8606.830295          0.802003     342.554386   \n",
       "min            0.000000           181.000000          0.000000       1.000000   \n",
       "25%        18575.750000          9241.000000          0.000000     288.000000   \n",
       "50%        26756.500000         13105.000000          0.000000     454.500000   \n",
       "75%        37294.000000         16293.000000          1.000000     612.000000   \n",
       "max        84869.000000         65968.000000          3.000000    3190.000000   \n",
       "\n",
       "       ponds_around3000  ponds_nearest  days_exposition    metr_price  \\\n",
       "count      18140.000000    9085.000000     20470.000000  2.365000e+04   \n",
       "mean           0.769680     518.059879       180.753200  9.943225e+04   \n",
       "std            0.937948     277.841733       219.777916  5.033794e+04   \n",
       "min            0.000000      13.000000         1.000000  1.118300e+02   \n",
       "25%            0.000000     293.000000        45.000000  7.661496e+04   \n",
       "50%            1.000000     502.000000        95.000000  9.500000e+04   \n",
       "75%            1.000000     730.000000       231.000000  1.142742e+05   \n",
       "max            3.000000    1344.000000      1580.000000  1.907500e+06   \n",
       "\n",
       "            weekday         month          year  cityCenters_nearest_km  \n",
       "count  23650.000000  23650.000000  23650.000000            18139.000000  \n",
       "mean       2.568710      6.401564   2017.370021               14.191576  \n",
       "std        1.788808      3.491418      1.037806                8.614645  \n",
       "min        0.000000      1.000000   2014.000000                0.000000  \n",
       "25%        1.000000      3.000000   2017.000000                9.000000  \n",
       "50%        3.000000      6.000000   2017.000000               13.000000  \n",
       "75%        4.000000     10.000000   2018.000000               16.000000  \n",
       "max        6.000000     12.000000   2019.000000               66.000000  "
      ]
     },
     "execution_count": 30,
     "metadata": {},
     "output_type": "execute_result"
    }
   ],
   "source": [
    "data.describe()"
   ]
  },
  {
   "cell_type": "markdown",
   "metadata": {},
   "source": [
    "В столбце total_area встречаются аномально маленькие и большие квартиры, удалим значения <20 (нереально для жилых квартир) и >300 (слишком редкие выбросы)\n",
    "\n",
    "В столбце living_area также встречаются нереалистичные значения:  \n",
    "min = 2- нереально мало для жилой площади.; max = 409.7- выбивается из распределения ; также стоит проверить есть \n",
    "Чтобы исправить удалим значения <10 и >150 и строки, где living_area > total_area\n",
    "\n",
    "По той же причине в значениях площади кухни удалим значения <5 и >50\n",
    "\n",
    "В значениях количества комнат встречается 0-такого быть не может, заменим их на 1\n",
    "\n",
    "В значениях высоты потолков встречаются как аномально низкие, так и высокие, в первом случае удалимм строки со значением ниже 2, а потолки с высотой боллее 10 метров, могли появиться из-за ошибки ввода, разделим такие значения на 10"
   ]
  },
  {
   "cell_type": "code",
   "execution_count": 31,
   "metadata": {},
   "outputs": [],
   "source": [
    "data = data[(data['total_area'] >= 20) & (data['total_area'] <= 300)]\n",
    "\n",
    "data = data[(data['living_area'] >= 10) & (data['living_area'] <= 150) & (data['living_area'] <= data['total_area'])]\n",
    "\n",
    "data = data[(data['kitchen_area'] >= 5) & (data['kitchen_area'] <= 50)]\n",
    "\n",
    "data['rooms'] = data['rooms'].replace(0, 1)\n",
    "\n",
    "data.loc[data['ceiling_height'] > 10, 'ceiling_height'] = data['ceiling_height'] / 10\n",
    "\n",
    "data = data[data['ceiling_height'] >= 2]"
   ]
  },
  {
   "cell_type": "code",
   "execution_count": 32,
   "metadata": {
    "scrolled": true
   },
   "outputs": [
    {
     "data": {
      "text/plain": [
       "<AxesSubplot:>"
      ]
     },
     "execution_count": 32,
     "metadata": {},
     "output_type": "execute_result"
    },
    {
     "data": {
      "image/png": "[encoded data removed]",
      "text/plain": [
       "<Figure size 432x288 with 1 Axes>"
      ]
     },
     "metadata": {
      "needs_background": "light"
     },
     "output_type": "display_data"
    }
   ],
   "source": [
    "data['days_exposition'].hist(bins=30)"
   ]
  },
  {
   "cell_type": "code",
   "execution_count": 33,
   "metadata": {},
   "outputs": [
    {
     "data": {
      "text/plain": [
       "181.0313944143058"
      ]
     },
     "execution_count": 33,
     "metadata": {},
     "output_type": "execute_result"
    }
   ],
   "source": [
    "data['days_exposition'].mean()"
   ]
  },
  {
   "cell_type": "code",
   "execution_count": 34,
   "metadata": {},
   "outputs": [
    {
     "data": {
      "text/plain": [
       "96.0"
      ]
     },
     "execution_count": 34,
     "metadata": {},
     "output_type": "execute_result"
    }
   ],
   "source": [
    "data['days_exposition'].median()"
   ]
  },
  {
   "cell_type": "markdown",
   "metadata": {},
   "source": [
    "Квартиры в среднем продаются за 169 дней, но медианное значение 95 дней — это показывает, что есть много долгих продаж, которые тянут среднее вверх. Такие значения можно считать аномально высокими, но существовать такие могут. Также есть квартиры, которые продались очень быстро, минимально- за один день, возможно, очень хорошее предложение. "
   ]
  },
  {
   "cell_type": "code",
   "execution_count": 35,
   "metadata": {},
   "outputs": [],
   "source": [
    "weekday = data.pivot_table(values='last_price', index='weekday') #создаем сводные таблицы\n",
    "month = data.pivot_table(values='last_price', index='month')\n",
    "year= data.pivot_table(values='last_price', index='year')"
   ]
  },
  {
   "cell_type": "code",
   "execution_count": 36,
   "metadata": {},
   "outputs": [
    {
     "data": {
      "text/plain": [
       "<AxesSubplot:xlabel='floor_type'>"
      ]
     },
     "execution_count": 36,
     "metadata": {},
     "output_type": "execute_result"
    },
    {
     "data": {
      "image/png": "[encoded data removed]",
      "text/plain": [
       "<Figure size 432x288 with 1 Axes>"
      ]
     },
     "metadata": {
      "needs_background": "light"
     },
     "output_type": "display_data"
    }
   ],
   "source": [
    "data.pivot_table(index='floor_type', values='last_price').sort_values(by='last_price').plot(grid=True)"
   ]
  },
  {
   "cell_type": "markdown",
   "metadata": {},
   "source": [
    "Квартиры на первом этаже обладают самой низкой стоимостью, а дороже остальных квартиры не на первом и последнем этажах. "
   ]
  },
  {
   "cell_type": "code",
   "execution_count": 37,
   "metadata": {},
   "outputs": [
    {
     "data": {
      "text/plain": [
       "<AxesSubplot:xlabel='total_area', ylabel='last_price'>"
      ]
     },
     "execution_count": 37,
     "metadata": {},
     "output_type": "execute_result"
    },
    {
     "data": {
      "image/png": "[encoded data removed]",
      "text/plain": [
       "<Figure size 432x288 with 1 Axes>"
      ]
     },
     "metadata": {
      "needs_background": "light"
     },
     "output_type": "display_data"
    }
   ],
   "source": [
    "data.plot(x='total_area', y='last_price', kind='scatter', alpha=0.3)"
   ]
  },
  {
   "cell_type": "markdown",
   "metadata": {},
   "source": [
    "Цена увеличивается вместе с площадью, что довольно логично. Но есть и несколько выбивающихся значений с слишком нетипично высокой ценой, возможно из-за элитного застройщика или места. "
   ]
  },
  {
   "cell_type": "code",
   "execution_count": 38,
   "metadata": {},
   "outputs": [
    {
     "data": {
      "text/plain": [
       "<AxesSubplot:xlabel='living_area', ylabel='last_price'>"
      ]
     },
     "execution_count": 38,
     "metadata": {},
     "output_type": "execute_result"
    },
    {
     "data": {
      "image/png": "[encoded data removed]",
      "text/plain": [
       "<Figure size 432x288 with 1 Axes>"
      ]
     },
     "metadata": {
      "needs_background": "light"
     },
     "output_type": "display_data"
    }
   ],
   "source": [
    "data.plot(x='living_area', y='last_price', kind='scatter', alpha=0.3)"
   ]
  },
  {
   "cell_type": "markdown",
   "metadata": {},
   "source": [
    "С жилой площадью все как и с общей, но мы видим большое скопление разных цен у объектов с жилой площадью около 30, на это мог повлиять этаж или расположение. "
   ]
  },
  {
   "cell_type": "code",
   "execution_count": 39,
   "metadata": {},
   "outputs": [
    {
     "data": {
      "text/plain": [
       "<AxesSubplot:xlabel='kitchen_area', ylabel='last_price'>"
      ]
     },
     "execution_count": 39,
     "metadata": {},
     "output_type": "execute_result"
    },
    {
     "data": {
      "image/png": "[encoded data removed]",
      "text/plain": [
       "<Figure size 432x288 with 1 Axes>"
      ]
     },
     "metadata": {
      "needs_background": "light"
     },
     "output_type": "display_data"
    }
   ],
   "source": [
    "data.plot(x='kitchen_area', y='last_price', kind='scatter', alpha=0.3)"
   ]
  },
  {
   "cell_type": "markdown",
   "metadata": {},
   "source": [
    "В среднем цена растет вместе с площадью кухни, но есть выбивающиеся значения, которые могли возникнуть из-за других факторов, таких как общая площадьт или расположение. "
   ]
  },
  {
   "cell_type": "code",
   "execution_count": 40,
   "metadata": {},
   "outputs": [
    {
     "data": {
      "text/plain": [
       "<AxesSubplot:xlabel='rooms', ylabel='last_price'>"
      ]
     },
     "execution_count": 40,
     "metadata": {},
     "output_type": "execute_result"
    },
    {
     "data": {
      "image/png": "[encoded data removed]",
      "text/plain": [
       "<Figure size 432x288 with 1 Axes>"
      ]
     },
     "metadata": {
      "needs_background": "light"
     },
     "output_type": "display_data"
    }
   ],
   "source": [
    "data.plot(x='rooms', y='last_price', kind='scatter', alpha=0.3)"
   ]
  },
  {
   "cell_type": "markdown",
   "metadata": {},
   "source": [
    "Цена квартиры растёт с увеличением числа комнат. 1–3 комнаты стоят до 1.5–2 млн , 4–6 комнат — до 2.5–3 млн. Однако выбросы (особенно для 2–3 комнат) и редкость данных для 7+ комнат искажают картину."
   ]
  },
  {
   "cell_type": "code",
   "execution_count": 41,
   "metadata": {},
   "outputs": [
    {
     "data": {
      "text/plain": [
       "<AxesSubplot:xlabel='weekday'>"
      ]
     },
     "execution_count": 41,
     "metadata": {},
     "output_type": "execute_result"
    },
    {
     "data": {
      "image/png": "[encoded data removed]",
      "text/plain": [
       "<Figure size 432x288 with 1 Axes>"
      ]
     },
     "metadata": {
      "needs_background": "light"
     },
     "output_type": "display_data"
    }
   ],
   "source": [
    "weekday.plot(kind='bar')"
   ]
  },
  {
   "cell_type": "markdown",
   "metadata": {},
   "source": [
    "День недели почти не влияет на стоимость, однако небольшое увеличение цены происходит по четвергам. "
   ]
  },
  {
   "cell_type": "code",
   "execution_count": 42,
   "metadata": {},
   "outputs": [
    {
     "data": {
      "text/plain": [
       "<AxesSubplot:xlabel='month'>"
      ]
     },
     "execution_count": 42,
     "metadata": {},
     "output_type": "execute_result"
    },
    {
     "data": {
      "image/png": "[encoded data removed]",
      "text/plain": [
       "<Figure size 432x288 with 1 Axes>"
      ]
     },
     "metadata": {
      "needs_background": "light"
     },
     "output_type": "display_data"
    }
   ],
   "source": [
    "month.plot(kind='bar')"
   ]
  },
  {
   "cell_type": "markdown",
   "metadata": {},
   "source": [
    "В среднем цена не меняется в зависимости от месяца публикации объявления, небольшое повышение происходит в августе и декабре. "
   ]
  },
  {
   "cell_type": "code",
   "execution_count": 43,
   "metadata": {},
   "outputs": [
    {
     "data": {
      "text/plain": [
       "<AxesSubplot:xlabel='year'>"
      ]
     },
     "execution_count": 43,
     "metadata": {},
     "output_type": "execute_result"
    },
    {
     "data": {
      "image/png": "[encoded data removed]",
      "text/plain": [
       "<Figure size 432x288 with 1 Axes>"
      ]
     },
     "metadata": {
      "needs_background": "light"
     },
     "output_type": "display_data"
    }
   ],
   "source": [
    "year.plot(kind='bar')"
   ]
  },
  {
   "cell_type": "markdown",
   "metadata": {},
   "source": [
    "Объекты с самой высокой стоимостью были опубликованы в 2014 году, после чего цена начала падать, в 2019 снова наблюдается рост цен. "
   ]
  },
  {
   "cell_type": "code",
   "execution_count": 44,
   "metadata": {},
   "outputs": [
    {
     "data": {
      "text/html": [
       "<div>\n",
       "<style scoped>\n",
       "    .dataframe tbody tr th:only-of-type {\n",
       "        vertical-align: middle;\n",
       "    }\n",
       "\n",
       "    .dataframe tbody tr th {\n",
       "        vertical-align: top;\n",
       "    }\n",
       "\n",
       "    .dataframe thead th {\n",
       "        text-align: right;\n",
       "    }\n",
       "</style>\n",
       "<table border=\"1\" class=\"dataframe\">\n",
       "  <thead>\n",
       "    <tr style=\"text-align: right;\">\n",
       "      <th></th>\n",
       "      <th>count</th>\n",
       "      <th>mean_price_per_metr</th>\n",
       "    </tr>\n",
       "    <tr>\n",
       "      <th>locality_name</th>\n",
       "      <th></th>\n",
       "      <th></th>\n",
       "    </tr>\n",
       "  </thead>\n",
       "  <tbody>\n",
       "    <tr>\n",
       "      <th>санкт-петербург</th>\n",
       "      <td>15317</td>\n",
       "      <td>113502.140048</td>\n",
       "    </tr>\n",
       "    <tr>\n",
       "      <th>пушкин</th>\n",
       "      <td>361</td>\n",
       "      <td>102991.306953</td>\n",
       "    </tr>\n",
       "    <tr>\n",
       "      <th>деревня кудрово</th>\n",
       "      <td>270</td>\n",
       "      <td>91851.239852</td>\n",
       "    </tr>\n",
       "    <tr>\n",
       "      <th>поселок парголово</th>\n",
       "      <td>324</td>\n",
       "      <td>90270.706080</td>\n",
       "    </tr>\n",
       "    <tr>\n",
       "      <th>поселок мурино</th>\n",
       "      <td>493</td>\n",
       "      <td>84446.129026</td>\n",
       "    </tr>\n",
       "    <tr>\n",
       "      <th>поселок шушары</th>\n",
       "      <td>429</td>\n",
       "      <td>78049.303124</td>\n",
       "    </tr>\n",
       "    <tr>\n",
       "      <th>колпино</th>\n",
       "      <td>336</td>\n",
       "      <td>75239.590804</td>\n",
       "    </tr>\n",
       "    <tr>\n",
       "      <th>гатчина</th>\n",
       "      <td>302</td>\n",
       "      <td>68846.422119</td>\n",
       "    </tr>\n",
       "    <tr>\n",
       "      <th>всеволожск</th>\n",
       "      <td>391</td>\n",
       "      <td>68693.860895</td>\n",
       "    </tr>\n",
       "    <tr>\n",
       "      <th>выборг</th>\n",
       "      <td>232</td>\n",
       "      <td>57963.203879</td>\n",
       "    </tr>\n",
       "  </tbody>\n",
       "</table>\n",
       "</div>"
      ],
      "text/plain": [
       "                   count  mean_price_per_metr\n",
       "locality_name                                \n",
       "санкт-петербург    15317        113502.140048\n",
       "пушкин               361        102991.306953\n",
       "деревня кудрово      270         91851.239852\n",
       "поселок парголово    324         90270.706080\n",
       "поселок мурино       493         84446.129026\n",
       "поселок шушары       429         78049.303124\n",
       "колпино              336         75239.590804\n",
       "гатчина              302         68846.422119\n",
       "всеволожск           391         68693.860895\n",
       "выборг               232         57963.203879"
      ]
     },
     "execution_count": 44,
     "metadata": {},
     "output_type": "execute_result"
    }
   ],
   "source": [
    "locations_10 = data.pivot_table(index='locality_name', values='first_day_exposition', aggfunc='count').sort_values(by='first_day_exposition', ascending=False).head(10)\n",
    "locations_10.columns = ['count']\n",
    "locations_10['mean_price_per_metr'] = data[data['locality_name'].isin(locations_10.index)].groupby('locality_name')['metr_price'].mean()\n",
    "locations_10 = locations_10.sort_values(by='mean_price_per_metr', ascending=False)\n",
    "locations_10"
   ]
  },
  {
   "cell_type": "markdown",
   "metadata": {},
   "source": [
    "Самая высокая цена за квадратный метр наблюдается в Санкт-Петербурге, а самая низкая в Выборге. "
   ]
  },
  {
   "cell_type": "code",
   "execution_count": 45,
   "metadata": {
    "scrolled": true
   },
   "outputs": [
    {
     "data": {
      "text/plain": [
       "cityCenters_nearest_km\n",
       "0.0     2.199051e+07\n",
       "1.0     1.909701e+07\n",
       "2.0     1.528263e+07\n",
       "3.0     1.038954e+07\n",
       "4.0     1.139713e+07\n",
       "5.0     1.211982e+07\n",
       "6.0     1.252497e+07\n",
       "7.0     1.376318e+07\n",
       "8.0     9.103955e+06\n",
       "9.0     6.963980e+06\n",
       "10.0    6.437226e+06\n",
       "11.0    6.266972e+06\n",
       "12.0    5.867656e+06\n",
       "13.0    6.107055e+06\n",
       "14.0    5.621952e+06\n",
       "15.0    5.827375e+06\n",
       "16.0    5.399024e+06\n",
       "17.0    5.280955e+06\n",
       "18.0    5.021741e+06\n",
       "19.0    5.115954e+06\n",
       "20.0    6.154039e+06\n",
       "21.0    5.489381e+06\n",
       "22.0    5.415524e+06\n",
       "23.0    4.747630e+06\n",
       "24.0    3.890687e+06\n",
       "25.0    4.229080e+06\n",
       "26.0    3.993577e+06\n",
       "27.0    8.300000e+06\n",
       "28.0    5.026429e+06\n",
       "29.0    4.236667e+06\n",
       "Name: last_price, dtype: float64"
      ]
     },
     "execution_count": 45,
     "metadata": {},
     "output_type": "execute_result"
    }
   ],
   "source": [
    "spb_data = data[data['locality_name'] == 'санкт-петербург']\n",
    "spb_price = spb_data.groupby('cityCenters_nearest_km')['last_price'].mean()\n",
    "spb_price\n"
   ]
  },
  {
   "cell_type": "code",
   "execution_count": 46,
   "metadata": {},
   "outputs": [
    {
     "data": {
      "text/plain": [
       "<AxesSubplot:xlabel='cityCenters_nearest_km'>"
      ]
     },
     "execution_count": 46,
     "metadata": {},
     "output_type": "execute_result"
    },
    {
     "data": {
      "image/png": "[encoded data removed]",
      "text/plain": [
       "<Figure size 432x288 with 1 Axes>"
      ]
     },
     "metadata": {
      "needs_background": "light"
     },
     "output_type": "display_data"
    }
   ],
   "source": [
    "spb_price.plot(grid=True)"
   ]
  },
  {
   "cell_type": "markdown",
   "metadata": {},
   "source": [
    "Чем ближе к центру, тем выше стоимость объекта, однако в районе 5-7 км от центра и 26-27 наблюдается скачок цен относительно других расстояний, возможно, там находится элитный жк или хорошо развитый район. "
   ]
  },
  {
   "cell_type": "markdown",
   "metadata": {},
   "source": [
    "Больше всего на цену квартиры влияют общая и жилая площади. Также есть зависимость цены от расстояния от центра. Остальные параметры не так сильно сказываются на стоимости. "
   ]
  },
  {
   "cell_type": "markdown",
   "metadata": {
    "id": "h7VpzkIDAwb-"
   },
   "source": [
    "### общий вывод"
   ]
  },
  {
   "cell_type": "markdown",
   "metadata": {
    "id": "3H4lnp_KAwb-"
   },
   "source": [
    "В ходе проекта были проанализированы данные по поводу продажи квартир в Санкт-Петербурге и соседних населённых пунктах за несколько лет. В изначальных данных присутствовади пропуски, которые возникли из-за некоректного ввода данных или человесекой ошибки. Их мы зменили медианным значением или 0, если такой вариант подрузамевался вместо пустого поля, некоторые пропуски пришлось оставить из-за невозможности подобрать оптимальную замену для них. \n",
    "Также в данных были дубликаты и выбросы, которые были переименованы и удалены соответсвенно. \n",
    "\n",
    "После подготовки данных был произведен их анализ. Было изучено, как влияют на стоимость такие факторы, как общая площадь, жилая площадь, площадь кухни, цена объекта, количество комнат, высота потолков, тип этажа квартиры, общее количество этажей в доме, расстояние до центра города в метрах, расстояние до ближайшего парка. Выяснилось, что сильнее всего на стоимость квартиры влияет площадь, а остальные факторы оказались не столь значительными. Для большей наглядности были построны графики, на которых видна эта зависимость. \n",
    "\n",
    "Также, выяснилось, что в 2014 году квартиры продавались с более высокой стоимостью, а далее цена падала до 2019 года, в котором снова начала расти. \n",
    "\n",
    "В итоге самые дорогие квартиры находятся в Санкт-Петербурге и чем ближе к его центру, тем выше стоимость. Но самым значительным параметром в ценообразовании квартиры является площадь. "
   ]
  }
 ],
 "metadata": {
  "ExecuteTimeLog": [
   {
    "duration": 570,
    "start_time": "2025-03-03T14:20:25.057Z"
   },
   {
    "duration": 22,
    "start_time": "2025-03-03T14:20:48.948Z"
   },
   {
    "duration": 18,
    "start_time": "2025-03-03T14:23:30.169Z"
   },
   {
    "duration": 94,
    "start_time": "2025-03-03T14:25:31.485Z"
   },
   {
    "duration": 11,
    "start_time": "2025-03-03T14:25:42.214Z"
   },
   {
    "duration": 18,
    "start_time": "2025-03-03T14:26:10.181Z"
   },
   {
    "duration": 7,
    "start_time": "2025-03-03T14:26:18.760Z"
   },
   {
    "duration": 129,
    "start_time": "2025-03-03T14:26:55.547Z"
   },
   {
    "duration": 13,
    "start_time": "2025-03-03T14:27:04.170Z"
   },
   {
    "duration": 7,
    "start_time": "2025-03-03T14:27:07.206Z"
   },
   {
    "duration": 97,
    "start_time": "2025-03-03T14:27:50.087Z"
   },
   {
    "duration": 18,
    "start_time": "2025-03-03T14:27:51.428Z"
   },
   {
    "duration": 31,
    "start_time": "2025-03-03T14:27:55.012Z"
   },
   {
    "duration": 2383,
    "start_time": "2025-03-03T14:29:58.528Z"
   },
   {
    "duration": 1656,
    "start_time": "2025-03-03T14:44:18.608Z"
   },
   {
    "duration": 1340,
    "start_time": "2025-03-03T14:44:42.519Z"
   },
   {
    "duration": 1043,
    "start_time": "2025-03-03T14:49:02.694Z"
   },
   {
    "duration": 965,
    "start_time": "2025-03-03T14:49:13.288Z"
   },
   {
    "duration": 1736,
    "start_time": "2025-03-03T14:57:30.105Z"
   },
   {
    "duration": 1675,
    "start_time": "2025-03-03T14:58:01.013Z"
   },
   {
    "duration": 28,
    "start_time": "2025-03-03T14:59:56.544Z"
   },
   {
    "duration": 10,
    "start_time": "2025-03-03T15:00:50.562Z"
   },
   {
    "duration": 1769,
    "start_time": "2025-03-03T16:08:58.922Z"
   },
   {
    "duration": 23,
    "start_time": "2025-03-03T16:25:12.843Z"
   },
   {
    "duration": 10,
    "start_time": "2025-03-03T16:34:26.101Z"
   },
   {
    "duration": 10,
    "start_time": "2025-03-03T16:35:14.162Z"
   },
   {
    "duration": 11,
    "start_time": "2025-03-03T16:47:29.146Z"
   },
   {
    "duration": 6,
    "start_time": "2025-03-03T16:47:47.978Z"
   },
   {
    "duration": 5,
    "start_time": "2025-03-03T16:48:04.143Z"
   },
   {
    "duration": 6,
    "start_time": "2025-03-03T16:48:19.953Z"
   },
   {
    "duration": 27,
    "start_time": "2025-03-03T16:51:45.767Z"
   },
   {
    "duration": 7,
    "start_time": "2025-03-03T16:55:35.291Z"
   },
   {
    "duration": 10,
    "start_time": "2025-03-03T16:55:51.501Z"
   },
   {
    "duration": 83,
    "start_time": "2025-03-03T18:48:46.553Z"
   },
   {
    "duration": 16,
    "start_time": "2025-03-03T18:48:46.691Z"
   },
   {
    "duration": 26,
    "start_time": "2025-03-03T18:48:46.826Z"
   },
   {
    "duration": 1512,
    "start_time": "2025-03-03T18:48:46.986Z"
   },
   {
    "duration": 9,
    "start_time": "2025-03-03T18:48:48.500Z"
   },
   {
    "duration": 11,
    "start_time": "2025-03-03T18:48:48.739Z"
   },
   {
    "duration": 7,
    "start_time": "2025-03-03T18:48:49.267Z"
   },
   {
    "duration": 11,
    "start_time": "2025-03-03T18:48:50.257Z"
   },
   {
    "duration": 5,
    "start_time": "2025-03-03T18:48:50.870Z"
   },
   {
    "duration": 21,
    "start_time": "2025-03-03T18:54:11.707Z"
   },
   {
    "duration": 76,
    "start_time": "2025-03-03T19:01:48.751Z"
   },
   {
    "duration": 11,
    "start_time": "2025-03-03T19:01:57.520Z"
   },
   {
    "duration": 10,
    "start_time": "2025-03-03T19:06:06.975Z"
   },
   {
    "duration": 6,
    "start_time": "2025-03-03T19:07:48.289Z"
   },
   {
    "duration": 19,
    "start_time": "2025-03-03T19:07:56.872Z"
   },
   {
    "duration": 16,
    "start_time": "2025-03-03T19:08:14.004Z"
   },
   {
    "duration": 19,
    "start_time": "2025-03-03T19:08:26.722Z"
   },
   {
    "duration": 24,
    "start_time": "2025-03-03T19:17:40.024Z"
   },
   {
    "duration": 24,
    "start_time": "2025-03-03T19:18:05.465Z"
   },
   {
    "duration": 16,
    "start_time": "2025-03-03T19:18:25.992Z"
   },
   {
    "duration": 15,
    "start_time": "2025-03-03T19:18:28.422Z"
   },
   {
    "duration": 7,
    "start_time": "2025-03-03T19:18:30.755Z"
   },
   {
    "duration": 30,
    "start_time": "2025-03-03T19:19:05.614Z"
   },
   {
    "duration": 22,
    "start_time": "2025-03-03T19:26:54.849Z"
   },
   {
    "duration": 28,
    "start_time": "2025-03-03T19:28:18.663Z"
   },
   {
    "duration": 30,
    "start_time": "2025-03-03T19:28:24.637Z"
   },
   {
    "duration": 21,
    "start_time": "2025-03-03T19:29:26.271Z"
   },
   {
    "duration": 28,
    "start_time": "2025-03-03T19:30:59.816Z"
   },
   {
    "duration": 49,
    "start_time": "2025-03-03T19:35:44.403Z"
   },
   {
    "duration": 45,
    "start_time": "2025-03-03T19:39:26.853Z"
   },
   {
    "duration": 53,
    "start_time": "2025-03-03T19:40:36.031Z"
   },
   {
    "duration": 72,
    "start_time": "2025-03-03T19:45:50.298Z"
   },
   {
    "duration": 80,
    "start_time": "2025-03-05T16:08:14.363Z"
   },
   {
    "duration": 43,
    "start_time": "2025-03-05T16:08:31.693Z"
   },
   {
    "duration": 510,
    "start_time": "2025-03-05T16:08:37.241Z"
   },
   {
    "duration": 15,
    "start_time": "2025-03-05T16:08:37.887Z"
   },
   {
    "duration": 38,
    "start_time": "2025-03-05T16:08:38.716Z"
   },
   {
    "duration": 1859,
    "start_time": "2025-03-05T16:08:39.276Z"
   },
   {
    "duration": 9,
    "start_time": "2025-03-05T16:08:41.137Z"
   },
   {
    "duration": 12,
    "start_time": "2025-03-05T16:08:41.762Z"
   },
   {
    "duration": 6,
    "start_time": "2025-03-05T16:08:42.300Z"
   },
   {
    "duration": 11,
    "start_time": "2025-03-05T16:08:43.363Z"
   },
   {
    "duration": 5,
    "start_time": "2025-03-05T16:08:44.010Z"
   },
   {
    "duration": 4,
    "start_time": "2025-03-05T16:08:44.853Z"
   },
   {
    "duration": 6,
    "start_time": "2025-03-05T16:08:45.396Z"
   },
   {
    "duration": 23,
    "start_time": "2025-03-05T16:08:46.026Z"
   },
   {
    "duration": 8,
    "start_time": "2025-03-05T16:08:46.651Z"
   },
   {
    "duration": 9,
    "start_time": "2025-03-05T16:08:47.886Z"
   },
   {
    "duration": 29,
    "start_time": "2025-03-05T16:08:48.318Z"
   },
   {
    "duration": 37,
    "start_time": "2025-03-05T16:08:49.383Z"
   },
   {
    "duration": 50,
    "start_time": "2025-03-05T16:08:50.496Z"
   },
   {
    "duration": 64,
    "start_time": "2025-03-05T16:08:51.011Z"
   },
   {
    "duration": 71,
    "start_time": "2025-03-05T16:08:52.592Z"
   },
   {
    "duration": 416,
    "start_time": "2025-03-05T16:16:28.855Z"
   },
   {
    "duration": 23,
    "start_time": "2025-03-05T16:16:30.166Z"
   },
   {
    "duration": 82,
    "start_time": "2025-03-05T16:19:32.915Z"
   },
   {
    "duration": 15,
    "start_time": "2025-03-05T16:19:33.501Z"
   },
   {
    "duration": 23,
    "start_time": "2025-03-05T16:19:34.128Z"
   },
   {
    "duration": 1243,
    "start_time": "2025-03-05T16:19:34.739Z"
   },
   {
    "duration": 8,
    "start_time": "2025-03-05T16:19:35.984Z"
   },
   {
    "duration": 12,
    "start_time": "2025-03-05T16:19:37.104Z"
   },
   {
    "duration": 7,
    "start_time": "2025-03-05T16:19:37.661Z"
   },
   {
    "duration": 10,
    "start_time": "2025-03-05T16:19:38.839Z"
   },
   {
    "duration": 5,
    "start_time": "2025-03-05T16:19:39.258Z"
   },
   {
    "duration": 4,
    "start_time": "2025-03-05T16:19:39.676Z"
   },
   {
    "duration": 5,
    "start_time": "2025-03-05T16:19:39.957Z"
   },
   {
    "duration": 24,
    "start_time": "2025-03-05T16:19:40.227Z"
   },
   {
    "duration": 10,
    "start_time": "2025-03-05T16:19:40.526Z"
   },
   {
    "duration": 8,
    "start_time": "2025-03-05T16:19:41.653Z"
   },
   {
    "duration": 29,
    "start_time": "2025-03-05T16:19:41.871Z"
   },
   {
    "duration": 40,
    "start_time": "2025-03-05T16:19:42.530Z"
   },
   {
    "duration": 51,
    "start_time": "2025-03-05T16:19:43.308Z"
   },
   {
    "duration": 440,
    "start_time": "2025-03-05T16:19:44.111Z"
   },
   {
    "duration": 79,
    "start_time": "2025-03-05T16:52:43.846Z"
   },
   {
    "duration": 14,
    "start_time": "2025-03-05T16:52:44.098Z"
   },
   {
    "duration": 24,
    "start_time": "2025-03-05T16:52:44.262Z"
   },
   {
    "duration": 1376,
    "start_time": "2025-03-05T16:52:44.419Z"
   },
   {
    "duration": 9,
    "start_time": "2025-03-05T16:52:45.797Z"
   },
   {
    "duration": 30,
    "start_time": "2025-03-05T16:52:45.807Z"
   },
   {
    "duration": 25,
    "start_time": "2025-03-05T16:52:45.839Z"
   },
   {
    "duration": 43,
    "start_time": "2025-03-05T16:52:45.866Z"
   },
   {
    "duration": 17,
    "start_time": "2025-03-05T16:52:45.910Z"
   },
   {
    "duration": 17,
    "start_time": "2025-03-05T16:52:45.928Z"
   },
   {
    "duration": 23,
    "start_time": "2025-03-05T16:52:45.947Z"
   },
   {
    "duration": 23,
    "start_time": "2025-03-05T16:52:46.030Z"
   },
   {
    "duration": 9,
    "start_time": "2025-03-05T16:52:46.166Z"
   },
   {
    "duration": 8,
    "start_time": "2025-03-05T16:52:46.459Z"
   },
   {
    "duration": 28,
    "start_time": "2025-03-05T16:52:46.602Z"
   },
   {
    "duration": 39,
    "start_time": "2025-03-05T16:52:46.929Z"
   },
   {
    "duration": 49,
    "start_time": "2025-03-05T16:52:47.234Z"
   },
   {
    "duration": 476,
    "start_time": "2025-03-05T16:52:47.529Z"
   },
   {
    "duration": 22,
    "start_time": "2025-03-05T16:52:48.007Z"
   },
   {
    "duration": 1137,
    "start_time": "2025-03-05T16:52:48.031Z"
   },
   {
    "duration": 29,
    "start_time": "2025-03-05T16:53:07.342Z"
   },
   {
    "duration": 79,
    "start_time": "2025-03-05T16:57:23.249Z"
   },
   {
    "duration": 447,
    "start_time": "2025-03-05T17:03:06.915Z"
   },
   {
    "duration": 413,
    "start_time": "2025-03-05T17:06:01.430Z"
   },
   {
    "duration": 160,
    "start_time": "2025-03-05T17:06:38.938Z"
   },
   {
    "duration": 616,
    "start_time": "2025-03-05T17:06:54.228Z"
   },
   {
    "duration": 449,
    "start_time": "2025-03-05T17:08:52.757Z"
   },
   {
    "duration": 515,
    "start_time": "2025-03-05T17:09:14.348Z"
   },
   {
    "duration": 14,
    "start_time": "2025-03-05T17:12:01.216Z"
   },
   {
    "duration": 22,
    "start_time": "2025-03-05T17:14:09.365Z"
   },
   {
    "duration": 101,
    "start_time": "2025-03-05T17:14:49.773Z"
   },
   {
    "duration": 13,
    "start_time": "2025-03-05T17:14:50.143Z"
   },
   {
    "duration": 25,
    "start_time": "2025-03-05T17:14:50.305Z"
   },
   {
    "duration": 1558,
    "start_time": "2025-03-05T17:14:50.467Z"
   },
   {
    "duration": 9,
    "start_time": "2025-03-05T17:14:52.027Z"
   },
   {
    "duration": 34,
    "start_time": "2025-03-05T17:14:52.037Z"
   },
   {
    "duration": 11,
    "start_time": "2025-03-05T17:14:52.074Z"
   },
   {
    "duration": 16,
    "start_time": "2025-03-05T17:14:52.087Z"
   },
   {
    "duration": 5,
    "start_time": "2025-03-05T17:14:52.105Z"
   },
   {
    "duration": 12,
    "start_time": "2025-03-05T17:14:52.112Z"
   },
   {
    "duration": 14,
    "start_time": "2025-03-05T17:14:52.133Z"
   },
   {
    "duration": 23,
    "start_time": "2025-03-05T17:14:52.294Z"
   },
   {
    "duration": 8,
    "start_time": "2025-03-05T17:14:52.458Z"
   },
   {
    "duration": 11,
    "start_time": "2025-03-05T17:14:52.825Z"
   },
   {
    "duration": 27,
    "start_time": "2025-03-05T17:14:52.996Z"
   },
   {
    "duration": 38,
    "start_time": "2025-03-05T17:14:53.324Z"
   },
   {
    "duration": 58,
    "start_time": "2025-03-05T17:14:53.643Z"
   },
   {
    "duration": 521,
    "start_time": "2025-03-05T17:14:53.985Z"
   },
   {
    "duration": 22,
    "start_time": "2025-03-05T17:14:54.507Z"
   },
   {
    "duration": 18,
    "start_time": "2025-03-05T17:14:54.871Z"
   },
   {
    "duration": 159,
    "start_time": "2025-03-05T17:14:55.245Z"
   },
   {
    "duration": 164,
    "start_time": "2025-03-05T17:14:55.840Z"
   },
   {
    "duration": 147,
    "start_time": "2025-03-05T17:14:58.472Z"
   },
   {
    "duration": 171,
    "start_time": "2025-03-05T17:14:58.626Z"
   },
   {
    "duration": 159,
    "start_time": "2025-03-05T17:14:58.802Z"
   },
   {
    "duration": 157,
    "start_time": "2025-03-05T17:14:58.972Z"
   },
   {
    "duration": 145,
    "start_time": "2025-03-05T17:14:59.144Z"
   },
   {
    "duration": 149,
    "start_time": "2025-03-05T17:14:59.298Z"
   },
   {
    "duration": 143,
    "start_time": "2025-03-05T17:14:59.479Z"
   },
   {
    "duration": 162,
    "start_time": "2025-03-05T17:15:01.943Z"
   },
   {
    "duration": 89,
    "start_time": "2025-03-05T17:15:02.706Z"
   },
   {
    "duration": 155,
    "start_time": "2025-03-05T17:16:03.919Z"
   },
   {
    "duration": 174,
    "start_time": "2025-03-05T17:17:54.359Z"
   },
   {
    "duration": 310,
    "start_time": "2025-03-05T17:18:00.632Z"
   },
   {
    "duration": 138,
    "start_time": "2025-03-05T17:18:08.152Z"
   },
   {
    "duration": 146,
    "start_time": "2025-03-05T17:18:14.429Z"
   },
   {
    "duration": 160,
    "start_time": "2025-03-05T17:18:20.074Z"
   },
   {
    "duration": 151,
    "start_time": "2025-03-05T17:18:33.184Z"
   },
   {
    "duration": 35,
    "start_time": "2025-03-05T17:40:18.650Z"
   },
   {
    "duration": 153,
    "start_time": "2025-03-05T17:43:00.627Z"
   },
   {
    "duration": 7,
    "start_time": "2025-03-05T17:43:27.588Z"
   },
   {
    "duration": 3,
    "start_time": "2025-03-05T17:43:31.161Z"
   },
   {
    "duration": 5,
    "start_time": "2025-03-05T17:43:39.410Z"
   },
   {
    "duration": 5,
    "start_time": "2025-03-05T17:43:48.523Z"
   },
   {
    "duration": 10,
    "start_time": "2025-03-05T19:16:25.445Z"
   },
   {
    "duration": 19,
    "start_time": "2025-03-05T19:16:40.607Z"
   },
   {
    "duration": 9,
    "start_time": "2025-03-05T19:16:41.614Z"
   },
   {
    "duration": 147,
    "start_time": "2025-03-05T19:16:49.080Z"
   },
   {
    "duration": 549,
    "start_time": "2025-03-06T10:26:54.736Z"
   },
   {
    "duration": 19,
    "start_time": "2025-03-06T10:26:55.498Z"
   },
   {
    "duration": 36,
    "start_time": "2025-03-06T10:26:58.911Z"
   },
   {
    "duration": 2075,
    "start_time": "2025-03-06T10:26:59.080Z"
   },
   {
    "duration": 23,
    "start_time": "2025-03-06T10:27:01.158Z"
   },
   {
    "duration": 38,
    "start_time": "2025-03-06T10:27:01.183Z"
   },
   {
    "duration": 21,
    "start_time": "2025-03-06T10:27:01.223Z"
   },
   {
    "duration": 21,
    "start_time": "2025-03-06T10:27:01.246Z"
   },
   {
    "duration": 8,
    "start_time": "2025-03-06T10:27:01.269Z"
   },
   {
    "duration": 9,
    "start_time": "2025-03-06T10:27:01.279Z"
   },
   {
    "duration": 33,
    "start_time": "2025-03-06T10:27:01.290Z"
   },
   {
    "duration": 39,
    "start_time": "2025-03-06T10:27:01.325Z"
   },
   {
    "duration": 9,
    "start_time": "2025-03-06T10:27:01.366Z"
   },
   {
    "duration": 9,
    "start_time": "2025-03-06T10:27:02.477Z"
   },
   {
    "duration": 35,
    "start_time": "2025-03-06T10:27:02.645Z"
   },
   {
    "duration": 47,
    "start_time": "2025-03-06T10:27:02.952Z"
   },
   {
    "duration": 62,
    "start_time": "2025-03-06T10:27:03.358Z"
   },
   {
    "duration": 483,
    "start_time": "2025-03-06T10:27:03.949Z"
   },
   {
    "duration": 28,
    "start_time": "2025-03-06T10:27:04.434Z"
   },
   {
    "duration": 134,
    "start_time": "2025-03-06T10:27:04.543Z"
   },
   {
    "duration": 170,
    "start_time": "2025-03-06T10:27:04.704Z"
   },
   {
    "duration": 173,
    "start_time": "2025-03-06T10:27:07.864Z"
   },
   {
    "duration": 175,
    "start_time": "2025-03-06T10:27:08.039Z"
   },
   {
    "duration": 170,
    "start_time": "2025-03-06T10:27:08.217Z"
   },
   {
    "duration": 189,
    "start_time": "2025-03-06T10:27:09.505Z"
   },
   {
    "duration": 162,
    "start_time": "2025-03-06T10:27:09.988Z"
   },
   {
    "duration": 191,
    "start_time": "2025-03-06T10:27:10.157Z"
   },
   {
    "duration": 160,
    "start_time": "2025-03-06T10:27:10.618Z"
   },
   {
    "duration": 177,
    "start_time": "2025-03-06T10:27:11.379Z"
   },
   {
    "duration": 192,
    "start_time": "2025-03-06T10:27:11.953Z"
   },
   {
    "duration": 24,
    "start_time": "2025-03-06T10:27:17.305Z"
   },
   {
    "duration": 205,
    "start_time": "2025-03-06T10:27:18.046Z"
   },
   {
    "duration": 5,
    "start_time": "2025-03-06T10:27:18.585Z"
   },
   {
    "duration": 6,
    "start_time": "2025-03-06T10:27:19.222Z"
   },
   {
    "duration": 22,
    "start_time": "2025-03-06T10:27:20.460Z"
   },
   {
    "duration": 318036,
    "start_time": "2025-03-06T10:27:23.936Z"
   },
   {
    "duration": 22,
    "start_time": "2025-03-06T11:25:46.191Z"
   },
   {
    "duration": 92,
    "start_time": "2025-03-06T11:25:55.165Z"
   },
   {
    "duration": 195,
    "start_time": "2025-03-06T11:26:13.173Z"
   },
   {
    "duration": 210,
    "start_time": "2025-03-06T11:28:03.762Z"
   },
   {
    "duration": 208,
    "start_time": "2025-03-06T11:28:51.583Z"
   },
   {
    "duration": 272,
    "start_time": "2025-03-06T11:32:05.560Z"
   },
   {
    "duration": 220,
    "start_time": "2025-03-06T11:34:52.799Z"
   },
   {
    "duration": 209,
    "start_time": "2025-03-06T11:37:27.194Z"
   },
   {
    "duration": 190,
    "start_time": "2025-03-06T11:45:04.416Z"
   },
   {
    "duration": 98,
    "start_time": "2025-03-06T15:07:39.371Z"
   },
   {
    "duration": 24,
    "start_time": "2025-03-06T15:07:40.615Z"
   },
   {
    "duration": 31,
    "start_time": "2025-03-06T15:07:41.342Z"
   },
   {
    "duration": 1682,
    "start_time": "2025-03-06T15:07:41.729Z"
   },
   {
    "duration": 11,
    "start_time": "2025-03-06T15:07:43.414Z"
   },
   {
    "duration": 25,
    "start_time": "2025-03-06T15:07:43.426Z"
   },
   {
    "duration": 21,
    "start_time": "2025-03-06T15:07:43.453Z"
   },
   {
    "duration": 12,
    "start_time": "2025-03-06T15:07:43.476Z"
   },
   {
    "duration": 12,
    "start_time": "2025-03-06T15:07:43.490Z"
   },
   {
    "duration": 6,
    "start_time": "2025-03-06T15:07:43.504Z"
   },
   {
    "duration": 6,
    "start_time": "2025-03-06T15:07:43.511Z"
   },
   {
    "duration": 27,
    "start_time": "2025-03-06T15:07:44.525Z"
   },
   {
    "duration": 10,
    "start_time": "2025-03-06T15:07:45.025Z"
   },
   {
    "duration": 10,
    "start_time": "2025-03-06T15:07:45.545Z"
   },
   {
    "duration": 36,
    "start_time": "2025-03-06T15:07:45.698Z"
   },
   {
    "duration": 50,
    "start_time": "2025-03-06T15:07:45.982Z"
   },
   {
    "duration": 62,
    "start_time": "2025-03-06T15:07:46.558Z"
   },
   {
    "duration": 390,
    "start_time": "2025-03-06T15:07:46.906Z"
   },
   {
    "duration": 28,
    "start_time": "2025-03-06T15:07:47.313Z"
   },
   {
    "duration": 137,
    "start_time": "2025-03-06T15:07:47.775Z"
   },
   {
    "duration": 184,
    "start_time": "2025-03-06T15:07:47.963Z"
   },
   {
    "duration": 201,
    "start_time": "2025-03-06T15:07:48.150Z"
   },
   {
    "duration": 188,
    "start_time": "2025-03-06T15:07:48.353Z"
   },
   {
    "duration": 171,
    "start_time": "2025-03-06T15:07:48.652Z"
   },
   {
    "duration": 207,
    "start_time": "2025-03-06T15:07:49.052Z"
   },
   {
    "duration": 180,
    "start_time": "2025-03-06T15:07:49.262Z"
   },
   {
    "duration": 189,
    "start_time": "2025-03-06T15:07:49.444Z"
   },
   {
    "duration": 181,
    "start_time": "2025-03-06T15:07:49.636Z"
   },
   {
    "duration": 195,
    "start_time": "2025-03-06T15:07:49.820Z"
   },
   {
    "duration": 98,
    "start_time": "2025-03-06T15:07:50.066Z"
   },
   {
    "duration": 27,
    "start_time": "2025-03-06T15:07:50.421Z"
   },
   {
    "duration": 205,
    "start_time": "2025-03-06T15:07:50.701Z"
   },
   {
    "duration": 5,
    "start_time": "2025-03-06T15:07:50.908Z"
   },
   {
    "duration": 6,
    "start_time": "2025-03-06T15:07:51.044Z"
   },
   {
    "duration": 22,
    "start_time": "2025-03-06T15:07:51.729Z"
   },
   {
    "duration": 199,
    "start_time": "2025-03-06T15:07:51.918Z"
   },
   {
    "duration": 225,
    "start_time": "2025-03-06T15:07:52.391Z"
   },
   {
    "duration": 197,
    "start_time": "2025-03-06T15:07:52.956Z"
   },
   {
    "duration": 193,
    "start_time": "2025-03-06T15:07:53.400Z"
   },
   {
    "duration": 538,
    "start_time": "2025-03-06T15:14:50.809Z"
   },
   {
    "duration": 19,
    "start_time": "2025-03-06T15:14:52.749Z"
   },
   {
    "duration": 34,
    "start_time": "2025-03-06T15:14:53.400Z"
   },
   {
    "duration": 1984,
    "start_time": "2025-03-06T15:14:53.525Z"
   },
   {
    "duration": 12,
    "start_time": "2025-03-06T15:14:55.512Z"
   },
   {
    "duration": 54,
    "start_time": "2025-03-06T15:14:55.525Z"
   },
   {
    "duration": 8,
    "start_time": "2025-03-06T15:14:55.582Z"
   },
   {
    "duration": 13,
    "start_time": "2025-03-06T15:14:56.889Z"
   },
   {
    "duration": 5,
    "start_time": "2025-03-06T15:14:57.210Z"
   },
   {
    "duration": 4,
    "start_time": "2025-03-06T15:14:57.889Z"
   },
   {
    "duration": 7,
    "start_time": "2025-03-06T15:14:58.109Z"
   },
   {
    "duration": 29,
    "start_time": "2025-03-06T15:14:58.280Z"
   },
   {
    "duration": 11,
    "start_time": "2025-03-06T15:14:58.660Z"
   },
   {
    "duration": 9,
    "start_time": "2025-03-06T15:14:59.180Z"
   },
   {
    "duration": 38,
    "start_time": "2025-03-06T15:14:59.389Z"
   },
   {
    "duration": 52,
    "start_time": "2025-03-06T15:14:59.850Z"
   },
   {
    "duration": 66,
    "start_time": "2025-03-06T15:15:00.531Z"
   },
   {
    "duration": 505,
    "start_time": "2025-03-06T15:15:01.029Z"
   },
   {
    "duration": 37,
    "start_time": "2025-03-06T15:15:01.536Z"
   },
   {
    "duration": 127,
    "start_time": "2025-03-06T15:15:01.618Z"
   },
   {
    "duration": 175,
    "start_time": "2025-03-06T15:15:01.821Z"
   },
   {
    "duration": 186,
    "start_time": "2025-03-06T15:15:02.076Z"
   },
   {
    "duration": 166,
    "start_time": "2025-03-06T15:15:02.281Z"
   },
   {
    "duration": 172,
    "start_time": "2025-03-06T15:15:02.489Z"
   },
   {
    "duration": 210,
    "start_time": "2025-03-06T15:15:02.669Z"
   },
   {
    "duration": 161,
    "start_time": "2025-03-06T15:15:02.901Z"
   },
   {
    "duration": 186,
    "start_time": "2025-03-06T15:15:03.120Z"
   },
   {
    "duration": 174,
    "start_time": "2025-03-06T15:15:03.339Z"
   },
   {
    "duration": 190,
    "start_time": "2025-03-06T15:15:03.541Z"
   },
   {
    "duration": 104,
    "start_time": "2025-03-06T15:15:03.780Z"
   },
   {
    "duration": 27,
    "start_time": "2025-03-06T15:15:04.221Z"
   },
   {
    "duration": 212,
    "start_time": "2025-03-06T15:15:04.460Z"
   },
   {
    "duration": 5,
    "start_time": "2025-03-06T15:15:04.674Z"
   },
   {
    "duration": 6,
    "start_time": "2025-03-06T15:15:04.948Z"
   },
   {
    "duration": 23,
    "start_time": "2025-03-06T15:15:05.410Z"
   },
   {
    "duration": 320,
    "start_time": "2025-03-06T15:15:05.640Z"
   },
   {
    "duration": 214,
    "start_time": "2025-03-06T15:15:06.128Z"
   },
   {
    "duration": 204,
    "start_time": "2025-03-06T15:15:06.760Z"
   },
   {
    "duration": 212,
    "start_time": "2025-03-06T15:15:07.170Z"
   },
   {
    "duration": 101824,
    "start_time": "2025-03-06T15:15:07.601Z"
   },
   {
    "duration": 179,
    "start_time": "2025-03-06T15:16:49.427Z"
   },
   {
    "duration": 197,
    "start_time": "2025-03-06T15:16:49.608Z"
   },
   {
    "duration": 177,
    "start_time": "2025-03-06T15:16:49.807Z"
   },
   {
    "duration": 380693,
    "start_time": "2025-03-06T15:19:06.788Z"
   },
   {
    "duration": 13,
    "start_time": "2025-03-06T16:07:07.248Z"
   },
   {
    "duration": 16,
    "start_time": "2025-03-06T16:07:27.988Z"
   },
   {
    "duration": 439,
    "start_time": "2025-03-06T16:08:52.545Z"
   },
   {
    "duration": 14,
    "start_time": "2025-03-06T16:09:09.467Z"
   },
   {
    "duration": 14,
    "start_time": "2025-03-06T16:09:12.639Z"
   },
   {
    "duration": 18,
    "start_time": "2025-03-06T16:09:22.983Z"
   },
   {
    "duration": 1268,
    "start_time": "2025-03-06T16:13:47.892Z"
   },
   {
    "duration": 1278,
    "start_time": "2025-03-06T16:15:39.397Z"
   },
   {
    "duration": 21,
    "start_time": "2025-03-06T16:17:49.304Z"
   },
   {
    "duration": 20,
    "start_time": "2025-03-06T16:17:59.580Z"
   },
   {
    "duration": 20,
    "start_time": "2025-03-06T16:18:41.563Z"
   },
   {
    "duration": 19,
    "start_time": "2025-03-06T16:18:50.537Z"
   },
   {
    "duration": 349,
    "start_time": "2025-03-06T16:23:28.829Z"
   },
   {
    "duration": 14,
    "start_time": "2025-03-06T16:23:56.062Z"
   },
   {
    "duration": 20,
    "start_time": "2025-03-06T16:24:07.321Z"
   },
   {
    "duration": 18,
    "start_time": "2025-03-06T16:24:26.921Z"
   },
   {
    "duration": 347,
    "start_time": "2025-03-06T16:24:40.409Z"
   },
   {
    "duration": 18,
    "start_time": "2025-03-06T16:26:24.708Z"
   },
   {
    "duration": 20,
    "start_time": "2025-03-06T16:26:53.650Z"
   },
   {
    "duration": 18,
    "start_time": "2025-03-06T16:26:59.566Z"
   },
   {
    "duration": 1280,
    "start_time": "2025-03-06T16:27:00.584Z"
   },
   {
    "duration": 19,
    "start_time": "2025-03-06T16:30:40.320Z"
   },
   {
    "duration": 29,
    "start_time": "2025-03-06T16:31:49.857Z"
   },
   {
    "duration": 22,
    "start_time": "2025-03-06T16:32:00.158Z"
   },
   {
    "duration": 21,
    "start_time": "2025-03-06T16:33:40.530Z"
   },
   {
    "duration": 19,
    "start_time": "2025-03-06T16:33:53.858Z"
   },
   {
    "duration": 22,
    "start_time": "2025-03-06T16:33:54.674Z"
   },
   {
    "duration": 411,
    "start_time": "2025-03-06T16:38:18.642Z"
   },
   {
    "duration": 29,
    "start_time": "2025-03-06T16:38:24.885Z"
   },
   {
    "duration": 385,
    "start_time": "2025-03-06T16:39:46.250Z"
   },
   {
    "duration": 29,
    "start_time": "2025-03-06T16:39:47.033Z"
   },
   {
    "duration": 143,
    "start_time": "2025-03-06T16:39:53.206Z"
   },
   {
    "duration": 207,
    "start_time": "2025-03-06T16:39:53.353Z"
   },
   {
    "duration": 213,
    "start_time": "2025-03-06T16:39:53.563Z"
   },
   {
    "duration": 200,
    "start_time": "2025-03-06T16:39:53.779Z"
   },
   {
    "duration": 192,
    "start_time": "2025-03-06T16:39:53.982Z"
   },
   {
    "duration": 190,
    "start_time": "2025-03-06T16:39:54.177Z"
   },
   {
    "duration": 215,
    "start_time": "2025-03-06T16:39:54.373Z"
   },
   {
    "duration": 185,
    "start_time": "2025-03-06T16:39:54.590Z"
   },
   {
    "duration": 180,
    "start_time": "2025-03-06T16:39:54.777Z"
   },
   {
    "duration": 200,
    "start_time": "2025-03-06T16:39:54.959Z"
   },
   {
    "duration": 92,
    "start_time": "2025-03-06T16:39:55.172Z"
   },
   {
    "duration": 29,
    "start_time": "2025-03-06T16:39:55.266Z"
   },
   {
    "duration": 226,
    "start_time": "2025-03-06T16:39:55.297Z"
   },
   {
    "duration": 5,
    "start_time": "2025-03-06T16:39:55.593Z"
   },
   {
    "duration": 7,
    "start_time": "2025-03-06T16:39:55.753Z"
   },
   {
    "duration": 21,
    "start_time": "2025-03-06T16:39:56.065Z"
   },
   {
    "duration": 208,
    "start_time": "2025-03-06T16:39:56.194Z"
   },
   {
    "duration": 210,
    "start_time": "2025-03-06T16:39:56.515Z"
   },
   {
    "duration": 202,
    "start_time": "2025-03-06T16:39:56.829Z"
   },
   {
    "duration": 196,
    "start_time": "2025-03-06T16:39:57.127Z"
   },
   {
    "duration": 108,
    "start_time": "2025-03-06T16:46:25.844Z"
   },
   {
    "duration": 17,
    "start_time": "2025-03-06T16:46:25.983Z"
   },
   {
    "duration": 0,
    "start_time": "2025-03-06T16:46:26.019Z"
   },
   {
    "duration": 0,
    "start_time": "2025-03-06T16:46:26.021Z"
   },
   {
    "duration": 0,
    "start_time": "2025-03-06T16:46:26.023Z"
   },
   {
    "duration": 0,
    "start_time": "2025-03-06T16:46:26.026Z"
   },
   {
    "duration": 0,
    "start_time": "2025-03-06T16:46:26.029Z"
   },
   {
    "duration": 0,
    "start_time": "2025-03-06T16:46:26.073Z"
   },
   {
    "duration": 0,
    "start_time": "2025-03-06T16:46:26.074Z"
   },
   {
    "duration": 0,
    "start_time": "2025-03-06T16:46:26.076Z"
   },
   {
    "duration": 0,
    "start_time": "2025-03-06T16:46:26.078Z"
   },
   {
    "duration": 0,
    "start_time": "2025-03-06T16:46:26.080Z"
   },
   {
    "duration": 0,
    "start_time": "2025-03-06T16:46:26.081Z"
   },
   {
    "duration": 0,
    "start_time": "2025-03-06T16:46:26.083Z"
   },
   {
    "duration": 0,
    "start_time": "2025-03-06T16:46:26.084Z"
   },
   {
    "duration": 0,
    "start_time": "2025-03-06T16:46:26.086Z"
   },
   {
    "duration": 0,
    "start_time": "2025-03-06T16:46:26.087Z"
   },
   {
    "duration": 0,
    "start_time": "2025-03-06T16:46:26.088Z"
   },
   {
    "duration": 0,
    "start_time": "2025-03-06T16:46:26.089Z"
   },
   {
    "duration": 0,
    "start_time": "2025-03-06T16:46:26.090Z"
   },
   {
    "duration": 0,
    "start_time": "2025-03-06T16:46:26.092Z"
   },
   {
    "duration": 0,
    "start_time": "2025-03-06T16:46:26.093Z"
   },
   {
    "duration": 0,
    "start_time": "2025-03-06T16:46:26.094Z"
   },
   {
    "duration": 0,
    "start_time": "2025-03-06T16:46:26.095Z"
   },
   {
    "duration": 0,
    "start_time": "2025-03-06T16:46:26.096Z"
   },
   {
    "duration": 0,
    "start_time": "2025-03-06T16:46:26.097Z"
   },
   {
    "duration": 0,
    "start_time": "2025-03-06T16:46:26.098Z"
   },
   {
    "duration": 0,
    "start_time": "2025-03-06T16:46:26.099Z"
   },
   {
    "duration": 0,
    "start_time": "2025-03-06T16:46:26.100Z"
   },
   {
    "duration": 0,
    "start_time": "2025-03-06T16:46:26.101Z"
   },
   {
    "duration": 0,
    "start_time": "2025-03-06T16:46:26.102Z"
   },
   {
    "duration": 0,
    "start_time": "2025-03-06T16:46:26.103Z"
   },
   {
    "duration": 0,
    "start_time": "2025-03-06T16:46:26.104Z"
   },
   {
    "duration": 0,
    "start_time": "2025-03-06T16:46:26.105Z"
   },
   {
    "duration": 0,
    "start_time": "2025-03-06T16:46:26.107Z"
   },
   {
    "duration": 0,
    "start_time": "2025-03-06T16:46:26.108Z"
   },
   {
    "duration": 0,
    "start_time": "2025-03-06T16:46:26.109Z"
   },
   {
    "duration": 0,
    "start_time": "2025-03-06T16:46:26.111Z"
   },
   {
    "duration": 0,
    "start_time": "2025-03-06T16:46:26.112Z"
   },
   {
    "duration": 0,
    "start_time": "2025-03-06T16:46:26.172Z"
   },
   {
    "duration": 0,
    "start_time": "2025-03-06T16:46:26.173Z"
   },
   {
    "duration": 0,
    "start_time": "2025-03-06T16:46:26.175Z"
   },
   {
    "duration": 0,
    "start_time": "2025-03-06T16:46:26.176Z"
   },
   {
    "duration": 0,
    "start_time": "2025-03-06T16:46:26.177Z"
   },
   {
    "duration": 25,
    "start_time": "2025-03-06T16:46:59.813Z"
   },
   {
    "duration": 14,
    "start_time": "2025-03-06T16:47:02.122Z"
   },
   {
    "duration": 15,
    "start_time": "2025-03-06T16:47:31.248Z"
   },
   {
    "duration": 21,
    "start_time": "2025-03-06T16:47:42.094Z"
   },
   {
    "duration": 29,
    "start_time": "2025-03-06T16:51:04.863Z"
   },
   {
    "duration": 98,
    "start_time": "2025-03-06T16:51:34.625Z"
   },
   {
    "duration": 18,
    "start_time": "2025-03-06T16:51:34.875Z"
   },
   {
    "duration": 31,
    "start_time": "2025-03-06T16:51:35.053Z"
   },
   {
    "duration": 1759,
    "start_time": "2025-03-06T16:51:35.213Z"
   },
   {
    "duration": 12,
    "start_time": "2025-03-06T16:51:36.975Z"
   },
   {
    "duration": 50,
    "start_time": "2025-03-06T16:51:36.989Z"
   },
   {
    "duration": 8,
    "start_time": "2025-03-06T16:51:37.041Z"
   },
   {
    "duration": 13,
    "start_time": "2025-03-06T16:51:41.600Z"
   },
   {
    "duration": 6,
    "start_time": "2025-03-06T16:51:42.555Z"
   },
   {
    "duration": 4,
    "start_time": "2025-03-06T16:51:43.342Z"
   },
   {
    "duration": 7,
    "start_time": "2025-03-06T16:51:43.930Z"
   },
   {
    "duration": 28,
    "start_time": "2025-03-06T16:51:44.559Z"
   },
   {
    "duration": 11,
    "start_time": "2025-03-06T16:51:45.382Z"
   },
   {
    "duration": 10,
    "start_time": "2025-03-06T16:51:49.429Z"
   },
   {
    "duration": 39,
    "start_time": "2025-03-06T16:51:53.242Z"
   },
   {
    "duration": 49,
    "start_time": "2025-03-06T16:51:54.461Z"
   },
   {
    "duration": 68,
    "start_time": "2025-03-06T16:51:55.888Z"
   },
   {
    "duration": 410,
    "start_time": "2025-03-06T16:51:58.530Z"
   },
   {
    "duration": 28,
    "start_time": "2025-03-06T16:51:59.576Z"
   },
   {
    "duration": 138,
    "start_time": "2025-03-06T16:52:03.105Z"
   },
   {
    "duration": 192,
    "start_time": "2025-03-06T16:52:03.284Z"
   },
   {
    "duration": 188,
    "start_time": "2025-03-06T16:52:06.311Z"
   },
   {
    "duration": 194,
    "start_time": "2025-03-06T16:52:06.502Z"
   },
   {
    "duration": 184,
    "start_time": "2025-03-06T16:52:06.698Z"
   },
   {
    "duration": 194,
    "start_time": "2025-03-06T16:52:07.046Z"
   },
   {
    "duration": 177,
    "start_time": "2025-03-06T16:52:07.241Z"
   },
   {
    "duration": 184,
    "start_time": "2025-03-06T16:52:07.638Z"
   },
   {
    "duration": 165,
    "start_time": "2025-03-06T16:52:07.849Z"
   },
   {
    "duration": 185,
    "start_time": "2025-03-06T16:52:08.119Z"
   },
   {
    "duration": 96,
    "start_time": "2025-03-06T16:52:08.361Z"
   },
   {
    "duration": 25,
    "start_time": "2025-03-06T16:52:09.066Z"
   },
   {
    "duration": 188,
    "start_time": "2025-03-06T16:52:09.548Z"
   },
   {
    "duration": 5,
    "start_time": "2025-03-06T16:52:12.912Z"
   },
   {
    "duration": 6,
    "start_time": "2025-03-06T16:52:13.504Z"
   },
   {
    "duration": 23,
    "start_time": "2025-03-06T16:52:14.741Z"
   },
   {
    "duration": 212,
    "start_time": "2025-03-06T16:52:18.268Z"
   },
   {
    "duration": 212,
    "start_time": "2025-03-06T16:52:19.675Z"
   },
   {
    "duration": 219,
    "start_time": "2025-03-06T16:52:21.216Z"
   },
   {
    "duration": 226,
    "start_time": "2025-03-06T16:52:22.546Z"
   },
   {
    "duration": 161,
    "start_time": "2025-03-06T16:52:24.198Z"
   },
   {
    "duration": 199,
    "start_time": "2025-03-06T16:52:25.560Z"
   },
   {
    "duration": 159,
    "start_time": "2025-03-06T16:52:26.809Z"
   },
   {
    "duration": 21,
    "start_time": "2025-03-06T16:52:28.273Z"
   },
   {
    "duration": 29,
    "start_time": "2025-03-06T16:52:29.470Z"
   },
   {
    "duration": 26,
    "start_time": "2025-03-06T16:52:33.726Z"
   },
   {
    "duration": 28,
    "start_time": "2025-03-06T16:52:44.094Z"
   },
   {
    "duration": 9,
    "start_time": "2025-03-06T17:15:24.310Z"
   },
   {
    "duration": 16,
    "start_time": "2025-03-06T17:16:18.198Z"
   },
   {
    "duration": 15,
    "start_time": "2025-03-06T17:21:44.382Z"
   },
   {
    "duration": 44,
    "start_time": "2025-03-06T17:21:51.248Z"
   },
   {
    "duration": 47,
    "start_time": "2025-03-06T17:22:03.963Z"
   },
   {
    "duration": 16,
    "start_time": "2025-03-06T17:22:45.222Z"
   },
   {
    "duration": 189,
    "start_time": "2025-03-06T17:24:25.635Z"
   },
   {
    "duration": 162,
    "start_time": "2025-03-06T17:25:57.636Z"
   },
   {
    "duration": 184,
    "start_time": "2025-03-06T17:34:03.061Z"
   },
   {
    "duration": 943,
    "start_time": "2025-03-06T19:29:02.471Z"
   },
   {
    "duration": 18,
    "start_time": "2025-03-06T19:29:03.473Z"
   },
   {
    "duration": 100,
    "start_time": "2025-03-06T19:29:03.494Z"
   },
   {
    "duration": 4187,
    "start_time": "2025-03-06T19:29:03.596Z"
   },
   {
    "duration": 11,
    "start_time": "2025-03-06T19:29:07.786Z"
   },
   {
    "duration": 73,
    "start_time": "2025-03-06T19:29:07.800Z"
   },
   {
    "duration": 10,
    "start_time": "2025-03-06T19:29:07.875Z"
   },
   {
    "duration": 13,
    "start_time": "2025-03-06T19:29:07.887Z"
   },
   {
    "duration": 70,
    "start_time": "2025-03-06T19:29:07.902Z"
   },
   {
    "duration": 55,
    "start_time": "2025-03-06T19:29:07.974Z"
   },
   {
    "duration": 43,
    "start_time": "2025-03-06T19:29:08.031Z"
   },
   {
    "duration": 28,
    "start_time": "2025-03-06T19:29:08.076Z"
   },
   {
    "duration": 67,
    "start_time": "2025-03-06T19:29:08.106Z"
   },
   {
    "duration": 10,
    "start_time": "2025-03-06T19:29:08.176Z"
   },
   {
    "duration": 119,
    "start_time": "2025-03-06T19:29:08.188Z"
   },
   {
    "duration": 110,
    "start_time": "2025-03-06T19:29:08.309Z"
   },
   {
    "duration": 170,
    "start_time": "2025-03-06T19:29:08.421Z"
   },
   {
    "duration": 1019,
    "start_time": "2025-03-06T19:29:08.593Z"
   },
   {
    "duration": 160,
    "start_time": "2025-03-06T19:29:09.614Z"
   },
   {
    "duration": 498,
    "start_time": "2025-03-06T19:29:09.776Z"
   },
   {
    "duration": 401,
    "start_time": "2025-03-06T19:29:10.276Z"
   },
   {
    "duration": 415,
    "start_time": "2025-03-06T19:29:10.679Z"
   },
   {
    "duration": 328,
    "start_time": "2025-03-06T19:29:11.096Z"
   },
   {
    "duration": 214,
    "start_time": "2025-03-06T19:29:11.425Z"
   },
   {
    "duration": 202,
    "start_time": "2025-03-06T19:29:11.640Z"
   },
   {
    "duration": 164,
    "start_time": "2025-03-06T19:29:11.844Z"
   },
   {
    "duration": 181,
    "start_time": "2025-03-06T19:29:12.009Z"
   },
   {
    "duration": 182,
    "start_time": "2025-03-06T19:29:12.192Z"
   },
   {
    "duration": 186,
    "start_time": "2025-03-06T19:29:12.376Z"
   },
   {
    "duration": 102,
    "start_time": "2025-03-06T19:29:12.563Z"
   },
   {
    "duration": 25,
    "start_time": "2025-03-06T19:29:12.673Z"
   },
   {
    "duration": 227,
    "start_time": "2025-03-06T19:29:12.700Z"
   },
   {
    "duration": 4,
    "start_time": "2025-03-06T19:29:12.929Z"
   },
   {
    "duration": 10,
    "start_time": "2025-03-06T19:29:12.935Z"
   },
   {
    "duration": 40,
    "start_time": "2025-03-06T19:29:12.946Z"
   },
   {
    "duration": 277,
    "start_time": "2025-03-06T19:29:12.988Z"
   },
   {
    "duration": 208,
    "start_time": "2025-03-06T19:29:13.266Z"
   },
   {
    "duration": 214,
    "start_time": "2025-03-06T19:29:13.476Z"
   },
   {
    "duration": 206,
    "start_time": "2025-03-06T19:29:13.692Z"
   },
   {
    "duration": 204,
    "start_time": "2025-03-06T19:29:13.900Z"
   },
   {
    "duration": 169,
    "start_time": "2025-03-06T19:29:14.108Z"
   },
   {
    "duration": 199,
    "start_time": "2025-03-06T19:29:14.279Z"
   },
   {
    "duration": 164,
    "start_time": "2025-03-06T19:29:14.480Z"
   },
   {
    "duration": 43,
    "start_time": "2025-03-06T19:29:14.646Z"
   },
   {
    "duration": 13,
    "start_time": "2025-03-06T19:29:14.691Z"
   },
   {
    "duration": 171,
    "start_time": "2025-03-06T19:29:14.706Z"
   },
   {
    "duration": 8,
    "start_time": "2025-03-06T19:39:42.477Z"
   },
   {
    "duration": 96,
    "start_time": "2025-03-06T19:40:33.116Z"
   },
   {
    "duration": 55,
    "start_time": "2025-03-07T11:21:28.080Z"
   },
   {
    "duration": 447,
    "start_time": "2025-03-07T11:21:34.064Z"
   },
   {
    "duration": 15,
    "start_time": "2025-03-07T11:21:35.389Z"
   },
   {
    "duration": 29,
    "start_time": "2025-03-07T11:21:38.623Z"
   },
   {
    "duration": 8,
    "start_time": "2025-03-07T11:21:55.338Z"
   },
   {
    "duration": 8,
    "start_time": "2025-03-07T11:21:58.335Z"
   },
   {
    "duration": 10,
    "start_time": "2025-03-07T11:22:13.620Z"
   },
   {
    "duration": 7,
    "start_time": "2025-03-07T11:22:48.214Z"
   },
   {
    "duration": 2412,
    "start_time": "2025-03-07T11:23:38.694Z"
   },
   {
    "duration": 37,
    "start_time": "2025-03-07T11:24:55.924Z"
   },
   {
    "duration": 15,
    "start_time": "2025-03-07T11:52:00.904Z"
   },
   {
    "duration": 11,
    "start_time": "2025-03-07T11:53:29.278Z"
   },
   {
    "duration": 4,
    "start_time": "2025-03-07T11:53:30.938Z"
   },
   {
    "duration": 6,
    "start_time": "2025-03-07T11:53:34.216Z"
   },
   {
    "duration": 2,
    "start_time": "2025-03-07T11:53:34.686Z"
   },
   {
    "duration": 8,
    "start_time": "2025-03-07T11:53:36.468Z"
   },
   {
    "duration": 8,
    "start_time": "2025-03-07T11:53:56.071Z"
   },
   {
    "duration": 33,
    "start_time": "2025-03-07T11:53:56.847Z"
   },
   {
    "duration": 44,
    "start_time": "2025-03-07T11:53:57.676Z"
   },
   {
    "duration": 55,
    "start_time": "2025-03-07T11:53:57.963Z"
   },
   {
    "duration": 438,
    "start_time": "2025-03-07T11:53:59.054Z"
   },
   {
    "duration": 51,
    "start_time": "2025-03-07T11:53:59.493Z"
   },
   {
    "duration": 125,
    "start_time": "2025-03-07T11:54:00.871Z"
   },
   {
    "duration": 155,
    "start_time": "2025-03-07T11:54:03.614Z"
   },
   {
    "duration": 114,
    "start_time": "2025-03-07T11:54:15.190Z"
   },
   {
    "duration": 152,
    "start_time": "2025-03-07T11:54:24.514Z"
   },
   {
    "duration": 144,
    "start_time": "2025-03-07T11:54:43.355Z"
   },
   {
    "duration": 173,
    "start_time": "2025-03-07T11:55:18.776Z"
   },
   {
    "duration": 502,
    "start_time": "2025-03-07T15:45:18.781Z"
   },
   {
    "duration": 15,
    "start_time": "2025-03-07T15:45:19.285Z"
   },
   {
    "duration": 37,
    "start_time": "2025-03-07T15:45:19.301Z"
   },
   {
    "duration": 2176,
    "start_time": "2025-03-07T15:45:19.339Z"
   },
   {
    "duration": 9,
    "start_time": "2025-03-07T15:45:21.517Z"
   },
   {
    "duration": 10,
    "start_time": "2025-03-07T15:45:21.528Z"
   },
   {
    "duration": 7,
    "start_time": "2025-03-07T15:45:21.539Z"
   },
   {
    "duration": 19,
    "start_time": "2025-03-07T15:45:21.547Z"
   },
   {
    "duration": 9,
    "start_time": "2025-03-07T15:45:21.568Z"
   },
   {
    "duration": 10,
    "start_time": "2025-03-07T15:45:21.580Z"
   },
   {
    "duration": 25,
    "start_time": "2025-03-07T15:45:21.592Z"
   },
   {
    "duration": 145,
    "start_time": "2025-03-07T15:45:21.619Z"
   },
   {
    "duration": 12,
    "start_time": "2025-03-07T15:45:21.766Z"
   },
   {
    "duration": 9,
    "start_time": "2025-03-07T15:45:21.779Z"
   },
   {
    "duration": 30,
    "start_time": "2025-03-07T15:45:21.789Z"
   },
   {
    "duration": 42,
    "start_time": "2025-03-07T15:45:21.820Z"
   },
   {
    "duration": 70,
    "start_time": "2025-03-07T15:45:21.863Z"
   },
   {
    "duration": 449,
    "start_time": "2025-03-07T15:45:21.935Z"
   },
   {
    "duration": 34,
    "start_time": "2025-03-07T15:45:22.386Z"
   },
   {
    "duration": 146,
    "start_time": "2025-03-07T15:45:22.422Z"
   },
   {
    "duration": 173,
    "start_time": "2025-03-07T15:45:22.570Z"
   },
   {
    "duration": 175,
    "start_time": "2025-03-07T15:45:22.745Z"
   },
   {
    "duration": 171,
    "start_time": "2025-03-07T15:45:22.921Z"
   },
   {
    "duration": 190,
    "start_time": "2025-03-07T15:45:23.095Z"
   },
   {
    "duration": 188,
    "start_time": "2025-03-07T15:45:23.286Z"
   },
   {
    "duration": 159,
    "start_time": "2025-03-07T15:45:23.475Z"
   },
   {
    "duration": 183,
    "start_time": "2025-03-07T15:45:23.635Z"
   },
   {
    "duration": 174,
    "start_time": "2025-03-07T15:45:23.821Z"
   },
   {
    "duration": 178,
    "start_time": "2025-03-07T15:45:23.997Z"
   },
   {
    "duration": 194,
    "start_time": "2025-03-07T15:45:24.177Z"
   },
   {
    "duration": 21,
    "start_time": "2025-03-07T15:45:24.372Z"
   },
   {
    "duration": 197,
    "start_time": "2025-03-07T15:45:24.395Z"
   },
   {
    "duration": 5,
    "start_time": "2025-03-07T15:45:24.594Z"
   },
   {
    "duration": 55,
    "start_time": "2025-03-07T15:45:24.600Z"
   },
   {
    "duration": 39,
    "start_time": "2025-03-07T15:45:24.657Z"
   },
   {
    "duration": 228,
    "start_time": "2025-03-07T15:45:24.698Z"
   },
   {
    "duration": 195,
    "start_time": "2025-03-07T15:45:24.928Z"
   },
   {
    "duration": 200,
    "start_time": "2025-03-07T15:45:25.124Z"
   },
   {
    "duration": 186,
    "start_time": "2025-03-07T15:45:25.325Z"
   },
   {
    "duration": 195,
    "start_time": "2025-03-07T15:45:25.513Z"
   },
   {
    "duration": 153,
    "start_time": "2025-03-07T15:45:25.713Z"
   },
   {
    "duration": 187,
    "start_time": "2025-03-07T15:45:25.868Z"
   },
   {
    "duration": 144,
    "start_time": "2025-03-07T15:45:26.057Z"
   },
   {
    "duration": 33,
    "start_time": "2025-03-07T15:45:26.202Z"
   },
   {
    "duration": 10,
    "start_time": "2025-03-07T15:45:26.237Z"
   },
   {
    "duration": 148,
    "start_time": "2025-03-07T15:45:26.248Z"
   }
  ],
  "colab": {
   "provenance": []
  },
  "kernelspec": {
   "display_name": "Python 3 (ipykernel)",
   "language": "python",
   "name": "python3"
  },
  "language_info": {
   "codemirror_mode": {
    "name": "ipython",
    "version": 3
   },
   "file_extension": ".py",
   "mimetype": "text/x-python",
   "name": "python",
   "nbconvert_exporter": "python",
   "pygments_lexer": "ipython3",
   "version": "3.9.5"
  },
  "toc": {
   "base_numbering": 1,
   "nav_menu": {},
   "number_sections": true,
   "sideBar": true,
   "skip_h1_title": true,
   "title_cell": "Table of Contents",
   "title_sidebar": "Contents",
   "toc_cell": false,
   "toc_position": {},
   "toc_section_display": true,
   "toc_window_display": false
  }
 },
 "nbformat": 4,
 "nbformat_minor": 1
}
