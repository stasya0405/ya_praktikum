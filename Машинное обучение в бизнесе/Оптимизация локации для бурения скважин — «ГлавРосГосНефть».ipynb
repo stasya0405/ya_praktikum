{
 "cells": [
  {
   "cell_type": "markdown",
   "metadata": {},
   "source": [
    "# Выбор локации для скважины"
   ]
  },
  {
   "cell_type": "markdown",
   "metadata": {},
   "source": [
    "Допустим, вы работаете в добывающей компании «ГлавРосГосНефть». Нужно решить, где бурить новую скважину.\n",
    "\n",
    "Вам предоставлены пробы нефти в трёх регионах: в каждом 100 000 месторождений, где измерили качество нефти и объём её запасов. Постройте модель машинного обучения, которая поможет определить регион, где добыча принесёт наибольшую прибыль. Проанализируйте возможную прибыль и риски техникой *Bootstrap.*\n",
    "\n",
    "Шаги для выбора локации:\n",
    "\n",
    "- В избранном регионе ищут месторождения, для каждого определяют значения признаков;\n",
    "- Строят модель и оценивают объём запасов;\n",
    "- Выбирают месторождения с самым высокими оценками значений. Количество месторождений зависит от бюджета компании и стоимости разработки одной скважины;\n",
    "- Прибыль равна суммарной прибыли отобранных месторождений."
   ]
  },
  {
   "cell_type": "markdown",
   "metadata": {},
   "source": [
    "## Загрузка и подготовка данных"
   ]
  },
  {
   "cell_type": "code",
   "execution_count": 1,
   "metadata": {},
   "outputs": [],
   "source": [
    "import pandas as pd\n",
    "import numpy as np\n",
    "from sklearn.pipeline import make_pipeline, Pipeline\n",
    "from sklearn.preprocessing import StandardScaler\n",
    "from sklearn.compose import ColumnTransformer\n",
    "from sklearn.model_selection import GridSearchCV, train_test_split\n",
    "from sklearn.linear_model import LinearRegression\n",
    "from sklearn.metrics import mean_squared_error"
   ]
  },
  {
   "cell_type": "code",
   "execution_count": 2,
   "metadata": {},
   "outputs": [],
   "source": [
    "RANDOM_STATE = 42"
   ]
  },
  {
   "cell_type": "code",
   "execution_count": 3,
   "metadata": {},
   "outputs": [],
   "source": [
    "data_0 = pd.read_csv('/datasets/geo_data_0.csv')\n",
    "data_1 = pd.read_csv('/datasets/geo_data_1.csv')\n",
    "data_2 = pd.read_csv('/datasets/geo_data_2.csv')"
   ]
  },
  {
   "cell_type": "code",
   "execution_count": 4,
   "metadata": {},
   "outputs": [
    {
     "data": {
      "text/html": [
       "<div>\n",
       "<style scoped>\n",
       "    .dataframe tbody tr th:only-of-type {\n",
       "        vertical-align: middle;\n",
       "    }\n",
       "\n",
       "    .dataframe tbody tr th {\n",
       "        vertical-align: top;\n",
       "    }\n",
       "\n",
       "    .dataframe thead th {\n",
       "        text-align: right;\n",
       "    }\n",
       "</style>\n",
       "<table border=\"1\" class=\"dataframe\">\n",
       "  <thead>\n",
       "    <tr style=\"text-align: right;\">\n",
       "      <th></th>\n",
       "      <th>id</th>\n",
       "      <th>f0</th>\n",
       "      <th>f1</th>\n",
       "      <th>f2</th>\n",
       "      <th>product</th>\n",
       "    </tr>\n",
       "  </thead>\n",
       "  <tbody>\n",
       "    <tr>\n",
       "      <th>0</th>\n",
       "      <td>txEyH</td>\n",
       "      <td>0.705745</td>\n",
       "      <td>-0.497823</td>\n",
       "      <td>1.221170</td>\n",
       "      <td>105.280062</td>\n",
       "    </tr>\n",
       "    <tr>\n",
       "      <th>1</th>\n",
       "      <td>2acmU</td>\n",
       "      <td>1.334711</td>\n",
       "      <td>-0.340164</td>\n",
       "      <td>4.365080</td>\n",
       "      <td>73.037750</td>\n",
       "    </tr>\n",
       "    <tr>\n",
       "      <th>2</th>\n",
       "      <td>409Wp</td>\n",
       "      <td>1.022732</td>\n",
       "      <td>0.151990</td>\n",
       "      <td>1.419926</td>\n",
       "      <td>85.265647</td>\n",
       "    </tr>\n",
       "    <tr>\n",
       "      <th>3</th>\n",
       "      <td>iJLyR</td>\n",
       "      <td>-0.032172</td>\n",
       "      <td>0.139033</td>\n",
       "      <td>2.978566</td>\n",
       "      <td>168.620776</td>\n",
       "    </tr>\n",
       "    <tr>\n",
       "      <th>4</th>\n",
       "      <td>Xdl7t</td>\n",
       "      <td>1.988431</td>\n",
       "      <td>0.155413</td>\n",
       "      <td>4.751769</td>\n",
       "      <td>154.036647</td>\n",
       "    </tr>\n",
       "  </tbody>\n",
       "</table>\n",
       "</div>"
      ],
      "text/plain": [
       "      id        f0        f1        f2     product\n",
       "0  txEyH  0.705745 -0.497823  1.221170  105.280062\n",
       "1  2acmU  1.334711 -0.340164  4.365080   73.037750\n",
       "2  409Wp  1.022732  0.151990  1.419926   85.265647\n",
       "3  iJLyR -0.032172  0.139033  2.978566  168.620776\n",
       "4  Xdl7t  1.988431  0.155413  4.751769  154.036647"
      ]
     },
     "execution_count": 4,
     "metadata": {},
     "output_type": "execute_result"
    }
   ],
   "source": [
    "data_0.head()"
   ]
  },
  {
   "cell_type": "code",
   "execution_count": 5,
   "metadata": {},
   "outputs": [
    {
     "data": {
      "text/html": [
       "<div>\n",
       "<style scoped>\n",
       "    .dataframe tbody tr th:only-of-type {\n",
       "        vertical-align: middle;\n",
       "    }\n",
       "\n",
       "    .dataframe tbody tr th {\n",
       "        vertical-align: top;\n",
       "    }\n",
       "\n",
       "    .dataframe thead th {\n",
       "        text-align: right;\n",
       "    }\n",
       "</style>\n",
       "<table border=\"1\" class=\"dataframe\">\n",
       "  <thead>\n",
       "    <tr style=\"text-align: right;\">\n",
       "      <th></th>\n",
       "      <th>id</th>\n",
       "      <th>f0</th>\n",
       "      <th>f1</th>\n",
       "      <th>f2</th>\n",
       "      <th>product</th>\n",
       "    </tr>\n",
       "  </thead>\n",
       "  <tbody>\n",
       "    <tr>\n",
       "      <th>0</th>\n",
       "      <td>kBEdx</td>\n",
       "      <td>-15.001348</td>\n",
       "      <td>-8.276000</td>\n",
       "      <td>-0.005876</td>\n",
       "      <td>3.179103</td>\n",
       "    </tr>\n",
       "    <tr>\n",
       "      <th>1</th>\n",
       "      <td>62mP7</td>\n",
       "      <td>14.272088</td>\n",
       "      <td>-3.475083</td>\n",
       "      <td>0.999183</td>\n",
       "      <td>26.953261</td>\n",
       "    </tr>\n",
       "    <tr>\n",
       "      <th>2</th>\n",
       "      <td>vyE1P</td>\n",
       "      <td>6.263187</td>\n",
       "      <td>-5.948386</td>\n",
       "      <td>5.001160</td>\n",
       "      <td>134.766305</td>\n",
       "    </tr>\n",
       "    <tr>\n",
       "      <th>3</th>\n",
       "      <td>KcrkZ</td>\n",
       "      <td>-13.081196</td>\n",
       "      <td>-11.506057</td>\n",
       "      <td>4.999415</td>\n",
       "      <td>137.945408</td>\n",
       "    </tr>\n",
       "    <tr>\n",
       "      <th>4</th>\n",
       "      <td>AHL4O</td>\n",
       "      <td>12.702195</td>\n",
       "      <td>-8.147433</td>\n",
       "      <td>5.004363</td>\n",
       "      <td>134.766305</td>\n",
       "    </tr>\n",
       "  </tbody>\n",
       "</table>\n",
       "</div>"
      ],
      "text/plain": [
       "      id         f0         f1        f2     product\n",
       "0  kBEdx -15.001348  -8.276000 -0.005876    3.179103\n",
       "1  62mP7  14.272088  -3.475083  0.999183   26.953261\n",
       "2  vyE1P   6.263187  -5.948386  5.001160  134.766305\n",
       "3  KcrkZ -13.081196 -11.506057  4.999415  137.945408\n",
       "4  AHL4O  12.702195  -8.147433  5.004363  134.766305"
      ]
     },
     "execution_count": 5,
     "metadata": {},
     "output_type": "execute_result"
    }
   ],
   "source": [
    "data_1.head()"
   ]
  },
  {
   "cell_type": "code",
   "execution_count": 6,
   "metadata": {},
   "outputs": [
    {
     "data": {
      "text/html": [
       "<div>\n",
       "<style scoped>\n",
       "    .dataframe tbody tr th:only-of-type {\n",
       "        vertical-align: middle;\n",
       "    }\n",
       "\n",
       "    .dataframe tbody tr th {\n",
       "        vertical-align: top;\n",
       "    }\n",
       "\n",
       "    .dataframe thead th {\n",
       "        text-align: right;\n",
       "    }\n",
       "</style>\n",
       "<table border=\"1\" class=\"dataframe\">\n",
       "  <thead>\n",
       "    <tr style=\"text-align: right;\">\n",
       "      <th></th>\n",
       "      <th>id</th>\n",
       "      <th>f0</th>\n",
       "      <th>f1</th>\n",
       "      <th>f2</th>\n",
       "      <th>product</th>\n",
       "    </tr>\n",
       "  </thead>\n",
       "  <tbody>\n",
       "    <tr>\n",
       "      <th>0</th>\n",
       "      <td>fwXo0</td>\n",
       "      <td>-1.146987</td>\n",
       "      <td>0.963328</td>\n",
       "      <td>-0.828965</td>\n",
       "      <td>27.758673</td>\n",
       "    </tr>\n",
       "    <tr>\n",
       "      <th>1</th>\n",
       "      <td>WJtFt</td>\n",
       "      <td>0.262778</td>\n",
       "      <td>0.269839</td>\n",
       "      <td>-2.530187</td>\n",
       "      <td>56.069697</td>\n",
       "    </tr>\n",
       "    <tr>\n",
       "      <th>2</th>\n",
       "      <td>ovLUW</td>\n",
       "      <td>0.194587</td>\n",
       "      <td>0.289035</td>\n",
       "      <td>-5.586433</td>\n",
       "      <td>62.871910</td>\n",
       "    </tr>\n",
       "    <tr>\n",
       "      <th>3</th>\n",
       "      <td>q6cA6</td>\n",
       "      <td>2.236060</td>\n",
       "      <td>-0.553760</td>\n",
       "      <td>0.930038</td>\n",
       "      <td>114.572842</td>\n",
       "    </tr>\n",
       "    <tr>\n",
       "      <th>4</th>\n",
       "      <td>WPMUX</td>\n",
       "      <td>-0.515993</td>\n",
       "      <td>1.716266</td>\n",
       "      <td>5.899011</td>\n",
       "      <td>149.600746</td>\n",
       "    </tr>\n",
       "  </tbody>\n",
       "</table>\n",
       "</div>"
      ],
      "text/plain": [
       "      id        f0        f1        f2     product\n",
       "0  fwXo0 -1.146987  0.963328 -0.828965   27.758673\n",
       "1  WJtFt  0.262778  0.269839 -2.530187   56.069697\n",
       "2  ovLUW  0.194587  0.289035 -5.586433   62.871910\n",
       "3  q6cA6  2.236060 -0.553760  0.930038  114.572842\n",
       "4  WPMUX -0.515993  1.716266  5.899011  149.600746"
      ]
     },
     "execution_count": 6,
     "metadata": {},
     "output_type": "execute_result"
    }
   ],
   "source": [
    "data_2.head()"
   ]
  },
  {
   "cell_type": "code",
   "execution_count": 7,
   "metadata": {},
   "outputs": [
    {
     "name": "stdout",
     "output_type": "stream",
     "text": [
      "<class 'pandas.core.frame.DataFrame'>\n",
      "RangeIndex: 100000 entries, 0 to 99999\n",
      "Data columns (total 5 columns):\n",
      " #   Column   Non-Null Count   Dtype  \n",
      "---  ------   --------------   -----  \n",
      " 0   id       100000 non-null  object \n",
      " 1   f0       100000 non-null  float64\n",
      " 2   f1       100000 non-null  float64\n",
      " 3   f2       100000 non-null  float64\n",
      " 4   product  100000 non-null  float64\n",
      "dtypes: float64(4), object(1)\n",
      "memory usage: 3.8+ MB\n"
     ]
    }
   ],
   "source": [
    "data_0.info()"
   ]
  },
  {
   "cell_type": "code",
   "execution_count": 8,
   "metadata": {},
   "outputs": [
    {
     "name": "stdout",
     "output_type": "stream",
     "text": [
      "<class 'pandas.core.frame.DataFrame'>\n",
      "RangeIndex: 100000 entries, 0 to 99999\n",
      "Data columns (total 5 columns):\n",
      " #   Column   Non-Null Count   Dtype  \n",
      "---  ------   --------------   -----  \n",
      " 0   id       100000 non-null  object \n",
      " 1   f0       100000 non-null  float64\n",
      " 2   f1       100000 non-null  float64\n",
      " 3   f2       100000 non-null  float64\n",
      " 4   product  100000 non-null  float64\n",
      "dtypes: float64(4), object(1)\n",
      "memory usage: 3.8+ MB\n"
     ]
    }
   ],
   "source": [
    "data_1.info()"
   ]
  },
  {
   "cell_type": "code",
   "execution_count": 9,
   "metadata": {},
   "outputs": [
    {
     "name": "stdout",
     "output_type": "stream",
     "text": [
      "<class 'pandas.core.frame.DataFrame'>\n",
      "RangeIndex: 100000 entries, 0 to 99999\n",
      "Data columns (total 5 columns):\n",
      " #   Column   Non-Null Count   Dtype  \n",
      "---  ------   --------------   -----  \n",
      " 0   id       100000 non-null  object \n",
      " 1   f0       100000 non-null  float64\n",
      " 2   f1       100000 non-null  float64\n",
      " 3   f2       100000 non-null  float64\n",
      " 4   product  100000 non-null  float64\n",
      "dtypes: float64(4), object(1)\n",
      "memory usage: 3.8+ MB\n"
     ]
    }
   ],
   "source": [
    "data_2.info()"
   ]
  },
  {
   "cell_type": "markdown",
   "metadata": {},
   "source": [
    "Данные выгружены, пропусков не обнаружено, дубликаты удалять не надо, так как значения числовые и могут в реальности повторяться. Перейдем к обучению модели. "
   ]
  },
  {
   "cell_type": "markdown",
   "metadata": {},
   "source": [
    "## Обучение и проверка модели"
   ]
  },
  {
   "cell_type": "markdown",
   "metadata": {},
   "source": [
    "Для начала напищем функцию для разделения датафреймов. "
   ]
  },
  {
   "cell_type": "code",
   "execution_count": 10,
   "metadata": {},
   "outputs": [],
   "source": [
    "def data_preprocessing(geo_data):\n",
    "    \n",
    "    X = geo_data.drop(['id', 'product'], axis=1)\n",
    "    y = geo_data['product']\n",
    "\n",
    "\n",
    "    X_train,  X_test, y_train, y_test = train_test_split(\n",
    "        X, \n",
    "        y, \n",
    "        test_size=0.25, \n",
    "        random_state=RANDOM_STATE\n",
    "    )\n",
    "    \n",
    "    return X_train,  X_test, y_train, y_test"
   ]
  },
  {
   "cell_type": "code",
   "execution_count": 11,
   "metadata": {},
   "outputs": [],
   "source": [
    "def model_params(\n",
    "    X_train, \n",
    "    X_test, \n",
    "    y_train, \n",
    "    y_test, \n",
    "    model_params\n",
    "):\n",
    "    \n",
    "    num_columns = X_train.columns.tolist()\n",
    "    \n",
    "    data_preprocessor = ColumnTransformer(\n",
    "        [\n",
    "            ('num', StandardScaler(), num_columns)\n",
    "        ]\n",
    "    )\n",
    "    \n",
    "    pipe_final = Pipeline([\n",
    "        ('preprocessor', data_preprocessor),\n",
    "        ('regressor', model_params[0]['regressor'][0])\n",
    "    ])\n",
    "    \n",
    "    \n",
    "    grid_search = GridSearchCV(\n",
    "        pipe_final,\n",
    "        model_params,\n",
    "        n_jobs=-1,  \n",
    "        cv=5, \n",
    "        scoring='neg_root_mean_squared_error',  \n",
    "    )\n",
    "    grid_search.fit(X_train, y_train)\n",
    "    \n",
    "    return grid_search"
   ]
  },
  {
   "cell_type": "markdown",
   "metadata": {},
   "source": [
    "<b>модель для 1 региона</b>"
   ]
  },
  {
   "cell_type": "code",
   "execution_count": 12,
   "metadata": {},
   "outputs": [
    {
     "name": "stdout",
     "output_type": "stream",
     "text": [
      "RMSE     : 37.67200536313506\n",
      "Параметры:\n",
      " Pipeline(steps=[('preprocessor',\n",
      "                 ColumnTransformer(transformers=[('num', StandardScaler(),\n",
      "                                                  ['f0', 'f1', 'f2'])])),\n",
      "                ('regressor', LinearRegression())])\n"
     ]
    }
   ],
   "source": [
    "X_0_train,  X_0_test, y_0_train, y_0_test = data_preprocessing(data_0)\n",
    "\n",
    "grid_0 = model_params(\n",
    "    X_0_train, \n",
    "    X_0_test, \n",
    "    y_0_train, \n",
    "    y_0_test, \n",
    "    [{\n",
    "        'regressor': [LinearRegression()],\n",
    "    }]\n",
    ")\n",
    "\n",
    "print('RMSE     :', grid_0.best_score_*(-1))\n",
    "print('Параметры:\\n', grid_0.best_estimator_)"
   ]
  },
  {
   "cell_type": "code",
   "execution_count": 13,
   "metadata": {},
   "outputs": [
    {
     "name": "stdout",
     "output_type": "stream",
     "text": [
      "запас сырья: 92.39879990657768\n",
      "RMSE: 37.75660035026169\n"
     ]
    }
   ],
   "source": [
    "predict_0 = grid_0.predict(X_0_test)\n",
    "print('запас сырья:', predict_0.mean())\n",
    "print('RMSE:', mean_squared_error(y_0_test, predict_0, squared=False))"
   ]
  },
  {
   "cell_type": "markdown",
   "metadata": {},
   "source": [
    "<b>модель для 2 региона</b>"
   ]
  },
  {
   "cell_type": "code",
   "execution_count": 14,
   "metadata": {},
   "outputs": [
    {
     "name": "stdout",
     "output_type": "stream",
     "text": [
      "RMSE     : 0.8904559629285671\n",
      "Параметры:\n",
      " Pipeline(steps=[('preprocessor',\n",
      "                 ColumnTransformer(transformers=[('num', StandardScaler(),\n",
      "                                                  ['f0', 'f1', 'f2'])])),\n",
      "                ('regressor', LinearRegression())])\n"
     ]
    }
   ],
   "source": [
    "X_1_train,  X_1_test, y_1_train, y_1_test = data_preprocessing(data_1)\n",
    "\n",
    "grid_1 = model_params(\n",
    "    X_1_train, \n",
    "    X_1_test, \n",
    "    y_1_train, \n",
    "    y_1_test, \n",
    "    [{\n",
    "        'regressor': [LinearRegression()],\n",
    "    }]\n",
    ")\n",
    "\n",
    "print('RMSE     :', grid_1.best_score_*(-1))\n",
    "print('Параметры:\\n', grid_1.best_estimator_)"
   ]
  },
  {
   "cell_type": "code",
   "execution_count": 15,
   "metadata": {},
   "outputs": [
    {
     "name": "stdout",
     "output_type": "stream",
     "text": [
      "запас сырья: 68.7128780391376\n",
      "RMSE: 0.8902801001028846\n"
     ]
    }
   ],
   "source": [
    "predict_1 = grid_1.predict(X_1_test)\n",
    "print('запас сырья:', predict_1.mean())\n",
    "print('RMSE:', mean_squared_error(y_1_test, predict_1, squared=False))"
   ]
  },
  {
   "cell_type": "markdown",
   "metadata": {},
   "source": [
    "<b>модель для 3 региона</b>\n"
   ]
  },
  {
   "cell_type": "code",
   "execution_count": 16,
   "metadata": {},
   "outputs": [
    {
     "name": "stdout",
     "output_type": "stream",
     "text": [
      "RMSE     : 40.02698159997838\n",
      "Параметры:\n",
      " Pipeline(steps=[('preprocessor',\n",
      "                 ColumnTransformer(transformers=[('num', StandardScaler(),\n",
      "                                                  ['f0', 'f1', 'f2'])])),\n",
      "                ('regressor', LinearRegression())])\n"
     ]
    }
   ],
   "source": [
    "X_2_train,  X_2_test, y_2_train, y_2_test = data_preprocessing(data_2)\n",
    "\n",
    "grid_2 = model_params(\n",
    "    X_2_train, \n",
    "    X_2_test, \n",
    "    y_2_train, \n",
    "    y_2_test, \n",
    "    [{\n",
    "        'regressor': [LinearRegression()],\n",
    "    }]\n",
    ")\n",
    "\n",
    "print('RMSE     :', grid_2.best_score_*(-1))\n",
    "print('Параметры:\\n', grid_2.best_estimator_)"
   ]
  },
  {
   "cell_type": "code",
   "execution_count": 17,
   "metadata": {},
   "outputs": [
    {
     "name": "stdout",
     "output_type": "stream",
     "text": [
      "запас сырья: 94.77102387765939\n",
      "RMSE: 40.145872311342174\n"
     ]
    }
   ],
   "source": [
    "predict_2 = grid_2.predict(X_2_test)\n",
    "print('запас сырья:', predict_2.mean())\n",
    "print('RMSE:', mean_squared_error(y_2_test, predict_2, squared=False))"
   ]
  },
  {
   "cell_type": "markdown",
   "metadata": {},
   "source": [
    "Второй регион демонстрирует наименьшее среднее значение целевого показателя — 69 , что значительно ниже  по сравнению с другими регионами. Однако этот регион отличается наименьшим разбросом прогнозов за счет более низкого RMSE (0.89), что указывает на высокую предсказуемость.\n",
    "\n",
    "Третий регион, напротив, показывает наибольшее среднее значение целевого показателя — 95, что делает его наиболее перспективным с точки зрения доходности. В то же время, прогнозы для этого региона имеют самый высокий уровень ошибки (RMSE = 40), что свидетельствует о повышенной неопределённости и риске.\n",
    "\n",
    "Таким образом, второй регион выглядит как наиболее стабильный, но менее прибыльный, тогда как третий регион выделяется высокой потенциальной доходностью при значительных рисках."
   ]
  },
  {
   "cell_type": "markdown",
   "metadata": {},
   "source": [
    "## Подготовка к расчёту прибыли"
   ]
  },
  {
   "cell_type": "code",
   "execution_count": 18,
   "metadata": {},
   "outputs": [],
   "source": [
    "OBJECTS = 500 \n",
    "BEST_OBJECTS = 200 \n",
    "BUDGET = 10000000000 \n",
    "REVENUE = 450000"
   ]
  },
  {
   "cell_type": "code",
   "execution_count": 19,
   "metadata": {},
   "outputs": [
    {
     "name": "stdout",
     "output_type": "stream",
     "text": [
      "Точка безубыточности на одну скважин: 111.11111111111111 тыс. баррелей\n"
     ]
    }
   ],
   "source": [
    "unbreak_point = (BUDGET / REVENUE) / BEST_OBJECTS\n",
    "print(f'Точка безубыточности на одну скважин: {unbreak_point} тыс. баррелей')"
   ]
  },
  {
   "cell_type": "code",
   "execution_count": 20,
   "metadata": {},
   "outputs": [
    {
     "name": "stdout",
     "output_type": "stream",
     "text": [
      "\n",
      "Регион 1:\n",
      "Средний предсказанный запас сырья: 92.40 тыс. баррелей\n",
      "Разность с минимальным объёмом: -18.71 тыс. баррелей\n",
      "\n",
      "Регион 2:\n",
      "Средний предсказанный запас сырья: 68.71 тыс. баррелей\n",
      "Разность с минимальным объёмом: -42.40 тыс. баррелей\n",
      "\n",
      "Регион 3:\n",
      "Средний предсказанный запас сырья: 94.77 тыс. баррелей\n",
      "Разность с минимальным объёмом: -16.34 тыс. баррелей\n"
     ]
    }
   ],
   "source": [
    "mean_volume_0 = predict_0.mean()\n",
    "diff_0 = mean_volume_0 - unbreak_point\n",
    "print('\\nРегион 1:')\n",
    "print(f'Средний предсказанный запас сырья: {mean_volume_0:.2f} тыс. баррелей')\n",
    "print(f'Разность с минимальным объёмом: {diff_0:.2f} тыс. баррелей')\n",
    "\n",
    "mean_volume_1 = predict_1.mean()\n",
    "diff_1 = mean_volume_1 - unbreak_point\n",
    "print('\\nРегион 2:')\n",
    "print(f'Средний предсказанный запас сырья: {mean_volume_1:.2f} тыс. баррелей')\n",
    "print(f'Разность с минимальным объёмом: {diff_1:.2f} тыс. баррелей')\n",
    "\n",
    "mean_volume_2 = predict_2.mean()\n",
    "diff_2 = mean_volume_2 - unbreak_point\n",
    "print('\\nРегион 3:')\n",
    "print(f'Средний предсказанный запас сырья: {mean_volume_2:.2f} тыс. баррелей')\n",
    "print(f'Разность с минимальным объёмом: {diff_2:.2f} тыс. баррелей')"
   ]
  },
  {
   "cell_type": "markdown",
   "metadata": {},
   "source": [
    "Так, во всех регионах средние предсказанные запасы меньше, чем точка безубыточности."
   ]
  },
  {
   "cell_type": "markdown",
   "metadata": {},
   "source": [
    "## функция для расчёта прибыли"
   ]
  },
  {
   "cell_type": "code",
   "execution_count": 21,
   "metadata": {},
   "outputs": [],
   "source": [
    "def calculate_profit(X_test, y_test, model, n_wells=BEST_OBJECTS, revenue_per_unit=REVENUE, budget=BUDGET):\n",
    " \n",
    "    predictions = model.predict(X_test)\n",
    "    y_test = np.array(y_test)\n",
    "    top_wells_indices = np.argsort(predictions)[-n_wells:]\n",
    "    total_volume = y_test[top_wells_indices].sum()\n",
    "    profit = total_volume * revenue_per_unit - budget\n",
    "    \n",
    "    return profit"
   ]
  },
  {
   "cell_type": "code",
   "execution_count": 22,
   "metadata": {},
   "outputs": [
    {
     "name": "stdout",
     "output_type": "stream",
     "text": [
      "Регион 1:  прибыль = 3,359,141,114.46 руб\n",
      "Регион 2:  прибыль = 2,415,086,696.68 руб\n",
      "Регион 3:  прибыль = 2,598,571,759.37 руб\n"
     ]
    }
   ],
   "source": [
    "profit_0 = calculate_profit(X_0_test, y_0_test, grid_0.best_estimator_)\n",
    "print(f'Регион 1:  прибыль = {profit_0:,.2f} руб')\n",
    "\n",
    "profit_1 = calculate_profit(X_1_test, y_1_test, grid_1.best_estimator_)\n",
    "print(f'Регион 2:  прибыль = {profit_1:,.2f} руб')\n",
    "\n",
    "profit_2 = calculate_profit(X_2_test, y_2_test, grid_2.best_estimator_)\n",
    "print(f'Регион 3:  прибыль = {profit_2:,.2f} руб')"
   ]
  },
  {
   "cell_type": "markdown",
   "metadata": {},
   "source": [
    "Итак, самым прибыльным регионом при использовании 200 скважин с максимальными значениями, оказался первый"
   ]
  },
  {
   "cell_type": "markdown",
   "metadata": {},
   "source": [
    "## Расчёт прибыли и рисков "
   ]
  },
  {
   "cell_type": "code",
   "execution_count": 23,
   "metadata": {},
   "outputs": [
    {
     "name": "stdout",
     "output_type": "stream",
     "text": [
      "95%-й доверительный интервал: от -110,467,895.33 до 897,460,327.72 руб.\n",
      "Средняя прибыль: 399,575,478.05 руб.\n",
      "Риск убытков: 6.00%\n",
      "\n",
      "95%-й доверительный интервал: от 61,684,479.65 до 845,340,177.51 руб.\n",
      "Средняя прибыль: 452,048,890.91 руб.\n",
      "Риск убытков: 1.50%\n",
      "\n",
      "95%-й доверительный интервал: от -144,766,727.30 до 888,390,403.53 руб.\n",
      "Средняя прибыль: 375,009,902.92 руб.\n",
      "Риск убытков: 8.00%\n",
      "\n"
     ]
    }
   ],
   "source": [
    "def bootstrap_profit_analysis(target_test, predict, n_samples=1000, sample_size=OBJECTS):\n",
    "\n",
    "    df = pd.DataFrame({\n",
    "        'product': target_test.values,\n",
    "        'predict': predict\n",
    "    })\n",
    "    \n",
    "    state = np.random.RandomState(RANDOM_STATE)\n",
    "    profits = []\n",
    "    \n",
    "    for _ in range(n_samples):\n",
    "        df_sample = df.sample(n=sample_size, replace=True, random_state=state)\n",
    "        top_wells = df_sample.nlargest(BEST_OBJECTS, 'predict')\n",
    "        total_volume = top_wells['product'].sum()\n",
    "        revenue = total_volume * REVENUE\n",
    "        profit = revenue - BUDGET\n",
    "        profits.append(profit)\n",
    "    \n",
    "    profits = pd.Series(profits)\n",
    "    mean_profit = profits.mean()\n",
    "    lower_profit = profits.quantile(0.025)\n",
    "    upper_profit = profits.quantile(0.975)\n",
    "    loss_risk = (profits < 0).mean() * 100\n",
    "    \n",
    "    print(f'95%-й доверительный интервал: от {lower_profit:,.2f} до {upper_profit:,.2f} руб.')\n",
    "    print(f'Средняя прибыль: {mean_profit:,.2f} руб.')\n",
    "    print(f'Риск убытков: {loss_risk:.2f}%')\n",
    "    \n",
    "    return mean_profit, (lower_profit, upper_profit), loss_risk\n",
    "\n",
    "\n",
    "mean_profit_0, conf_interval_0, loss_risk_0 = bootstrap_profit_analysis(y_0_test, predict_0)\n",
    "print()\n",
    "\n",
    "mean_profit_1, conf_interval_1, loss_risk_1 = bootstrap_profit_analysis(y_1_test, predict_1)\n",
    "print()\n",
    "\n",
    "mean_profit_2, conf_interval_2, loss_risk_2 = bootstrap_profit_analysis(y_2_test, predict_2)\n",
    "print()"
   ]
  },
  {
   "cell_type": "code",
   "execution_count": 24,
   "metadata": {},
   "outputs": [
    {
     "name": "stdout",
     "output_type": "stream",
     "text": [
      "Рекомендуемый регион: Регион 1\n",
      "Обоснование: Регион 1 имеет риск убытков 1.50% (< 2.5%) и максимальную среднюю прибыль 452,048,890.91 руб.\n"
     ]
    }
   ],
   "source": [
    "viable_regions = []\n",
    "if loss_risk_0 < 2.5:\n",
    "    viable_regions.append(('Регион 0', mean_profit_0))\n",
    "if loss_risk_1 < 2.5:\n",
    "    viable_regions.append(('Регион 1', mean_profit_1))\n",
    "if loss_risk_2 < 2.5:\n",
    "    viable_regions.append(('Регион 2', mean_profit_2))\n",
    "\n",
    "if viable_regions:\n",
    "    best_region, best_profit = max(viable_regions, key=lambda x: x[1])\n",
    "    print(f'Рекомендуемый регион: {best_region}')\n",
    "    print(f'Обоснование: {best_region} имеет риск убытков {loss_risk_0 if best_region == \"Регион 0\" else loss_risk_1 if best_region == \"Регион 1\" else loss_risk_2:.2f}% (< 2.5%) и максимальную среднюю прибыль {best_profit:,.2f} руб.')"
   ]
  },
  {
   "cell_type": "markdown",
   "metadata": {},
   "source": [
    "По итогам Bootstrap-анализа для трёх регионов Регион 1 оказался лучшим для разработки скважин. Он показал среднюю прибыль 452 млн руб., риск убытков всего 1.5%  и положительный доверительный интервал (от 62 до 845 млн руб.), что говорит о надёжной рентабельности. Регионы 0 и 2 с рисками 6% и 8% и интервалами, включающими убытки, не соответствуют требованиям. Выбор Региона 1 обусловлен его низким риском и высокой прибылью, что делает его оптимальным для инвестиций."
   ]
  },
  {
   "cell_type": "markdown",
   "metadata": {},
   "source": [
    "## Итоговый вывод"
   ]
  },
  {
   "cell_type": "markdown",
   "metadata": {},
   "source": [
    "Проект для «ГлавРосГосНефть» показал, где лучше бурить новые скважины. Загрузили данные по трём регионам, обучили линейную регрессию, посчитали запасы и риски. Минимальный объём для безубыточности — 111.11 тыс. баррелей, и хотя средние запасы ниже, выбор 200 лучших скважин решает проблему. Bootstrap-анализ (1000 выборок) дал для Региона 1 прибыль 452 млн руб., риск убытков 1.5% и интервал 62–845 млн руб. Регионы 0 и 2 с рисками 6% и 8% не подходят.\n",
    "\n",
    "Рекомендация: Бурить в Регионе 1 — он самый рентабельный и надёжный с минимальным риском."
   ]
  }
 ],
 "metadata": {
  "ExecuteTimeLog": [
   {
    "duration": 12,
    "start_time": "2025-03-28T16:34:30.916Z"
   },
   {
    "duration": 433,
    "start_time": "2025-06-06T19:37:02.673Z"
   },
   {
    "duration": 67,
    "start_time": "2025-06-06T19:37:40.236Z"
   },
   {
    "duration": 2,
    "start_time": "2025-06-06T19:37:45.647Z"
   },
   {
    "duration": 416,
    "start_time": "2025-06-06T19:37:46.103Z"
   },
   {
    "duration": 18,
    "start_time": "2025-06-06T19:38:12.933Z"
   },
   {
    "duration": 11,
    "start_time": "2025-06-06T19:38:13.300Z"
   },
   {
    "duration": 10,
    "start_time": "2025-06-06T19:38:13.773Z"
   },
   {
    "duration": 10,
    "start_time": "2025-06-06T19:38:32.646Z"
   },
   {
    "duration": 10,
    "start_time": "2025-06-06T19:38:32.958Z"
   },
   {
    "duration": 10,
    "start_time": "2025-06-06T19:38:33.423Z"
   },
   {
    "duration": 16,
    "start_time": "2025-06-06T19:38:58.494Z"
   },
   {
    "duration": 16,
    "start_time": "2025-06-06T19:39:12.488Z"
   },
   {
    "duration": 15,
    "start_time": "2025-06-06T19:39:17.734Z"
   },
   {
    "duration": 11,
    "start_time": "2025-06-13T10:26:30.879Z"
   },
   {
    "duration": 1197,
    "start_time": "2025-06-13T11:39:05.215Z"
   },
   {
    "duration": 3,
    "start_time": "2025-06-13T11:39:06.414Z"
   },
   {
    "duration": 424,
    "start_time": "2025-06-13T11:39:06.418Z"
   },
   {
    "duration": 17,
    "start_time": "2025-06-13T11:39:06.844Z"
   },
   {
    "duration": 167,
    "start_time": "2025-06-13T11:39:06.863Z"
   },
   {
    "duration": 63,
    "start_time": "2025-06-13T11:39:07.032Z"
   },
   {
    "duration": 18,
    "start_time": "2025-06-13T11:39:07.097Z"
   },
   {
    "duration": 15,
    "start_time": "2025-06-13T11:39:07.235Z"
   },
   {
    "duration": 14,
    "start_time": "2025-06-13T11:39:07.656Z"
   },
   {
    "duration": 4,
    "start_time": "2025-06-13T11:39:08.764Z"
   },
   {
    "duration": 4,
    "start_time": "2025-06-13T11:39:09.088Z"
   },
   {
    "duration": 124,
    "start_time": "2025-06-13T11:42:24.904Z"
   },
   {
    "duration": 3,
    "start_time": "2025-06-13T11:43:50.588Z"
   },
   {
    "duration": 23,
    "start_time": "2025-06-13T11:43:54.441Z"
   },
   {
    "duration": 22,
    "start_time": "2025-06-13T11:44:13.314Z"
   },
   {
    "duration": 22,
    "start_time": "2025-06-13T11:44:30.888Z"
   },
   {
    "duration": 22,
    "start_time": "2025-06-13T11:44:35.049Z"
   },
   {
    "duration": 5,
    "start_time": "2025-06-13T11:46:45.287Z"
   },
   {
    "duration": 38,
    "start_time": "2025-06-13T11:46:46.443Z"
   },
   {
    "duration": 4,
    "start_time": "2025-06-13T11:46:59.830Z"
   },
   {
    "duration": 821,
    "start_time": "2025-06-13T11:47:00.485Z"
   },
   {
    "duration": 4,
    "start_time": "2025-06-13T11:50:17.730Z"
   },
   {
    "duration": 5,
    "start_time": "2025-06-13T11:50:23.233Z"
   },
   {
    "duration": 910,
    "start_time": "2025-06-13T11:50:24.110Z"
   },
   {
    "duration": 750,
    "start_time": "2025-06-13T11:51:09.062Z"
   },
   {
    "duration": 923,
    "start_time": "2025-06-13T11:55:10.691Z"
   },
   {
    "duration": 91,
    "start_time": "2025-06-13T11:56:26.622Z"
   },
   {
    "duration": 3,
    "start_time": "2025-06-13T11:57:27.275Z"
   },
   {
    "duration": 60,
    "start_time": "2025-06-13T11:57:33.248Z"
   },
   {
    "duration": 13,
    "start_time": "2025-06-13T11:58:02.994Z"
   },
   {
    "duration": 981,
    "start_time": "2025-06-13T11:59:14.726Z"
   },
   {
    "duration": 40,
    "start_time": "2025-06-13T11:59:39.668Z"
   },
   {
    "duration": 15,
    "start_time": "2025-06-13T11:59:55.908Z"
   },
   {
    "duration": 1038,
    "start_time": "2025-06-13T12:01:47.567Z"
   },
   {
    "duration": 13,
    "start_time": "2025-06-13T12:02:20.267Z"
   },
   {
    "duration": 9,
    "start_time": "2025-06-14T13:21:18.682Z"
   },
   {
    "duration": 3,
    "start_time": "2025-06-14T13:21:22.778Z"
   },
   {
    "duration": 3,
    "start_time": "2025-06-14T13:21:23.027Z"
   },
   {
    "duration": 423,
    "start_time": "2025-06-14T13:21:23.160Z"
   },
   {
    "duration": 9,
    "start_time": "2025-06-14T13:21:23.585Z"
   },
   {
    "duration": 12,
    "start_time": "2025-06-14T13:21:23.595Z"
   },
   {
    "duration": 9,
    "start_time": "2025-06-14T13:21:23.679Z"
   },
   {
    "duration": 15,
    "start_time": "2025-06-14T13:21:23.978Z"
   },
   {
    "duration": 16,
    "start_time": "2025-06-14T13:21:24.111Z"
   },
   {
    "duration": 17,
    "start_time": "2025-06-14T13:21:24.275Z"
   },
   {
    "duration": 3,
    "start_time": "2025-06-14T13:21:25.180Z"
   },
   {
    "duration": 5,
    "start_time": "2025-06-14T13:21:25.361Z"
   },
   {
    "duration": 943,
    "start_time": "2025-06-14T13:21:25.663Z"
   },
   {
    "duration": 13,
    "start_time": "2025-06-14T13:21:26.608Z"
   },
   {
    "duration": 1088,
    "start_time": "2025-06-14T13:21:26.623Z"
   },
   {
    "duration": 9,
    "start_time": "2025-06-14T13:21:27.713Z"
   },
   {
    "duration": 991,
    "start_time": "2025-06-14T13:21:27.724Z"
   },
   {
    "duration": 91,
    "start_time": "2025-06-14T13:21:28.718Z"
   },
   {
    "duration": 98,
    "start_time": "2025-06-14T13:21:28.813Z"
   },
   {
    "duration": 5,
    "start_time": "2025-06-14T13:21:28.913Z"
   },
   {
    "duration": 9,
    "start_time": "2025-06-14T13:24:42.191Z"
   },
   {
    "duration": 4,
    "start_time": "2025-06-14T13:25:09.492Z"
   },
   {
    "duration": 7,
    "start_time": "2025-06-14T14:51:05.867Z"
   },
   {
    "duration": 3,
    "start_time": "2025-06-14T15:00:09.985Z"
   },
   {
    "duration": 8,
    "start_time": "2025-06-14T15:01:49.049Z"
   },
   {
    "duration": 32,
    "start_time": "2025-06-14T15:02:13.575Z"
   },
   {
    "duration": 3,
    "start_time": "2025-06-14T15:02:34.198Z"
   },
   {
    "duration": 137,
    "start_time": "2025-06-14T15:02:37.977Z"
   },
   {
    "duration": 69,
    "start_time": "2025-06-14T15:03:03.799Z"
   },
   {
    "duration": 115,
    "start_time": "2025-06-14T15:03:08.102Z"
   },
   {
    "duration": 33,
    "start_time": "2025-06-14T15:03:16.885Z"
   },
   {
    "duration": 5,
    "start_time": "2025-06-14T15:05:04.781Z"
   },
   {
    "duration": 190,
    "start_time": "2025-06-14T15:05:15.923Z"
   },
   {
    "duration": 67,
    "start_time": "2025-06-14T15:06:06.089Z"
   },
   {
    "duration": 3400,
    "start_time": "2025-06-14T15:26:51.596Z"
   },
   {
    "duration": 66,
    "start_time": "2025-06-14T15:29:54.167Z"
   },
   {
    "duration": 5,
    "start_time": "2025-06-14T15:30:00.199Z"
   },
   {
    "duration": 5,
    "start_time": "2025-06-14T15:30:14.680Z"
   },
   {
    "duration": 2769,
    "start_time": "2025-06-14T16:45:21.532Z"
   },
   {
    "duration": 3,
    "start_time": "2025-06-14T16:45:24.303Z"
   },
   {
    "duration": 439,
    "start_time": "2025-06-14T16:45:24.308Z"
   },
   {
    "duration": 16,
    "start_time": "2025-06-14T16:45:24.749Z"
   },
   {
    "duration": 28,
    "start_time": "2025-06-14T16:45:24.767Z"
   },
   {
    "duration": 22,
    "start_time": "2025-06-14T16:45:24.797Z"
   },
   {
    "duration": 47,
    "start_time": "2025-06-14T16:45:24.821Z"
   },
   {
    "duration": 18,
    "start_time": "2025-06-14T16:45:24.870Z"
   },
   {
    "duration": 18,
    "start_time": "2025-06-14T16:45:24.891Z"
   },
   {
    "duration": 75,
    "start_time": "2025-06-14T16:45:24.910Z"
   },
   {
    "duration": 22,
    "start_time": "2025-06-14T16:45:24.988Z"
   },
   {
    "duration": 766,
    "start_time": "2025-06-14T16:45:25.012Z"
   },
   {
    "duration": 20,
    "start_time": "2025-06-14T16:45:25.780Z"
   },
   {
    "duration": 981,
    "start_time": "2025-06-14T16:45:25.804Z"
   },
   {
    "duration": 13,
    "start_time": "2025-06-14T16:45:26.787Z"
   },
   {
    "duration": 996,
    "start_time": "2025-06-14T16:45:26.802Z"
   },
   {
    "duration": 96,
    "start_time": "2025-06-14T16:45:27.800Z"
   },
   {
    "duration": 88,
    "start_time": "2025-06-14T16:45:27.901Z"
   },
   {
    "duration": 94,
    "start_time": "2025-06-14T16:45:27.991Z"
   },
   {
    "duration": 14,
    "start_time": "2025-06-14T16:45:28.088Z"
   },
   {
    "duration": 52,
    "start_time": "2025-06-14T16:45:28.104Z"
   },
   {
    "duration": 133,
    "start_time": "2025-06-14T16:45:28.158Z"
   },
   {
    "duration": 3566,
    "start_time": "2025-06-14T16:45:28.294Z"
   },
   {
    "duration": 5,
    "start_time": "2025-06-14T16:45:31.861Z"
   }
  ],
  "kernelspec": {
   "display_name": "Python 3 (ipykernel)",
   "language": "python",
   "name": "python3"
  },
  "language_info": {
   "codemirror_mode": {
    "name": "ipython",
    "version": 3
   },
   "file_extension": ".py",
   "mimetype": "text/x-python",
   "name": "python",
   "nbconvert_exporter": "python",
   "pygments_lexer": "ipython3",
   "version": "3.9.5"
  },
  "toc": {
   "base_numbering": 1,
   "nav_menu": {},
   "number_sections": true,
   "sideBar": true,
   "skip_h1_title": true,
   "title_cell": "Table of Contents",
   "title_sidebar": "Contents",
   "toc_cell": false,
   "toc_position": {
    "height": "calc(100% - 180px)",
    "left": "10px",
    "top": "150px",
    "width": "289.594px"
   },
   "toc_section_display": true,
   "toc_window_display": true
  }
 },
 "nbformat": 4,
 "nbformat_minor": 2
}
