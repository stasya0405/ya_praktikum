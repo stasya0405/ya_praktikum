{
 "cells": [
  {
   "cell_type": "markdown",
   "id": "90aa2a9b",
   "metadata": {},
   "source": [
    "<b> Анализ сервиса аренды самокатов GoFast </b>\n",
    "\n",
    "Проведем анализ данных о некоторых пользователях популярного сервиса аренды самокатов GoFast.Сначала подготовим данные, проверив их на дубликаты и пропуски. С помощью статистического анализа проверим некоторые гипотезы, которые могут помочь бизнесу вырасти:\n",
    "\n",
    "- тратят ли пользователи с подпиской больше времени на поездки? \n",
    "- Можно ли сказать, что среднее расстояние, которое проезжают пользователи с подпиской за одну поездку, не превышает 3130 метров? \n",
    "- будет ли помесячная выручка от пользователей с подпиской по месяцам выше, чем выручка от пользователей без подписки?\n",
    "\n"
   ]
  },
  {
   "cell_type": "code",
   "execution_count": 45,
   "id": "c6130065",
   "metadata": {},
   "outputs": [],
   "source": [
    "import pandas as pd\n",
    "import numpy as np\n",
    "from scipy import stats as st\n",
    "import matplotlib.pyplot as plt"
   ]
  },
  {
   "cell_type": "markdown",
   "id": "8d8978aa",
   "metadata": {},
   "source": [
    "#### Шаг 1. Загрузка данных"
   ]
  },
  {
   "cell_type": "code",
   "execution_count": 46,
   "id": "7cee6df6",
   "metadata": {},
   "outputs": [],
   "source": [
    "users = pd.read_csv('/datasets/users_go.csv')\n",
    "rides = pd.read_csv('/datasets/rides_go.csv')\n",
    "subscriptions = pd.read_csv('/datasets/subscriptions_go.csv')"
   ]
  },
  {
   "cell_type": "code",
   "execution_count": 47,
   "id": "02354561",
   "metadata": {},
   "outputs": [
    {
     "data": {
      "text/html": [
       "<div>\n",
       "<style scoped>\n",
       "    .dataframe tbody tr th:only-of-type {\n",
       "        vertical-align: middle;\n",
       "    }\n",
       "\n",
       "    .dataframe tbody tr th {\n",
       "        vertical-align: top;\n",
       "    }\n",
       "\n",
       "    .dataframe thead th {\n",
       "        text-align: right;\n",
       "    }\n",
       "</style>\n",
       "<table border=\"1\" class=\"dataframe\">\n",
       "  <thead>\n",
       "    <tr style=\"text-align: right;\">\n",
       "      <th></th>\n",
       "      <th>user_id</th>\n",
       "      <th>name</th>\n",
       "      <th>age</th>\n",
       "      <th>city</th>\n",
       "      <th>subscription_type</th>\n",
       "    </tr>\n",
       "  </thead>\n",
       "  <tbody>\n",
       "    <tr>\n",
       "      <th>0</th>\n",
       "      <td>1</td>\n",
       "      <td>Кира</td>\n",
       "      <td>22</td>\n",
       "      <td>Тюмень</td>\n",
       "      <td>ultra</td>\n",
       "    </tr>\n",
       "    <tr>\n",
       "      <th>1</th>\n",
       "      <td>2</td>\n",
       "      <td>Станислав</td>\n",
       "      <td>31</td>\n",
       "      <td>Омск</td>\n",
       "      <td>ultra</td>\n",
       "    </tr>\n",
       "    <tr>\n",
       "      <th>2</th>\n",
       "      <td>3</td>\n",
       "      <td>Алексей</td>\n",
       "      <td>20</td>\n",
       "      <td>Москва</td>\n",
       "      <td>ultra</td>\n",
       "    </tr>\n",
       "    <tr>\n",
       "      <th>3</th>\n",
       "      <td>4</td>\n",
       "      <td>Константин</td>\n",
       "      <td>26</td>\n",
       "      <td>Ростов-на-Дону</td>\n",
       "      <td>ultra</td>\n",
       "    </tr>\n",
       "    <tr>\n",
       "      <th>4</th>\n",
       "      <td>5</td>\n",
       "      <td>Адель</td>\n",
       "      <td>28</td>\n",
       "      <td>Омск</td>\n",
       "      <td>ultra</td>\n",
       "    </tr>\n",
       "  </tbody>\n",
       "</table>\n",
       "</div>"
      ],
      "text/plain": [
       "   user_id        name  age            city subscription_type\n",
       "0        1        Кира   22          Тюмень             ultra\n",
       "1        2   Станислав   31            Омск             ultra\n",
       "2        3     Алексей   20          Москва             ultra\n",
       "3        4  Константин   26  Ростов-на-Дону             ultra\n",
       "4        5       Адель   28            Омск             ultra"
      ]
     },
     "execution_count": 47,
     "metadata": {},
     "output_type": "execute_result"
    },
    {
     "data": {
      "text/html": [
       "<div>\n",
       "<style scoped>\n",
       "    .dataframe tbody tr th:only-of-type {\n",
       "        vertical-align: middle;\n",
       "    }\n",
       "\n",
       "    .dataframe tbody tr th {\n",
       "        vertical-align: top;\n",
       "    }\n",
       "\n",
       "    .dataframe thead th {\n",
       "        text-align: right;\n",
       "    }\n",
       "</style>\n",
       "<table border=\"1\" class=\"dataframe\">\n",
       "  <thead>\n",
       "    <tr style=\"text-align: right;\">\n",
       "      <th></th>\n",
       "      <th>user_id</th>\n",
       "      <th>name</th>\n",
       "      <th>age</th>\n",
       "      <th>city</th>\n",
       "      <th>subscription_type</th>\n",
       "    </tr>\n",
       "  </thead>\n",
       "  <tbody>\n",
       "    <tr>\n",
       "      <th>0</th>\n",
       "      <td>1</td>\n",
       "      <td>Кира</td>\n",
       "      <td>22</td>\n",
       "      <td>Тюмень</td>\n",
       "      <td>ultra</td>\n",
       "    </tr>\n",
       "    <tr>\n",
       "      <th>1</th>\n",
       "      <td>2</td>\n",
       "      <td>Станислав</td>\n",
       "      <td>31</td>\n",
       "      <td>Омск</td>\n",
       "      <td>ultra</td>\n",
       "    </tr>\n",
       "    <tr>\n",
       "      <th>2</th>\n",
       "      <td>3</td>\n",
       "      <td>Алексей</td>\n",
       "      <td>20</td>\n",
       "      <td>Москва</td>\n",
       "      <td>ultra</td>\n",
       "    </tr>\n",
       "    <tr>\n",
       "      <th>3</th>\n",
       "      <td>4</td>\n",
       "      <td>Константин</td>\n",
       "      <td>26</td>\n",
       "      <td>Ростов-на-Дону</td>\n",
       "      <td>ultra</td>\n",
       "    </tr>\n",
       "    <tr>\n",
       "      <th>4</th>\n",
       "      <td>5</td>\n",
       "      <td>Адель</td>\n",
       "      <td>28</td>\n",
       "      <td>Омск</td>\n",
       "      <td>ultra</td>\n",
       "    </tr>\n",
       "  </tbody>\n",
       "</table>\n",
       "</div>"
      ],
      "text/plain": [
       "   user_id        name  age            city subscription_type\n",
       "0        1        Кира   22          Тюмень             ultra\n",
       "1        2   Станислав   31            Омск             ultra\n",
       "2        3     Алексей   20          Москва             ultra\n",
       "3        4  Константин   26  Ростов-на-Дону             ultra\n",
       "4        5       Адель   28            Омск             ultra"
      ]
     },
     "execution_count": 47,
     "metadata": {},
     "output_type": "execute_result"
    }
   ],
   "source": [
    "users.head()"
   ]
  },
  {
   "cell_type": "code",
   "execution_count": 48,
   "id": "aec45532",
   "metadata": {},
   "outputs": [
    {
     "data": {
      "text/html": [
       "<div>\n",
       "<style scoped>\n",
       "    .dataframe tbody tr th:only-of-type {\n",
       "        vertical-align: middle;\n",
       "    }\n",
       "\n",
       "    .dataframe tbody tr th {\n",
       "        vertical-align: top;\n",
       "    }\n",
       "\n",
       "    .dataframe thead th {\n",
       "        text-align: right;\n",
       "    }\n",
       "</style>\n",
       "<table border=\"1\" class=\"dataframe\">\n",
       "  <thead>\n",
       "    <tr style=\"text-align: right;\">\n",
       "      <th></th>\n",
       "      <th>user_id</th>\n",
       "      <th>distance</th>\n",
       "      <th>duration</th>\n",
       "      <th>date</th>\n",
       "    </tr>\n",
       "  </thead>\n",
       "  <tbody>\n",
       "    <tr>\n",
       "      <th>0</th>\n",
       "      <td>1</td>\n",
       "      <td>4409.919140</td>\n",
       "      <td>25.599769</td>\n",
       "      <td>2021-01-01</td>\n",
       "    </tr>\n",
       "    <tr>\n",
       "      <th>1</th>\n",
       "      <td>1</td>\n",
       "      <td>2617.592153</td>\n",
       "      <td>15.816871</td>\n",
       "      <td>2021-01-18</td>\n",
       "    </tr>\n",
       "    <tr>\n",
       "      <th>2</th>\n",
       "      <td>1</td>\n",
       "      <td>754.159807</td>\n",
       "      <td>6.232113</td>\n",
       "      <td>2021-04-20</td>\n",
       "    </tr>\n",
       "    <tr>\n",
       "      <th>3</th>\n",
       "      <td>1</td>\n",
       "      <td>2694.783254</td>\n",
       "      <td>18.511000</td>\n",
       "      <td>2021-08-11</td>\n",
       "    </tr>\n",
       "    <tr>\n",
       "      <th>4</th>\n",
       "      <td>1</td>\n",
       "      <td>4028.687306</td>\n",
       "      <td>26.265803</td>\n",
       "      <td>2021-08-28</td>\n",
       "    </tr>\n",
       "  </tbody>\n",
       "</table>\n",
       "</div>"
      ],
      "text/plain": [
       "   user_id     distance   duration        date\n",
       "0        1  4409.919140  25.599769  2021-01-01\n",
       "1        1  2617.592153  15.816871  2021-01-18\n",
       "2        1   754.159807   6.232113  2021-04-20\n",
       "3        1  2694.783254  18.511000  2021-08-11\n",
       "4        1  4028.687306  26.265803  2021-08-28"
      ]
     },
     "execution_count": 48,
     "metadata": {},
     "output_type": "execute_result"
    },
    {
     "data": {
      "text/html": [
       "<div>\n",
       "<style scoped>\n",
       "    .dataframe tbody tr th:only-of-type {\n",
       "        vertical-align: middle;\n",
       "    }\n",
       "\n",
       "    .dataframe tbody tr th {\n",
       "        vertical-align: top;\n",
       "    }\n",
       "\n",
       "    .dataframe thead th {\n",
       "        text-align: right;\n",
       "    }\n",
       "</style>\n",
       "<table border=\"1\" class=\"dataframe\">\n",
       "  <thead>\n",
       "    <tr style=\"text-align: right;\">\n",
       "      <th></th>\n",
       "      <th>user_id</th>\n",
       "      <th>distance</th>\n",
       "      <th>duration</th>\n",
       "      <th>date</th>\n",
       "    </tr>\n",
       "  </thead>\n",
       "  <tbody>\n",
       "    <tr>\n",
       "      <th>0</th>\n",
       "      <td>1</td>\n",
       "      <td>4409.919140</td>\n",
       "      <td>25.599769</td>\n",
       "      <td>2021-01-01</td>\n",
       "    </tr>\n",
       "    <tr>\n",
       "      <th>1</th>\n",
       "      <td>1</td>\n",
       "      <td>2617.592153</td>\n",
       "      <td>15.816871</td>\n",
       "      <td>2021-01-18</td>\n",
       "    </tr>\n",
       "    <tr>\n",
       "      <th>2</th>\n",
       "      <td>1</td>\n",
       "      <td>754.159807</td>\n",
       "      <td>6.232113</td>\n",
       "      <td>2021-04-20</td>\n",
       "    </tr>\n",
       "    <tr>\n",
       "      <th>3</th>\n",
       "      <td>1</td>\n",
       "      <td>2694.783254</td>\n",
       "      <td>18.511000</td>\n",
       "      <td>2021-08-11</td>\n",
       "    </tr>\n",
       "    <tr>\n",
       "      <th>4</th>\n",
       "      <td>1</td>\n",
       "      <td>4028.687306</td>\n",
       "      <td>26.265803</td>\n",
       "      <td>2021-08-28</td>\n",
       "    </tr>\n",
       "  </tbody>\n",
       "</table>\n",
       "</div>"
      ],
      "text/plain": [
       "   user_id     distance   duration        date\n",
       "0        1  4409.919140  25.599769  2021-01-01\n",
       "1        1  2617.592153  15.816871  2021-01-18\n",
       "2        1   754.159807   6.232113  2021-04-20\n",
       "3        1  2694.783254  18.511000  2021-08-11\n",
       "4        1  4028.687306  26.265803  2021-08-28"
      ]
     },
     "execution_count": 48,
     "metadata": {},
     "output_type": "execute_result"
    }
   ],
   "source": [
    "rides.head()"
   ]
  },
  {
   "cell_type": "code",
   "execution_count": 49,
   "id": "1852de2e",
   "metadata": {},
   "outputs": [
    {
     "data": {
      "text/html": [
       "<div>\n",
       "<style scoped>\n",
       "    .dataframe tbody tr th:only-of-type {\n",
       "        vertical-align: middle;\n",
       "    }\n",
       "\n",
       "    .dataframe tbody tr th {\n",
       "        vertical-align: top;\n",
       "    }\n",
       "\n",
       "    .dataframe thead th {\n",
       "        text-align: right;\n",
       "    }\n",
       "</style>\n",
       "<table border=\"1\" class=\"dataframe\">\n",
       "  <thead>\n",
       "    <tr style=\"text-align: right;\">\n",
       "      <th></th>\n",
       "      <th>subscription_type</th>\n",
       "      <th>minute_price</th>\n",
       "      <th>start_ride_price</th>\n",
       "      <th>subscription_fee</th>\n",
       "    </tr>\n",
       "  </thead>\n",
       "  <tbody>\n",
       "    <tr>\n",
       "      <th>0</th>\n",
       "      <td>free</td>\n",
       "      <td>8</td>\n",
       "      <td>50</td>\n",
       "      <td>0</td>\n",
       "    </tr>\n",
       "    <tr>\n",
       "      <th>1</th>\n",
       "      <td>ultra</td>\n",
       "      <td>6</td>\n",
       "      <td>0</td>\n",
       "      <td>199</td>\n",
       "    </tr>\n",
       "  </tbody>\n",
       "</table>\n",
       "</div>"
      ],
      "text/plain": [
       "  subscription_type  minute_price  start_ride_price  subscription_fee\n",
       "0              free             8                50                 0\n",
       "1             ultra             6                 0               199"
      ]
     },
     "execution_count": 49,
     "metadata": {},
     "output_type": "execute_result"
    },
    {
     "data": {
      "text/html": [
       "<div>\n",
       "<style scoped>\n",
       "    .dataframe tbody tr th:only-of-type {\n",
       "        vertical-align: middle;\n",
       "    }\n",
       "\n",
       "    .dataframe tbody tr th {\n",
       "        vertical-align: top;\n",
       "    }\n",
       "\n",
       "    .dataframe thead th {\n",
       "        text-align: right;\n",
       "    }\n",
       "</style>\n",
       "<table border=\"1\" class=\"dataframe\">\n",
       "  <thead>\n",
       "    <tr style=\"text-align: right;\">\n",
       "      <th></th>\n",
       "      <th>subscription_type</th>\n",
       "      <th>minute_price</th>\n",
       "      <th>start_ride_price</th>\n",
       "      <th>subscription_fee</th>\n",
       "    </tr>\n",
       "  </thead>\n",
       "  <tbody>\n",
       "    <tr>\n",
       "      <th>0</th>\n",
       "      <td>free</td>\n",
       "      <td>8</td>\n",
       "      <td>50</td>\n",
       "      <td>0</td>\n",
       "    </tr>\n",
       "    <tr>\n",
       "      <th>1</th>\n",
       "      <td>ultra</td>\n",
       "      <td>6</td>\n",
       "      <td>0</td>\n",
       "      <td>199</td>\n",
       "    </tr>\n",
       "  </tbody>\n",
       "</table>\n",
       "</div>"
      ],
      "text/plain": [
       "  subscription_type  minute_price  start_ride_price  subscription_fee\n",
       "0              free             8                50                 0\n",
       "1             ultra             6                 0               199"
      ]
     },
     "execution_count": 49,
     "metadata": {},
     "output_type": "execute_result"
    }
   ],
   "source": [
    "subscriptions.head()"
   ]
  },
  {
   "cell_type": "code",
   "execution_count": 50,
   "id": "99ddc057",
   "metadata": {},
   "outputs": [
    {
     "name": "stdout",
     "output_type": "stream",
     "text": [
      "<class 'pandas.core.frame.DataFrame'>\n",
      "RangeIndex: 1565 entries, 0 to 1564\n",
      "Data columns (total 5 columns):\n",
      " #   Column             Non-Null Count  Dtype \n",
      "---  ------             --------------  ----- \n",
      " 0   user_id            1565 non-null   int64 \n",
      " 1   name               1565 non-null   object\n",
      " 2   age                1565 non-null   int64 \n",
      " 3   city               1565 non-null   object\n",
      " 4   subscription_type  1565 non-null   object\n",
      "dtypes: int64(2), object(3)\n",
      "memory usage: 61.3+ KB\n",
      "<class 'pandas.core.frame.DataFrame'>\n",
      "RangeIndex: 1565 entries, 0 to 1564\n",
      "Data columns (total 5 columns):\n",
      " #   Column             Non-Null Count  Dtype \n",
      "---  ------             --------------  ----- \n",
      " 0   user_id            1565 non-null   int64 \n",
      " 1   name               1565 non-null   object\n",
      " 2   age                1565 non-null   int64 \n",
      " 3   city               1565 non-null   object\n",
      " 4   subscription_type  1565 non-null   object\n",
      "dtypes: int64(2), object(3)\n",
      "memory usage: 61.3+ KB\n"
     ]
    }
   ],
   "source": [
    "users.info()"
   ]
  },
  {
   "cell_type": "code",
   "execution_count": 51,
   "id": "1530b3e2",
   "metadata": {},
   "outputs": [
    {
     "name": "stdout",
     "output_type": "stream",
     "text": [
      "<class 'pandas.core.frame.DataFrame'>\n",
      "RangeIndex: 18068 entries, 0 to 18067\n",
      "Data columns (total 4 columns):\n",
      " #   Column    Non-Null Count  Dtype  \n",
      "---  ------    --------------  -----  \n",
      " 0   user_id   18068 non-null  int64  \n",
      " 1   distance  18068 non-null  float64\n",
      " 2   duration  18068 non-null  float64\n",
      " 3   date      18068 non-null  object \n",
      "dtypes: float64(2), int64(1), object(1)\n",
      "memory usage: 564.8+ KB\n",
      "<class 'pandas.core.frame.DataFrame'>\n",
      "RangeIndex: 18068 entries, 0 to 18067\n",
      "Data columns (total 4 columns):\n",
      " #   Column    Non-Null Count  Dtype  \n",
      "---  ------    --------------  -----  \n",
      " 0   user_id   18068 non-null  int64  \n",
      " 1   distance  18068 non-null  float64\n",
      " 2   duration  18068 non-null  float64\n",
      " 3   date      18068 non-null  object \n",
      "dtypes: float64(2), int64(1), object(1)\n",
      "memory usage: 564.8+ KB\n"
     ]
    }
   ],
   "source": [
    "rides.info()"
   ]
  },
  {
   "cell_type": "code",
   "execution_count": 52,
   "id": "3476b95e",
   "metadata": {
    "scrolled": true
   },
   "outputs": [
    {
     "name": "stdout",
     "output_type": "stream",
     "text": [
      "<class 'pandas.core.frame.DataFrame'>\n",
      "RangeIndex: 2 entries, 0 to 1\n",
      "Data columns (total 4 columns):\n",
      " #   Column             Non-Null Count  Dtype \n",
      "---  ------             --------------  ----- \n",
      " 0   subscription_type  2 non-null      object\n",
      " 1   minute_price       2 non-null      int64 \n",
      " 2   start_ride_price   2 non-null      int64 \n",
      " 3   subscription_fee   2 non-null      int64 \n",
      "dtypes: int64(3), object(1)\n",
      "memory usage: 192.0+ bytes\n",
      "<class 'pandas.core.frame.DataFrame'>\n",
      "RangeIndex: 2 entries, 0 to 1\n",
      "Data columns (total 4 columns):\n",
      " #   Column             Non-Null Count  Dtype \n",
      "---  ------             --------------  ----- \n",
      " 0   subscription_type  2 non-null      object\n",
      " 1   minute_price       2 non-null      int64 \n",
      " 2   start_ride_price   2 non-null      int64 \n",
      " 3   subscription_fee   2 non-null      int64 \n",
      "dtypes: int64(3), object(1)\n",
      "memory usage: 192.0+ bytes\n"
     ]
    }
   ],
   "source": [
    "subscriptions.info()"
   ]
  },
  {
   "cell_type": "markdown",
   "id": "2656b9f5",
   "metadata": {},
   "source": [
    "По описанию данных видим, что дата хранится в формате object, надо преобразовать к более удобному виду. \n",
    "Столбцы названы корректно, в удобном написании и в соответсвии со значениями в них. \n",
    "Проверим данные на наличие пропусков и дубликатов на следующем шаге. "
   ]
  },
  {
   "cell_type": "markdown",
   "id": "9b5432ca",
   "metadata": {},
   "source": [
    "#### Шаг 2. Предобработка данных"
   ]
  },
  {
   "cell_type": "code",
   "execution_count": 53,
   "id": "77c042e8",
   "metadata": {
    "scrolled": true
   },
   "outputs": [
    {
     "data": {
      "text/html": [
       "<div>\n",
       "<style scoped>\n",
       "    .dataframe tbody tr th:only-of-type {\n",
       "        vertical-align: middle;\n",
       "    }\n",
       "\n",
       "    .dataframe tbody tr th {\n",
       "        vertical-align: top;\n",
       "    }\n",
       "\n",
       "    .dataframe thead th {\n",
       "        text-align: right;\n",
       "    }\n",
       "</style>\n",
       "<table border=\"1\" class=\"dataframe\">\n",
       "  <thead>\n",
       "    <tr style=\"text-align: right;\">\n",
       "      <th></th>\n",
       "      <th>user_id</th>\n",
       "      <th>distance</th>\n",
       "      <th>duration</th>\n",
       "      <th>date</th>\n",
       "      <th>month</th>\n",
       "    </tr>\n",
       "  </thead>\n",
       "  <tbody>\n",
       "    <tr>\n",
       "      <th>0</th>\n",
       "      <td>1</td>\n",
       "      <td>4409.919140</td>\n",
       "      <td>25.599769</td>\n",
       "      <td>2021-01-01</td>\n",
       "      <td>1</td>\n",
       "    </tr>\n",
       "    <tr>\n",
       "      <th>1</th>\n",
       "      <td>1</td>\n",
       "      <td>2617.592153</td>\n",
       "      <td>15.816871</td>\n",
       "      <td>2021-01-18</td>\n",
       "      <td>1</td>\n",
       "    </tr>\n",
       "    <tr>\n",
       "      <th>2</th>\n",
       "      <td>1</td>\n",
       "      <td>754.159807</td>\n",
       "      <td>6.232113</td>\n",
       "      <td>2021-04-20</td>\n",
       "      <td>4</td>\n",
       "    </tr>\n",
       "    <tr>\n",
       "      <th>3</th>\n",
       "      <td>1</td>\n",
       "      <td>2694.783254</td>\n",
       "      <td>18.511000</td>\n",
       "      <td>2021-08-11</td>\n",
       "      <td>8</td>\n",
       "    </tr>\n",
       "    <tr>\n",
       "      <th>4</th>\n",
       "      <td>1</td>\n",
       "      <td>4028.687306</td>\n",
       "      <td>26.265803</td>\n",
       "      <td>2021-08-28</td>\n",
       "      <td>8</td>\n",
       "    </tr>\n",
       "  </tbody>\n",
       "</table>\n",
       "</div>"
      ],
      "text/plain": [
       "   user_id     distance   duration       date  month\n",
       "0        1  4409.919140  25.599769 2021-01-01      1\n",
       "1        1  2617.592153  15.816871 2021-01-18      1\n",
       "2        1   754.159807   6.232113 2021-04-20      4\n",
       "3        1  2694.783254  18.511000 2021-08-11      8\n",
       "4        1  4028.687306  26.265803 2021-08-28      8"
      ]
     },
     "execution_count": 53,
     "metadata": {},
     "output_type": "execute_result"
    },
    {
     "data": {
      "text/html": [
       "<div>\n",
       "<style scoped>\n",
       "    .dataframe tbody tr th:only-of-type {\n",
       "        vertical-align: middle;\n",
       "    }\n",
       "\n",
       "    .dataframe tbody tr th {\n",
       "        vertical-align: top;\n",
       "    }\n",
       "\n",
       "    .dataframe thead th {\n",
       "        text-align: right;\n",
       "    }\n",
       "</style>\n",
       "<table border=\"1\" class=\"dataframe\">\n",
       "  <thead>\n",
       "    <tr style=\"text-align: right;\">\n",
       "      <th></th>\n",
       "      <th>user_id</th>\n",
       "      <th>distance</th>\n",
       "      <th>duration</th>\n",
       "      <th>date</th>\n",
       "      <th>month</th>\n",
       "    </tr>\n",
       "  </thead>\n",
       "  <tbody>\n",
       "    <tr>\n",
       "      <th>0</th>\n",
       "      <td>1</td>\n",
       "      <td>4409.919140</td>\n",
       "      <td>25.599769</td>\n",
       "      <td>2021-01-01</td>\n",
       "      <td>1</td>\n",
       "    </tr>\n",
       "    <tr>\n",
       "      <th>1</th>\n",
       "      <td>1</td>\n",
       "      <td>2617.592153</td>\n",
       "      <td>15.816871</td>\n",
       "      <td>2021-01-18</td>\n",
       "      <td>1</td>\n",
       "    </tr>\n",
       "    <tr>\n",
       "      <th>2</th>\n",
       "      <td>1</td>\n",
       "      <td>754.159807</td>\n",
       "      <td>6.232113</td>\n",
       "      <td>2021-04-20</td>\n",
       "      <td>4</td>\n",
       "    </tr>\n",
       "    <tr>\n",
       "      <th>3</th>\n",
       "      <td>1</td>\n",
       "      <td>2694.783254</td>\n",
       "      <td>18.511000</td>\n",
       "      <td>2021-08-11</td>\n",
       "      <td>8</td>\n",
       "    </tr>\n",
       "    <tr>\n",
       "      <th>4</th>\n",
       "      <td>1</td>\n",
       "      <td>4028.687306</td>\n",
       "      <td>26.265803</td>\n",
       "      <td>2021-08-28</td>\n",
       "      <td>8</td>\n",
       "    </tr>\n",
       "  </tbody>\n",
       "</table>\n",
       "</div>"
      ],
      "text/plain": [
       "   user_id     distance   duration       date  month\n",
       "0        1  4409.919140  25.599769 2021-01-01      1\n",
       "1        1  2617.592153  15.816871 2021-01-18      1\n",
       "2        1   754.159807   6.232113 2021-04-20      4\n",
       "3        1  2694.783254  18.511000 2021-08-11      8\n",
       "4        1  4028.687306  26.265803 2021-08-28      8"
      ]
     },
     "execution_count": 53,
     "metadata": {},
     "output_type": "execute_result"
    }
   ],
   "source": [
    "rides['date'] = pd.to_datetime(rides['date'], format='%Y-%m-%d') \n",
    "rides['month'] = rides['date'].dt.month\n",
    "rides.head()"
   ]
  },
  {
   "cell_type": "code",
   "execution_count": 54,
   "id": "b53fb4c4",
   "metadata": {},
   "outputs": [
    {
     "name": "stdout",
     "output_type": "stream",
     "text": [
      "<class 'pandas.core.frame.DataFrame'>\n",
      "RangeIndex: 18068 entries, 0 to 18067\n",
      "Data columns (total 5 columns):\n",
      " #   Column    Non-Null Count  Dtype         \n",
      "---  ------    --------------  -----         \n",
      " 0   user_id   18068 non-null  int64         \n",
      " 1   distance  18068 non-null  float64       \n",
      " 2   duration  18068 non-null  float64       \n",
      " 3   date      18068 non-null  datetime64[ns]\n",
      " 4   month     18068 non-null  int64         \n",
      "dtypes: datetime64[ns](1), float64(2), int64(2)\n",
      "memory usage: 705.9 KB\n",
      "<class 'pandas.core.frame.DataFrame'>\n",
      "RangeIndex: 18068 entries, 0 to 18067\n",
      "Data columns (total 5 columns):\n",
      " #   Column    Non-Null Count  Dtype         \n",
      "---  ------    --------------  -----         \n",
      " 0   user_id   18068 non-null  int64         \n",
      " 1   distance  18068 non-null  float64       \n",
      " 2   duration  18068 non-null  float64       \n",
      " 3   date      18068 non-null  datetime64[ns]\n",
      " 4   month     18068 non-null  int64         \n",
      "dtypes: datetime64[ns](1), float64(2), int64(2)\n",
      "memory usage: 705.9 KB\n"
     ]
    }
   ],
   "source": [
    "rides.info()"
   ]
  },
  {
   "cell_type": "code",
   "execution_count": 55,
   "id": "4e388544",
   "metadata": {},
   "outputs": [
    {
     "data": {
      "text/plain": [
       "user_id              0\n",
       "name                 0\n",
       "age                  0\n",
       "city                 0\n",
       "subscription_type    0\n",
       "dtype: int64"
      ]
     },
     "execution_count": 55,
     "metadata": {},
     "output_type": "execute_result"
    },
    {
     "data": {
      "text/plain": [
       "user_id              0\n",
       "name                 0\n",
       "age                  0\n",
       "city                 0\n",
       "subscription_type    0\n",
       "dtype: int64"
      ]
     },
     "execution_count": 55,
     "metadata": {},
     "output_type": "execute_result"
    }
   ],
   "source": [
    "users.isna().sum()"
   ]
  },
  {
   "cell_type": "code",
   "execution_count": 56,
   "id": "4c9648e5",
   "metadata": {},
   "outputs": [
    {
     "data": {
      "text/plain": [
       "user_id     0\n",
       "distance    0\n",
       "duration    0\n",
       "date        0\n",
       "month       0\n",
       "dtype: int64"
      ]
     },
     "execution_count": 56,
     "metadata": {},
     "output_type": "execute_result"
    },
    {
     "data": {
      "text/plain": [
       "user_id     0\n",
       "distance    0\n",
       "duration    0\n",
       "date        0\n",
       "month       0\n",
       "dtype: int64"
      ]
     },
     "execution_count": 56,
     "metadata": {},
     "output_type": "execute_result"
    }
   ],
   "source": [
    "rides.isna().sum()"
   ]
  },
  {
   "cell_type": "code",
   "execution_count": 57,
   "id": "aa10f3a0",
   "metadata": {},
   "outputs": [
    {
     "data": {
      "text/plain": [
       "subscription_type    0\n",
       "minute_price         0\n",
       "start_ride_price     0\n",
       "subscription_fee     0\n",
       "dtype: int64"
      ]
     },
     "execution_count": 57,
     "metadata": {},
     "output_type": "execute_result"
    },
    {
     "data": {
      "text/plain": [
       "subscription_type    0\n",
       "minute_price         0\n",
       "start_ride_price     0\n",
       "subscription_fee     0\n",
       "dtype: int64"
      ]
     },
     "execution_count": 57,
     "metadata": {},
     "output_type": "execute_result"
    }
   ],
   "source": [
    "subscriptions.isna().sum()"
   ]
  },
  {
   "cell_type": "markdown",
   "id": "b5a9c22f",
   "metadata": {},
   "source": [
    "Пропусков в датафреймах не обнаружено, посмотрим, есть ли дубикаты. "
   ]
  },
  {
   "cell_type": "code",
   "execution_count": 58,
   "id": "c356512e",
   "metadata": {},
   "outputs": [
    {
     "data": {
      "text/html": [
       "<div>\n",
       "<style scoped>\n",
       "    .dataframe tbody tr th:only-of-type {\n",
       "        vertical-align: middle;\n",
       "    }\n",
       "\n",
       "    .dataframe tbody tr th {\n",
       "        vertical-align: top;\n",
       "    }\n",
       "\n",
       "    .dataframe thead th {\n",
       "        text-align: right;\n",
       "    }\n",
       "</style>\n",
       "<table border=\"1\" class=\"dataframe\">\n",
       "  <thead>\n",
       "    <tr style=\"text-align: right;\">\n",
       "      <th></th>\n",
       "      <th>user_id</th>\n",
       "      <th>name</th>\n",
       "      <th>age</th>\n",
       "      <th>city</th>\n",
       "      <th>subscription_type</th>\n",
       "    </tr>\n",
       "  </thead>\n",
       "  <tbody>\n",
       "    <tr>\n",
       "      <th>1534</th>\n",
       "      <td>293</td>\n",
       "      <td>Агата</td>\n",
       "      <td>26</td>\n",
       "      <td>Краснодар</td>\n",
       "      <td>ultra</td>\n",
       "    </tr>\n",
       "    <tr>\n",
       "      <th>1535</th>\n",
       "      <td>16</td>\n",
       "      <td>Амалия</td>\n",
       "      <td>27</td>\n",
       "      <td>Краснодар</td>\n",
       "      <td>ultra</td>\n",
       "    </tr>\n",
       "    <tr>\n",
       "      <th>1536</th>\n",
       "      <td>909</td>\n",
       "      <td>Константин</td>\n",
       "      <td>20</td>\n",
       "      <td>Екатеринбург</td>\n",
       "      <td>free</td>\n",
       "    </tr>\n",
       "    <tr>\n",
       "      <th>1537</th>\n",
       "      <td>403</td>\n",
       "      <td>Полина</td>\n",
       "      <td>19</td>\n",
       "      <td>Сочи</td>\n",
       "      <td>ultra</td>\n",
       "    </tr>\n",
       "    <tr>\n",
       "      <th>1538</th>\n",
       "      <td>908</td>\n",
       "      <td>Рустам</td>\n",
       "      <td>30</td>\n",
       "      <td>Тюмень</td>\n",
       "      <td>free</td>\n",
       "    </tr>\n",
       "    <tr>\n",
       "      <th>1539</th>\n",
       "      <td>43</td>\n",
       "      <td>Стефания</td>\n",
       "      <td>22</td>\n",
       "      <td>Омск</td>\n",
       "      <td>ultra</td>\n",
       "    </tr>\n",
       "    <tr>\n",
       "      <th>1540</th>\n",
       "      <td>127</td>\n",
       "      <td>Павел</td>\n",
       "      <td>25</td>\n",
       "      <td>Пятигорск</td>\n",
       "      <td>ultra</td>\n",
       "    </tr>\n",
       "    <tr>\n",
       "      <th>1541</th>\n",
       "      <td>659</td>\n",
       "      <td>Злата</td>\n",
       "      <td>27</td>\n",
       "      <td>Ростов-на-Дону</td>\n",
       "      <td>ultra</td>\n",
       "    </tr>\n",
       "    <tr>\n",
       "      <th>1542</th>\n",
       "      <td>204</td>\n",
       "      <td>Руслан</td>\n",
       "      <td>30</td>\n",
       "      <td>Пятигорск</td>\n",
       "      <td>ultra</td>\n",
       "    </tr>\n",
       "    <tr>\n",
       "      <th>1543</th>\n",
       "      <td>153</td>\n",
       "      <td>Герман</td>\n",
       "      <td>23</td>\n",
       "      <td>Москва</td>\n",
       "      <td>ultra</td>\n",
       "    </tr>\n",
       "    <tr>\n",
       "      <th>1544</th>\n",
       "      <td>1245</td>\n",
       "      <td>Регина</td>\n",
       "      <td>27</td>\n",
       "      <td>Пятигорск</td>\n",
       "      <td>free</td>\n",
       "    </tr>\n",
       "    <tr>\n",
       "      <th>1545</th>\n",
       "      <td>807</td>\n",
       "      <td>Александр</td>\n",
       "      <td>28</td>\n",
       "      <td>Екатеринбург</td>\n",
       "      <td>free</td>\n",
       "    </tr>\n",
       "    <tr>\n",
       "      <th>1546</th>\n",
       "      <td>924</td>\n",
       "      <td>Мария</td>\n",
       "      <td>23</td>\n",
       "      <td>Пятигорск</td>\n",
       "      <td>free</td>\n",
       "    </tr>\n",
       "    <tr>\n",
       "      <th>1547</th>\n",
       "      <td>635</td>\n",
       "      <td>Герман</td>\n",
       "      <td>21</td>\n",
       "      <td>Москва</td>\n",
       "      <td>ultra</td>\n",
       "    </tr>\n",
       "    <tr>\n",
       "      <th>1548</th>\n",
       "      <td>136</td>\n",
       "      <td>Марсель</td>\n",
       "      <td>25</td>\n",
       "      <td>Тюмень</td>\n",
       "      <td>ultra</td>\n",
       "    </tr>\n",
       "    <tr>\n",
       "      <th>1549</th>\n",
       "      <td>108</td>\n",
       "      <td>Влада</td>\n",
       "      <td>29</td>\n",
       "      <td>Тюмень</td>\n",
       "      <td>ultra</td>\n",
       "    </tr>\n",
       "    <tr>\n",
       "      <th>1550</th>\n",
       "      <td>737</td>\n",
       "      <td>Мелания</td>\n",
       "      <td>27</td>\n",
       "      <td>Ростов-на-Дону</td>\n",
       "      <td>free</td>\n",
       "    </tr>\n",
       "    <tr>\n",
       "      <th>1551</th>\n",
       "      <td>666</td>\n",
       "      <td>Зарина</td>\n",
       "      <td>29</td>\n",
       "      <td>Москва</td>\n",
       "      <td>ultra</td>\n",
       "    </tr>\n",
       "    <tr>\n",
       "      <th>1552</th>\n",
       "      <td>297</td>\n",
       "      <td>Егор</td>\n",
       "      <td>33</td>\n",
       "      <td>Пятигорск</td>\n",
       "      <td>ultra</td>\n",
       "    </tr>\n",
       "    <tr>\n",
       "      <th>1553</th>\n",
       "      <td>121</td>\n",
       "      <td>Алина</td>\n",
       "      <td>25</td>\n",
       "      <td>Пятигорск</td>\n",
       "      <td>ultra</td>\n",
       "    </tr>\n",
       "    <tr>\n",
       "      <th>1554</th>\n",
       "      <td>1198</td>\n",
       "      <td>Демид</td>\n",
       "      <td>29</td>\n",
       "      <td>Ростов-на-Дону</td>\n",
       "      <td>free</td>\n",
       "    </tr>\n",
       "    <tr>\n",
       "      <th>1555</th>\n",
       "      <td>72</td>\n",
       "      <td>Никита</td>\n",
       "      <td>25</td>\n",
       "      <td>Москва</td>\n",
       "      <td>ultra</td>\n",
       "    </tr>\n",
       "    <tr>\n",
       "      <th>1556</th>\n",
       "      <td>422</td>\n",
       "      <td>Кирилл</td>\n",
       "      <td>27</td>\n",
       "      <td>Сочи</td>\n",
       "      <td>ultra</td>\n",
       "    </tr>\n",
       "    <tr>\n",
       "      <th>1557</th>\n",
       "      <td>611</td>\n",
       "      <td>Владимир</td>\n",
       "      <td>28</td>\n",
       "      <td>Омск</td>\n",
       "      <td>ultra</td>\n",
       "    </tr>\n",
       "    <tr>\n",
       "      <th>1558</th>\n",
       "      <td>1237</td>\n",
       "      <td>Евгения</td>\n",
       "      <td>23</td>\n",
       "      <td>Тюмень</td>\n",
       "      <td>free</td>\n",
       "    </tr>\n",
       "    <tr>\n",
       "      <th>1559</th>\n",
       "      <td>209</td>\n",
       "      <td>Андрей</td>\n",
       "      <td>23</td>\n",
       "      <td>Омск</td>\n",
       "      <td>ultra</td>\n",
       "    </tr>\n",
       "    <tr>\n",
       "      <th>1560</th>\n",
       "      <td>829</td>\n",
       "      <td>Федор</td>\n",
       "      <td>29</td>\n",
       "      <td>Пятигорск</td>\n",
       "      <td>free</td>\n",
       "    </tr>\n",
       "    <tr>\n",
       "      <th>1561</th>\n",
       "      <td>809</td>\n",
       "      <td>Юрий</td>\n",
       "      <td>26</td>\n",
       "      <td>Сочи</td>\n",
       "      <td>free</td>\n",
       "    </tr>\n",
       "    <tr>\n",
       "      <th>1562</th>\n",
       "      <td>307</td>\n",
       "      <td>Ясмина</td>\n",
       "      <td>19</td>\n",
       "      <td>Краснодар</td>\n",
       "      <td>ultra</td>\n",
       "    </tr>\n",
       "    <tr>\n",
       "      <th>1563</th>\n",
       "      <td>47</td>\n",
       "      <td>Юрий</td>\n",
       "      <td>28</td>\n",
       "      <td>Тюмень</td>\n",
       "      <td>ultra</td>\n",
       "    </tr>\n",
       "    <tr>\n",
       "      <th>1564</th>\n",
       "      <td>1045</td>\n",
       "      <td>Артемий</td>\n",
       "      <td>28</td>\n",
       "      <td>Ростов-на-Дону</td>\n",
       "      <td>free</td>\n",
       "    </tr>\n",
       "  </tbody>\n",
       "</table>\n",
       "</div>"
      ],
      "text/plain": [
       "      user_id        name  age            city subscription_type\n",
       "1534      293       Агата   26       Краснодар             ultra\n",
       "1535       16      Амалия   27       Краснодар             ultra\n",
       "1536      909  Константин   20    Екатеринбург              free\n",
       "1537      403      Полина   19            Сочи             ultra\n",
       "1538      908      Рустам   30          Тюмень              free\n",
       "1539       43    Стефания   22            Омск             ultra\n",
       "1540      127       Павел   25       Пятигорск             ultra\n",
       "1541      659       Злата   27  Ростов-на-Дону             ultra\n",
       "1542      204      Руслан   30       Пятигорск             ultra\n",
       "1543      153      Герман   23          Москва             ultra\n",
       "1544     1245      Регина   27       Пятигорск              free\n",
       "1545      807   Александр   28    Екатеринбург              free\n",
       "1546      924       Мария   23       Пятигорск              free\n",
       "1547      635      Герман   21          Москва             ultra\n",
       "1548      136     Марсель   25          Тюмень             ultra\n",
       "1549      108       Влада   29          Тюмень             ultra\n",
       "1550      737     Мелания   27  Ростов-на-Дону              free\n",
       "1551      666      Зарина   29          Москва             ultra\n",
       "1552      297        Егор   33       Пятигорск             ultra\n",
       "1553      121       Алина   25       Пятигорск             ultra\n",
       "1554     1198       Демид   29  Ростов-на-Дону              free\n",
       "1555       72      Никита   25          Москва             ultra\n",
       "1556      422      Кирилл   27            Сочи             ultra\n",
       "1557      611    Владимир   28            Омск             ultra\n",
       "1558     1237     Евгения   23          Тюмень              free\n",
       "1559      209      Андрей   23            Омск             ultra\n",
       "1560      829       Федор   29       Пятигорск              free\n",
       "1561      809        Юрий   26            Сочи              free\n",
       "1562      307      Ясмина   19       Краснодар             ultra\n",
       "1563       47        Юрий   28          Тюмень             ultra\n",
       "1564     1045     Артемий   28  Ростов-на-Дону              free"
      ]
     },
     "execution_count": 58,
     "metadata": {},
     "output_type": "execute_result"
    },
    {
     "data": {
      "text/html": [
       "<div>\n",
       "<style scoped>\n",
       "    .dataframe tbody tr th:only-of-type {\n",
       "        vertical-align: middle;\n",
       "    }\n",
       "\n",
       "    .dataframe tbody tr th {\n",
       "        vertical-align: top;\n",
       "    }\n",
       "\n",
       "    .dataframe thead th {\n",
       "        text-align: right;\n",
       "    }\n",
       "</style>\n",
       "<table border=\"1\" class=\"dataframe\">\n",
       "  <thead>\n",
       "    <tr style=\"text-align: right;\">\n",
       "      <th></th>\n",
       "      <th>user_id</th>\n",
       "      <th>name</th>\n",
       "      <th>age</th>\n",
       "      <th>city</th>\n",
       "      <th>subscription_type</th>\n",
       "    </tr>\n",
       "  </thead>\n",
       "  <tbody>\n",
       "    <tr>\n",
       "      <th>1534</th>\n",
       "      <td>293</td>\n",
       "      <td>Агата</td>\n",
       "      <td>26</td>\n",
       "      <td>Краснодар</td>\n",
       "      <td>ultra</td>\n",
       "    </tr>\n",
       "    <tr>\n",
       "      <th>1535</th>\n",
       "      <td>16</td>\n",
       "      <td>Амалия</td>\n",
       "      <td>27</td>\n",
       "      <td>Краснодар</td>\n",
       "      <td>ultra</td>\n",
       "    </tr>\n",
       "    <tr>\n",
       "      <th>1536</th>\n",
       "      <td>909</td>\n",
       "      <td>Константин</td>\n",
       "      <td>20</td>\n",
       "      <td>Екатеринбург</td>\n",
       "      <td>free</td>\n",
       "    </tr>\n",
       "    <tr>\n",
       "      <th>1537</th>\n",
       "      <td>403</td>\n",
       "      <td>Полина</td>\n",
       "      <td>19</td>\n",
       "      <td>Сочи</td>\n",
       "      <td>ultra</td>\n",
       "    </tr>\n",
       "    <tr>\n",
       "      <th>1538</th>\n",
       "      <td>908</td>\n",
       "      <td>Рустам</td>\n",
       "      <td>30</td>\n",
       "      <td>Тюмень</td>\n",
       "      <td>free</td>\n",
       "    </tr>\n",
       "    <tr>\n",
       "      <th>1539</th>\n",
       "      <td>43</td>\n",
       "      <td>Стефания</td>\n",
       "      <td>22</td>\n",
       "      <td>Омск</td>\n",
       "      <td>ultra</td>\n",
       "    </tr>\n",
       "    <tr>\n",
       "      <th>1540</th>\n",
       "      <td>127</td>\n",
       "      <td>Павел</td>\n",
       "      <td>25</td>\n",
       "      <td>Пятигорск</td>\n",
       "      <td>ultra</td>\n",
       "    </tr>\n",
       "    <tr>\n",
       "      <th>1541</th>\n",
       "      <td>659</td>\n",
       "      <td>Злата</td>\n",
       "      <td>27</td>\n",
       "      <td>Ростов-на-Дону</td>\n",
       "      <td>ultra</td>\n",
       "    </tr>\n",
       "    <tr>\n",
       "      <th>1542</th>\n",
       "      <td>204</td>\n",
       "      <td>Руслан</td>\n",
       "      <td>30</td>\n",
       "      <td>Пятигорск</td>\n",
       "      <td>ultra</td>\n",
       "    </tr>\n",
       "    <tr>\n",
       "      <th>1543</th>\n",
       "      <td>153</td>\n",
       "      <td>Герман</td>\n",
       "      <td>23</td>\n",
       "      <td>Москва</td>\n",
       "      <td>ultra</td>\n",
       "    </tr>\n",
       "    <tr>\n",
       "      <th>1544</th>\n",
       "      <td>1245</td>\n",
       "      <td>Регина</td>\n",
       "      <td>27</td>\n",
       "      <td>Пятигорск</td>\n",
       "      <td>free</td>\n",
       "    </tr>\n",
       "    <tr>\n",
       "      <th>1545</th>\n",
       "      <td>807</td>\n",
       "      <td>Александр</td>\n",
       "      <td>28</td>\n",
       "      <td>Екатеринбург</td>\n",
       "      <td>free</td>\n",
       "    </tr>\n",
       "    <tr>\n",
       "      <th>1546</th>\n",
       "      <td>924</td>\n",
       "      <td>Мария</td>\n",
       "      <td>23</td>\n",
       "      <td>Пятигорск</td>\n",
       "      <td>free</td>\n",
       "    </tr>\n",
       "    <tr>\n",
       "      <th>1547</th>\n",
       "      <td>635</td>\n",
       "      <td>Герман</td>\n",
       "      <td>21</td>\n",
       "      <td>Москва</td>\n",
       "      <td>ultra</td>\n",
       "    </tr>\n",
       "    <tr>\n",
       "      <th>1548</th>\n",
       "      <td>136</td>\n",
       "      <td>Марсель</td>\n",
       "      <td>25</td>\n",
       "      <td>Тюмень</td>\n",
       "      <td>ultra</td>\n",
       "    </tr>\n",
       "    <tr>\n",
       "      <th>1549</th>\n",
       "      <td>108</td>\n",
       "      <td>Влада</td>\n",
       "      <td>29</td>\n",
       "      <td>Тюмень</td>\n",
       "      <td>ultra</td>\n",
       "    </tr>\n",
       "    <tr>\n",
       "      <th>1550</th>\n",
       "      <td>737</td>\n",
       "      <td>Мелания</td>\n",
       "      <td>27</td>\n",
       "      <td>Ростов-на-Дону</td>\n",
       "      <td>free</td>\n",
       "    </tr>\n",
       "    <tr>\n",
       "      <th>1551</th>\n",
       "      <td>666</td>\n",
       "      <td>Зарина</td>\n",
       "      <td>29</td>\n",
       "      <td>Москва</td>\n",
       "      <td>ultra</td>\n",
       "    </tr>\n",
       "    <tr>\n",
       "      <th>1552</th>\n",
       "      <td>297</td>\n",
       "      <td>Егор</td>\n",
       "      <td>33</td>\n",
       "      <td>Пятигорск</td>\n",
       "      <td>ultra</td>\n",
       "    </tr>\n",
       "    <tr>\n",
       "      <th>1553</th>\n",
       "      <td>121</td>\n",
       "      <td>Алина</td>\n",
       "      <td>25</td>\n",
       "      <td>Пятигорск</td>\n",
       "      <td>ultra</td>\n",
       "    </tr>\n",
       "    <tr>\n",
       "      <th>1554</th>\n",
       "      <td>1198</td>\n",
       "      <td>Демид</td>\n",
       "      <td>29</td>\n",
       "      <td>Ростов-на-Дону</td>\n",
       "      <td>free</td>\n",
       "    </tr>\n",
       "    <tr>\n",
       "      <th>1555</th>\n",
       "      <td>72</td>\n",
       "      <td>Никита</td>\n",
       "      <td>25</td>\n",
       "      <td>Москва</td>\n",
       "      <td>ultra</td>\n",
       "    </tr>\n",
       "    <tr>\n",
       "      <th>1556</th>\n",
       "      <td>422</td>\n",
       "      <td>Кирилл</td>\n",
       "      <td>27</td>\n",
       "      <td>Сочи</td>\n",
       "      <td>ultra</td>\n",
       "    </tr>\n",
       "    <tr>\n",
       "      <th>1557</th>\n",
       "      <td>611</td>\n",
       "      <td>Владимир</td>\n",
       "      <td>28</td>\n",
       "      <td>Омск</td>\n",
       "      <td>ultra</td>\n",
       "    </tr>\n",
       "    <tr>\n",
       "      <th>1558</th>\n",
       "      <td>1237</td>\n",
       "      <td>Евгения</td>\n",
       "      <td>23</td>\n",
       "      <td>Тюмень</td>\n",
       "      <td>free</td>\n",
       "    </tr>\n",
       "    <tr>\n",
       "      <th>1559</th>\n",
       "      <td>209</td>\n",
       "      <td>Андрей</td>\n",
       "      <td>23</td>\n",
       "      <td>Омск</td>\n",
       "      <td>ultra</td>\n",
       "    </tr>\n",
       "    <tr>\n",
       "      <th>1560</th>\n",
       "      <td>829</td>\n",
       "      <td>Федор</td>\n",
       "      <td>29</td>\n",
       "      <td>Пятигорск</td>\n",
       "      <td>free</td>\n",
       "    </tr>\n",
       "    <tr>\n",
       "      <th>1561</th>\n",
       "      <td>809</td>\n",
       "      <td>Юрий</td>\n",
       "      <td>26</td>\n",
       "      <td>Сочи</td>\n",
       "      <td>free</td>\n",
       "    </tr>\n",
       "    <tr>\n",
       "      <th>1562</th>\n",
       "      <td>307</td>\n",
       "      <td>Ясмина</td>\n",
       "      <td>19</td>\n",
       "      <td>Краснодар</td>\n",
       "      <td>ultra</td>\n",
       "    </tr>\n",
       "    <tr>\n",
       "      <th>1563</th>\n",
       "      <td>47</td>\n",
       "      <td>Юрий</td>\n",
       "      <td>28</td>\n",
       "      <td>Тюмень</td>\n",
       "      <td>ultra</td>\n",
       "    </tr>\n",
       "    <tr>\n",
       "      <th>1564</th>\n",
       "      <td>1045</td>\n",
       "      <td>Артемий</td>\n",
       "      <td>28</td>\n",
       "      <td>Ростов-на-Дону</td>\n",
       "      <td>free</td>\n",
       "    </tr>\n",
       "  </tbody>\n",
       "</table>\n",
       "</div>"
      ],
      "text/plain": [
       "      user_id        name  age            city subscription_type\n",
       "1534      293       Агата   26       Краснодар             ultra\n",
       "1535       16      Амалия   27       Краснодар             ultra\n",
       "1536      909  Константин   20    Екатеринбург              free\n",
       "1537      403      Полина   19            Сочи             ultra\n",
       "1538      908      Рустам   30          Тюмень              free\n",
       "1539       43    Стефания   22            Омск             ultra\n",
       "1540      127       Павел   25       Пятигорск             ultra\n",
       "1541      659       Злата   27  Ростов-на-Дону             ultra\n",
       "1542      204      Руслан   30       Пятигорск             ultra\n",
       "1543      153      Герман   23          Москва             ultra\n",
       "1544     1245      Регина   27       Пятигорск              free\n",
       "1545      807   Александр   28    Екатеринбург              free\n",
       "1546      924       Мария   23       Пятигорск              free\n",
       "1547      635      Герман   21          Москва             ultra\n",
       "1548      136     Марсель   25          Тюмень             ultra\n",
       "1549      108       Влада   29          Тюмень             ultra\n",
       "1550      737     Мелания   27  Ростов-на-Дону              free\n",
       "1551      666      Зарина   29          Москва             ultra\n",
       "1552      297        Егор   33       Пятигорск             ultra\n",
       "1553      121       Алина   25       Пятигорск             ultra\n",
       "1554     1198       Демид   29  Ростов-на-Дону              free\n",
       "1555       72      Никита   25          Москва             ultra\n",
       "1556      422      Кирилл   27            Сочи             ultra\n",
       "1557      611    Владимир   28            Омск             ultra\n",
       "1558     1237     Евгения   23          Тюмень              free\n",
       "1559      209      Андрей   23            Омск             ultra\n",
       "1560      829       Федор   29       Пятигорск              free\n",
       "1561      809        Юрий   26            Сочи              free\n",
       "1562      307      Ясмина   19       Краснодар             ultra\n",
       "1563       47        Юрий   28          Тюмень             ultra\n",
       "1564     1045     Артемий   28  Ростов-на-Дону              free"
      ]
     },
     "execution_count": 58,
     "metadata": {},
     "output_type": "execute_result"
    }
   ],
   "source": [
    "users[users.duplicated()]"
   ]
  },
  {
   "cell_type": "code",
   "execution_count": 59,
   "id": "fffa0c0f",
   "metadata": {},
   "outputs": [
    {
     "data": {
      "text/plain": [
       "31"
      ]
     },
     "execution_count": 59,
     "metadata": {},
     "output_type": "execute_result"
    },
    {
     "data": {
      "text/plain": [
       "31"
      ]
     },
     "execution_count": 59,
     "metadata": {},
     "output_type": "execute_result"
    }
   ],
   "source": [
    "users['user_id'].duplicated().sum()"
   ]
  },
  {
   "cell_type": "code",
   "execution_count": 60,
   "id": "3c3956e4",
   "metadata": {},
   "outputs": [
    {
     "data": {
      "text/plain": [
       "0"
      ]
     },
     "execution_count": 60,
     "metadata": {},
     "output_type": "execute_result"
    },
    {
     "data": {
      "text/plain": [
       "0"
      ]
     },
     "execution_count": 60,
     "metadata": {},
     "output_type": "execute_result"
    }
   ],
   "source": [
    "users = users.drop_duplicates(subset=['user_id'], keep='first')\n",
    "users['user_id'].duplicated().sum()"
   ]
  },
  {
   "cell_type": "code",
   "execution_count": 61,
   "id": "85f5812b",
   "metadata": {},
   "outputs": [
    {
     "data": {
      "text/plain": [
       "0"
      ]
     },
     "execution_count": 61,
     "metadata": {},
     "output_type": "execute_result"
    },
    {
     "data": {
      "text/plain": [
       "0"
      ]
     },
     "execution_count": 61,
     "metadata": {},
     "output_type": "execute_result"
    }
   ],
   "source": [
    "rides.duplicated().sum()"
   ]
  },
  {
   "cell_type": "markdown",
   "id": "65202f4f",
   "metadata": {},
   "source": [
    "Дубликаты в исходных данных заменяем только в значении user_id из таблицы users, оставляя только первое вхождение идентификатора пользователя, так как чаще всего именно первая запись пользователя является оригиналом, а остальные могли возникнуть из-за технической ошибки, такой способ избавления от дубликатов наименее исказит дальнейший анализ. Остальные дубликаты связаны с характеристикой, которая может совпасть для разных пользователей. Пропусков в данных не обнаружено. "
   ]
  },
  {
   "cell_type": "markdown",
   "id": "622da3e0",
   "metadata": {},
   "source": [
    "#### Шаг 3. Исследовательский анализ данных"
   ]
  },
  {
   "cell_type": "code",
   "execution_count": 62,
   "id": "a7254e87",
   "metadata": {},
   "outputs": [
    {
     "data": {
      "text/plain": [
       "<AxesSubplot:title={'center':'частота встречаемости городов'}>"
      ]
     },
     "execution_count": 62,
     "metadata": {},
     "output_type": "execute_result"
    },
    {
     "data": {
      "text/plain": [
       "<AxesSubplot:title={'center':'частота встречаемости городов'}>"
      ]
     },
     "execution_count": 62,
     "metadata": {},
     "output_type": "execute_result"
    },
    {
     "data": {
      "image/png": "[encoded data removed]",
      "text/plain": [
       "<Figure size 432x288 with 1 Axes>"
      ]
     },
     "metadata": {
      "needs_background": "light"
     },
     "output_type": "display_data"
    },
    {
     "data": {
      "image/png": "[encoded data removed]",
      "text/plain": [
       "<Figure size 432x288 with 1 Axes>"
      ]
     },
     "metadata": {
      "needs_background": "light"
     },
     "output_type": "display_data"
    }
   ],
   "source": [
    "users['city'].value_counts(ascending=False).plot(kind='barh', title='частота встречаемости городов')"
   ]
  },
  {
   "cell_type": "code",
   "execution_count": 63,
   "id": "695a75d2",
   "metadata": {},
   "outputs": [
    {
     "data": {
      "text/plain": [
       "<AxesSubplot:title={'center':'соотношение пользователей с подпиской и без подписки'}, ylabel='subscription_type'>"
      ]
     },
     "execution_count": 63,
     "metadata": {},
     "output_type": "execute_result"
    },
    {
     "data": {
      "text/plain": [
       "<AxesSubplot:title={'center':'соотношение пользователей с подпиской и без подписки'}, ylabel='subscription_type'>"
      ]
     },
     "execution_count": 63,
     "metadata": {},
     "output_type": "execute_result"
    },
    {
     "data": {
      "image/png": "[encoded data removed]",
      "text/plain": [
       "<Figure size 432x288 with 1 Axes>"
      ]
     },
     "metadata": {},
     "output_type": "display_data"
    },
    {
     "data": {
      "image/png": "[encoded data removed]",
      "text/plain": [
       "<Figure size 432x288 with 1 Axes>"
      ]
     },
     "metadata": {},
     "output_type": "display_data"
    }
   ],
   "source": [
    "users['subscription_type'].value_counts().plot(kind='pie', title='соотношение пользователей с подпиской и без подписки', autopct='%1.1f%%')"
   ]
  },
  {
   "cell_type": "code",
   "execution_count": 64,
   "id": "5e64fcf6",
   "metadata": {},
   "outputs": [
    {
     "data": {
      "text/plain": [
       "Text(0, 0.5, 'Количество пользователей')"
      ]
     },
     "execution_count": 64,
     "metadata": {},
     "output_type": "execute_result"
    },
    {
     "data": {
      "text/plain": [
       "Text(0, 0.5, 'Количество пользователей')"
      ]
     },
     "execution_count": 64,
     "metadata": {},
     "output_type": "execute_result"
    },
    {
     "data": {
      "image/png": "[encoded data removed]",
      "text/plain": [
       "<Figure size 432x288 with 1 Axes>"
      ]
     },
     "metadata": {
      "needs_background": "light"
     },
     "output_type": "display_data"
    },
    {
     "data": {
      "image/png": "[encoded data removed]",
      "text/plain": [
       "<Figure size 432x288 with 1 Axes>"
      ]
     },
     "metadata": {
      "needs_background": "light"
     },
     "output_type": "display_data"
    }
   ],
   "source": [
    "users['age'].plot(kind='hist', title='средний возраст пользователей')\n",
    "plt.xlabel('Возраст') \n",
    "plt.ylabel('Количество пользователей')"
   ]
  },
  {
   "cell_type": "code",
   "execution_count": 65,
   "id": "8f637824",
   "metadata": {},
   "outputs": [
    {
     "data": {
      "text/plain": [
       "Text(0, 0.5, 'количество пользователей')"
      ]
     },
     "execution_count": 65,
     "metadata": {},
     "output_type": "execute_result"
    },
    {
     "data": {
      "text/plain": [
       "Text(0, 0.5, 'количество пользователей')"
      ]
     },
     "execution_count": 65,
     "metadata": {},
     "output_type": "execute_result"
    },
    {
     "data": {
      "image/png": "[encoded data removed]",
      "text/plain": [
       "<Figure size 432x288 with 1 Axes>"
      ]
     },
     "metadata": {
      "needs_background": "light"
     },
     "output_type": "display_data"
    },
    {
     "data": {
      "image/png": "[encoded data removed]",
      "text/plain": [
       "<Figure size 432x288 with 1 Axes>"
      ]
     },
     "metadata": {
      "needs_background": "light"
     },
     "output_type": "display_data"
    }
   ],
   "source": [
    "rides['distance'].plot(kind='hist', bins=30, title='расстояние за одну поездку')\n",
    "plt.xlabel('расстояние за одну поездку') \n",
    "plt.ylabel('количество пользователей')"
   ]
  },
  {
   "cell_type": "code",
   "execution_count": 66,
   "id": "ce17473a",
   "metadata": {},
   "outputs": [
    {
     "data": {
      "text/plain": [
       "Text(0, 0.5, 'количество поездок')"
      ]
     },
     "execution_count": 66,
     "metadata": {},
     "output_type": "execute_result"
    },
    {
     "data": {
      "text/plain": [
       "Text(0, 0.5, 'количество поездок')"
      ]
     },
     "execution_count": 66,
     "metadata": {},
     "output_type": "execute_result"
    },
    {
     "data": {
      "image/png": "[encoded data removed]",
      "text/plain": [
       "<Figure size 432x288 with 1 Axes>"
      ]
     },
     "metadata": {
      "needs_background": "light"
     },
     "output_type": "display_data"
    },
    {
     "data": {
      "image/png": "[encoded data removed]",
      "text/plain": [
       "<Figure size 432x288 with 1 Axes>"
      ]
     },
     "metadata": {
      "needs_background": "light"
     },
     "output_type": "display_data"
    }
   ],
   "source": [
    "rides['duration'].plot(kind='hist', bins=30, title='продолжительность поездок')\n",
    "plt.xlabel('время за одну поездку') \n",
    "plt.ylabel('количество поездок')"
   ]
  },
  {
   "cell_type": "markdown",
   "id": "e68c300e",
   "metadata": {},
   "source": [
    "Чаще всего самокаты используются в Пятигорске. Процент пользователей с подпиской и без нее сильно не отличается, но больше людей без нее. Наибольшем спросом услуги по аренде самоката пользуюся у молодежи (21-25 лет). Распределение продолжительности поездок близко к нормальному с медианой в 15-20 минут. Чаще всего пользователи проезжают 3000-4000 метров за одну поездку "
   ]
  },
  {
   "cell_type": "markdown",
   "id": "1682ffc8",
   "metadata": {},
   "source": [
    "#### Шаг 4. Объединение данных"
   ]
  },
  {
   "cell_type": "code",
   "execution_count": 67,
   "id": "ae70aef9",
   "metadata": {
    "scrolled": true
   },
   "outputs": [
    {
     "data": {
      "text/html": [
       "<div>\n",
       "<style scoped>\n",
       "    .dataframe tbody tr th:only-of-type {\n",
       "        vertical-align: middle;\n",
       "    }\n",
       "\n",
       "    .dataframe tbody tr th {\n",
       "        vertical-align: top;\n",
       "    }\n",
       "\n",
       "    .dataframe thead th {\n",
       "        text-align: right;\n",
       "    }\n",
       "</style>\n",
       "<table border=\"1\" class=\"dataframe\">\n",
       "  <thead>\n",
       "    <tr style=\"text-align: right;\">\n",
       "      <th></th>\n",
       "      <th>user_id</th>\n",
       "      <th>name</th>\n",
       "      <th>age</th>\n",
       "      <th>city</th>\n",
       "      <th>subscription_type</th>\n",
       "      <th>distance</th>\n",
       "      <th>duration</th>\n",
       "      <th>date</th>\n",
       "      <th>month</th>\n",
       "      <th>minute_price</th>\n",
       "      <th>start_ride_price</th>\n",
       "      <th>subscription_fee</th>\n",
       "    </tr>\n",
       "  </thead>\n",
       "  <tbody>\n",
       "    <tr>\n",
       "      <th>0</th>\n",
       "      <td>1</td>\n",
       "      <td>Кира</td>\n",
       "      <td>22</td>\n",
       "      <td>Тюмень</td>\n",
       "      <td>ultra</td>\n",
       "      <td>4409.919140</td>\n",
       "      <td>25.599769</td>\n",
       "      <td>2021-01-01</td>\n",
       "      <td>1</td>\n",
       "      <td>6</td>\n",
       "      <td>0</td>\n",
       "      <td>199</td>\n",
       "    </tr>\n",
       "    <tr>\n",
       "      <th>1</th>\n",
       "      <td>1</td>\n",
       "      <td>Кира</td>\n",
       "      <td>22</td>\n",
       "      <td>Тюмень</td>\n",
       "      <td>ultra</td>\n",
       "      <td>2617.592153</td>\n",
       "      <td>15.816871</td>\n",
       "      <td>2021-01-18</td>\n",
       "      <td>1</td>\n",
       "      <td>6</td>\n",
       "      <td>0</td>\n",
       "      <td>199</td>\n",
       "    </tr>\n",
       "    <tr>\n",
       "      <th>2</th>\n",
       "      <td>1</td>\n",
       "      <td>Кира</td>\n",
       "      <td>22</td>\n",
       "      <td>Тюмень</td>\n",
       "      <td>ultra</td>\n",
       "      <td>754.159807</td>\n",
       "      <td>6.232113</td>\n",
       "      <td>2021-04-20</td>\n",
       "      <td>4</td>\n",
       "      <td>6</td>\n",
       "      <td>0</td>\n",
       "      <td>199</td>\n",
       "    </tr>\n",
       "    <tr>\n",
       "      <th>3</th>\n",
       "      <td>1</td>\n",
       "      <td>Кира</td>\n",
       "      <td>22</td>\n",
       "      <td>Тюмень</td>\n",
       "      <td>ultra</td>\n",
       "      <td>2694.783254</td>\n",
       "      <td>18.511000</td>\n",
       "      <td>2021-08-11</td>\n",
       "      <td>8</td>\n",
       "      <td>6</td>\n",
       "      <td>0</td>\n",
       "      <td>199</td>\n",
       "    </tr>\n",
       "    <tr>\n",
       "      <th>4</th>\n",
       "      <td>1</td>\n",
       "      <td>Кира</td>\n",
       "      <td>22</td>\n",
       "      <td>Тюмень</td>\n",
       "      <td>ultra</td>\n",
       "      <td>4028.687306</td>\n",
       "      <td>26.265803</td>\n",
       "      <td>2021-08-28</td>\n",
       "      <td>8</td>\n",
       "      <td>6</td>\n",
       "      <td>0</td>\n",
       "      <td>199</td>\n",
       "    </tr>\n",
       "  </tbody>\n",
       "</table>\n",
       "</div>"
      ],
      "text/plain": [
       "   user_id  name  age    city subscription_type     distance   duration  \\\n",
       "0        1  Кира   22  Тюмень             ultra  4409.919140  25.599769   \n",
       "1        1  Кира   22  Тюмень             ultra  2617.592153  15.816871   \n",
       "2        1  Кира   22  Тюмень             ultra   754.159807   6.232113   \n",
       "3        1  Кира   22  Тюмень             ultra  2694.783254  18.511000   \n",
       "4        1  Кира   22  Тюмень             ultra  4028.687306  26.265803   \n",
       "\n",
       "        date  month  minute_price  start_ride_price  subscription_fee  \n",
       "0 2021-01-01      1             6                 0               199  \n",
       "1 2021-01-18      1             6                 0               199  \n",
       "2 2021-04-20      4             6                 0               199  \n",
       "3 2021-08-11      8             6                 0               199  \n",
       "4 2021-08-28      8             6                 0               199  "
      ]
     },
     "execution_count": 67,
     "metadata": {},
     "output_type": "execute_result"
    },
    {
     "data": {
      "text/html": [
       "<div>\n",
       "<style scoped>\n",
       "    .dataframe tbody tr th:only-of-type {\n",
       "        vertical-align: middle;\n",
       "    }\n",
       "\n",
       "    .dataframe tbody tr th {\n",
       "        vertical-align: top;\n",
       "    }\n",
       "\n",
       "    .dataframe thead th {\n",
       "        text-align: right;\n",
       "    }\n",
       "</style>\n",
       "<table border=\"1\" class=\"dataframe\">\n",
       "  <thead>\n",
       "    <tr style=\"text-align: right;\">\n",
       "      <th></th>\n",
       "      <th>user_id</th>\n",
       "      <th>name</th>\n",
       "      <th>age</th>\n",
       "      <th>city</th>\n",
       "      <th>subscription_type</th>\n",
       "      <th>distance</th>\n",
       "      <th>duration</th>\n",
       "      <th>date</th>\n",
       "      <th>month</th>\n",
       "      <th>minute_price</th>\n",
       "      <th>start_ride_price</th>\n",
       "      <th>subscription_fee</th>\n",
       "    </tr>\n",
       "  </thead>\n",
       "  <tbody>\n",
       "    <tr>\n",
       "      <th>0</th>\n",
       "      <td>1</td>\n",
       "      <td>Кира</td>\n",
       "      <td>22</td>\n",
       "      <td>Тюмень</td>\n",
       "      <td>ultra</td>\n",
       "      <td>4409.919140</td>\n",
       "      <td>25.599769</td>\n",
       "      <td>2021-01-01</td>\n",
       "      <td>1</td>\n",
       "      <td>6</td>\n",
       "      <td>0</td>\n",
       "      <td>199</td>\n",
       "    </tr>\n",
       "    <tr>\n",
       "      <th>1</th>\n",
       "      <td>1</td>\n",
       "      <td>Кира</td>\n",
       "      <td>22</td>\n",
       "      <td>Тюмень</td>\n",
       "      <td>ultra</td>\n",
       "      <td>2617.592153</td>\n",
       "      <td>15.816871</td>\n",
       "      <td>2021-01-18</td>\n",
       "      <td>1</td>\n",
       "      <td>6</td>\n",
       "      <td>0</td>\n",
       "      <td>199</td>\n",
       "    </tr>\n",
       "    <tr>\n",
       "      <th>2</th>\n",
       "      <td>1</td>\n",
       "      <td>Кира</td>\n",
       "      <td>22</td>\n",
       "      <td>Тюмень</td>\n",
       "      <td>ultra</td>\n",
       "      <td>754.159807</td>\n",
       "      <td>6.232113</td>\n",
       "      <td>2021-04-20</td>\n",
       "      <td>4</td>\n",
       "      <td>6</td>\n",
       "      <td>0</td>\n",
       "      <td>199</td>\n",
       "    </tr>\n",
       "    <tr>\n",
       "      <th>3</th>\n",
       "      <td>1</td>\n",
       "      <td>Кира</td>\n",
       "      <td>22</td>\n",
       "      <td>Тюмень</td>\n",
       "      <td>ultra</td>\n",
       "      <td>2694.783254</td>\n",
       "      <td>18.511000</td>\n",
       "      <td>2021-08-11</td>\n",
       "      <td>8</td>\n",
       "      <td>6</td>\n",
       "      <td>0</td>\n",
       "      <td>199</td>\n",
       "    </tr>\n",
       "    <tr>\n",
       "      <th>4</th>\n",
       "      <td>1</td>\n",
       "      <td>Кира</td>\n",
       "      <td>22</td>\n",
       "      <td>Тюмень</td>\n",
       "      <td>ultra</td>\n",
       "      <td>4028.687306</td>\n",
       "      <td>26.265803</td>\n",
       "      <td>2021-08-28</td>\n",
       "      <td>8</td>\n",
       "      <td>6</td>\n",
       "      <td>0</td>\n",
       "      <td>199</td>\n",
       "    </tr>\n",
       "  </tbody>\n",
       "</table>\n",
       "</div>"
      ],
      "text/plain": [
       "   user_id  name  age    city subscription_type     distance   duration  \\\n",
       "0        1  Кира   22  Тюмень             ultra  4409.919140  25.599769   \n",
       "1        1  Кира   22  Тюмень             ultra  2617.592153  15.816871   \n",
       "2        1  Кира   22  Тюмень             ultra   754.159807   6.232113   \n",
       "3        1  Кира   22  Тюмень             ultra  2694.783254  18.511000   \n",
       "4        1  Кира   22  Тюмень             ultra  4028.687306  26.265803   \n",
       "\n",
       "        date  month  minute_price  start_ride_price  subscription_fee  \n",
       "0 2021-01-01      1             6                 0               199  \n",
       "1 2021-01-18      1             6                 0               199  \n",
       "2 2021-04-20      4             6                 0               199  \n",
       "3 2021-08-11      8             6                 0               199  \n",
       "4 2021-08-28      8             6                 0               199  "
      ]
     },
     "execution_count": 67,
     "metadata": {},
     "output_type": "execute_result"
    }
   ],
   "source": [
    "combined = users.merge(rides, on='user_id', how='left')\n",
    "combined = combined.merge(subscriptions, on='subscription_type', how='left')\n",
    "combined.head()"
   ]
  },
  {
   "cell_type": "code",
   "execution_count": 68,
   "id": "d89a6c2e",
   "metadata": {},
   "outputs": [
    {
     "data": {
      "text/plain": [
       "18068"
      ]
     },
     "execution_count": 68,
     "metadata": {},
     "output_type": "execute_result"
    },
    {
     "data": {
      "text/plain": [
       "18068"
      ]
     },
     "execution_count": 68,
     "metadata": {},
     "output_type": "execute_result"
    }
   ],
   "source": [
    "len(combined)"
   ]
  },
  {
   "cell_type": "code",
   "execution_count": 69,
   "id": "1c50f3d4",
   "metadata": {},
   "outputs": [
    {
     "data": {
      "text/plain": [
       "18068"
      ]
     },
     "execution_count": 69,
     "metadata": {},
     "output_type": "execute_result"
    },
    {
     "data": {
      "text/plain": [
       "18068"
      ]
     },
     "execution_count": 69,
     "metadata": {},
     "output_type": "execute_result"
    }
   ],
   "source": [
    "len(rides)"
   ]
  },
  {
   "cell_type": "markdown",
   "id": "25b678de",
   "metadata": {},
   "source": [
    "Количество строк в изначальной таблице с поездками и объединенной совпадают, значит соединили корректно. "
   ]
  },
  {
   "cell_type": "code",
   "execution_count": 70,
   "id": "01778c77",
   "metadata": {},
   "outputs": [
    {
     "data": {
      "text/html": [
       "<div>\n",
       "<style scoped>\n",
       "    .dataframe tbody tr th:only-of-type {\n",
       "        vertical-align: middle;\n",
       "    }\n",
       "\n",
       "    .dataframe tbody tr th {\n",
       "        vertical-align: top;\n",
       "    }\n",
       "\n",
       "    .dataframe thead th {\n",
       "        text-align: right;\n",
       "    }\n",
       "</style>\n",
       "<table border=\"1\" class=\"dataframe\">\n",
       "  <thead>\n",
       "    <tr style=\"text-align: right;\">\n",
       "      <th></th>\n",
       "      <th>user_id</th>\n",
       "      <th>name</th>\n",
       "      <th>age</th>\n",
       "      <th>city</th>\n",
       "      <th>subscription_type</th>\n",
       "      <th>distance</th>\n",
       "      <th>duration</th>\n",
       "      <th>date</th>\n",
       "      <th>month</th>\n",
       "      <th>minute_price</th>\n",
       "      <th>start_ride_price</th>\n",
       "      <th>subscription_fee</th>\n",
       "    </tr>\n",
       "  </thead>\n",
       "  <tbody>\n",
       "    <tr>\n",
       "      <th>0</th>\n",
       "      <td>1</td>\n",
       "      <td>Кира</td>\n",
       "      <td>22</td>\n",
       "      <td>Тюмень</td>\n",
       "      <td>ultra</td>\n",
       "      <td>4409.919140</td>\n",
       "      <td>25.599769</td>\n",
       "      <td>2021-01-01</td>\n",
       "      <td>1</td>\n",
       "      <td>6</td>\n",
       "      <td>0</td>\n",
       "      <td>199</td>\n",
       "    </tr>\n",
       "    <tr>\n",
       "      <th>1</th>\n",
       "      <td>1</td>\n",
       "      <td>Кира</td>\n",
       "      <td>22</td>\n",
       "      <td>Тюмень</td>\n",
       "      <td>ultra</td>\n",
       "      <td>2617.592153</td>\n",
       "      <td>15.816871</td>\n",
       "      <td>2021-01-18</td>\n",
       "      <td>1</td>\n",
       "      <td>6</td>\n",
       "      <td>0</td>\n",
       "      <td>199</td>\n",
       "    </tr>\n",
       "    <tr>\n",
       "      <th>2</th>\n",
       "      <td>1</td>\n",
       "      <td>Кира</td>\n",
       "      <td>22</td>\n",
       "      <td>Тюмень</td>\n",
       "      <td>ultra</td>\n",
       "      <td>754.159807</td>\n",
       "      <td>6.232113</td>\n",
       "      <td>2021-04-20</td>\n",
       "      <td>4</td>\n",
       "      <td>6</td>\n",
       "      <td>0</td>\n",
       "      <td>199</td>\n",
       "    </tr>\n",
       "    <tr>\n",
       "      <th>3</th>\n",
       "      <td>1</td>\n",
       "      <td>Кира</td>\n",
       "      <td>22</td>\n",
       "      <td>Тюмень</td>\n",
       "      <td>ultra</td>\n",
       "      <td>2694.783254</td>\n",
       "      <td>18.511000</td>\n",
       "      <td>2021-08-11</td>\n",
       "      <td>8</td>\n",
       "      <td>6</td>\n",
       "      <td>0</td>\n",
       "      <td>199</td>\n",
       "    </tr>\n",
       "    <tr>\n",
       "      <th>4</th>\n",
       "      <td>1</td>\n",
       "      <td>Кира</td>\n",
       "      <td>22</td>\n",
       "      <td>Тюмень</td>\n",
       "      <td>ultra</td>\n",
       "      <td>4028.687306</td>\n",
       "      <td>26.265803</td>\n",
       "      <td>2021-08-28</td>\n",
       "      <td>8</td>\n",
       "      <td>6</td>\n",
       "      <td>0</td>\n",
       "      <td>199</td>\n",
       "    </tr>\n",
       "    <tr>\n",
       "      <th>5</th>\n",
       "      <td>1</td>\n",
       "      <td>Кира</td>\n",
       "      <td>22</td>\n",
       "      <td>Тюмень</td>\n",
       "      <td>ultra</td>\n",
       "      <td>2770.890808</td>\n",
       "      <td>16.650138</td>\n",
       "      <td>2021-10-09</td>\n",
       "      <td>10</td>\n",
       "      <td>6</td>\n",
       "      <td>0</td>\n",
       "      <td>199</td>\n",
       "    </tr>\n",
       "    <tr>\n",
       "      <th>6</th>\n",
       "      <td>1</td>\n",
       "      <td>Кира</td>\n",
       "      <td>22</td>\n",
       "      <td>Тюмень</td>\n",
       "      <td>ultra</td>\n",
       "      <td>3039.020292</td>\n",
       "      <td>14.927879</td>\n",
       "      <td>2021-10-19</td>\n",
       "      <td>10</td>\n",
       "      <td>6</td>\n",
       "      <td>0</td>\n",
       "      <td>199</td>\n",
       "    </tr>\n",
       "    <tr>\n",
       "      <th>7</th>\n",
       "      <td>1</td>\n",
       "      <td>Кира</td>\n",
       "      <td>22</td>\n",
       "      <td>Тюмень</td>\n",
       "      <td>ultra</td>\n",
       "      <td>2842.118050</td>\n",
       "      <td>23.117468</td>\n",
       "      <td>2021-11-06</td>\n",
       "      <td>11</td>\n",
       "      <td>6</td>\n",
       "      <td>0</td>\n",
       "      <td>199</td>\n",
       "    </tr>\n",
       "    <tr>\n",
       "      <th>8</th>\n",
       "      <td>1</td>\n",
       "      <td>Кира</td>\n",
       "      <td>22</td>\n",
       "      <td>Тюмень</td>\n",
       "      <td>ultra</td>\n",
       "      <td>3412.690668</td>\n",
       "      <td>15.238072</td>\n",
       "      <td>2021-11-14</td>\n",
       "      <td>11</td>\n",
       "      <td>6</td>\n",
       "      <td>0</td>\n",
       "      <td>199</td>\n",
       "    </tr>\n",
       "    <tr>\n",
       "      <th>9</th>\n",
       "      <td>1</td>\n",
       "      <td>Кира</td>\n",
       "      <td>22</td>\n",
       "      <td>Тюмень</td>\n",
       "      <td>ultra</td>\n",
       "      <td>748.690645</td>\n",
       "      <td>15.041884</td>\n",
       "      <td>2021-11-22</td>\n",
       "      <td>11</td>\n",
       "      <td>6</td>\n",
       "      <td>0</td>\n",
       "      <td>199</td>\n",
       "    </tr>\n",
       "    <tr>\n",
       "      <th>10</th>\n",
       "      <td>1</td>\n",
       "      <td>Кира</td>\n",
       "      <td>22</td>\n",
       "      <td>Тюмень</td>\n",
       "      <td>ultra</td>\n",
       "      <td>4031.020195</td>\n",
       "      <td>17.674448</td>\n",
       "      <td>2021-12-14</td>\n",
       "      <td>12</td>\n",
       "      <td>6</td>\n",
       "      <td>0</td>\n",
       "      <td>199</td>\n",
       "    </tr>\n",
       "    <tr>\n",
       "      <th>11</th>\n",
       "      <td>1</td>\n",
       "      <td>Кира</td>\n",
       "      <td>22</td>\n",
       "      <td>Тюмень</td>\n",
       "      <td>ultra</td>\n",
       "      <td>2720.609748</td>\n",
       "      <td>9.529463</td>\n",
       "      <td>2021-12-22</td>\n",
       "      <td>12</td>\n",
       "      <td>6</td>\n",
       "      <td>0</td>\n",
       "      <td>199</td>\n",
       "    </tr>\n",
       "    <tr>\n",
       "      <th>12</th>\n",
       "      <td>2</td>\n",
       "      <td>Станислав</td>\n",
       "      <td>31</td>\n",
       "      <td>Омск</td>\n",
       "      <td>ultra</td>\n",
       "      <td>3105.086678</td>\n",
       "      <td>24.307514</td>\n",
       "      <td>2021-03-15</td>\n",
       "      <td>3</td>\n",
       "      <td>6</td>\n",
       "      <td>0</td>\n",
       "      <td>199</td>\n",
       "    </tr>\n",
       "    <tr>\n",
       "      <th>13</th>\n",
       "      <td>2</td>\n",
       "      <td>Станислав</td>\n",
       "      <td>31</td>\n",
       "      <td>Омск</td>\n",
       "      <td>ultra</td>\n",
       "      <td>3053.519401</td>\n",
       "      <td>11.543256</td>\n",
       "      <td>2021-03-18</td>\n",
       "      <td>3</td>\n",
       "      <td>6</td>\n",
       "      <td>0</td>\n",
       "      <td>199</td>\n",
       "    </tr>\n",
       "    <tr>\n",
       "      <th>14</th>\n",
       "      <td>2</td>\n",
       "      <td>Станислав</td>\n",
       "      <td>31</td>\n",
       "      <td>Омск</td>\n",
       "      <td>ultra</td>\n",
       "      <td>4029.116927</td>\n",
       "      <td>25.109188</td>\n",
       "      <td>2021-03-23</td>\n",
       "      <td>3</td>\n",
       "      <td>6</td>\n",
       "      <td>0</td>\n",
       "      <td>199</td>\n",
       "    </tr>\n",
       "  </tbody>\n",
       "</table>\n",
       "</div>"
      ],
      "text/plain": [
       "    user_id       name  age    city subscription_type     distance   duration  \\\n",
       "0         1       Кира   22  Тюмень             ultra  4409.919140  25.599769   \n",
       "1         1       Кира   22  Тюмень             ultra  2617.592153  15.816871   \n",
       "2         1       Кира   22  Тюмень             ultra   754.159807   6.232113   \n",
       "3         1       Кира   22  Тюмень             ultra  2694.783254  18.511000   \n",
       "4         1       Кира   22  Тюмень             ultra  4028.687306  26.265803   \n",
       "5         1       Кира   22  Тюмень             ultra  2770.890808  16.650138   \n",
       "6         1       Кира   22  Тюмень             ultra  3039.020292  14.927879   \n",
       "7         1       Кира   22  Тюмень             ultra  2842.118050  23.117468   \n",
       "8         1       Кира   22  Тюмень             ultra  3412.690668  15.238072   \n",
       "9         1       Кира   22  Тюмень             ultra   748.690645  15.041884   \n",
       "10        1       Кира   22  Тюмень             ultra  4031.020195  17.674448   \n",
       "11        1       Кира   22  Тюмень             ultra  2720.609748   9.529463   \n",
       "12        2  Станислав   31    Омск             ultra  3105.086678  24.307514   \n",
       "13        2  Станислав   31    Омск             ultra  3053.519401  11.543256   \n",
       "14        2  Станислав   31    Омск             ultra  4029.116927  25.109188   \n",
       "\n",
       "         date  month  minute_price  start_ride_price  subscription_fee  \n",
       "0  2021-01-01      1             6                 0               199  \n",
       "1  2021-01-18      1             6                 0               199  \n",
       "2  2021-04-20      4             6                 0               199  \n",
       "3  2021-08-11      8             6                 0               199  \n",
       "4  2021-08-28      8             6                 0               199  \n",
       "5  2021-10-09     10             6                 0               199  \n",
       "6  2021-10-19     10             6                 0               199  \n",
       "7  2021-11-06     11             6                 0               199  \n",
       "8  2021-11-14     11             6                 0               199  \n",
       "9  2021-11-22     11             6                 0               199  \n",
       "10 2021-12-14     12             6                 0               199  \n",
       "11 2021-12-22     12             6                 0               199  \n",
       "12 2021-03-15      3             6                 0               199  \n",
       "13 2021-03-18      3             6                 0               199  \n",
       "14 2021-03-23      3             6                 0               199  "
      ]
     },
     "execution_count": 70,
     "metadata": {},
     "output_type": "execute_result"
    },
    {
     "data": {
      "text/html": [
       "<div>\n",
       "<style scoped>\n",
       "    .dataframe tbody tr th:only-of-type {\n",
       "        vertical-align: middle;\n",
       "    }\n",
       "\n",
       "    .dataframe tbody tr th {\n",
       "        vertical-align: top;\n",
       "    }\n",
       "\n",
       "    .dataframe thead th {\n",
       "        text-align: right;\n",
       "    }\n",
       "</style>\n",
       "<table border=\"1\" class=\"dataframe\">\n",
       "  <thead>\n",
       "    <tr style=\"text-align: right;\">\n",
       "      <th></th>\n",
       "      <th>user_id</th>\n",
       "      <th>name</th>\n",
       "      <th>age</th>\n",
       "      <th>city</th>\n",
       "      <th>subscription_type</th>\n",
       "      <th>distance</th>\n",
       "      <th>duration</th>\n",
       "      <th>date</th>\n",
       "      <th>month</th>\n",
       "      <th>minute_price</th>\n",
       "      <th>start_ride_price</th>\n",
       "      <th>subscription_fee</th>\n",
       "    </tr>\n",
       "  </thead>\n",
       "  <tbody>\n",
       "    <tr>\n",
       "      <th>0</th>\n",
       "      <td>1</td>\n",
       "      <td>Кира</td>\n",
       "      <td>22</td>\n",
       "      <td>Тюмень</td>\n",
       "      <td>ultra</td>\n",
       "      <td>4409.919140</td>\n",
       "      <td>25.599769</td>\n",
       "      <td>2021-01-01</td>\n",
       "      <td>1</td>\n",
       "      <td>6</td>\n",
       "      <td>0</td>\n",
       "      <td>199</td>\n",
       "    </tr>\n",
       "    <tr>\n",
       "      <th>1</th>\n",
       "      <td>1</td>\n",
       "      <td>Кира</td>\n",
       "      <td>22</td>\n",
       "      <td>Тюмень</td>\n",
       "      <td>ultra</td>\n",
       "      <td>2617.592153</td>\n",
       "      <td>15.816871</td>\n",
       "      <td>2021-01-18</td>\n",
       "      <td>1</td>\n",
       "      <td>6</td>\n",
       "      <td>0</td>\n",
       "      <td>199</td>\n",
       "    </tr>\n",
       "    <tr>\n",
       "      <th>2</th>\n",
       "      <td>1</td>\n",
       "      <td>Кира</td>\n",
       "      <td>22</td>\n",
       "      <td>Тюмень</td>\n",
       "      <td>ultra</td>\n",
       "      <td>754.159807</td>\n",
       "      <td>6.232113</td>\n",
       "      <td>2021-04-20</td>\n",
       "      <td>4</td>\n",
       "      <td>6</td>\n",
       "      <td>0</td>\n",
       "      <td>199</td>\n",
       "    </tr>\n",
       "    <tr>\n",
       "      <th>3</th>\n",
       "      <td>1</td>\n",
       "      <td>Кира</td>\n",
       "      <td>22</td>\n",
       "      <td>Тюмень</td>\n",
       "      <td>ultra</td>\n",
       "      <td>2694.783254</td>\n",
       "      <td>18.511000</td>\n",
       "      <td>2021-08-11</td>\n",
       "      <td>8</td>\n",
       "      <td>6</td>\n",
       "      <td>0</td>\n",
       "      <td>199</td>\n",
       "    </tr>\n",
       "    <tr>\n",
       "      <th>4</th>\n",
       "      <td>1</td>\n",
       "      <td>Кира</td>\n",
       "      <td>22</td>\n",
       "      <td>Тюмень</td>\n",
       "      <td>ultra</td>\n",
       "      <td>4028.687306</td>\n",
       "      <td>26.265803</td>\n",
       "      <td>2021-08-28</td>\n",
       "      <td>8</td>\n",
       "      <td>6</td>\n",
       "      <td>0</td>\n",
       "      <td>199</td>\n",
       "    </tr>\n",
       "    <tr>\n",
       "      <th>5</th>\n",
       "      <td>1</td>\n",
       "      <td>Кира</td>\n",
       "      <td>22</td>\n",
       "      <td>Тюмень</td>\n",
       "      <td>ultra</td>\n",
       "      <td>2770.890808</td>\n",
       "      <td>16.650138</td>\n",
       "      <td>2021-10-09</td>\n",
       "      <td>10</td>\n",
       "      <td>6</td>\n",
       "      <td>0</td>\n",
       "      <td>199</td>\n",
       "    </tr>\n",
       "    <tr>\n",
       "      <th>6</th>\n",
       "      <td>1</td>\n",
       "      <td>Кира</td>\n",
       "      <td>22</td>\n",
       "      <td>Тюмень</td>\n",
       "      <td>ultra</td>\n",
       "      <td>3039.020292</td>\n",
       "      <td>14.927879</td>\n",
       "      <td>2021-10-19</td>\n",
       "      <td>10</td>\n",
       "      <td>6</td>\n",
       "      <td>0</td>\n",
       "      <td>199</td>\n",
       "    </tr>\n",
       "    <tr>\n",
       "      <th>7</th>\n",
       "      <td>1</td>\n",
       "      <td>Кира</td>\n",
       "      <td>22</td>\n",
       "      <td>Тюмень</td>\n",
       "      <td>ultra</td>\n",
       "      <td>2842.118050</td>\n",
       "      <td>23.117468</td>\n",
       "      <td>2021-11-06</td>\n",
       "      <td>11</td>\n",
       "      <td>6</td>\n",
       "      <td>0</td>\n",
       "      <td>199</td>\n",
       "    </tr>\n",
       "    <tr>\n",
       "      <th>8</th>\n",
       "      <td>1</td>\n",
       "      <td>Кира</td>\n",
       "      <td>22</td>\n",
       "      <td>Тюмень</td>\n",
       "      <td>ultra</td>\n",
       "      <td>3412.690668</td>\n",
       "      <td>15.238072</td>\n",
       "      <td>2021-11-14</td>\n",
       "      <td>11</td>\n",
       "      <td>6</td>\n",
       "      <td>0</td>\n",
       "      <td>199</td>\n",
       "    </tr>\n",
       "    <tr>\n",
       "      <th>9</th>\n",
       "      <td>1</td>\n",
       "      <td>Кира</td>\n",
       "      <td>22</td>\n",
       "      <td>Тюмень</td>\n",
       "      <td>ultra</td>\n",
       "      <td>748.690645</td>\n",
       "      <td>15.041884</td>\n",
       "      <td>2021-11-22</td>\n",
       "      <td>11</td>\n",
       "      <td>6</td>\n",
       "      <td>0</td>\n",
       "      <td>199</td>\n",
       "    </tr>\n",
       "    <tr>\n",
       "      <th>10</th>\n",
       "      <td>1</td>\n",
       "      <td>Кира</td>\n",
       "      <td>22</td>\n",
       "      <td>Тюмень</td>\n",
       "      <td>ultra</td>\n",
       "      <td>4031.020195</td>\n",
       "      <td>17.674448</td>\n",
       "      <td>2021-12-14</td>\n",
       "      <td>12</td>\n",
       "      <td>6</td>\n",
       "      <td>0</td>\n",
       "      <td>199</td>\n",
       "    </tr>\n",
       "    <tr>\n",
       "      <th>11</th>\n",
       "      <td>1</td>\n",
       "      <td>Кира</td>\n",
       "      <td>22</td>\n",
       "      <td>Тюмень</td>\n",
       "      <td>ultra</td>\n",
       "      <td>2720.609748</td>\n",
       "      <td>9.529463</td>\n",
       "      <td>2021-12-22</td>\n",
       "      <td>12</td>\n",
       "      <td>6</td>\n",
       "      <td>0</td>\n",
       "      <td>199</td>\n",
       "    </tr>\n",
       "    <tr>\n",
       "      <th>12</th>\n",
       "      <td>2</td>\n",
       "      <td>Станислав</td>\n",
       "      <td>31</td>\n",
       "      <td>Омск</td>\n",
       "      <td>ultra</td>\n",
       "      <td>3105.086678</td>\n",
       "      <td>24.307514</td>\n",
       "      <td>2021-03-15</td>\n",
       "      <td>3</td>\n",
       "      <td>6</td>\n",
       "      <td>0</td>\n",
       "      <td>199</td>\n",
       "    </tr>\n",
       "    <tr>\n",
       "      <th>13</th>\n",
       "      <td>2</td>\n",
       "      <td>Станислав</td>\n",
       "      <td>31</td>\n",
       "      <td>Омск</td>\n",
       "      <td>ultra</td>\n",
       "      <td>3053.519401</td>\n",
       "      <td>11.543256</td>\n",
       "      <td>2021-03-18</td>\n",
       "      <td>3</td>\n",
       "      <td>6</td>\n",
       "      <td>0</td>\n",
       "      <td>199</td>\n",
       "    </tr>\n",
       "    <tr>\n",
       "      <th>14</th>\n",
       "      <td>2</td>\n",
       "      <td>Станислав</td>\n",
       "      <td>31</td>\n",
       "      <td>Омск</td>\n",
       "      <td>ultra</td>\n",
       "      <td>4029.116927</td>\n",
       "      <td>25.109188</td>\n",
       "      <td>2021-03-23</td>\n",
       "      <td>3</td>\n",
       "      <td>6</td>\n",
       "      <td>0</td>\n",
       "      <td>199</td>\n",
       "    </tr>\n",
       "  </tbody>\n",
       "</table>\n",
       "</div>"
      ],
      "text/plain": [
       "    user_id       name  age    city subscription_type     distance   duration  \\\n",
       "0         1       Кира   22  Тюмень             ultra  4409.919140  25.599769   \n",
       "1         1       Кира   22  Тюмень             ultra  2617.592153  15.816871   \n",
       "2         1       Кира   22  Тюмень             ultra   754.159807   6.232113   \n",
       "3         1       Кира   22  Тюмень             ultra  2694.783254  18.511000   \n",
       "4         1       Кира   22  Тюмень             ultra  4028.687306  26.265803   \n",
       "5         1       Кира   22  Тюмень             ultra  2770.890808  16.650138   \n",
       "6         1       Кира   22  Тюмень             ultra  3039.020292  14.927879   \n",
       "7         1       Кира   22  Тюмень             ultra  2842.118050  23.117468   \n",
       "8         1       Кира   22  Тюмень             ultra  3412.690668  15.238072   \n",
       "9         1       Кира   22  Тюмень             ultra   748.690645  15.041884   \n",
       "10        1       Кира   22  Тюмень             ultra  4031.020195  17.674448   \n",
       "11        1       Кира   22  Тюмень             ultra  2720.609748   9.529463   \n",
       "12        2  Станислав   31    Омск             ultra  3105.086678  24.307514   \n",
       "13        2  Станислав   31    Омск             ultra  3053.519401  11.543256   \n",
       "14        2  Станислав   31    Омск             ultra  4029.116927  25.109188   \n",
       "\n",
       "         date  month  minute_price  start_ride_price  subscription_fee  \n",
       "0  2021-01-01      1             6                 0               199  \n",
       "1  2021-01-18      1             6                 0               199  \n",
       "2  2021-04-20      4             6                 0               199  \n",
       "3  2021-08-11      8             6                 0               199  \n",
       "4  2021-08-28      8             6                 0               199  \n",
       "5  2021-10-09     10             6                 0               199  \n",
       "6  2021-10-19     10             6                 0               199  \n",
       "7  2021-11-06     11             6                 0               199  \n",
       "8  2021-11-14     11             6                 0               199  \n",
       "9  2021-11-22     11             6                 0               199  \n",
       "10 2021-12-14     12             6                 0               199  \n",
       "11 2021-12-22     12             6                 0               199  \n",
       "12 2021-03-15      3             6                 0               199  \n",
       "13 2021-03-18      3             6                 0               199  \n",
       "14 2021-03-23      3             6                 0               199  "
      ]
     },
     "execution_count": 70,
     "metadata": {},
     "output_type": "execute_result"
    }
   ],
   "source": [
    "user_ultra = combined.query('subscription_type==\"ultra\"')\n",
    "user_ultra.head(15)"
   ]
  },
  {
   "cell_type": "code",
   "execution_count": 71,
   "id": "da224870",
   "metadata": {},
   "outputs": [
    {
     "data": {
      "text/html": [
       "<div>\n",
       "<style scoped>\n",
       "    .dataframe tbody tr th:only-of-type {\n",
       "        vertical-align: middle;\n",
       "    }\n",
       "\n",
       "    .dataframe tbody tr th {\n",
       "        vertical-align: top;\n",
       "    }\n",
       "\n",
       "    .dataframe thead th {\n",
       "        text-align: right;\n",
       "    }\n",
       "</style>\n",
       "<table border=\"1\" class=\"dataframe\">\n",
       "  <thead>\n",
       "    <tr style=\"text-align: right;\">\n",
       "      <th></th>\n",
       "      <th>user_id</th>\n",
       "      <th>name</th>\n",
       "      <th>age</th>\n",
       "      <th>city</th>\n",
       "      <th>subscription_type</th>\n",
       "      <th>distance</th>\n",
       "      <th>duration</th>\n",
       "      <th>date</th>\n",
       "      <th>month</th>\n",
       "      <th>minute_price</th>\n",
       "      <th>start_ride_price</th>\n",
       "      <th>subscription_fee</th>\n",
       "    </tr>\n",
       "  </thead>\n",
       "  <tbody>\n",
       "    <tr>\n",
       "      <th>6500</th>\n",
       "      <td>700</td>\n",
       "      <td>Айдар</td>\n",
       "      <td>22</td>\n",
       "      <td>Омск</td>\n",
       "      <td>free</td>\n",
       "      <td>2515.690719</td>\n",
       "      <td>14.944286</td>\n",
       "      <td>2021-01-02</td>\n",
       "      <td>1</td>\n",
       "      <td>8</td>\n",
       "      <td>50</td>\n",
       "      <td>0</td>\n",
       "    </tr>\n",
       "    <tr>\n",
       "      <th>6501</th>\n",
       "      <td>700</td>\n",
       "      <td>Айдар</td>\n",
       "      <td>22</td>\n",
       "      <td>Омск</td>\n",
       "      <td>free</td>\n",
       "      <td>846.932642</td>\n",
       "      <td>16.234663</td>\n",
       "      <td>2021-02-01</td>\n",
       "      <td>2</td>\n",
       "      <td>8</td>\n",
       "      <td>50</td>\n",
       "      <td>0</td>\n",
       "    </tr>\n",
       "    <tr>\n",
       "      <th>6502</th>\n",
       "      <td>700</td>\n",
       "      <td>Айдар</td>\n",
       "      <td>22</td>\n",
       "      <td>Омск</td>\n",
       "      <td>free</td>\n",
       "      <td>4004.434142</td>\n",
       "      <td>20.016628</td>\n",
       "      <td>2021-02-04</td>\n",
       "      <td>2</td>\n",
       "      <td>8</td>\n",
       "      <td>50</td>\n",
       "      <td>0</td>\n",
       "    </tr>\n",
       "    <tr>\n",
       "      <th>6503</th>\n",
       "      <td>700</td>\n",
       "      <td>Айдар</td>\n",
       "      <td>22</td>\n",
       "      <td>Омск</td>\n",
       "      <td>free</td>\n",
       "      <td>1205.911290</td>\n",
       "      <td>9.782872</td>\n",
       "      <td>2021-02-10</td>\n",
       "      <td>2</td>\n",
       "      <td>8</td>\n",
       "      <td>50</td>\n",
       "      <td>0</td>\n",
       "    </tr>\n",
       "    <tr>\n",
       "      <th>6504</th>\n",
       "      <td>700</td>\n",
       "      <td>Айдар</td>\n",
       "      <td>22</td>\n",
       "      <td>Омск</td>\n",
       "      <td>free</td>\n",
       "      <td>3047.379435</td>\n",
       "      <td>17.427673</td>\n",
       "      <td>2021-02-14</td>\n",
       "      <td>2</td>\n",
       "      <td>8</td>\n",
       "      <td>50</td>\n",
       "      <td>0</td>\n",
       "    </tr>\n",
       "  </tbody>\n",
       "</table>\n",
       "</div>"
      ],
      "text/plain": [
       "      user_id   name  age  city subscription_type     distance   duration  \\\n",
       "6500      700  Айдар   22  Омск              free  2515.690719  14.944286   \n",
       "6501      700  Айдар   22  Омск              free   846.932642  16.234663   \n",
       "6502      700  Айдар   22  Омск              free  4004.434142  20.016628   \n",
       "6503      700  Айдар   22  Омск              free  1205.911290   9.782872   \n",
       "6504      700  Айдар   22  Омск              free  3047.379435  17.427673   \n",
       "\n",
       "           date  month  minute_price  start_ride_price  subscription_fee  \n",
       "6500 2021-01-02      1             8                50                 0  \n",
       "6501 2021-02-01      2             8                50                 0  \n",
       "6502 2021-02-04      2             8                50                 0  \n",
       "6503 2021-02-10      2             8                50                 0  \n",
       "6504 2021-02-14      2             8                50                 0  "
      ]
     },
     "execution_count": 71,
     "metadata": {},
     "output_type": "execute_result"
    },
    {
     "data": {
      "text/html": [
       "<div>\n",
       "<style scoped>\n",
       "    .dataframe tbody tr th:only-of-type {\n",
       "        vertical-align: middle;\n",
       "    }\n",
       "\n",
       "    .dataframe tbody tr th {\n",
       "        vertical-align: top;\n",
       "    }\n",
       "\n",
       "    .dataframe thead th {\n",
       "        text-align: right;\n",
       "    }\n",
       "</style>\n",
       "<table border=\"1\" class=\"dataframe\">\n",
       "  <thead>\n",
       "    <tr style=\"text-align: right;\">\n",
       "      <th></th>\n",
       "      <th>user_id</th>\n",
       "      <th>name</th>\n",
       "      <th>age</th>\n",
       "      <th>city</th>\n",
       "      <th>subscription_type</th>\n",
       "      <th>distance</th>\n",
       "      <th>duration</th>\n",
       "      <th>date</th>\n",
       "      <th>month</th>\n",
       "      <th>minute_price</th>\n",
       "      <th>start_ride_price</th>\n",
       "      <th>subscription_fee</th>\n",
       "    </tr>\n",
       "  </thead>\n",
       "  <tbody>\n",
       "    <tr>\n",
       "      <th>6500</th>\n",
       "      <td>700</td>\n",
       "      <td>Айдар</td>\n",
       "      <td>22</td>\n",
       "      <td>Омск</td>\n",
       "      <td>free</td>\n",
       "      <td>2515.690719</td>\n",
       "      <td>14.944286</td>\n",
       "      <td>2021-01-02</td>\n",
       "      <td>1</td>\n",
       "      <td>8</td>\n",
       "      <td>50</td>\n",
       "      <td>0</td>\n",
       "    </tr>\n",
       "    <tr>\n",
       "      <th>6501</th>\n",
       "      <td>700</td>\n",
       "      <td>Айдар</td>\n",
       "      <td>22</td>\n",
       "      <td>Омск</td>\n",
       "      <td>free</td>\n",
       "      <td>846.932642</td>\n",
       "      <td>16.234663</td>\n",
       "      <td>2021-02-01</td>\n",
       "      <td>2</td>\n",
       "      <td>8</td>\n",
       "      <td>50</td>\n",
       "      <td>0</td>\n",
       "    </tr>\n",
       "    <tr>\n",
       "      <th>6502</th>\n",
       "      <td>700</td>\n",
       "      <td>Айдар</td>\n",
       "      <td>22</td>\n",
       "      <td>Омск</td>\n",
       "      <td>free</td>\n",
       "      <td>4004.434142</td>\n",
       "      <td>20.016628</td>\n",
       "      <td>2021-02-04</td>\n",
       "      <td>2</td>\n",
       "      <td>8</td>\n",
       "      <td>50</td>\n",
       "      <td>0</td>\n",
       "    </tr>\n",
       "    <tr>\n",
       "      <th>6503</th>\n",
       "      <td>700</td>\n",
       "      <td>Айдар</td>\n",
       "      <td>22</td>\n",
       "      <td>Омск</td>\n",
       "      <td>free</td>\n",
       "      <td>1205.911290</td>\n",
       "      <td>9.782872</td>\n",
       "      <td>2021-02-10</td>\n",
       "      <td>2</td>\n",
       "      <td>8</td>\n",
       "      <td>50</td>\n",
       "      <td>0</td>\n",
       "    </tr>\n",
       "    <tr>\n",
       "      <th>6504</th>\n",
       "      <td>700</td>\n",
       "      <td>Айдар</td>\n",
       "      <td>22</td>\n",
       "      <td>Омск</td>\n",
       "      <td>free</td>\n",
       "      <td>3047.379435</td>\n",
       "      <td>17.427673</td>\n",
       "      <td>2021-02-14</td>\n",
       "      <td>2</td>\n",
       "      <td>8</td>\n",
       "      <td>50</td>\n",
       "      <td>0</td>\n",
       "    </tr>\n",
       "  </tbody>\n",
       "</table>\n",
       "</div>"
      ],
      "text/plain": [
       "      user_id   name  age  city subscription_type     distance   duration  \\\n",
       "6500      700  Айдар   22  Омск              free  2515.690719  14.944286   \n",
       "6501      700  Айдар   22  Омск              free   846.932642  16.234663   \n",
       "6502      700  Айдар   22  Омск              free  4004.434142  20.016628   \n",
       "6503      700  Айдар   22  Омск              free  1205.911290   9.782872   \n",
       "6504      700  Айдар   22  Омск              free  3047.379435  17.427673   \n",
       "\n",
       "           date  month  minute_price  start_ride_price  subscription_fee  \n",
       "6500 2021-01-02      1             8                50                 0  \n",
       "6501 2021-02-01      2             8                50                 0  \n",
       "6502 2021-02-04      2             8                50                 0  \n",
       "6503 2021-02-10      2             8                50                 0  \n",
       "6504 2021-02-14      2             8                50                 0  "
      ]
     },
     "execution_count": 71,
     "metadata": {},
     "output_type": "execute_result"
    }
   ],
   "source": [
    "user_free = combined.query('subscription_type==\"free\"')\n",
    "user_free.head()"
   ]
  },
  {
   "cell_type": "code",
   "execution_count": 72,
   "id": "40e5b802",
   "metadata": {},
   "outputs": [
    {
     "data": {
      "text/plain": [
       "Text(0, 0.5, 'количество поездок')"
      ]
     },
     "execution_count": 72,
     "metadata": {},
     "output_type": "execute_result"
    },
    {
     "data": {
      "text/plain": [
       "Text(0, 0.5, 'количество поездок')"
      ]
     },
     "execution_count": 72,
     "metadata": {},
     "output_type": "execute_result"
    },
    {
     "data": {
      "image/png": "[encoded data removed]",
      "text/plain": [
       "<Figure size 432x288 with 1 Axes>"
      ]
     },
     "metadata": {
      "needs_background": "light"
     },
     "output_type": "display_data"
    },
    {
     "data": {
      "image/png": "[encoded data removed]",
      "text/plain": [
       "<Figure size 432x288 with 1 Axes>"
      ]
     },
     "metadata": {
      "needs_background": "light"
     },
     "output_type": "display_data"
    }
   ],
   "source": [
    "user_ultra['duration'].plot(kind='hist', bins=30, title='продолжительность поездок у пользователей с подпиской')\n",
    "plt.xlabel('длительность поездок') \n",
    "plt.ylabel('количество поездок')"
   ]
  },
  {
   "cell_type": "code",
   "execution_count": 73,
   "id": "9b366c0f",
   "metadata": {},
   "outputs": [
    {
     "data": {
      "text/plain": [
       "Text(0, 0.5, 'количество поездок')"
      ]
     },
     "execution_count": 73,
     "metadata": {},
     "output_type": "execute_result"
    },
    {
     "data": {
      "text/plain": [
       "Text(0, 0.5, 'количество поездок')"
      ]
     },
     "execution_count": 73,
     "metadata": {},
     "output_type": "execute_result"
    },
    {
     "data": {
      "image/png": "[encoded data removed]",
      "text/plain": [
       "<Figure size 432x288 with 1 Axes>"
      ]
     },
     "metadata": {
      "needs_background": "light"
     },
     "output_type": "display_data"
    },
    {
     "data": {
      "image/png": "[encoded data removed]",
      "text/plain": [
       "<Figure size 432x288 with 1 Axes>"
      ]
     },
     "metadata": {
      "needs_background": "light"
     },
     "output_type": "display_data"
    }
   ],
   "source": [
    "user_ultra['distance'].plot(kind='hist', bins=30, title='расстояние поездки у пользователей с подпиской')\n",
    "plt.xlabel('расстояние') \n",
    "plt.ylabel('количество поездок')"
   ]
  },
  {
   "cell_type": "code",
   "execution_count": 74,
   "id": "c5825e19",
   "metadata": {},
   "outputs": [
    {
     "data": {
      "text/plain": [
       "Text(0, 0.5, 'количество поездок')"
      ]
     },
     "execution_count": 74,
     "metadata": {},
     "output_type": "execute_result"
    },
    {
     "data": {
      "text/plain": [
       "Text(0, 0.5, 'количество поездок')"
      ]
     },
     "execution_count": 74,
     "metadata": {},
     "output_type": "execute_result"
    },
    {
     "data": {
      "image/png": "[encoded data removed]",
      "text/plain": [
       "<Figure size 432x288 with 1 Axes>"
      ]
     },
     "metadata": {
      "needs_background": "light"
     },
     "output_type": "display_data"
    },
    {
     "data": {
      "image/png": "[encoded data removed]",
      "text/plain": [
       "<Figure size 432x288 with 1 Axes>"
      ]
     },
     "metadata": {
      "needs_background": "light"
     },
     "output_type": "display_data"
    }
   ],
   "source": [
    "user_free['duration'].plot(kind='hist', bins=30, title='продолжительность поездок у пользователей без подписки')\n",
    "plt.xlabel('длительность поездок') \n",
    "plt.ylabel('количество поездок')"
   ]
  },
  {
   "cell_type": "code",
   "execution_count": 75,
   "id": "096928ce",
   "metadata": {},
   "outputs": [
    {
     "data": {
      "text/plain": [
       "Text(0, 0.5, 'количество поездок')"
      ]
     },
     "execution_count": 75,
     "metadata": {},
     "output_type": "execute_result"
    },
    {
     "data": {
      "text/plain": [
       "Text(0, 0.5, 'количество поездок')"
      ]
     },
     "execution_count": 75,
     "metadata": {},
     "output_type": "execute_result"
    },
    {
     "data": {
      "image/png": "[encoded data removed]",
      "text/plain": [
       "<Figure size 432x288 with 1 Axes>"
      ]
     },
     "metadata": {
      "needs_background": "light"
     },
     "output_type": "display_data"
    },
    {
     "data": {
      "image/png": "[encoded data removed]",
      "text/plain": [
       "<Figure size 432x288 with 1 Axes>"
      ]
     },
     "metadata": {
      "needs_background": "light"
     },
     "output_type": "display_data"
    }
   ],
   "source": [
    "user_free['distance'].plot(kind='hist', bins=30, title='расстояние поездки у пользователей без подписки')\n",
    "plt.xlabel('расстояние') \n",
    "plt.ylabel('количество поездок')"
   ]
  },
  {
   "cell_type": "markdown",
   "id": "4d700be7",
   "metadata": {},
   "source": [
    "В среднем длительность и расстояние поездки у пользователей с подпиской и без нее сильно не различается. Максимальная длительность поездки относится к людям с подпиской, а максимальное расстояние к пользователем без нее. "
   ]
  },
  {
   "cell_type": "markdown",
   "id": "badca148",
   "metadata": {},
   "source": [
    "#### Шаг 5. Подсчёт выручки"
   ]
  },
  {
   "cell_type": "code",
   "execution_count": 76,
   "id": "939ecddf",
   "metadata": {},
   "outputs": [
    {
     "data": {
      "text/html": [
       "<div>\n",
       "<style scoped>\n",
       "    .dataframe tbody tr th:only-of-type {\n",
       "        vertical-align: middle;\n",
       "    }\n",
       "\n",
       "    .dataframe tbody tr th {\n",
       "        vertical-align: top;\n",
       "    }\n",
       "\n",
       "    .dataframe thead th {\n",
       "        text-align: right;\n",
       "    }\n",
       "</style>\n",
       "<table border=\"1\" class=\"dataframe\">\n",
       "  <thead>\n",
       "    <tr style=\"text-align: right;\">\n",
       "      <th></th>\n",
       "      <th>user_id</th>\n",
       "      <th>name</th>\n",
       "      <th>age</th>\n",
       "      <th>city</th>\n",
       "      <th>subscription_type</th>\n",
       "      <th>distance</th>\n",
       "      <th>duration</th>\n",
       "      <th>date</th>\n",
       "      <th>month</th>\n",
       "      <th>minute_price</th>\n",
       "      <th>start_ride_price</th>\n",
       "      <th>subscription_fee</th>\n",
       "    </tr>\n",
       "  </thead>\n",
       "  <tbody>\n",
       "    <tr>\n",
       "      <th>0</th>\n",
       "      <td>1</td>\n",
       "      <td>Кира</td>\n",
       "      <td>22</td>\n",
       "      <td>Тюмень</td>\n",
       "      <td>ultra</td>\n",
       "      <td>4409.919140</td>\n",
       "      <td>26.0</td>\n",
       "      <td>2021-01-01</td>\n",
       "      <td>1</td>\n",
       "      <td>6</td>\n",
       "      <td>0</td>\n",
       "      <td>199</td>\n",
       "    </tr>\n",
       "    <tr>\n",
       "      <th>1</th>\n",
       "      <td>1</td>\n",
       "      <td>Кира</td>\n",
       "      <td>22</td>\n",
       "      <td>Тюмень</td>\n",
       "      <td>ultra</td>\n",
       "      <td>2617.592153</td>\n",
       "      <td>16.0</td>\n",
       "      <td>2021-01-18</td>\n",
       "      <td>1</td>\n",
       "      <td>6</td>\n",
       "      <td>0</td>\n",
       "      <td>199</td>\n",
       "    </tr>\n",
       "    <tr>\n",
       "      <th>2</th>\n",
       "      <td>1</td>\n",
       "      <td>Кира</td>\n",
       "      <td>22</td>\n",
       "      <td>Тюмень</td>\n",
       "      <td>ultra</td>\n",
       "      <td>754.159807</td>\n",
       "      <td>7.0</td>\n",
       "      <td>2021-04-20</td>\n",
       "      <td>4</td>\n",
       "      <td>6</td>\n",
       "      <td>0</td>\n",
       "      <td>199</td>\n",
       "    </tr>\n",
       "    <tr>\n",
       "      <th>3</th>\n",
       "      <td>1</td>\n",
       "      <td>Кира</td>\n",
       "      <td>22</td>\n",
       "      <td>Тюмень</td>\n",
       "      <td>ultra</td>\n",
       "      <td>2694.783254</td>\n",
       "      <td>19.0</td>\n",
       "      <td>2021-08-11</td>\n",
       "      <td>8</td>\n",
       "      <td>6</td>\n",
       "      <td>0</td>\n",
       "      <td>199</td>\n",
       "    </tr>\n",
       "    <tr>\n",
       "      <th>4</th>\n",
       "      <td>1</td>\n",
       "      <td>Кира</td>\n",
       "      <td>22</td>\n",
       "      <td>Тюмень</td>\n",
       "      <td>ultra</td>\n",
       "      <td>4028.687306</td>\n",
       "      <td>27.0</td>\n",
       "      <td>2021-08-28</td>\n",
       "      <td>8</td>\n",
       "      <td>6</td>\n",
       "      <td>0</td>\n",
       "      <td>199</td>\n",
       "    </tr>\n",
       "  </tbody>\n",
       "</table>\n",
       "</div>"
      ],
      "text/plain": [
       "   user_id  name  age    city subscription_type     distance  duration  \\\n",
       "0        1  Кира   22  Тюмень             ultra  4409.919140      26.0   \n",
       "1        1  Кира   22  Тюмень             ultra  2617.592153      16.0   \n",
       "2        1  Кира   22  Тюмень             ultra   754.159807       7.0   \n",
       "3        1  Кира   22  Тюмень             ultra  2694.783254      19.0   \n",
       "4        1  Кира   22  Тюмень             ultra  4028.687306      27.0   \n",
       "\n",
       "        date  month  minute_price  start_ride_price  subscription_fee  \n",
       "0 2021-01-01      1             6                 0               199  \n",
       "1 2021-01-18      1             6                 0               199  \n",
       "2 2021-04-20      4             6                 0               199  \n",
       "3 2021-08-11      8             6                 0               199  \n",
       "4 2021-08-28      8             6                 0               199  "
      ]
     },
     "execution_count": 76,
     "metadata": {},
     "output_type": "execute_result"
    },
    {
     "data": {
      "text/html": [
       "<div>\n",
       "<style scoped>\n",
       "    .dataframe tbody tr th:only-of-type {\n",
       "        vertical-align: middle;\n",
       "    }\n",
       "\n",
       "    .dataframe tbody tr th {\n",
       "        vertical-align: top;\n",
       "    }\n",
       "\n",
       "    .dataframe thead th {\n",
       "        text-align: right;\n",
       "    }\n",
       "</style>\n",
       "<table border=\"1\" class=\"dataframe\">\n",
       "  <thead>\n",
       "    <tr style=\"text-align: right;\">\n",
       "      <th></th>\n",
       "      <th>user_id</th>\n",
       "      <th>name</th>\n",
       "      <th>age</th>\n",
       "      <th>city</th>\n",
       "      <th>subscription_type</th>\n",
       "      <th>distance</th>\n",
       "      <th>duration</th>\n",
       "      <th>date</th>\n",
       "      <th>month</th>\n",
       "      <th>minute_price</th>\n",
       "      <th>start_ride_price</th>\n",
       "      <th>subscription_fee</th>\n",
       "    </tr>\n",
       "  </thead>\n",
       "  <tbody>\n",
       "    <tr>\n",
       "      <th>0</th>\n",
       "      <td>1</td>\n",
       "      <td>Кира</td>\n",
       "      <td>22</td>\n",
       "      <td>Тюмень</td>\n",
       "      <td>ultra</td>\n",
       "      <td>4409.919140</td>\n",
       "      <td>26.0</td>\n",
       "      <td>2021-01-01</td>\n",
       "      <td>1</td>\n",
       "      <td>6</td>\n",
       "      <td>0</td>\n",
       "      <td>199</td>\n",
       "    </tr>\n",
       "    <tr>\n",
       "      <th>1</th>\n",
       "      <td>1</td>\n",
       "      <td>Кира</td>\n",
       "      <td>22</td>\n",
       "      <td>Тюмень</td>\n",
       "      <td>ultra</td>\n",
       "      <td>2617.592153</td>\n",
       "      <td>16.0</td>\n",
       "      <td>2021-01-18</td>\n",
       "      <td>1</td>\n",
       "      <td>6</td>\n",
       "      <td>0</td>\n",
       "      <td>199</td>\n",
       "    </tr>\n",
       "    <tr>\n",
       "      <th>2</th>\n",
       "      <td>1</td>\n",
       "      <td>Кира</td>\n",
       "      <td>22</td>\n",
       "      <td>Тюмень</td>\n",
       "      <td>ultra</td>\n",
       "      <td>754.159807</td>\n",
       "      <td>7.0</td>\n",
       "      <td>2021-04-20</td>\n",
       "      <td>4</td>\n",
       "      <td>6</td>\n",
       "      <td>0</td>\n",
       "      <td>199</td>\n",
       "    </tr>\n",
       "    <tr>\n",
       "      <th>3</th>\n",
       "      <td>1</td>\n",
       "      <td>Кира</td>\n",
       "      <td>22</td>\n",
       "      <td>Тюмень</td>\n",
       "      <td>ultra</td>\n",
       "      <td>2694.783254</td>\n",
       "      <td>19.0</td>\n",
       "      <td>2021-08-11</td>\n",
       "      <td>8</td>\n",
       "      <td>6</td>\n",
       "      <td>0</td>\n",
       "      <td>199</td>\n",
       "    </tr>\n",
       "    <tr>\n",
       "      <th>4</th>\n",
       "      <td>1</td>\n",
       "      <td>Кира</td>\n",
       "      <td>22</td>\n",
       "      <td>Тюмень</td>\n",
       "      <td>ultra</td>\n",
       "      <td>4028.687306</td>\n",
       "      <td>27.0</td>\n",
       "      <td>2021-08-28</td>\n",
       "      <td>8</td>\n",
       "      <td>6</td>\n",
       "      <td>0</td>\n",
       "      <td>199</td>\n",
       "    </tr>\n",
       "  </tbody>\n",
       "</table>\n",
       "</div>"
      ],
      "text/plain": [
       "   user_id  name  age    city subscription_type     distance  duration  \\\n",
       "0        1  Кира   22  Тюмень             ultra  4409.919140      26.0   \n",
       "1        1  Кира   22  Тюмень             ultra  2617.592153      16.0   \n",
       "2        1  Кира   22  Тюмень             ultra   754.159807       7.0   \n",
       "3        1  Кира   22  Тюмень             ultra  2694.783254      19.0   \n",
       "4        1  Кира   22  Тюмень             ultra  4028.687306      27.0   \n",
       "\n",
       "        date  month  minute_price  start_ride_price  subscription_fee  \n",
       "0 2021-01-01      1             6                 0               199  \n",
       "1 2021-01-18      1             6                 0               199  \n",
       "2 2021-04-20      4             6                 0               199  \n",
       "3 2021-08-11      8             6                 0               199  \n",
       "4 2021-08-28      8             6                 0               199  "
      ]
     },
     "execution_count": 76,
     "metadata": {},
     "output_type": "execute_result"
    }
   ],
   "source": [
    "combined['duration'] = np.ceil(combined['duration']) #округляем время поездки до агрегирования\n",
    "combined.head()"
   ]
  },
  {
   "cell_type": "code",
   "execution_count": 77,
   "id": "cf883170",
   "metadata": {},
   "outputs": [
    {
     "data": {
      "text/html": [
       "<div>\n",
       "<style scoped>\n",
       "    .dataframe tbody tr th:only-of-type {\n",
       "        vertical-align: middle;\n",
       "    }\n",
       "\n",
       "    .dataframe tbody tr th {\n",
       "        vertical-align: top;\n",
       "    }\n",
       "\n",
       "    .dataframe thead th {\n",
       "        text-align: right;\n",
       "    }\n",
       "</style>\n",
       "<table border=\"1\" class=\"dataframe\">\n",
       "  <thead>\n",
       "    <tr style=\"text-align: right;\">\n",
       "      <th></th>\n",
       "      <th>user_id</th>\n",
       "      <th>month</th>\n",
       "      <th>distance</th>\n",
       "      <th>duration</th>\n",
       "      <th>ride_count</th>\n",
       "    </tr>\n",
       "  </thead>\n",
       "  <tbody>\n",
       "    <tr>\n",
       "      <th>0</th>\n",
       "      <td>1</td>\n",
       "      <td>1</td>\n",
       "      <td>7027.511294</td>\n",
       "      <td>42.0</td>\n",
       "      <td>2</td>\n",
       "    </tr>\n",
       "    <tr>\n",
       "      <th>1</th>\n",
       "      <td>1</td>\n",
       "      <td>4</td>\n",
       "      <td>754.159807</td>\n",
       "      <td>7.0</td>\n",
       "      <td>1</td>\n",
       "    </tr>\n",
       "    <tr>\n",
       "      <th>2</th>\n",
       "      <td>1</td>\n",
       "      <td>8</td>\n",
       "      <td>6723.470560</td>\n",
       "      <td>46.0</td>\n",
       "      <td>2</td>\n",
       "    </tr>\n",
       "    <tr>\n",
       "      <th>3</th>\n",
       "      <td>1</td>\n",
       "      <td>10</td>\n",
       "      <td>5809.911100</td>\n",
       "      <td>32.0</td>\n",
       "      <td>2</td>\n",
       "    </tr>\n",
       "    <tr>\n",
       "      <th>4</th>\n",
       "      <td>1</td>\n",
       "      <td>11</td>\n",
       "      <td>7003.499363</td>\n",
       "      <td>56.0</td>\n",
       "      <td>3</td>\n",
       "    </tr>\n",
       "  </tbody>\n",
       "</table>\n",
       "</div>"
      ],
      "text/plain": [
       "   user_id  month     distance  duration  ride_count\n",
       "0        1      1  7027.511294      42.0           2\n",
       "1        1      4   754.159807       7.0           1\n",
       "2        1      8  6723.470560      46.0           2\n",
       "3        1     10  5809.911100      32.0           2\n",
       "4        1     11  7003.499363      56.0           3"
      ]
     },
     "execution_count": 77,
     "metadata": {},
     "output_type": "execute_result"
    },
    {
     "data": {
      "text/html": [
       "<div>\n",
       "<style scoped>\n",
       "    .dataframe tbody tr th:only-of-type {\n",
       "        vertical-align: middle;\n",
       "    }\n",
       "\n",
       "    .dataframe tbody tr th {\n",
       "        vertical-align: top;\n",
       "    }\n",
       "\n",
       "    .dataframe thead th {\n",
       "        text-align: right;\n",
       "    }\n",
       "</style>\n",
       "<table border=\"1\" class=\"dataframe\">\n",
       "  <thead>\n",
       "    <tr style=\"text-align: right;\">\n",
       "      <th></th>\n",
       "      <th>user_id</th>\n",
       "      <th>month</th>\n",
       "      <th>distance</th>\n",
       "      <th>duration</th>\n",
       "      <th>ride_count</th>\n",
       "    </tr>\n",
       "  </thead>\n",
       "  <tbody>\n",
       "    <tr>\n",
       "      <th>0</th>\n",
       "      <td>1</td>\n",
       "      <td>1</td>\n",
       "      <td>7027.511294</td>\n",
       "      <td>42.0</td>\n",
       "      <td>2</td>\n",
       "    </tr>\n",
       "    <tr>\n",
       "      <th>1</th>\n",
       "      <td>1</td>\n",
       "      <td>4</td>\n",
       "      <td>754.159807</td>\n",
       "      <td>7.0</td>\n",
       "      <td>1</td>\n",
       "    </tr>\n",
       "    <tr>\n",
       "      <th>2</th>\n",
       "      <td>1</td>\n",
       "      <td>8</td>\n",
       "      <td>6723.470560</td>\n",
       "      <td>46.0</td>\n",
       "      <td>2</td>\n",
       "    </tr>\n",
       "    <tr>\n",
       "      <th>3</th>\n",
       "      <td>1</td>\n",
       "      <td>10</td>\n",
       "      <td>5809.911100</td>\n",
       "      <td>32.0</td>\n",
       "      <td>2</td>\n",
       "    </tr>\n",
       "    <tr>\n",
       "      <th>4</th>\n",
       "      <td>1</td>\n",
       "      <td>11</td>\n",
       "      <td>7003.499363</td>\n",
       "      <td>56.0</td>\n",
       "      <td>3</td>\n",
       "    </tr>\n",
       "  </tbody>\n",
       "</table>\n",
       "</div>"
      ],
      "text/plain": [
       "   user_id  month     distance  duration  ride_count\n",
       "0        1      1  7027.511294      42.0           2\n",
       "1        1      4   754.159807       7.0           1\n",
       "2        1      8  6723.470560      46.0           2\n",
       "3        1     10  5809.911100      32.0           2\n",
       "4        1     11  7003.499363      56.0           3"
      ]
     },
     "execution_count": 77,
     "metadata": {},
     "output_type": "execute_result"
    }
   ],
   "source": [
    "agr_data = combined.groupby(['user_id', 'month']).agg({\n",
    "    'distance': 'sum',           \n",
    "    'duration': 'sum',      \n",
    "    'date': 'count'           \n",
    "}).rename(columns={'date': 'ride_count'}).reset_index()\n",
    "agr_data.head()"
   ]
  },
  {
   "cell_type": "code",
   "execution_count": 78,
   "id": "8e65ea16",
   "metadata": {},
   "outputs": [
    {
     "data": {
      "text/html": [
       "<div>\n",
       "<style scoped>\n",
       "    .dataframe tbody tr th:only-of-type {\n",
       "        vertical-align: middle;\n",
       "    }\n",
       "\n",
       "    .dataframe tbody tr th {\n",
       "        vertical-align: top;\n",
       "    }\n",
       "\n",
       "    .dataframe thead th {\n",
       "        text-align: right;\n",
       "    }\n",
       "</style>\n",
       "<table border=\"1\" class=\"dataframe\">\n",
       "  <thead>\n",
       "    <tr style=\"text-align: right;\">\n",
       "      <th></th>\n",
       "      <th>user_id</th>\n",
       "      <th>month</th>\n",
       "      <th>distance</th>\n",
       "      <th>duration</th>\n",
       "      <th>ride_count</th>\n",
       "      <th>subscription_type</th>\n",
       "    </tr>\n",
       "  </thead>\n",
       "  <tbody>\n",
       "    <tr>\n",
       "      <th>0</th>\n",
       "      <td>1</td>\n",
       "      <td>1</td>\n",
       "      <td>7027.511294</td>\n",
       "      <td>42.0</td>\n",
       "      <td>2</td>\n",
       "      <td>ultra</td>\n",
       "    </tr>\n",
       "    <tr>\n",
       "      <th>1</th>\n",
       "      <td>1</td>\n",
       "      <td>4</td>\n",
       "      <td>754.159807</td>\n",
       "      <td>7.0</td>\n",
       "      <td>1</td>\n",
       "      <td>ultra</td>\n",
       "    </tr>\n",
       "    <tr>\n",
       "      <th>2</th>\n",
       "      <td>1</td>\n",
       "      <td>8</td>\n",
       "      <td>6723.470560</td>\n",
       "      <td>46.0</td>\n",
       "      <td>2</td>\n",
       "      <td>ultra</td>\n",
       "    </tr>\n",
       "    <tr>\n",
       "      <th>3</th>\n",
       "      <td>1</td>\n",
       "      <td>10</td>\n",
       "      <td>5809.911100</td>\n",
       "      <td>32.0</td>\n",
       "      <td>2</td>\n",
       "      <td>ultra</td>\n",
       "    </tr>\n",
       "    <tr>\n",
       "      <th>4</th>\n",
       "      <td>1</td>\n",
       "      <td>11</td>\n",
       "      <td>7003.499363</td>\n",
       "      <td>56.0</td>\n",
       "      <td>3</td>\n",
       "      <td>ultra</td>\n",
       "    </tr>\n",
       "  </tbody>\n",
       "</table>\n",
       "</div>"
      ],
      "text/plain": [
       "   user_id  month     distance  duration  ride_count subscription_type\n",
       "0        1      1  7027.511294      42.0           2             ultra\n",
       "1        1      4   754.159807       7.0           1             ultra\n",
       "2        1      8  6723.470560      46.0           2             ultra\n",
       "3        1     10  5809.911100      32.0           2             ultra\n",
       "4        1     11  7003.499363      56.0           3             ultra"
      ]
     },
     "execution_count": 78,
     "metadata": {},
     "output_type": "execute_result"
    },
    {
     "data": {
      "text/html": [
       "<div>\n",
       "<style scoped>\n",
       "    .dataframe tbody tr th:only-of-type {\n",
       "        vertical-align: middle;\n",
       "    }\n",
       "\n",
       "    .dataframe tbody tr th {\n",
       "        vertical-align: top;\n",
       "    }\n",
       "\n",
       "    .dataframe thead th {\n",
       "        text-align: right;\n",
       "    }\n",
       "</style>\n",
       "<table border=\"1\" class=\"dataframe\">\n",
       "  <thead>\n",
       "    <tr style=\"text-align: right;\">\n",
       "      <th></th>\n",
       "      <th>user_id</th>\n",
       "      <th>month</th>\n",
       "      <th>distance</th>\n",
       "      <th>duration</th>\n",
       "      <th>ride_count</th>\n",
       "      <th>subscription_type</th>\n",
       "    </tr>\n",
       "  </thead>\n",
       "  <tbody>\n",
       "    <tr>\n",
       "      <th>0</th>\n",
       "      <td>1</td>\n",
       "      <td>1</td>\n",
       "      <td>7027.511294</td>\n",
       "      <td>42.0</td>\n",
       "      <td>2</td>\n",
       "      <td>ultra</td>\n",
       "    </tr>\n",
       "    <tr>\n",
       "      <th>1</th>\n",
       "      <td>1</td>\n",
       "      <td>4</td>\n",
       "      <td>754.159807</td>\n",
       "      <td>7.0</td>\n",
       "      <td>1</td>\n",
       "      <td>ultra</td>\n",
       "    </tr>\n",
       "    <tr>\n",
       "      <th>2</th>\n",
       "      <td>1</td>\n",
       "      <td>8</td>\n",
       "      <td>6723.470560</td>\n",
       "      <td>46.0</td>\n",
       "      <td>2</td>\n",
       "      <td>ultra</td>\n",
       "    </tr>\n",
       "    <tr>\n",
       "      <th>3</th>\n",
       "      <td>1</td>\n",
       "      <td>10</td>\n",
       "      <td>5809.911100</td>\n",
       "      <td>32.0</td>\n",
       "      <td>2</td>\n",
       "      <td>ultra</td>\n",
       "    </tr>\n",
       "    <tr>\n",
       "      <th>4</th>\n",
       "      <td>1</td>\n",
       "      <td>11</td>\n",
       "      <td>7003.499363</td>\n",
       "      <td>56.0</td>\n",
       "      <td>3</td>\n",
       "      <td>ultra</td>\n",
       "    </tr>\n",
       "  </tbody>\n",
       "</table>\n",
       "</div>"
      ],
      "text/plain": [
       "   user_id  month     distance  duration  ride_count subscription_type\n",
       "0        1      1  7027.511294      42.0           2             ultra\n",
       "1        1      4   754.159807       7.0           1             ultra\n",
       "2        1      8  6723.470560      46.0           2             ultra\n",
       "3        1     10  5809.911100      32.0           2             ultra\n",
       "4        1     11  7003.499363      56.0           3             ultra"
      ]
     },
     "execution_count": 78,
     "metadata": {},
     "output_type": "execute_result"
    }
   ],
   "source": [
    "agr_data = agr_data.merge(users[['user_id', 'subscription_type']], on='user_id', how='left')\n",
    "agr_data.head()"
   ]
  },
  {
   "cell_type": "code",
   "execution_count": 79,
   "id": "5aa891c9",
   "metadata": {},
   "outputs": [
    {
     "data": {
      "text/html": [
       "<div>\n",
       "<style scoped>\n",
       "    .dataframe tbody tr th:only-of-type {\n",
       "        vertical-align: middle;\n",
       "    }\n",
       "\n",
       "    .dataframe tbody tr th {\n",
       "        vertical-align: top;\n",
       "    }\n",
       "\n",
       "    .dataframe thead th {\n",
       "        text-align: right;\n",
       "    }\n",
       "</style>\n",
       "<table border=\"1\" class=\"dataframe\">\n",
       "  <thead>\n",
       "    <tr style=\"text-align: right;\">\n",
       "      <th></th>\n",
       "      <th>user_id</th>\n",
       "      <th>month</th>\n",
       "      <th>distance</th>\n",
       "      <th>duration</th>\n",
       "      <th>ride_count</th>\n",
       "      <th>subscription_type</th>\n",
       "      <th>minute_price</th>\n",
       "      <th>start_ride_price</th>\n",
       "      <th>subscription_fee</th>\n",
       "    </tr>\n",
       "  </thead>\n",
       "  <tbody>\n",
       "    <tr>\n",
       "      <th>0</th>\n",
       "      <td>1</td>\n",
       "      <td>1</td>\n",
       "      <td>7027.511294</td>\n",
       "      <td>42.0</td>\n",
       "      <td>2</td>\n",
       "      <td>ultra</td>\n",
       "      <td>6</td>\n",
       "      <td>0</td>\n",
       "      <td>199</td>\n",
       "    </tr>\n",
       "    <tr>\n",
       "      <th>1</th>\n",
       "      <td>1</td>\n",
       "      <td>4</td>\n",
       "      <td>754.159807</td>\n",
       "      <td>7.0</td>\n",
       "      <td>1</td>\n",
       "      <td>ultra</td>\n",
       "      <td>6</td>\n",
       "      <td>0</td>\n",
       "      <td>199</td>\n",
       "    </tr>\n",
       "    <tr>\n",
       "      <th>2</th>\n",
       "      <td>1</td>\n",
       "      <td>8</td>\n",
       "      <td>6723.470560</td>\n",
       "      <td>46.0</td>\n",
       "      <td>2</td>\n",
       "      <td>ultra</td>\n",
       "      <td>6</td>\n",
       "      <td>0</td>\n",
       "      <td>199</td>\n",
       "    </tr>\n",
       "    <tr>\n",
       "      <th>3</th>\n",
       "      <td>1</td>\n",
       "      <td>10</td>\n",
       "      <td>5809.911100</td>\n",
       "      <td>32.0</td>\n",
       "      <td>2</td>\n",
       "      <td>ultra</td>\n",
       "      <td>6</td>\n",
       "      <td>0</td>\n",
       "      <td>199</td>\n",
       "    </tr>\n",
       "    <tr>\n",
       "      <th>4</th>\n",
       "      <td>1</td>\n",
       "      <td>11</td>\n",
       "      <td>7003.499363</td>\n",
       "      <td>56.0</td>\n",
       "      <td>3</td>\n",
       "      <td>ultra</td>\n",
       "      <td>6</td>\n",
       "      <td>0</td>\n",
       "      <td>199</td>\n",
       "    </tr>\n",
       "  </tbody>\n",
       "</table>\n",
       "</div>"
      ],
      "text/plain": [
       "   user_id  month     distance  duration  ride_count subscription_type  \\\n",
       "0        1      1  7027.511294      42.0           2             ultra   \n",
       "1        1      4   754.159807       7.0           1             ultra   \n",
       "2        1      8  6723.470560      46.0           2             ultra   \n",
       "3        1     10  5809.911100      32.0           2             ultra   \n",
       "4        1     11  7003.499363      56.0           3             ultra   \n",
       "\n",
       "   minute_price  start_ride_price  subscription_fee  \n",
       "0             6                 0               199  \n",
       "1             6                 0               199  \n",
       "2             6                 0               199  \n",
       "3             6                 0               199  \n",
       "4             6                 0               199  "
      ]
     },
     "execution_count": 79,
     "metadata": {},
     "output_type": "execute_result"
    },
    {
     "data": {
      "text/html": [
       "<div>\n",
       "<style scoped>\n",
       "    .dataframe tbody tr th:only-of-type {\n",
       "        vertical-align: middle;\n",
       "    }\n",
       "\n",
       "    .dataframe tbody tr th {\n",
       "        vertical-align: top;\n",
       "    }\n",
       "\n",
       "    .dataframe thead th {\n",
       "        text-align: right;\n",
       "    }\n",
       "</style>\n",
       "<table border=\"1\" class=\"dataframe\">\n",
       "  <thead>\n",
       "    <tr style=\"text-align: right;\">\n",
       "      <th></th>\n",
       "      <th>user_id</th>\n",
       "      <th>month</th>\n",
       "      <th>distance</th>\n",
       "      <th>duration</th>\n",
       "      <th>ride_count</th>\n",
       "      <th>subscription_type</th>\n",
       "      <th>minute_price</th>\n",
       "      <th>start_ride_price</th>\n",
       "      <th>subscription_fee</th>\n",
       "    </tr>\n",
       "  </thead>\n",
       "  <tbody>\n",
       "    <tr>\n",
       "      <th>0</th>\n",
       "      <td>1</td>\n",
       "      <td>1</td>\n",
       "      <td>7027.511294</td>\n",
       "      <td>42.0</td>\n",
       "      <td>2</td>\n",
       "      <td>ultra</td>\n",
       "      <td>6</td>\n",
       "      <td>0</td>\n",
       "      <td>199</td>\n",
       "    </tr>\n",
       "    <tr>\n",
       "      <th>1</th>\n",
       "      <td>1</td>\n",
       "      <td>4</td>\n",
       "      <td>754.159807</td>\n",
       "      <td>7.0</td>\n",
       "      <td>1</td>\n",
       "      <td>ultra</td>\n",
       "      <td>6</td>\n",
       "      <td>0</td>\n",
       "      <td>199</td>\n",
       "    </tr>\n",
       "    <tr>\n",
       "      <th>2</th>\n",
       "      <td>1</td>\n",
       "      <td>8</td>\n",
       "      <td>6723.470560</td>\n",
       "      <td>46.0</td>\n",
       "      <td>2</td>\n",
       "      <td>ultra</td>\n",
       "      <td>6</td>\n",
       "      <td>0</td>\n",
       "      <td>199</td>\n",
       "    </tr>\n",
       "    <tr>\n",
       "      <th>3</th>\n",
       "      <td>1</td>\n",
       "      <td>10</td>\n",
       "      <td>5809.911100</td>\n",
       "      <td>32.0</td>\n",
       "      <td>2</td>\n",
       "      <td>ultra</td>\n",
       "      <td>6</td>\n",
       "      <td>0</td>\n",
       "      <td>199</td>\n",
       "    </tr>\n",
       "    <tr>\n",
       "      <th>4</th>\n",
       "      <td>1</td>\n",
       "      <td>11</td>\n",
       "      <td>7003.499363</td>\n",
       "      <td>56.0</td>\n",
       "      <td>3</td>\n",
       "      <td>ultra</td>\n",
       "      <td>6</td>\n",
       "      <td>0</td>\n",
       "      <td>199</td>\n",
       "    </tr>\n",
       "  </tbody>\n",
       "</table>\n",
       "</div>"
      ],
      "text/plain": [
       "   user_id  month     distance  duration  ride_count subscription_type  \\\n",
       "0        1      1  7027.511294      42.0           2             ultra   \n",
       "1        1      4   754.159807       7.0           1             ultra   \n",
       "2        1      8  6723.470560      46.0           2             ultra   \n",
       "3        1     10  5809.911100      32.0           2             ultra   \n",
       "4        1     11  7003.499363      56.0           3             ultra   \n",
       "\n",
       "   minute_price  start_ride_price  subscription_fee  \n",
       "0             6                 0               199  \n",
       "1             6                 0               199  \n",
       "2             6                 0               199  \n",
       "3             6                 0               199  \n",
       "4             6                 0               199  "
      ]
     },
     "execution_count": 79,
     "metadata": {},
     "output_type": "execute_result"
    }
   ],
   "source": [
    "agr_data = agr_data.merge(subscriptions, on='subscription_type', how='left')\n",
    "agr_data.head()"
   ]
  },
  {
   "cell_type": "code",
   "execution_count": 80,
   "id": "b8bf7eb2",
   "metadata": {},
   "outputs": [
    {
     "data": {
      "text/html": [
       "<div>\n",
       "<style scoped>\n",
       "    .dataframe tbody tr th:only-of-type {\n",
       "        vertical-align: middle;\n",
       "    }\n",
       "\n",
       "    .dataframe tbody tr th {\n",
       "        vertical-align: top;\n",
       "    }\n",
       "\n",
       "    .dataframe thead th {\n",
       "        text-align: right;\n",
       "    }\n",
       "</style>\n",
       "<table border=\"1\" class=\"dataframe\">\n",
       "  <thead>\n",
       "    <tr style=\"text-align: right;\">\n",
       "      <th></th>\n",
       "      <th>user_id</th>\n",
       "      <th>month</th>\n",
       "      <th>distance</th>\n",
       "      <th>duration</th>\n",
       "      <th>ride_count</th>\n",
       "      <th>subscription_type</th>\n",
       "      <th>minute_price</th>\n",
       "      <th>start_ride_price</th>\n",
       "      <th>subscription_fee</th>\n",
       "      <th>profit</th>\n",
       "    </tr>\n",
       "  </thead>\n",
       "  <tbody>\n",
       "    <tr>\n",
       "      <th>0</th>\n",
       "      <td>1</td>\n",
       "      <td>1</td>\n",
       "      <td>7027.511294</td>\n",
       "      <td>42.0</td>\n",
       "      <td>2</td>\n",
       "      <td>ultra</td>\n",
       "      <td>6</td>\n",
       "      <td>0</td>\n",
       "      <td>199</td>\n",
       "      <td>451.0</td>\n",
       "    </tr>\n",
       "    <tr>\n",
       "      <th>1</th>\n",
       "      <td>1</td>\n",
       "      <td>4</td>\n",
       "      <td>754.159807</td>\n",
       "      <td>7.0</td>\n",
       "      <td>1</td>\n",
       "      <td>ultra</td>\n",
       "      <td>6</td>\n",
       "      <td>0</td>\n",
       "      <td>199</td>\n",
       "      <td>241.0</td>\n",
       "    </tr>\n",
       "    <tr>\n",
       "      <th>2</th>\n",
       "      <td>1</td>\n",
       "      <td>8</td>\n",
       "      <td>6723.470560</td>\n",
       "      <td>46.0</td>\n",
       "      <td>2</td>\n",
       "      <td>ultra</td>\n",
       "      <td>6</td>\n",
       "      <td>0</td>\n",
       "      <td>199</td>\n",
       "      <td>475.0</td>\n",
       "    </tr>\n",
       "    <tr>\n",
       "      <th>3</th>\n",
       "      <td>1</td>\n",
       "      <td>10</td>\n",
       "      <td>5809.911100</td>\n",
       "      <td>32.0</td>\n",
       "      <td>2</td>\n",
       "      <td>ultra</td>\n",
       "      <td>6</td>\n",
       "      <td>0</td>\n",
       "      <td>199</td>\n",
       "      <td>391.0</td>\n",
       "    </tr>\n",
       "    <tr>\n",
       "      <th>4</th>\n",
       "      <td>1</td>\n",
       "      <td>11</td>\n",
       "      <td>7003.499363</td>\n",
       "      <td>56.0</td>\n",
       "      <td>3</td>\n",
       "      <td>ultra</td>\n",
       "      <td>6</td>\n",
       "      <td>0</td>\n",
       "      <td>199</td>\n",
       "      <td>535.0</td>\n",
       "    </tr>\n",
       "    <tr>\n",
       "      <th>5</th>\n",
       "      <td>1</td>\n",
       "      <td>12</td>\n",
       "      <td>6751.629942</td>\n",
       "      <td>28.0</td>\n",
       "      <td>2</td>\n",
       "      <td>ultra</td>\n",
       "      <td>6</td>\n",
       "      <td>0</td>\n",
       "      <td>199</td>\n",
       "      <td>367.0</td>\n",
       "    </tr>\n",
       "    <tr>\n",
       "      <th>6</th>\n",
       "      <td>2</td>\n",
       "      <td>3</td>\n",
       "      <td>10187.723006</td>\n",
       "      <td>63.0</td>\n",
       "      <td>3</td>\n",
       "      <td>ultra</td>\n",
       "      <td>6</td>\n",
       "      <td>0</td>\n",
       "      <td>199</td>\n",
       "      <td>577.0</td>\n",
       "    </tr>\n",
       "    <tr>\n",
       "      <th>7</th>\n",
       "      <td>2</td>\n",
       "      <td>4</td>\n",
       "      <td>6164.381824</td>\n",
       "      <td>40.0</td>\n",
       "      <td>2</td>\n",
       "      <td>ultra</td>\n",
       "      <td>6</td>\n",
       "      <td>0</td>\n",
       "      <td>199</td>\n",
       "      <td>439.0</td>\n",
       "    </tr>\n",
       "    <tr>\n",
       "      <th>8</th>\n",
       "      <td>2</td>\n",
       "      <td>6</td>\n",
       "      <td>3255.338202</td>\n",
       "      <td>14.0</td>\n",
       "      <td>1</td>\n",
       "      <td>ultra</td>\n",
       "      <td>6</td>\n",
       "      <td>0</td>\n",
       "      <td>199</td>\n",
       "      <td>283.0</td>\n",
       "    </tr>\n",
       "    <tr>\n",
       "      <th>9</th>\n",
       "      <td>2</td>\n",
       "      <td>7</td>\n",
       "      <td>6780.722964</td>\n",
       "      <td>48.0</td>\n",
       "      <td>2</td>\n",
       "      <td>ultra</td>\n",
       "      <td>6</td>\n",
       "      <td>0</td>\n",
       "      <td>199</td>\n",
       "      <td>487.0</td>\n",
       "    </tr>\n",
       "    <tr>\n",
       "      <th>10</th>\n",
       "      <td>2</td>\n",
       "      <td>8</td>\n",
       "      <td>923.007439</td>\n",
       "      <td>7.0</td>\n",
       "      <td>1</td>\n",
       "      <td>ultra</td>\n",
       "      <td>6</td>\n",
       "      <td>0</td>\n",
       "      <td>199</td>\n",
       "      <td>241.0</td>\n",
       "    </tr>\n",
       "    <tr>\n",
       "      <th>11</th>\n",
       "      <td>2</td>\n",
       "      <td>10</td>\n",
       "      <td>2824.636598</td>\n",
       "      <td>19.0</td>\n",
       "      <td>1</td>\n",
       "      <td>ultra</td>\n",
       "      <td>6</td>\n",
       "      <td>0</td>\n",
       "      <td>199</td>\n",
       "      <td>313.0</td>\n",
       "    </tr>\n",
       "    <tr>\n",
       "      <th>12</th>\n",
       "      <td>2</td>\n",
       "      <td>12</td>\n",
       "      <td>3828.248580</td>\n",
       "      <td>12.0</td>\n",
       "      <td>1</td>\n",
       "      <td>ultra</td>\n",
       "      <td>6</td>\n",
       "      <td>0</td>\n",
       "      <td>199</td>\n",
       "      <td>271.0</td>\n",
       "    </tr>\n",
       "    <tr>\n",
       "      <th>13</th>\n",
       "      <td>3</td>\n",
       "      <td>1</td>\n",
       "      <td>3061.777147</td>\n",
       "      <td>13.0</td>\n",
       "      <td>1</td>\n",
       "      <td>ultra</td>\n",
       "      <td>6</td>\n",
       "      <td>0</td>\n",
       "      <td>199</td>\n",
       "      <td>277.0</td>\n",
       "    </tr>\n",
       "    <tr>\n",
       "      <th>14</th>\n",
       "      <td>3</td>\n",
       "      <td>2</td>\n",
       "      <td>5421.152016</td>\n",
       "      <td>39.0</td>\n",
       "      <td>2</td>\n",
       "      <td>ultra</td>\n",
       "      <td>6</td>\n",
       "      <td>0</td>\n",
       "      <td>199</td>\n",
       "      <td>433.0</td>\n",
       "    </tr>\n",
       "  </tbody>\n",
       "</table>\n",
       "</div>"
      ],
      "text/plain": [
       "    user_id  month      distance  duration  ride_count subscription_type  \\\n",
       "0         1      1   7027.511294      42.0           2             ultra   \n",
       "1         1      4    754.159807       7.0           1             ultra   \n",
       "2         1      8   6723.470560      46.0           2             ultra   \n",
       "3         1     10   5809.911100      32.0           2             ultra   \n",
       "4         1     11   7003.499363      56.0           3             ultra   \n",
       "5         1     12   6751.629942      28.0           2             ultra   \n",
       "6         2      3  10187.723006      63.0           3             ultra   \n",
       "7         2      4   6164.381824      40.0           2             ultra   \n",
       "8         2      6   3255.338202      14.0           1             ultra   \n",
       "9         2      7   6780.722964      48.0           2             ultra   \n",
       "10        2      8    923.007439       7.0           1             ultra   \n",
       "11        2     10   2824.636598      19.0           1             ultra   \n",
       "12        2     12   3828.248580      12.0           1             ultra   \n",
       "13        3      1   3061.777147      13.0           1             ultra   \n",
       "14        3      2   5421.152016      39.0           2             ultra   \n",
       "\n",
       "    minute_price  start_ride_price  subscription_fee  profit  \n",
       "0              6                 0               199   451.0  \n",
       "1              6                 0               199   241.0  \n",
       "2              6                 0               199   475.0  \n",
       "3              6                 0               199   391.0  \n",
       "4              6                 0               199   535.0  \n",
       "5              6                 0               199   367.0  \n",
       "6              6                 0               199   577.0  \n",
       "7              6                 0               199   439.0  \n",
       "8              6                 0               199   283.0  \n",
       "9              6                 0               199   487.0  \n",
       "10             6                 0               199   241.0  \n",
       "11             6                 0               199   313.0  \n",
       "12             6                 0               199   271.0  \n",
       "13             6                 0               199   277.0  \n",
       "14             6                 0               199   433.0  "
      ]
     },
     "execution_count": 80,
     "metadata": {},
     "output_type": "execute_result"
    },
    {
     "data": {
      "text/html": [
       "<div>\n",
       "<style scoped>\n",
       "    .dataframe tbody tr th:only-of-type {\n",
       "        vertical-align: middle;\n",
       "    }\n",
       "\n",
       "    .dataframe tbody tr th {\n",
       "        vertical-align: top;\n",
       "    }\n",
       "\n",
       "    .dataframe thead th {\n",
       "        text-align: right;\n",
       "    }\n",
       "</style>\n",
       "<table border=\"1\" class=\"dataframe\">\n",
       "  <thead>\n",
       "    <tr style=\"text-align: right;\">\n",
       "      <th></th>\n",
       "      <th>user_id</th>\n",
       "      <th>month</th>\n",
       "      <th>distance</th>\n",
       "      <th>duration</th>\n",
       "      <th>ride_count</th>\n",
       "      <th>subscription_type</th>\n",
       "      <th>minute_price</th>\n",
       "      <th>start_ride_price</th>\n",
       "      <th>subscription_fee</th>\n",
       "      <th>profit</th>\n",
       "    </tr>\n",
       "  </thead>\n",
       "  <tbody>\n",
       "    <tr>\n",
       "      <th>0</th>\n",
       "      <td>1</td>\n",
       "      <td>1</td>\n",
       "      <td>7027.511294</td>\n",
       "      <td>42.0</td>\n",
       "      <td>2</td>\n",
       "      <td>ultra</td>\n",
       "      <td>6</td>\n",
       "      <td>0</td>\n",
       "      <td>199</td>\n",
       "      <td>451.0</td>\n",
       "    </tr>\n",
       "    <tr>\n",
       "      <th>1</th>\n",
       "      <td>1</td>\n",
       "      <td>4</td>\n",
       "      <td>754.159807</td>\n",
       "      <td>7.0</td>\n",
       "      <td>1</td>\n",
       "      <td>ultra</td>\n",
       "      <td>6</td>\n",
       "      <td>0</td>\n",
       "      <td>199</td>\n",
       "      <td>241.0</td>\n",
       "    </tr>\n",
       "    <tr>\n",
       "      <th>2</th>\n",
       "      <td>1</td>\n",
       "      <td>8</td>\n",
       "      <td>6723.470560</td>\n",
       "      <td>46.0</td>\n",
       "      <td>2</td>\n",
       "      <td>ultra</td>\n",
       "      <td>6</td>\n",
       "      <td>0</td>\n",
       "      <td>199</td>\n",
       "      <td>475.0</td>\n",
       "    </tr>\n",
       "    <tr>\n",
       "      <th>3</th>\n",
       "      <td>1</td>\n",
       "      <td>10</td>\n",
       "      <td>5809.911100</td>\n",
       "      <td>32.0</td>\n",
       "      <td>2</td>\n",
       "      <td>ultra</td>\n",
       "      <td>6</td>\n",
       "      <td>0</td>\n",
       "      <td>199</td>\n",
       "      <td>391.0</td>\n",
       "    </tr>\n",
       "    <tr>\n",
       "      <th>4</th>\n",
       "      <td>1</td>\n",
       "      <td>11</td>\n",
       "      <td>7003.499363</td>\n",
       "      <td>56.0</td>\n",
       "      <td>3</td>\n",
       "      <td>ultra</td>\n",
       "      <td>6</td>\n",
       "      <td>0</td>\n",
       "      <td>199</td>\n",
       "      <td>535.0</td>\n",
       "    </tr>\n",
       "    <tr>\n",
       "      <th>5</th>\n",
       "      <td>1</td>\n",
       "      <td>12</td>\n",
       "      <td>6751.629942</td>\n",
       "      <td>28.0</td>\n",
       "      <td>2</td>\n",
       "      <td>ultra</td>\n",
       "      <td>6</td>\n",
       "      <td>0</td>\n",
       "      <td>199</td>\n",
       "      <td>367.0</td>\n",
       "    </tr>\n",
       "    <tr>\n",
       "      <th>6</th>\n",
       "      <td>2</td>\n",
       "      <td>3</td>\n",
       "      <td>10187.723006</td>\n",
       "      <td>63.0</td>\n",
       "      <td>3</td>\n",
       "      <td>ultra</td>\n",
       "      <td>6</td>\n",
       "      <td>0</td>\n",
       "      <td>199</td>\n",
       "      <td>577.0</td>\n",
       "    </tr>\n",
       "    <tr>\n",
       "      <th>7</th>\n",
       "      <td>2</td>\n",
       "      <td>4</td>\n",
       "      <td>6164.381824</td>\n",
       "      <td>40.0</td>\n",
       "      <td>2</td>\n",
       "      <td>ultra</td>\n",
       "      <td>6</td>\n",
       "      <td>0</td>\n",
       "      <td>199</td>\n",
       "      <td>439.0</td>\n",
       "    </tr>\n",
       "    <tr>\n",
       "      <th>8</th>\n",
       "      <td>2</td>\n",
       "      <td>6</td>\n",
       "      <td>3255.338202</td>\n",
       "      <td>14.0</td>\n",
       "      <td>1</td>\n",
       "      <td>ultra</td>\n",
       "      <td>6</td>\n",
       "      <td>0</td>\n",
       "      <td>199</td>\n",
       "      <td>283.0</td>\n",
       "    </tr>\n",
       "    <tr>\n",
       "      <th>9</th>\n",
       "      <td>2</td>\n",
       "      <td>7</td>\n",
       "      <td>6780.722964</td>\n",
       "      <td>48.0</td>\n",
       "      <td>2</td>\n",
       "      <td>ultra</td>\n",
       "      <td>6</td>\n",
       "      <td>0</td>\n",
       "      <td>199</td>\n",
       "      <td>487.0</td>\n",
       "    </tr>\n",
       "    <tr>\n",
       "      <th>10</th>\n",
       "      <td>2</td>\n",
       "      <td>8</td>\n",
       "      <td>923.007439</td>\n",
       "      <td>7.0</td>\n",
       "      <td>1</td>\n",
       "      <td>ultra</td>\n",
       "      <td>6</td>\n",
       "      <td>0</td>\n",
       "      <td>199</td>\n",
       "      <td>241.0</td>\n",
       "    </tr>\n",
       "    <tr>\n",
       "      <th>11</th>\n",
       "      <td>2</td>\n",
       "      <td>10</td>\n",
       "      <td>2824.636598</td>\n",
       "      <td>19.0</td>\n",
       "      <td>1</td>\n",
       "      <td>ultra</td>\n",
       "      <td>6</td>\n",
       "      <td>0</td>\n",
       "      <td>199</td>\n",
       "      <td>313.0</td>\n",
       "    </tr>\n",
       "    <tr>\n",
       "      <th>12</th>\n",
       "      <td>2</td>\n",
       "      <td>12</td>\n",
       "      <td>3828.248580</td>\n",
       "      <td>12.0</td>\n",
       "      <td>1</td>\n",
       "      <td>ultra</td>\n",
       "      <td>6</td>\n",
       "      <td>0</td>\n",
       "      <td>199</td>\n",
       "      <td>271.0</td>\n",
       "    </tr>\n",
       "    <tr>\n",
       "      <th>13</th>\n",
       "      <td>3</td>\n",
       "      <td>1</td>\n",
       "      <td>3061.777147</td>\n",
       "      <td>13.0</td>\n",
       "      <td>1</td>\n",
       "      <td>ultra</td>\n",
       "      <td>6</td>\n",
       "      <td>0</td>\n",
       "      <td>199</td>\n",
       "      <td>277.0</td>\n",
       "    </tr>\n",
       "    <tr>\n",
       "      <th>14</th>\n",
       "      <td>3</td>\n",
       "      <td>2</td>\n",
       "      <td>5421.152016</td>\n",
       "      <td>39.0</td>\n",
       "      <td>2</td>\n",
       "      <td>ultra</td>\n",
       "      <td>6</td>\n",
       "      <td>0</td>\n",
       "      <td>199</td>\n",
       "      <td>433.0</td>\n",
       "    </tr>\n",
       "  </tbody>\n",
       "</table>\n",
       "</div>"
      ],
      "text/plain": [
       "    user_id  month      distance  duration  ride_count subscription_type  \\\n",
       "0         1      1   7027.511294      42.0           2             ultra   \n",
       "1         1      4    754.159807       7.0           1             ultra   \n",
       "2         1      8   6723.470560      46.0           2             ultra   \n",
       "3         1     10   5809.911100      32.0           2             ultra   \n",
       "4         1     11   7003.499363      56.0           3             ultra   \n",
       "5         1     12   6751.629942      28.0           2             ultra   \n",
       "6         2      3  10187.723006      63.0           3             ultra   \n",
       "7         2      4   6164.381824      40.0           2             ultra   \n",
       "8         2      6   3255.338202      14.0           1             ultra   \n",
       "9         2      7   6780.722964      48.0           2             ultra   \n",
       "10        2      8    923.007439       7.0           1             ultra   \n",
       "11        2     10   2824.636598      19.0           1             ultra   \n",
       "12        2     12   3828.248580      12.0           1             ultra   \n",
       "13        3      1   3061.777147      13.0           1             ultra   \n",
       "14        3      2   5421.152016      39.0           2             ultra   \n",
       "\n",
       "    minute_price  start_ride_price  subscription_fee  profit  \n",
       "0              6                 0               199   451.0  \n",
       "1              6                 0               199   241.0  \n",
       "2              6                 0               199   475.0  \n",
       "3              6                 0               199   391.0  \n",
       "4              6                 0               199   535.0  \n",
       "5              6                 0               199   367.0  \n",
       "6              6                 0               199   577.0  \n",
       "7              6                 0               199   439.0  \n",
       "8              6                 0               199   283.0  \n",
       "9              6                 0               199   487.0  \n",
       "10             6                 0               199   241.0  \n",
       "11             6                 0               199   313.0  \n",
       "12             6                 0               199   271.0  \n",
       "13             6                 0               199   277.0  \n",
       "14             6                 0               199   433.0  "
      ]
     },
     "execution_count": 80,
     "metadata": {},
     "output_type": "execute_result"
    }
   ],
   "source": [
    "agr_data['profit'] = agr_data['ride_count']*agr_data['start_ride_price'] + agr_data['minute_price']*agr_data['duration']+agr_data['subscription_fee']\n",
    "agr_data.head(15)"
   ]
  },
  {
   "cell_type": "code",
   "execution_count": 81,
   "id": "4429fa28",
   "metadata": {},
   "outputs": [
    {
     "data": {
      "text/html": [
       "<div>\n",
       "<style scoped>\n",
       "    .dataframe tbody tr th:only-of-type {\n",
       "        vertical-align: middle;\n",
       "    }\n",
       "\n",
       "    .dataframe tbody tr th {\n",
       "        vertical-align: top;\n",
       "    }\n",
       "\n",
       "    .dataframe thead th {\n",
       "        text-align: right;\n",
       "    }\n",
       "</style>\n",
       "<table border=\"1\" class=\"dataframe\">\n",
       "  <thead>\n",
       "    <tr style=\"text-align: right;\">\n",
       "      <th></th>\n",
       "      <th>user_id</th>\n",
       "      <th>month</th>\n",
       "      <th>distance</th>\n",
       "      <th>duration</th>\n",
       "      <th>ride_count</th>\n",
       "      <th>subscription_type</th>\n",
       "      <th>profit</th>\n",
       "    </tr>\n",
       "  </thead>\n",
       "  <tbody>\n",
       "    <tr>\n",
       "      <th>0</th>\n",
       "      <td>1</td>\n",
       "      <td>1</td>\n",
       "      <td>7027.511294</td>\n",
       "      <td>42.0</td>\n",
       "      <td>2</td>\n",
       "      <td>ultra</td>\n",
       "      <td>451.0</td>\n",
       "    </tr>\n",
       "    <tr>\n",
       "      <th>1</th>\n",
       "      <td>1</td>\n",
       "      <td>4</td>\n",
       "      <td>754.159807</td>\n",
       "      <td>7.0</td>\n",
       "      <td>1</td>\n",
       "      <td>ultra</td>\n",
       "      <td>241.0</td>\n",
       "    </tr>\n",
       "    <tr>\n",
       "      <th>2</th>\n",
       "      <td>1</td>\n",
       "      <td>8</td>\n",
       "      <td>6723.470560</td>\n",
       "      <td>46.0</td>\n",
       "      <td>2</td>\n",
       "      <td>ultra</td>\n",
       "      <td>475.0</td>\n",
       "    </tr>\n",
       "    <tr>\n",
       "      <th>3</th>\n",
       "      <td>1</td>\n",
       "      <td>10</td>\n",
       "      <td>5809.911100</td>\n",
       "      <td>32.0</td>\n",
       "      <td>2</td>\n",
       "      <td>ultra</td>\n",
       "      <td>391.0</td>\n",
       "    </tr>\n",
       "    <tr>\n",
       "      <th>4</th>\n",
       "      <td>1</td>\n",
       "      <td>11</td>\n",
       "      <td>7003.499363</td>\n",
       "      <td>56.0</td>\n",
       "      <td>3</td>\n",
       "      <td>ultra</td>\n",
       "      <td>535.0</td>\n",
       "    </tr>\n",
       "  </tbody>\n",
       "</table>\n",
       "</div>"
      ],
      "text/plain": [
       "   user_id  month     distance  duration  ride_count subscription_type  profit\n",
       "0        1      1  7027.511294      42.0           2             ultra   451.0\n",
       "1        1      4   754.159807       7.0           1             ultra   241.0\n",
       "2        1      8  6723.470560      46.0           2             ultra   475.0\n",
       "3        1     10  5809.911100      32.0           2             ultra   391.0\n",
       "4        1     11  7003.499363      56.0           3             ultra   535.0"
      ]
     },
     "execution_count": 81,
     "metadata": {},
     "output_type": "execute_result"
    },
    {
     "data": {
      "text/html": [
       "<div>\n",
       "<style scoped>\n",
       "    .dataframe tbody tr th:only-of-type {\n",
       "        vertical-align: middle;\n",
       "    }\n",
       "\n",
       "    .dataframe tbody tr th {\n",
       "        vertical-align: top;\n",
       "    }\n",
       "\n",
       "    .dataframe thead th {\n",
       "        text-align: right;\n",
       "    }\n",
       "</style>\n",
       "<table border=\"1\" class=\"dataframe\">\n",
       "  <thead>\n",
       "    <tr style=\"text-align: right;\">\n",
       "      <th></th>\n",
       "      <th>user_id</th>\n",
       "      <th>month</th>\n",
       "      <th>distance</th>\n",
       "      <th>duration</th>\n",
       "      <th>ride_count</th>\n",
       "      <th>subscription_type</th>\n",
       "      <th>profit</th>\n",
       "    </tr>\n",
       "  </thead>\n",
       "  <tbody>\n",
       "    <tr>\n",
       "      <th>0</th>\n",
       "      <td>1</td>\n",
       "      <td>1</td>\n",
       "      <td>7027.511294</td>\n",
       "      <td>42.0</td>\n",
       "      <td>2</td>\n",
       "      <td>ultra</td>\n",
       "      <td>451.0</td>\n",
       "    </tr>\n",
       "    <tr>\n",
       "      <th>1</th>\n",
       "      <td>1</td>\n",
       "      <td>4</td>\n",
       "      <td>754.159807</td>\n",
       "      <td>7.0</td>\n",
       "      <td>1</td>\n",
       "      <td>ultra</td>\n",
       "      <td>241.0</td>\n",
       "    </tr>\n",
       "    <tr>\n",
       "      <th>2</th>\n",
       "      <td>1</td>\n",
       "      <td>8</td>\n",
       "      <td>6723.470560</td>\n",
       "      <td>46.0</td>\n",
       "      <td>2</td>\n",
       "      <td>ultra</td>\n",
       "      <td>475.0</td>\n",
       "    </tr>\n",
       "    <tr>\n",
       "      <th>3</th>\n",
       "      <td>1</td>\n",
       "      <td>10</td>\n",
       "      <td>5809.911100</td>\n",
       "      <td>32.0</td>\n",
       "      <td>2</td>\n",
       "      <td>ultra</td>\n",
       "      <td>391.0</td>\n",
       "    </tr>\n",
       "    <tr>\n",
       "      <th>4</th>\n",
       "      <td>1</td>\n",
       "      <td>11</td>\n",
       "      <td>7003.499363</td>\n",
       "      <td>56.0</td>\n",
       "      <td>3</td>\n",
       "      <td>ultra</td>\n",
       "      <td>535.0</td>\n",
       "    </tr>\n",
       "  </tbody>\n",
       "</table>\n",
       "</div>"
      ],
      "text/plain": [
       "   user_id  month     distance  duration  ride_count subscription_type  profit\n",
       "0        1      1  7027.511294      42.0           2             ultra   451.0\n",
       "1        1      4   754.159807       7.0           1             ultra   241.0\n",
       "2        1      8  6723.470560      46.0           2             ultra   475.0\n",
       "3        1     10  5809.911100      32.0           2             ultra   391.0\n",
       "4        1     11  7003.499363      56.0           3             ultra   535.0"
      ]
     },
     "execution_count": 81,
     "metadata": {},
     "output_type": "execute_result"
    }
   ],
   "source": [
    "agr_data = agr_data.drop(columns=['minute_price', 'start_ride_price', 'subscription_fee'])\n",
    "agr_data.head()"
   ]
  },
  {
   "cell_type": "markdown",
   "id": "633ef5ee",
   "metadata": {},
   "source": [
    "#### Шаг 6. Проверка гипотез"
   ]
  },
  {
   "cell_type": "markdown",
   "id": "bee472d1",
   "metadata": {},
   "source": [
    "Чтобы понять тратят ли пользователи с подпиской больше времени на поездки, сформулируем нулевую и альтернативные гипотезы соответсвенно:\n",
    "- пользователи с подпиской тратят столько же времени на поездки \n",
    "- пользователи с подпиской тратят больше времени на поездки."
   ]
  },
  {
   "cell_type": "code",
   "execution_count": 82,
   "id": "78767d63",
   "metadata": {},
   "outputs": [
    {
     "data": {
      "text/plain": [
       "2.5608196633291235e-34"
      ]
     },
     "execution_count": 82,
     "metadata": {},
     "output_type": "execute_result"
    },
    {
     "data": {
      "text/plain": [
       "2.5608196633291235e-34"
      ]
     },
     "execution_count": 82,
     "metadata": {},
     "output_type": "execute_result"
    }
   ],
   "source": [
    "ultra = user_ultra['duration']\n",
    "free = user_free['duration']\n",
    "results = st.ttest_ind(ultra, free)\n",
    "results.pvalue"
   ]
  },
  {
   "cell_type": "markdown",
   "id": "ccfe1d2c",
   "metadata": {},
   "source": [
    "p-значение слишком маленькое, отвергаем нулевую гипотезу и оставляем альтернативную. \n",
    "Значит, наличие подписки влияет на длительность поездки и пользователи с подпиской тратят на них больше времени. "
   ]
  },
  {
   "cell_type": "markdown",
   "id": "c09180f1",
   "metadata": {},
   "source": [
    "Проверим нулевую гипотезу: среднее расстояние, которое проезжают пользователи с подпиской за одну поездку, не превышает 3130 метров. Альтернативная ей будет гипотеза: среднее расстояние, которое проезжают пользователи с подпиской за одну поездку, превышает 3130 метров."
   ]
  },
  {
   "cell_type": "code",
   "execution_count": 83,
   "id": "8d4d8051",
   "metadata": {},
   "outputs": [
    {
     "data": {
      "text/plain": [
       "0.08046311521502146"
      ]
     },
     "execution_count": 83,
     "metadata": {},
     "output_type": "execute_result"
    },
    {
     "data": {
      "text/plain": [
       "0.08046311521502146"
      ]
     },
     "execution_count": 83,
     "metadata": {},
     "output_type": "execute_result"
    }
   ],
   "source": [
    "value = 3130\n",
    "free = user_ultra['distance']\n",
    "results = st.ttest_1samp(free, value, alternative='less')\n",
    "results.pvalue "
   ]
  },
  {
   "cell_type": "markdown",
   "id": "683a3ba4",
   "metadata": {},
   "source": [
    "p-значение больше 0.05, не отвергаем нулевую гипотезу о том, что  среднее расстояние, которое проезжают пользователи с подпиской за одну поездку, не превышает 3130. "
   ]
  },
  {
   "cell_type": "markdown",
   "id": "82d7822a",
   "metadata": {},
   "source": [
    "Чтобы понять будет ли помесячная выручка от пользователей с подпиской по месяцам выше, чем выручка от пользователей без подписки, сформулируем нулевую и альтернативные гипотезы соответсвенно:\n",
    "\n",
    "- помесячная выручка от пользователей с подпиской по месяцам такая же, как и выручка от пользователей без подписки\n",
    "- помесячная выручка от пользователей с подпиской по месяцам выше, чем выручка от пользователей без подписки"
   ]
  },
  {
   "cell_type": "code",
   "execution_count": 84,
   "id": "93c3e787",
   "metadata": {},
   "outputs": [
    {
     "data": {
      "text/plain": [
       "3.7700788769430433e-31"
      ]
     },
     "execution_count": 84,
     "metadata": {},
     "output_type": "execute_result"
    },
    {
     "data": {
      "text/plain": [
       "3.7700788769430433e-31"
      ]
     },
     "execution_count": 84,
     "metadata": {},
     "output_type": "execute_result"
    }
   ],
   "source": [
    "profit_ultra = agr_data.query('subscription_type==\"ultra\"')['profit']\n",
    "profit_free = agr_data.query('subscription_type==\"free\"')['profit']\n",
    "results = st.ttest_ind(profit_ultra, profit_free)\n",
    "results.pvalue"
   ]
  },
  {
   "cell_type": "markdown",
   "id": "6c553e38",
   "metadata": {},
   "source": [
    "p-значение слишком маленькое, отвергаем нулевую гипотезу. Значит, выручка от пользователей с подпиской и бнз отличается, и мы делаем вывод, что выручка от пользователей с подпиской выше. "
   ]
  },
  {
   "cell_type": "markdown",
   "id": "6246bd7b",
   "metadata": {},
   "source": [
    "Для проверки гипотезы снизилось ли количество обращений в техподдержку после обновления сервера, с которыми взаимодействует мобильное приложение понадобился бы двухвыборочный t-тест для зависимых выборок, поскольку мы бы проверяли изменение истинного среднего одной и той же генеральной совокупности. \n",
    "Для этого нужно использовать метод scipy.stats.ttest_rel из бибилиотеки scipy.stats, передав ему alternative='greater'. "
   ]
  },
  {
   "cell_type": "markdown",
   "id": "6c7d6025",
   "metadata": {},
   "source": [
    "#### Шаг 7. Распределения"
   ]
  },
  {
   "cell_type": "code",
   "execution_count": 85,
   "id": "e7795238",
   "metadata": {},
   "outputs": [
    {
     "data": {
      "text/plain": [
       "1172"
      ]
     },
     "execution_count": 85,
     "metadata": {},
     "output_type": "execute_result"
    },
    {
     "data": {
      "text/plain": [
       "1172"
      ]
     },
     "execution_count": 85,
     "metadata": {},
     "output_type": "execute_result"
    }
   ],
   "source": [
    "p = 0.1\n",
    "clients = 100\n",
    "prob = 0.05\n",
    "n=1\n",
    "while st.binom.cdf(clients, n, p)>prob:\n",
    "    n+=1\n",
    "n"
   ]
  },
  {
   "cell_type": "markdown",
   "id": "bc5fe408",
   "metadata": {},
   "source": [
    "Значит, чтобы вероятность не выполнить план была примерно 5% нужно разослать минимум 1172 промокода. Построим график для биномиального распределения, чтобы наглядно увидеть, что это действительно так. "
   ]
  },
  {
   "cell_type": "code",
   "execution_count": 86,
   "id": "ab1b4bc3",
   "metadata": {},
   "outputs": [
    {
     "data": {
      "text/plain": [
       "<AxesSubplot:>"
      ]
     },
     "execution_count": 86,
     "metadata": {},
     "output_type": "execute_result"
    },
    {
     "data": {
      "text/plain": [
       "<AxesSubplot:>"
      ]
     },
     "execution_count": 86,
     "metadata": {},
     "output_type": "execute_result"
    },
    {
     "data": {
      "image/png": "[encoded data removed]",
      "text/plain": [
       "<Figure size 432x288 with 1 Axes>"
      ]
     },
     "metadata": {
      "needs_background": "light"
     },
     "output_type": "display_data"
    },
    {
     "data": {
      "image/png": "[encoded data removed]",
      "text/plain": [
       "<Figure size 432x288 with 1 Axes>"
      ]
     },
     "metadata": {
      "needs_background": "light"
     },
     "output_type": "display_data"
    }
   ],
   "source": [
    "n = 1172\n",
    "p = 0.1\n",
    "k = np.arange(0, 200)\n",
    "\n",
    "prob=st.binom.pmf(k,n,p)\n",
    "distr = pd.Series(prob, index=k)\n",
    "    \n",
    "distr.plot(kind='line')"
   ]
  },
  {
   "cell_type": "code",
   "execution_count": 87,
   "id": "48ad5c8a",
   "metadata": {},
   "outputs": [
    {
     "data": {
      "text/plain": [
       "0.15371708296369768"
      ]
     },
     "execution_count": 87,
     "metadata": {},
     "output_type": "execute_result"
    },
    {
     "data": {
      "text/plain": [
       "0.15371708296369768"
      ]
     },
     "execution_count": 87,
     "metadata": {},
     "output_type": "execute_result"
    }
   ],
   "source": [
    "p = 0.4\n",
    "n = 1000000\n",
    "\n",
    "mu = n*p\n",
    "sigma =(n * p * (1 - p))**0.5\n",
    "\n",
    "distr = st.norm(mu,sigma)\n",
    "distr.cdf(399500)\n"
   ]
  },
  {
   "cell_type": "markdown",
   "id": "4601ea8e",
   "metadata": {},
   "source": [
    "Вероятность того, что уведомление откроют не более 399,5 тыс. пользователей равна 0.15371708296369768. "
   ]
  },
  {
   "cell_type": "code",
   "execution_count": 88,
   "id": "5e142bad",
   "metadata": {},
   "outputs": [
    {
     "data": {
      "text/plain": [
       "[<matplotlib.lines.Line2D at 0x7fa85d6aaf10>]"
      ]
     },
     "execution_count": 88,
     "metadata": {},
     "output_type": "execute_result"
    },
    {
     "data": {
      "text/plain": [
       "[<matplotlib.lines.Line2D at 0x7fa85d6aaf10>]"
      ]
     },
     "execution_count": 88,
     "metadata": {},
     "output_type": "execute_result"
    },
    {
     "data": {
      "image/png": "[encoded data removed]",
      "text/plain": [
       "<Figure size 432x288 with 1 Axes>"
      ]
     },
     "metadata": {
      "needs_background": "light"
     },
     "output_type": "display_data"
    },
    {
     "data": {
      "image/png": "[encoded data removed]",
      "text/plain": [
       "<Figure size 432x288 with 1 Axes>"
      ]
     },
     "metadata": {
      "needs_background": "light"
     },
     "output_type": "display_data"
    }
   ],
   "source": [
    "def linspace(start, stop, num):\n",
    "    step = (stop - start) / (num - 1)\n",
    "    result = []\n",
    "    for i in range(num):\n",
    "        result.append(start + step * i)\n",
    "    return result\n",
    " \n",
    "n = 1000000\n",
    "p = 0.4\n",
    "\n",
    "left = int(n * p - 4 * (n * p * (1 - p))**0.5)\n",
    "right = int(n * p + 4 * (n * p * (1 - p))**0.5)\n",
    " \n",
    "x = list(range(max(0, left), right))\n",
    "ax = plt.subplot()\n",
    "ax.plot(x, st.binom.pmf(x, n, p), 'bo', ms=2)"
   ]
  },
  {
   "cell_type": "markdown",
   "id": "f71429fa",
   "metadata": {},
   "source": [
    "<b>Итоговый вывод</b>\n",
    "\n",
    "В ходе работы были проанализированы данные пользователей опулярного сервиса аренды самокатов GoFast. Пропуски в данных отсутсвовали, были обработаны дубликаты в значении user_id, так как это уникальный идентификатор. \n",
    "\n",
    "Проверяя данные среди всех пользователей, оказалось, что:\n",
    "- больше всего самокаты используются в Пятигорске;\n",
    "- процент пользователей с подпиской и без нее сильно не отличается(54.4%- без нее и 46.6%-используют подписку);\n",
    "- наибольшим спросом услуги по аренде самоката пользуюся у молодежи (21-25 лет);\n",
    "- среднее время аренды находится в интервале 15-20 минут;\n",
    "- чаще всего пользователи проезжают 3000-4000 метров за одну поездку.\n",
    "\n",
    "Далее пользователи были разделены на тех, что используют подписку, и тех, что ездят без нее. На основе этого мы выяснили:\n",
    "\n",
    "- длительность и расстояние поездки у пользователей с подпиской и без нее сильно не различается\n",
    "- пользователи с подпиской тратят больше времени на поездки \n",
    "- среднее расстояние, которое проезжают пользователи с подпиской за одну поездку, не превышает 3130\n",
    "- помесячная выручка от пользователей с подпиской по месяцам выше, чем выручка от пользователей без подписки\n",
    "\n",
    "В итоге мы можем сказать, что пользователи с подпиской являются более выгодными для компании, поскольку они приносят выручки больше, чем пользователи без нее. \n",
    "\n",
    "Чтобы избежать дубликатов в значении user_id в будущем стоит ограничить возможность регистрироваться под одинаковым идентификатором, если таковая возможность имеется и она стала причиной появления повторных значений. \n"
   ]
  }
 ],
 "metadata": {
  "ExecuteTimeLog": [
   {
    "duration": 421,
    "start_time": "2025-03-16T12:27:10.546Z"
   },
   {
    "duration": 68,
    "start_time": "2025-03-16T12:27:12.497Z"
   },
   {
    "duration": 62,
    "start_time": "2025-03-16T12:27:59.606Z"
   },
   {
    "duration": 15,
    "start_time": "2025-03-16T12:28:00.189Z"
   },
   {
    "duration": 8,
    "start_time": "2025-03-16T12:28:00.981Z"
   },
   {
    "duration": 6,
    "start_time": "2025-03-16T12:28:03.472Z"
   },
   {
    "duration": 14,
    "start_time": "2025-03-16T12:28:03.961Z"
   },
   {
    "duration": 19,
    "start_time": "2025-03-16T12:28:04.454Z"
   },
   {
    "duration": 10,
    "start_time": "2025-03-16T12:28:05.943Z"
   },
   {
    "duration": 16,
    "start_time": "2025-03-16T16:19:32.156Z"
   },
   {
    "duration": 11,
    "start_time": "2025-03-16T16:19:54.620Z"
   },
   {
    "duration": 74,
    "start_time": "2025-03-16T16:20:55.031Z"
   },
   {
    "duration": 18,
    "start_time": "2025-03-16T16:21:03.274Z"
   },
   {
    "duration": 7,
    "start_time": "2025-03-16T16:21:33.052Z"
   },
   {
    "duration": 6,
    "start_time": "2025-03-16T16:22:34.909Z"
   },
   {
    "duration": 7,
    "start_time": "2025-03-16T16:23:02.198Z"
   },
   {
    "duration": 5,
    "start_time": "2025-03-16T16:23:02.953Z"
   },
   {
    "duration": 5,
    "start_time": "2025-03-16T16:25:09.931Z"
   },
   {
    "duration": 13,
    "start_time": "2025-03-16T16:32:45.148Z"
   },
   {
    "duration": 11,
    "start_time": "2025-03-16T17:47:43.606Z"
   },
   {
    "duration": 14,
    "start_time": "2025-03-16T17:48:03.168Z"
   },
   {
    "duration": 498,
    "start_time": "2025-03-16T17:55:35.995Z"
   },
   {
    "duration": 170,
    "start_time": "2025-03-16T17:57:47.331Z"
   },
   {
    "duration": 92,
    "start_time": "2025-03-16T18:01:04.124Z"
   },
   {
    "duration": 129,
    "start_time": "2025-03-16T18:01:40.481Z"
   },
   {
    "duration": 18260,
    "start_time": "2025-03-16T18:01:52.382Z"
   },
   {
    "duration": 236,
    "start_time": "2025-03-16T18:02:34.471Z"
   },
   {
    "duration": 3,
    "start_time": "2025-03-16T18:05:18.284Z"
   },
   {
    "duration": 56,
    "start_time": "2025-03-16T18:05:18.577Z"
   },
   {
    "duration": 8,
    "start_time": "2025-03-16T18:05:18.713Z"
   },
   {
    "duration": 12,
    "start_time": "2025-03-16T18:05:18.841Z"
   },
   {
    "duration": 7,
    "start_time": "2025-03-16T18:05:18.999Z"
   },
   {
    "duration": 11,
    "start_time": "2025-03-16T18:05:19.139Z"
   },
   {
    "duration": 10,
    "start_time": "2025-03-16T18:05:19.279Z"
   },
   {
    "duration": 9,
    "start_time": "2025-03-16T18:05:19.408Z"
   },
   {
    "duration": 23,
    "start_time": "2025-03-16T18:05:20.149Z"
   },
   {
    "duration": 12,
    "start_time": "2025-03-16T18:05:20.270Z"
   },
   {
    "duration": 6,
    "start_time": "2025-03-16T18:05:20.421Z"
   },
   {
    "duration": 9,
    "start_time": "2025-03-16T18:05:22.432Z"
   },
   {
    "duration": 8,
    "start_time": "2025-03-16T18:05:22.570Z"
   },
   {
    "duration": 21,
    "start_time": "2025-03-16T18:05:22.855Z"
   },
   {
    "duration": 8,
    "start_time": "2025-03-16T18:05:22.978Z"
   },
   {
    "duration": 138,
    "start_time": "2025-03-16T18:05:23.749Z"
   },
   {
    "duration": 96,
    "start_time": "2025-03-16T18:05:23.889Z"
   },
   {
    "duration": 237,
    "start_time": "2025-03-16T18:05:24.012Z"
   },
   {
    "duration": 3,
    "start_time": "2025-03-16T18:06:08.179Z"
   },
   {
    "duration": 633,
    "start_time": "2025-03-16T18:07:30.278Z"
   },
   {
    "duration": 177,
    "start_time": "2025-03-16T18:07:54.553Z"
   },
   {
    "duration": 169,
    "start_time": "2025-03-16T18:10:24.866Z"
   },
   {
    "duration": 62,
    "start_time": "2025-03-18T19:26:30.889Z"
   },
   {
    "duration": 443,
    "start_time": "2025-03-18T19:26:40.682Z"
   },
   {
    "duration": 180,
    "start_time": "2025-03-18T19:26:42.066Z"
   },
   {
    "duration": 17,
    "start_time": "2025-03-18T19:26:42.693Z"
   },
   {
    "duration": 11,
    "start_time": "2025-03-18T19:26:43.139Z"
   },
   {
    "duration": 7,
    "start_time": "2025-03-18T19:26:43.317Z"
   },
   {
    "duration": 12,
    "start_time": "2025-03-18T19:26:43.468Z"
   },
   {
    "duration": 12,
    "start_time": "2025-03-18T19:26:43.637Z"
   },
   {
    "duration": 10,
    "start_time": "2025-03-18T19:26:43.791Z"
   },
   {
    "duration": 26,
    "start_time": "2025-03-18T19:26:44.267Z"
   },
   {
    "duration": 16,
    "start_time": "2025-03-18T19:26:44.416Z"
   },
   {
    "duration": 9,
    "start_time": "2025-03-18T19:26:44.575Z"
   },
   {
    "duration": 9,
    "start_time": "2025-03-18T19:26:44.739Z"
   },
   {
    "duration": 6,
    "start_time": "2025-03-18T19:26:44.904Z"
   },
   {
    "duration": 14,
    "start_time": "2025-03-18T19:26:45.239Z"
   },
   {
    "duration": 8,
    "start_time": "2025-03-18T19:26:45.389Z"
   },
   {
    "duration": 688,
    "start_time": "2025-03-18T19:26:46.190Z"
   },
   {
    "duration": 107,
    "start_time": "2025-03-18T19:26:46.880Z"
   },
   {
    "duration": 288,
    "start_time": "2025-03-18T19:26:46.989Z"
   },
   {
    "duration": 266,
    "start_time": "2025-03-18T19:26:47.280Z"
   },
   {
    "duration": 220,
    "start_time": "2025-03-18T19:26:47.548Z"
   },
   {
    "duration": 28,
    "start_time": "2025-03-18T19:26:49.194Z"
   },
   {
    "duration": 19,
    "start_time": "2025-03-18T19:30:18.121Z"
   },
   {
    "duration": 29,
    "start_time": "2025-03-18T19:30:26.557Z"
   },
   {
    "duration": 18,
    "start_time": "2025-03-18T19:30:52.927Z"
   },
   {
    "duration": 17,
    "start_time": "2025-03-18T19:31:22.610Z"
   },
   {
    "duration": 22,
    "start_time": "2025-03-18T19:31:49.110Z"
   },
   {
    "duration": 20,
    "start_time": "2025-03-18T19:31:54.695Z"
   },
   {
    "duration": 193,
    "start_time": "2025-03-18T19:33:48.850Z"
   },
   {
    "duration": 16,
    "start_time": "2025-03-18T19:34:12.202Z"
   },
   {
    "duration": 161,
    "start_time": "2025-03-18T19:34:27.082Z"
   },
   {
    "duration": 223,
    "start_time": "2025-03-18T19:34:40.874Z"
   },
   {
    "duration": 182,
    "start_time": "2025-03-18T19:34:54.174Z"
   },
   {
    "duration": 385,
    "start_time": "2025-03-19T15:58:14.897Z"
   },
   {
    "duration": 303,
    "start_time": "2025-03-19T15:58:16.623Z"
   },
   {
    "duration": 15,
    "start_time": "2025-03-19T15:58:17.137Z"
   },
   {
    "duration": 8,
    "start_time": "2025-03-19T15:58:17.322Z"
   },
   {
    "duration": 8,
    "start_time": "2025-03-19T15:58:17.482Z"
   },
   {
    "duration": 10,
    "start_time": "2025-03-19T15:58:17.643Z"
   },
   {
    "duration": 11,
    "start_time": "2025-03-19T15:58:17.815Z"
   },
   {
    "duration": 10,
    "start_time": "2025-03-19T15:58:17.984Z"
   },
   {
    "duration": 15,
    "start_time": "2025-03-19T15:58:18.465Z"
   },
   {
    "duration": 10,
    "start_time": "2025-03-19T15:58:18.620Z"
   },
   {
    "duration": 5,
    "start_time": "2025-03-19T15:58:18.762Z"
   },
   {
    "duration": 8,
    "start_time": "2025-03-19T15:58:18.916Z"
   },
   {
    "duration": 7,
    "start_time": "2025-03-19T15:58:19.084Z"
   },
   {
    "duration": 13,
    "start_time": "2025-03-19T15:58:19.405Z"
   },
   {
    "duration": 8,
    "start_time": "2025-03-19T15:58:19.575Z"
   },
   {
    "duration": 556,
    "start_time": "2025-03-19T15:58:20.055Z"
   },
   {
    "duration": 91,
    "start_time": "2025-03-19T15:58:20.613Z"
   },
   {
    "duration": 237,
    "start_time": "2025-03-19T15:58:20.705Z"
   },
   {
    "duration": 229,
    "start_time": "2025-03-19T15:58:20.943Z"
   },
   {
    "duration": 194,
    "start_time": "2025-03-19T15:58:21.174Z"
   },
   {
    "duration": 27,
    "start_time": "2025-03-19T15:58:21.370Z"
   },
   {
    "duration": 20,
    "start_time": "2025-03-19T15:58:21.399Z"
   },
   {
    "duration": 14,
    "start_time": "2025-03-19T15:58:21.468Z"
   },
   {
    "duration": 148,
    "start_time": "2025-03-19T15:58:21.602Z"
   },
   {
    "duration": 149,
    "start_time": "2025-03-19T15:58:21.752Z"
   },
   {
    "duration": 176,
    "start_time": "2025-03-19T15:58:21.903Z"
   },
   {
    "duration": 157,
    "start_time": "2025-03-19T15:58:27.822Z"
   },
   {
    "duration": 73,
    "start_time": "2025-03-19T15:59:44.877Z"
   },
   {
    "duration": 18,
    "start_time": "2025-03-19T16:01:29.950Z"
   },
   {
    "duration": 2,
    "start_time": "2025-03-19T16:02:39.600Z"
   },
   {
    "duration": 10,
    "start_time": "2025-03-19T16:04:40.801Z"
   },
   {
    "duration": 14,
    "start_time": "2025-03-19T16:12:43.351Z"
   },
   {
    "duration": 18,
    "start_time": "2025-03-19T16:14:34.762Z"
   },
   {
    "duration": 16,
    "start_time": "2025-03-19T16:19:38.796Z"
   },
   {
    "duration": 17,
    "start_time": "2025-03-19T16:20:26.063Z"
   },
   {
    "duration": 20,
    "start_time": "2025-03-19T16:20:41.536Z"
   },
   {
    "duration": 3,
    "start_time": "2025-03-19T16:20:52.426Z"
   },
   {
    "duration": 69,
    "start_time": "2025-03-19T16:20:52.732Z"
   },
   {
    "duration": 8,
    "start_time": "2025-03-19T16:20:52.886Z"
   },
   {
    "duration": 8,
    "start_time": "2025-03-19T16:20:53.031Z"
   },
   {
    "duration": 6,
    "start_time": "2025-03-19T16:20:53.174Z"
   },
   {
    "duration": 11,
    "start_time": "2025-03-19T16:20:53.321Z"
   },
   {
    "duration": 11,
    "start_time": "2025-03-19T16:20:53.458Z"
   },
   {
    "duration": 10,
    "start_time": "2025-03-19T16:20:53.624Z"
   },
   {
    "duration": 15,
    "start_time": "2025-03-19T16:20:54.096Z"
   },
   {
    "duration": 11,
    "start_time": "2025-03-19T16:20:54.255Z"
   },
   {
    "duration": 5,
    "start_time": "2025-03-19T16:20:54.406Z"
   },
   {
    "duration": 6,
    "start_time": "2025-03-19T16:20:54.560Z"
   },
   {
    "duration": 5,
    "start_time": "2025-03-19T16:20:54.723Z"
   },
   {
    "duration": 11,
    "start_time": "2025-03-19T16:20:55.033Z"
   },
   {
    "duration": 8,
    "start_time": "2025-03-19T16:20:55.166Z"
   },
   {
    "duration": 127,
    "start_time": "2025-03-19T16:20:55.648Z"
   },
   {
    "duration": 72,
    "start_time": "2025-03-19T16:20:55.801Z"
   },
   {
    "duration": 212,
    "start_time": "2025-03-19T16:20:55.959Z"
   },
   {
    "duration": 167,
    "start_time": "2025-03-19T16:20:56.173Z"
   },
   {
    "duration": 170,
    "start_time": "2025-03-19T16:20:56.342Z"
   },
   {
    "duration": 25,
    "start_time": "2025-03-19T16:20:56.720Z"
   },
   {
    "duration": 20,
    "start_time": "2025-03-19T16:20:56.882Z"
   },
   {
    "duration": 15,
    "start_time": "2025-03-19T16:20:57.016Z"
   },
   {
    "duration": 220,
    "start_time": "2025-03-19T16:20:57.181Z"
   },
   {
    "duration": 143,
    "start_time": "2025-03-19T16:20:57.404Z"
   },
   {
    "duration": 165,
    "start_time": "2025-03-19T16:20:57.549Z"
   },
   {
    "duration": 154,
    "start_time": "2025-03-19T16:20:57.716Z"
   },
   {
    "duration": 18,
    "start_time": "2025-03-19T16:20:58.055Z"
   },
   {
    "duration": 10,
    "start_time": "2025-03-19T16:20:58.276Z"
   },
   {
    "duration": 13,
    "start_time": "2025-03-19T16:20:58.442Z"
   },
   {
    "duration": 15,
    "start_time": "2025-03-19T16:21:28.104Z"
   },
   {
    "duration": 10,
    "start_time": "2025-03-19T16:25:10.039Z"
   },
   {
    "duration": 16,
    "start_time": "2025-03-19T16:25:49.767Z"
   },
   {
    "duration": 12,
    "start_time": "2025-03-19T16:28:23.145Z"
   },
   {
    "duration": 12,
    "start_time": "2025-03-19T16:28:39.546Z"
   },
   {
    "duration": 1301,
    "start_time": "2025-03-19T16:29:21.072Z"
   },
   {
    "duration": 0,
    "start_time": "2025-03-19T16:29:22.374Z"
   },
   {
    "duration": 3,
    "start_time": "2025-03-19T16:29:53.288Z"
   },
   {
    "duration": 59,
    "start_time": "2025-03-19T16:29:53.567Z"
   },
   {
    "duration": 9,
    "start_time": "2025-03-19T16:29:53.708Z"
   },
   {
    "duration": 8,
    "start_time": "2025-03-19T16:29:53.858Z"
   },
   {
    "duration": 7,
    "start_time": "2025-03-19T16:29:54.018Z"
   },
   {
    "duration": 10,
    "start_time": "2025-03-19T16:29:54.158Z"
   },
   {
    "duration": 13,
    "start_time": "2025-03-19T16:29:54.290Z"
   },
   {
    "duration": 12,
    "start_time": "2025-03-19T16:29:54.439Z"
   },
   {
    "duration": 16,
    "start_time": "2025-03-19T16:29:54.932Z"
   },
   {
    "duration": 11,
    "start_time": "2025-03-19T16:29:55.231Z"
   },
   {
    "duration": 6,
    "start_time": "2025-03-19T16:29:55.396Z"
   },
   {
    "duration": 7,
    "start_time": "2025-03-19T16:29:55.544Z"
   },
   {
    "duration": 6,
    "start_time": "2025-03-19T16:29:55.696Z"
   },
   {
    "duration": 12,
    "start_time": "2025-03-19T16:29:56.003Z"
   },
   {
    "duration": 9,
    "start_time": "2025-03-19T16:29:56.184Z"
   },
   {
    "duration": 134,
    "start_time": "2025-03-19T16:29:56.695Z"
   },
   {
    "duration": 80,
    "start_time": "2025-03-19T16:29:56.854Z"
   },
   {
    "duration": 220,
    "start_time": "2025-03-19T16:29:57.000Z"
   },
   {
    "duration": 190,
    "start_time": "2025-03-19T16:29:57.222Z"
   },
   {
    "duration": 178,
    "start_time": "2025-03-19T16:29:57.414Z"
   },
   {
    "duration": 24,
    "start_time": "2025-03-19T16:29:57.955Z"
   },
   {
    "duration": 19,
    "start_time": "2025-03-19T16:29:58.144Z"
   },
   {
    "duration": 15,
    "start_time": "2025-03-19T16:29:58.281Z"
   },
   {
    "duration": 160,
    "start_time": "2025-03-19T16:29:58.450Z"
   },
   {
    "duration": 137,
    "start_time": "2025-03-19T16:29:58.620Z"
   },
   {
    "duration": 245,
    "start_time": "2025-03-19T16:29:58.818Z"
   },
   {
    "duration": 194,
    "start_time": "2025-03-19T16:29:59.065Z"
   },
   {
    "duration": 17,
    "start_time": "2025-03-19T16:29:59.438Z"
   },
   {
    "duration": 9,
    "start_time": "2025-03-19T16:29:59.575Z"
   },
   {
    "duration": 15,
    "start_time": "2025-03-19T16:29:59.817Z"
   },
   {
    "duration": 15,
    "start_time": "2025-03-19T16:29:59.957Z"
   },
   {
    "duration": 16,
    "start_time": "2025-03-19T16:30:00.144Z"
   },
   {
    "duration": 11,
    "start_time": "2025-03-19T16:30:00.304Z"
   },
   {
    "duration": 471,
    "start_time": "2025-03-19T16:35:41.032Z"
   },
   {
    "duration": 56,
    "start_time": "2025-03-19T16:35:41.505Z"
   },
   {
    "duration": 8,
    "start_time": "2025-03-19T16:35:41.562Z"
   },
   {
    "duration": 7,
    "start_time": "2025-03-19T16:35:41.624Z"
   },
   {
    "duration": 7,
    "start_time": "2025-03-19T16:35:41.764Z"
   },
   {
    "duration": 10,
    "start_time": "2025-03-19T16:35:41.931Z"
   },
   {
    "duration": 11,
    "start_time": "2025-03-19T16:35:42.061Z"
   },
   {
    "duration": 10,
    "start_time": "2025-03-19T16:35:42.200Z"
   },
   {
    "duration": 16,
    "start_time": "2025-03-19T16:35:42.805Z"
   },
   {
    "duration": 10,
    "start_time": "2025-03-19T16:35:42.956Z"
   },
   {
    "duration": 6,
    "start_time": "2025-03-19T16:35:43.226Z"
   },
   {
    "duration": 8,
    "start_time": "2025-03-19T16:35:43.370Z"
   },
   {
    "duration": 7,
    "start_time": "2025-03-19T16:35:43.515Z"
   },
   {
    "duration": 17,
    "start_time": "2025-03-19T16:35:43.831Z"
   },
   {
    "duration": 10,
    "start_time": "2025-03-19T16:35:44.017Z"
   },
   {
    "duration": 123,
    "start_time": "2025-03-19T16:35:44.527Z"
   },
   {
    "duration": 73,
    "start_time": "2025-03-19T16:35:44.682Z"
   },
   {
    "duration": 216,
    "start_time": "2025-03-19T16:35:44.823Z"
   },
   {
    "duration": 178,
    "start_time": "2025-03-19T16:35:45.041Z"
   },
   {
    "duration": 178,
    "start_time": "2025-03-19T16:35:45.221Z"
   },
   {
    "duration": 23,
    "start_time": "2025-03-19T16:35:45.798Z"
   },
   {
    "duration": 18,
    "start_time": "2025-03-19T16:35:45.940Z"
   },
   {
    "duration": 15,
    "start_time": "2025-03-19T16:35:46.107Z"
   },
   {
    "duration": 266,
    "start_time": "2025-03-19T16:35:46.279Z"
   },
   {
    "duration": 145,
    "start_time": "2025-03-19T16:35:46.547Z"
   },
   {
    "duration": 169,
    "start_time": "2025-03-19T16:35:46.694Z"
   },
   {
    "duration": 157,
    "start_time": "2025-03-19T16:35:46.864Z"
   },
   {
    "duration": 16,
    "start_time": "2025-03-19T16:35:47.202Z"
   },
   {
    "duration": 9,
    "start_time": "2025-03-19T16:35:47.387Z"
   },
   {
    "duration": 13,
    "start_time": "2025-03-19T16:35:47.554Z"
   },
   {
    "duration": 14,
    "start_time": "2025-03-19T16:35:47.696Z"
   },
   {
    "duration": 14,
    "start_time": "2025-03-19T16:35:47.872Z"
   },
   {
    "duration": 11,
    "start_time": "2025-03-19T16:35:48.026Z"
   },
   {
    "duration": 2,
    "start_time": "2025-03-19T17:34:18.417Z"
   },
   {
    "duration": 58,
    "start_time": "2025-03-19T17:34:18.698Z"
   },
   {
    "duration": 8,
    "start_time": "2025-03-19T17:34:18.849Z"
   },
   {
    "duration": 8,
    "start_time": "2025-03-19T17:34:18.985Z"
   },
   {
    "duration": 8,
    "start_time": "2025-03-19T17:34:19.134Z"
   },
   {
    "duration": 11,
    "start_time": "2025-03-19T17:34:19.265Z"
   },
   {
    "duration": 12,
    "start_time": "2025-03-19T17:34:19.419Z"
   },
   {
    "duration": 10,
    "start_time": "2025-03-19T17:34:19.555Z"
   },
   {
    "duration": 16,
    "start_time": "2025-03-19T17:34:19.996Z"
   },
   {
    "duration": 10,
    "start_time": "2025-03-19T17:34:20.150Z"
   },
   {
    "duration": 6,
    "start_time": "2025-03-19T17:34:20.303Z"
   },
   {
    "duration": 6,
    "start_time": "2025-03-19T17:34:20.456Z"
   },
   {
    "duration": 6,
    "start_time": "2025-03-19T17:34:20.610Z"
   },
   {
    "duration": 12,
    "start_time": "2025-03-19T17:34:20.934Z"
   },
   {
    "duration": 8,
    "start_time": "2025-03-19T17:34:21.087Z"
   },
   {
    "duration": 124,
    "start_time": "2025-03-19T17:34:21.793Z"
   },
   {
    "duration": 75,
    "start_time": "2025-03-19T17:34:21.954Z"
   },
   {
    "duration": 220,
    "start_time": "2025-03-19T17:34:22.116Z"
   },
   {
    "duration": 176,
    "start_time": "2025-03-19T17:34:22.338Z"
   },
   {
    "duration": 177,
    "start_time": "2025-03-19T17:34:22.516Z"
   },
   {
    "duration": 23,
    "start_time": "2025-03-19T17:34:25.463Z"
   },
   {
    "duration": 20,
    "start_time": "2025-03-19T17:34:25.603Z"
   },
   {
    "duration": 15,
    "start_time": "2025-03-19T17:34:25.740Z"
   },
   {
    "duration": 148,
    "start_time": "2025-03-19T17:34:25.868Z"
   },
   {
    "duration": 143,
    "start_time": "2025-03-19T17:34:26.018Z"
   },
   {
    "duration": 171,
    "start_time": "2025-03-19T17:34:26.163Z"
   },
   {
    "duration": 151,
    "start_time": "2025-03-19T17:34:26.336Z"
   },
   {
    "duration": 17,
    "start_time": "2025-03-19T17:34:26.706Z"
   },
   {
    "duration": 10,
    "start_time": "2025-03-19T17:34:26.843Z"
   },
   {
    "duration": 15,
    "start_time": "2025-03-19T17:34:27.161Z"
   },
   {
    "duration": 16,
    "start_time": "2025-03-19T17:34:27.310Z"
   },
   {
    "duration": 15,
    "start_time": "2025-03-19T17:34:27.454Z"
   },
   {
    "duration": 11,
    "start_time": "2025-03-19T17:34:27.607Z"
   },
   {
    "duration": 32,
    "start_time": "2025-03-19T17:38:21.144Z"
   },
   {
    "duration": 3,
    "start_time": "2025-03-19T17:38:50.547Z"
   },
   {
    "duration": 57,
    "start_time": "2025-03-19T17:38:50.831Z"
   },
   {
    "duration": 9,
    "start_time": "2025-03-19T17:38:50.985Z"
   },
   {
    "duration": 8,
    "start_time": "2025-03-19T17:38:51.164Z"
   },
   {
    "duration": 10,
    "start_time": "2025-03-19T17:38:51.304Z"
   },
   {
    "duration": 10,
    "start_time": "2025-03-19T17:38:51.455Z"
   },
   {
    "duration": 10,
    "start_time": "2025-03-19T17:38:51.613Z"
   },
   {
    "duration": 10,
    "start_time": "2025-03-19T17:38:51.787Z"
   },
   {
    "duration": 15,
    "start_time": "2025-03-19T17:38:52.555Z"
   },
   {
    "duration": 11,
    "start_time": "2025-03-19T17:38:52.725Z"
   },
   {
    "duration": 5,
    "start_time": "2025-03-19T17:38:52.953Z"
   },
   {
    "duration": 6,
    "start_time": "2025-03-19T17:38:53.144Z"
   },
   {
    "duration": 6,
    "start_time": "2025-03-19T17:38:53.319Z"
   },
   {
    "duration": 11,
    "start_time": "2025-03-19T17:38:54.631Z"
   },
   {
    "duration": 8,
    "start_time": "2025-03-19T17:38:54.794Z"
   },
   {
    "duration": 134,
    "start_time": "2025-03-19T17:38:55.251Z"
   },
   {
    "duration": 73,
    "start_time": "2025-03-19T17:38:55.413Z"
   },
   {
    "duration": 339,
    "start_time": "2025-03-19T17:38:55.568Z"
   },
   {
    "duration": 162,
    "start_time": "2025-03-19T17:38:55.908Z"
   },
   {
    "duration": 165,
    "start_time": "2025-03-19T17:38:56.207Z"
   },
   {
    "duration": 25,
    "start_time": "2025-03-19T17:38:56.805Z"
   },
   {
    "duration": 18,
    "start_time": "2025-03-19T17:38:57.031Z"
   },
   {
    "duration": 15,
    "start_time": "2025-03-19T17:38:57.400Z"
   },
   {
    "duration": 153,
    "start_time": "2025-03-19T17:38:57.577Z"
   },
   {
    "duration": 130,
    "start_time": "2025-03-19T17:38:57.816Z"
   },
   {
    "duration": 152,
    "start_time": "2025-03-19T17:38:57.989Z"
   },
   {
    "duration": 143,
    "start_time": "2025-03-19T17:38:58.145Z"
   },
   {
    "duration": 17,
    "start_time": "2025-03-19T17:38:58.811Z"
   },
   {
    "duration": 9,
    "start_time": "2025-03-19T17:38:58.981Z"
   },
   {
    "duration": 16,
    "start_time": "2025-03-19T17:38:59.165Z"
   },
   {
    "duration": 16,
    "start_time": "2025-03-19T17:38:59.830Z"
   },
   {
    "duration": 15,
    "start_time": "2025-03-19T17:38:59.983Z"
   },
   {
    "duration": 12,
    "start_time": "2025-03-19T17:39:00.136Z"
   },
   {
    "duration": 7,
    "start_time": "2025-03-19T17:39:00.439Z"
   },
   {
    "duration": 6,
    "start_time": "2025-03-19T17:42:26.242Z"
   },
   {
    "duration": 9,
    "start_time": "2025-03-19T18:00:49.889Z"
   },
   {
    "duration": 6,
    "start_time": "2025-03-19T18:01:09.262Z"
   },
   {
    "duration": 7,
    "start_time": "2025-03-19T18:01:34.489Z"
   },
   {
    "duration": 6,
    "start_time": "2025-03-19T18:01:41.019Z"
   },
   {
    "duration": 13,
    "start_time": "2025-03-19T18:07:00.292Z"
   },
   {
    "duration": 6,
    "start_time": "2025-03-19T18:07:06.664Z"
   },
   {
    "duration": 6,
    "start_time": "2025-03-19T18:07:06.914Z"
   },
   {
    "duration": 3,
    "start_time": "2025-03-19T18:07:15.120Z"
   },
   {
    "duration": 58,
    "start_time": "2025-03-19T18:07:15.672Z"
   },
   {
    "duration": 9,
    "start_time": "2025-03-19T18:07:15.817Z"
   },
   {
    "duration": 9,
    "start_time": "2025-03-19T18:07:15.952Z"
   },
   {
    "duration": 7,
    "start_time": "2025-03-19T18:07:16.088Z"
   },
   {
    "duration": 11,
    "start_time": "2025-03-19T18:07:16.223Z"
   },
   {
    "duration": 12,
    "start_time": "2025-03-19T18:07:16.359Z"
   },
   {
    "duration": 11,
    "start_time": "2025-03-19T18:07:16.503Z"
   },
   {
    "duration": 16,
    "start_time": "2025-03-19T18:07:16.959Z"
   },
   {
    "duration": 11,
    "start_time": "2025-03-19T18:07:17.097Z"
   },
   {
    "duration": 8,
    "start_time": "2025-03-19T18:07:17.230Z"
   },
   {
    "duration": 7,
    "start_time": "2025-03-19T18:07:17.402Z"
   },
   {
    "duration": 6,
    "start_time": "2025-03-19T18:07:17.564Z"
   },
   {
    "duration": 13,
    "start_time": "2025-03-19T18:07:17.881Z"
   },
   {
    "duration": 8,
    "start_time": "2025-03-19T18:07:18.016Z"
   },
   {
    "duration": 143,
    "start_time": "2025-03-19T18:07:18.445Z"
   },
   {
    "duration": 83,
    "start_time": "2025-03-19T18:07:18.598Z"
   },
   {
    "duration": 224,
    "start_time": "2025-03-19T18:07:18.742Z"
   },
   {
    "duration": 193,
    "start_time": "2025-03-19T18:07:18.968Z"
   },
   {
    "duration": 186,
    "start_time": "2025-03-19T18:07:19.163Z"
   },
   {
    "duration": 26,
    "start_time": "2025-03-19T18:07:19.489Z"
   },
   {
    "duration": 19,
    "start_time": "2025-03-19T18:07:19.634Z"
   },
   {
    "duration": 17,
    "start_time": "2025-03-19T18:07:19.773Z"
   },
   {
    "duration": 149,
    "start_time": "2025-03-19T18:07:20.191Z"
   },
   {
    "duration": 148,
    "start_time": "2025-03-19T18:07:20.345Z"
   },
   {
    "duration": 174,
    "start_time": "2025-03-19T18:07:20.495Z"
   },
   {
    "duration": 165,
    "start_time": "2025-03-19T18:07:20.671Z"
   },
   {
    "duration": 27,
    "start_time": "2025-03-19T18:07:21.295Z"
   },
   {
    "duration": 10,
    "start_time": "2025-03-19T18:07:21.442Z"
   },
   {
    "duration": 14,
    "start_time": "2025-03-19T18:07:21.595Z"
   },
   {
    "duration": 15,
    "start_time": "2025-03-19T18:07:21.755Z"
   },
   {
    "duration": 15,
    "start_time": "2025-03-19T18:07:21.907Z"
   },
   {
    "duration": 13,
    "start_time": "2025-03-19T18:07:22.059Z"
   },
   {
    "duration": 10,
    "start_time": "2025-03-19T18:12:47.115Z"
   },
   {
    "duration": 10,
    "start_time": "2025-03-19T18:12:56.389Z"
   },
   {
    "duration": 11,
    "start_time": "2025-03-19T18:13:00.863Z"
   },
   {
    "duration": 3,
    "start_time": "2025-03-19T18:31:55.121Z"
   },
   {
    "duration": 55,
    "start_time": "2025-03-19T18:31:55.412Z"
   },
   {
    "duration": 8,
    "start_time": "2025-03-19T18:31:55.747Z"
   },
   {
    "duration": 8,
    "start_time": "2025-03-19T18:31:55.757Z"
   },
   {
    "duration": 7,
    "start_time": "2025-03-19T18:31:55.882Z"
   },
   {
    "duration": 11,
    "start_time": "2025-03-19T18:31:56.080Z"
   },
   {
    "duration": 11,
    "start_time": "2025-03-19T18:31:56.167Z"
   },
   {
    "duration": 10,
    "start_time": "2025-03-19T18:31:56.309Z"
   },
   {
    "duration": 14,
    "start_time": "2025-03-19T18:31:56.924Z"
   },
   {
    "duration": 10,
    "start_time": "2025-03-19T18:31:57.128Z"
   },
   {
    "duration": 5,
    "start_time": "2025-03-19T18:31:57.373Z"
   },
   {
    "duration": 6,
    "start_time": "2025-03-19T18:31:57.524Z"
   },
   {
    "duration": 6,
    "start_time": "2025-03-19T18:31:57.683Z"
   },
   {
    "duration": 12,
    "start_time": "2025-03-19T18:31:58.178Z"
   },
   {
    "duration": 8,
    "start_time": "2025-03-19T18:31:58.296Z"
   },
   {
    "duration": 123,
    "start_time": "2025-03-19T18:31:58.760Z"
   },
   {
    "duration": 266,
    "start_time": "2025-03-19T18:31:58.910Z"
   },
   {
    "duration": 224,
    "start_time": "2025-03-19T18:31:59.178Z"
   },
   {
    "duration": 184,
    "start_time": "2025-03-19T18:31:59.403Z"
   },
   {
    "duration": 164,
    "start_time": "2025-03-19T18:31:59.588Z"
   },
   {
    "duration": 25,
    "start_time": "2025-03-19T18:31:59.810Z"
   },
   {
    "duration": 17,
    "start_time": "2025-03-19T18:31:59.947Z"
   },
   {
    "duration": 15,
    "start_time": "2025-03-19T18:32:00.097Z"
   },
   {
    "duration": 145,
    "start_time": "2025-03-19T18:32:00.244Z"
   },
   {
    "duration": 137,
    "start_time": "2025-03-19T18:32:00.394Z"
   },
   {
    "duration": 153,
    "start_time": "2025-03-19T18:32:00.561Z"
   },
   {
    "duration": 147,
    "start_time": "2025-03-19T18:32:00.715Z"
   },
   {
    "duration": 18,
    "start_time": "2025-03-19T18:32:01.154Z"
   },
   {
    "duration": 13,
    "start_time": "2025-03-19T18:32:01.287Z"
   },
   {
    "duration": 16,
    "start_time": "2025-03-19T18:32:01.468Z"
   },
   {
    "duration": 16,
    "start_time": "2025-03-19T18:32:01.760Z"
   },
   {
    "duration": 17,
    "start_time": "2025-03-19T18:32:01.915Z"
   },
   {
    "duration": 12,
    "start_time": "2025-03-19T18:32:02.069Z"
   },
   {
    "duration": 5,
    "start_time": "2025-03-19T18:32:02.375Z"
   },
   {
    "duration": 6,
    "start_time": "2025-03-19T18:32:02.670Z"
   },
   {
    "duration": 10,
    "start_time": "2025-03-19T18:32:02.974Z"
   },
   {
    "duration": 9,
    "start_time": "2025-03-19T19:11:05.698Z"
   },
   {
    "duration": 163,
    "start_time": "2025-03-19T19:11:22.700Z"
   },
   {
    "duration": 5,
    "start_time": "2025-03-19T19:12:02.918Z"
   },
   {
    "duration": 4,
    "start_time": "2025-03-19T19:12:10.251Z"
   },
   {
    "duration": 1248,
    "start_time": "2025-03-19T19:18:41.358Z"
   },
   {
    "duration": 1353,
    "start_time": "2025-03-19T19:18:54.119Z"
   },
   {
    "duration": 1353,
    "start_time": "2025-03-19T19:19:10.742Z"
   },
   {
    "duration": 1359,
    "start_time": "2025-03-19T19:21:23.167Z"
   },
   {
    "duration": 2125,
    "start_time": "2025-03-19T19:24:55.182Z"
   },
   {
    "duration": 2274,
    "start_time": "2025-03-19T19:25:31.890Z"
   },
   {
    "duration": 115,
    "start_time": "2025-03-19T19:26:11.400Z"
   },
   {
    "duration": 128,
    "start_time": "2025-03-19T19:26:50.245Z"
   },
   {
    "duration": 133,
    "start_time": "2025-03-19T19:29:28.416Z"
   },
   {
    "duration": 131,
    "start_time": "2025-03-19T19:29:49.395Z"
   },
   {
    "duration": 127,
    "start_time": "2025-03-19T19:29:55.235Z"
   },
   {
    "duration": 66,
    "start_time": "2025-03-20T06:26:44.816Z"
   },
   {
    "duration": 921,
    "start_time": "2025-03-20T06:26:51.327Z"
   },
   {
    "duration": 75,
    "start_time": "2025-03-20T06:26:52.615Z"
   },
   {
    "duration": 15,
    "start_time": "2025-03-20T06:26:52.770Z"
   },
   {
    "duration": 9,
    "start_time": "2025-03-20T06:26:52.977Z"
   },
   {
    "duration": 7,
    "start_time": "2025-03-20T06:26:53.107Z"
   },
   {
    "duration": 11,
    "start_time": "2025-03-20T06:26:53.288Z"
   },
   {
    "duration": 12,
    "start_time": "2025-03-20T06:26:53.387Z"
   },
   {
    "duration": 10,
    "start_time": "2025-03-20T06:26:53.571Z"
   },
   {
    "duration": 17,
    "start_time": "2025-03-20T06:26:54.307Z"
   },
   {
    "duration": 10,
    "start_time": "2025-03-20T06:26:54.489Z"
   },
   {
    "duration": 7,
    "start_time": "2025-03-20T06:26:54.639Z"
   },
   {
    "duration": 6,
    "start_time": "2025-03-20T06:26:54.816Z"
   },
   {
    "duration": 6,
    "start_time": "2025-03-20T06:26:54.942Z"
   },
   {
    "duration": 13,
    "start_time": "2025-03-20T06:26:55.271Z"
   },
   {
    "duration": 8,
    "start_time": "2025-03-20T06:26:55.427Z"
   },
   {
    "duration": 631,
    "start_time": "2025-03-20T06:26:55.916Z"
   },
   {
    "duration": 99,
    "start_time": "2025-03-20T06:26:56.549Z"
   },
   {
    "duration": 269,
    "start_time": "2025-03-20T06:26:56.650Z"
   },
   {
    "duration": 202,
    "start_time": "2025-03-20T06:26:56.921Z"
   },
   {
    "duration": 200,
    "start_time": "2025-03-20T06:26:57.125Z"
   },
   {
    "duration": 27,
    "start_time": "2025-03-20T06:26:57.327Z"
   },
   {
    "duration": 84,
    "start_time": "2025-03-20T06:26:57.356Z"
   },
   {
    "duration": 19,
    "start_time": "2025-03-20T06:26:57.442Z"
   },
   {
    "duration": 173,
    "start_time": "2025-03-20T06:26:57.475Z"
   },
   {
    "duration": 154,
    "start_time": "2025-03-20T06:26:57.675Z"
   },
   {
    "duration": 194,
    "start_time": "2025-03-20T06:26:57.831Z"
   },
   {
    "duration": 247,
    "start_time": "2025-03-20T06:26:58.027Z"
   },
   {
    "duration": 18,
    "start_time": "2025-03-20T06:26:58.476Z"
   },
   {
    "duration": 10,
    "start_time": "2025-03-20T06:26:58.630Z"
   },
   {
    "duration": 14,
    "start_time": "2025-03-20T06:26:58.813Z"
   },
   {
    "duration": 27,
    "start_time": "2025-03-20T06:26:58.955Z"
   },
   {
    "duration": 16,
    "start_time": "2025-03-20T06:26:59.105Z"
   },
   {
    "duration": 13,
    "start_time": "2025-03-20T06:26:59.287Z"
   },
   {
    "duration": 6,
    "start_time": "2025-03-20T06:26:59.770Z"
   },
   {
    "duration": 12,
    "start_time": "2025-03-20T06:27:00.157Z"
   },
   {
    "duration": 10,
    "start_time": "2025-03-20T06:27:00.471Z"
   },
   {
    "duration": 141,
    "start_time": "2025-03-20T06:27:01.187Z"
   },
   {
    "duration": 169,
    "start_time": "2025-03-20T06:27:01.477Z"
   },
   {
    "duration": 274,
    "start_time": "2025-03-20T06:27:01.648Z"
   },
   {
    "duration": 264,
    "start_time": "2025-03-20T06:27:37.370Z"
   },
   {
    "duration": 195,
    "start_time": "2025-03-20T06:27:57.918Z"
   },
   {
    "duration": 3,
    "start_time": "2025-03-20T06:48:26.915Z"
   },
   {
    "duration": 56,
    "start_time": "2025-03-20T06:48:27.235Z"
   },
   {
    "duration": 11,
    "start_time": "2025-03-20T06:48:27.367Z"
   },
   {
    "duration": 8,
    "start_time": "2025-03-20T06:48:27.535Z"
   },
   {
    "duration": 7,
    "start_time": "2025-03-20T06:48:27.717Z"
   },
   {
    "duration": 17,
    "start_time": "2025-03-20T06:48:27.846Z"
   },
   {
    "duration": 11,
    "start_time": "2025-03-20T06:48:28.028Z"
   },
   {
    "duration": 15,
    "start_time": "2025-03-20T06:48:28.163Z"
   },
   {
    "duration": 23,
    "start_time": "2025-03-20T06:48:28.674Z"
   },
   {
    "duration": 11,
    "start_time": "2025-03-20T06:48:28.976Z"
   },
   {
    "duration": 6,
    "start_time": "2025-03-20T06:48:29.125Z"
   },
   {
    "duration": 8,
    "start_time": "2025-03-20T06:48:29.295Z"
   },
   {
    "duration": 6,
    "start_time": "2025-03-20T06:48:29.443Z"
   },
   {
    "duration": 13,
    "start_time": "2025-03-20T06:48:29.935Z"
   },
   {
    "duration": 8,
    "start_time": "2025-03-20T06:48:30.102Z"
   },
   {
    "duration": 139,
    "start_time": "2025-03-20T06:48:30.585Z"
   },
   {
    "duration": 99,
    "start_time": "2025-03-20T06:48:30.725Z"
   },
   {
    "duration": 248,
    "start_time": "2025-03-20T06:48:30.872Z"
   },
   {
    "duration": 194,
    "start_time": "2025-03-20T06:48:31.123Z"
   },
   {
    "duration": 201,
    "start_time": "2025-03-20T06:48:31.319Z"
   },
   {
    "duration": 23,
    "start_time": "2025-03-20T06:48:31.703Z"
   },
   {
    "duration": 19,
    "start_time": "2025-03-20T06:48:31.837Z"
   },
   {
    "duration": 15,
    "start_time": "2025-03-20T06:48:31.985Z"
   },
   {
    "duration": 177,
    "start_time": "2025-03-20T06:48:32.155Z"
   },
   {
    "duration": 262,
    "start_time": "2025-03-20T06:48:32.333Z"
   },
   {
    "duration": 188,
    "start_time": "2025-03-20T06:48:32.597Z"
   },
   {
    "duration": 185,
    "start_time": "2025-03-20T06:48:32.787Z"
   },
   {
    "duration": 17,
    "start_time": "2025-03-20T06:48:33.082Z"
   },
   {
    "duration": 18,
    "start_time": "2025-03-20T06:48:33.253Z"
   },
   {
    "duration": 14,
    "start_time": "2025-03-20T06:48:33.391Z"
   },
   {
    "duration": 25,
    "start_time": "2025-03-20T06:48:33.547Z"
   },
   {
    "duration": 17,
    "start_time": "2025-03-20T06:48:33.735Z"
   },
   {
    "duration": 12,
    "start_time": "2025-03-20T06:48:33.887Z"
   },
   {
    "duration": 6,
    "start_time": "2025-03-20T06:48:34.231Z"
   },
   {
    "duration": 5,
    "start_time": "2025-03-20T06:48:36.632Z"
   },
   {
    "duration": 11,
    "start_time": "2025-03-20T06:48:36.925Z"
   },
   {
    "duration": 138,
    "start_time": "2025-03-20T06:48:37.535Z"
   },
   {
    "duration": 140,
    "start_time": "2025-03-20T06:48:37.877Z"
   },
   {
    "duration": 2,
    "start_time": "2025-03-20T06:48:38.080Z"
   },
   {
    "duration": 3,
    "start_time": "2025-03-20T07:37:23.315Z"
   },
   {
    "duration": 60,
    "start_time": "2025-03-20T07:37:23.603Z"
   },
   {
    "duration": 9,
    "start_time": "2025-03-20T07:37:23.715Z"
   },
   {
    "duration": 9,
    "start_time": "2025-03-20T07:37:23.835Z"
   },
   {
    "duration": 7,
    "start_time": "2025-03-20T07:37:23.991Z"
   },
   {
    "duration": 12,
    "start_time": "2025-03-20T07:37:24.143Z"
   },
   {
    "duration": 12,
    "start_time": "2025-03-20T07:37:24.289Z"
   },
   {
    "duration": 10,
    "start_time": "2025-03-20T07:37:24.424Z"
   },
   {
    "duration": 15,
    "start_time": "2025-03-20T07:37:24.894Z"
   },
   {
    "duration": 11,
    "start_time": "2025-03-20T07:37:25.016Z"
   },
   {
    "duration": 12,
    "start_time": "2025-03-20T07:37:25.195Z"
   },
   {
    "duration": 7,
    "start_time": "2025-03-20T07:37:25.471Z"
   },
   {
    "duration": 6,
    "start_time": "2025-03-20T07:37:25.606Z"
   },
   {
    "duration": 14,
    "start_time": "2025-03-20T07:37:25.903Z"
   },
   {
    "duration": 8,
    "start_time": "2025-03-20T07:37:26.035Z"
   },
   {
    "duration": 145,
    "start_time": "2025-03-20T07:37:26.671Z"
   },
   {
    "duration": 86,
    "start_time": "2025-03-20T07:37:26.826Z"
   },
   {
    "duration": 242,
    "start_time": "2025-03-20T07:37:26.995Z"
   },
   {
    "duration": 209,
    "start_time": "2025-03-20T07:37:27.239Z"
   },
   {
    "duration": 193,
    "start_time": "2025-03-20T07:37:27.457Z"
   },
   {
    "duration": 25,
    "start_time": "2025-03-20T07:37:27.923Z"
   },
   {
    "duration": 19,
    "start_time": "2025-03-20T07:37:28.115Z"
   },
   {
    "duration": 15,
    "start_time": "2025-03-20T07:37:28.285Z"
   },
   {
    "duration": 172,
    "start_time": "2025-03-20T07:37:28.447Z"
   },
   {
    "duration": 162,
    "start_time": "2025-03-20T07:37:28.620Z"
   },
   {
    "duration": 193,
    "start_time": "2025-03-20T07:37:28.784Z"
   },
   {
    "duration": 266,
    "start_time": "2025-03-20T07:37:28.979Z"
   },
   {
    "duration": 17,
    "start_time": "2025-03-20T07:37:29.395Z"
   },
   {
    "duration": 5,
    "start_time": "2025-03-20T07:41:14.583Z"
   },
   {
    "duration": 66,
    "start_time": "2025-03-20T07:44:06.712Z"
   },
   {
    "duration": 144,
    "start_time": "2025-03-20T07:44:41.053Z"
   },
   {
    "duration": 171,
    "start_time": "2025-03-20T07:44:51.952Z"
   },
   {
    "duration": 150,
    "start_time": "2025-03-20T07:45:08.091Z"
   },
   {
    "duration": 169,
    "start_time": "2025-03-20T07:45:28.843Z"
   },
   {
    "duration": 1210,
    "start_time": "2025-03-20T08:08:13.876Z"
   },
   {
    "duration": 134,
    "start_time": "2025-03-20T08:08:15.088Z"
   },
   {
    "duration": 12,
    "start_time": "2025-03-20T08:08:15.223Z"
   },
   {
    "duration": 12,
    "start_time": "2025-03-20T08:08:15.237Z"
   },
   {
    "duration": 22,
    "start_time": "2025-03-20T08:08:15.250Z"
   },
   {
    "duration": 38,
    "start_time": "2025-03-20T08:08:15.274Z"
   },
   {
    "duration": 13,
    "start_time": "2025-03-20T08:08:15.314Z"
   },
   {
    "duration": 11,
    "start_time": "2025-03-20T08:08:15.328Z"
   },
   {
    "duration": 64,
    "start_time": "2025-03-20T08:08:15.340Z"
   },
   {
    "duration": 11,
    "start_time": "2025-03-20T08:08:15.407Z"
   },
   {
    "duration": 5,
    "start_time": "2025-03-20T08:08:15.420Z"
   },
   {
    "duration": 24,
    "start_time": "2025-03-20T08:08:15.426Z"
   },
   {
    "duration": 5,
    "start_time": "2025-03-20T08:08:15.452Z"
   },
   {
    "duration": 19,
    "start_time": "2025-03-20T08:08:15.458Z"
   },
   {
    "duration": 7,
    "start_time": "2025-03-20T08:08:15.479Z"
   },
   {
    "duration": 147,
    "start_time": "2025-03-20T08:08:15.488Z"
   },
   {
    "duration": 75,
    "start_time": "2025-03-20T08:08:15.637Z"
   },
   {
    "duration": 233,
    "start_time": "2025-03-20T08:08:15.714Z"
   },
   {
    "duration": 178,
    "start_time": "2025-03-20T08:08:15.949Z"
   },
   {
    "duration": 175,
    "start_time": "2025-03-20T08:08:16.129Z"
   },
   {
    "duration": 32,
    "start_time": "2025-03-20T08:08:16.306Z"
   },
   {
    "duration": 75,
    "start_time": "2025-03-20T08:08:16.340Z"
   },
   {
    "duration": 14,
    "start_time": "2025-03-20T08:08:16.417Z"
   },
   {
    "duration": 180,
    "start_time": "2025-03-20T08:08:16.432Z"
   },
   {
    "duration": 147,
    "start_time": "2025-03-20T08:08:16.613Z"
   },
   {
    "duration": 162,
    "start_time": "2025-03-20T08:08:16.761Z"
   },
   {
    "duration": 158,
    "start_time": "2025-03-20T08:08:16.925Z"
   },
   {
    "duration": 16,
    "start_time": "2025-03-20T08:08:17.086Z"
   },
   {
    "duration": 40,
    "start_time": "2025-03-20T08:08:17.104Z"
   },
   {
    "duration": 13,
    "start_time": "2025-03-20T08:08:17.146Z"
   },
   {
    "duration": 14,
    "start_time": "2025-03-20T08:08:17.161Z"
   },
   {
    "duration": 96,
    "start_time": "2025-03-20T08:08:17.176Z"
   },
   {
    "duration": 12,
    "start_time": "2025-03-20T08:08:17.274Z"
   },
   {
    "duration": 5,
    "start_time": "2025-03-20T08:08:17.287Z"
   },
   {
    "duration": 6,
    "start_time": "2025-03-20T08:08:17.294Z"
   },
   {
    "duration": 35,
    "start_time": "2025-03-20T08:08:17.301Z"
   },
   {
    "duration": 126,
    "start_time": "2025-03-20T08:08:17.338Z"
   },
   {
    "duration": 134,
    "start_time": "2025-03-20T08:08:17.466Z"
   },
   {
    "duration": 5,
    "start_time": "2025-03-20T08:08:17.602Z"
   },
   {
    "duration": 159,
    "start_time": "2025-03-20T08:08:17.609Z"
   },
   {
    "duration": 19,
    "start_time": "2025-03-20T08:12:27.119Z"
   },
   {
    "duration": 1077,
    "start_time": "2025-03-20T08:16:49.907Z"
   },
   {
    "duration": 120,
    "start_time": "2025-03-20T08:16:50.986Z"
   },
   {
    "duration": 10,
    "start_time": "2025-03-20T08:16:51.108Z"
   },
   {
    "duration": 29,
    "start_time": "2025-03-20T08:16:51.120Z"
   },
   {
    "duration": 12,
    "start_time": "2025-03-20T08:16:51.151Z"
   },
   {
    "duration": 22,
    "start_time": "2025-03-20T08:16:51.164Z"
   },
   {
    "duration": 12,
    "start_time": "2025-03-20T08:16:51.188Z"
   },
   {
    "duration": 10,
    "start_time": "2025-03-20T08:16:51.202Z"
   },
   {
    "duration": 23,
    "start_time": "2025-03-20T08:16:51.214Z"
   },
   {
    "duration": 11,
    "start_time": "2025-03-20T08:16:51.238Z"
   },
   {
    "duration": 12,
    "start_time": "2025-03-20T08:16:51.251Z"
   },
   {
    "duration": 13,
    "start_time": "2025-03-20T08:16:51.265Z"
   },
   {
    "duration": 6,
    "start_time": "2025-03-20T08:16:51.279Z"
   },
   {
    "duration": 14,
    "start_time": "2025-03-20T08:16:51.288Z"
   },
   {
    "duration": 32,
    "start_time": "2025-03-20T08:16:51.304Z"
   },
   {
    "duration": 164,
    "start_time": "2025-03-20T08:16:51.338Z"
   },
   {
    "duration": 90,
    "start_time": "2025-03-20T08:16:51.503Z"
   },
   {
    "duration": 240,
    "start_time": "2025-03-20T08:16:51.595Z"
   },
   {
    "duration": 178,
    "start_time": "2025-03-20T08:16:51.837Z"
   },
   {
    "duration": 180,
    "start_time": "2025-03-20T08:16:52.017Z"
   },
   {
    "duration": 25,
    "start_time": "2025-03-20T08:16:52.198Z"
   },
   {
    "duration": 19,
    "start_time": "2025-03-20T08:16:52.236Z"
   },
   {
    "duration": 15,
    "start_time": "2025-03-20T08:16:52.258Z"
   },
   {
    "duration": 176,
    "start_time": "2025-03-20T08:16:52.275Z"
   },
   {
    "duration": 144,
    "start_time": "2025-03-20T08:16:52.453Z"
   },
   {
    "duration": 180,
    "start_time": "2025-03-20T08:16:52.598Z"
   },
   {
    "duration": 163,
    "start_time": "2025-03-20T08:16:52.779Z"
   },
   {
    "duration": 16,
    "start_time": "2025-03-20T08:16:52.944Z"
   },
   {
    "duration": 8,
    "start_time": "2025-03-20T08:16:52.962Z"
   },
   {
    "duration": 16,
    "start_time": "2025-03-20T08:16:52.971Z"
   },
   {
    "duration": 15,
    "start_time": "2025-03-20T08:16:52.989Z"
   },
   {
    "duration": 107,
    "start_time": "2025-03-20T08:16:53.005Z"
   },
   {
    "duration": 11,
    "start_time": "2025-03-20T08:16:53.114Z"
   },
   {
    "duration": 14,
    "start_time": "2025-03-20T08:16:53.126Z"
   },
   {
    "duration": 4,
    "start_time": "2025-03-20T08:16:53.142Z"
   },
   {
    "duration": 11,
    "start_time": "2025-03-20T08:16:53.147Z"
   },
   {
    "duration": 152,
    "start_time": "2025-03-20T08:16:53.159Z"
   },
   {
    "duration": 144,
    "start_time": "2025-03-20T08:16:53.312Z"
   },
   {
    "duration": 5,
    "start_time": "2025-03-20T08:16:53.458Z"
   },
   {
    "duration": 159,
    "start_time": "2025-03-20T08:16:53.465Z"
   },
   {
    "duration": 48,
    "start_time": "2025-03-21T05:36:32.542Z"
   },
   {
    "duration": 1200,
    "start_time": "2025-03-21T05:36:41.464Z"
   },
   {
    "duration": 131,
    "start_time": "2025-03-21T05:36:42.666Z"
   },
   {
    "duration": 11,
    "start_time": "2025-03-21T05:36:43.059Z"
   },
   {
    "duration": 8,
    "start_time": "2025-03-21T05:36:43.071Z"
   },
   {
    "duration": 10,
    "start_time": "2025-03-21T05:36:43.081Z"
   },
   {
    "duration": 10,
    "start_time": "2025-03-21T05:36:43.217Z"
   },
   {
    "duration": 11,
    "start_time": "2025-03-21T05:36:43.229Z"
   },
   {
    "duration": 10,
    "start_time": "2025-03-21T05:36:44.396Z"
   },
   {
    "duration": 16,
    "start_time": "2025-03-21T05:36:45.417Z"
   },
   {
    "duration": 10,
    "start_time": "2025-03-21T05:36:46.257Z"
   },
   {
    "duration": 6,
    "start_time": "2025-03-21T05:36:46.947Z"
   },
   {
    "duration": 6,
    "start_time": "2025-03-21T05:36:47.487Z"
   },
   {
    "duration": 6,
    "start_time": "2025-03-21T05:36:48.046Z"
   },
   {
    "duration": 13,
    "start_time": "2025-03-21T05:36:48.524Z"
   },
   {
    "duration": 10,
    "start_time": "2025-03-21T05:36:48.569Z"
   },
   {
    "duration": 8,
    "start_time": "2025-03-21T05:36:48.709Z"
   },
   {
    "duration": 5,
    "start_time": "2025-03-21T05:37:58.237Z"
   },
   {
    "duration": 66,
    "start_time": "2025-03-21T15:44:39.420Z"
   },
   {
    "duration": 1389,
    "start_time": "2025-03-21T15:44:45.595Z"
   },
   {
    "duration": 142,
    "start_time": "2025-03-21T15:44:46.986Z"
   },
   {
    "duration": 14,
    "start_time": "2025-03-21T15:44:47.130Z"
   },
   {
    "duration": 10,
    "start_time": "2025-03-21T15:44:47.146Z"
   },
   {
    "duration": 8,
    "start_time": "2025-03-21T15:44:47.157Z"
   },
   {
    "duration": 17,
    "start_time": "2025-03-21T15:44:47.167Z"
   },
   {
    "duration": 16,
    "start_time": "2025-03-21T15:44:47.195Z"
   },
   {
    "duration": 11,
    "start_time": "2025-03-21T15:44:47.486Z"
   },
   {
    "duration": 18,
    "start_time": "2025-03-21T15:44:48.410Z"
   },
   {
    "duration": 11,
    "start_time": "2025-03-21T15:44:48.716Z"
   },
   {
    "duration": 6,
    "start_time": "2025-03-21T15:44:48.852Z"
   },
   {
    "duration": 6,
    "start_time": "2025-03-21T15:44:48.996Z"
   },
   {
    "duration": 6,
    "start_time": "2025-03-21T15:44:49.153Z"
   },
   {
    "duration": 15,
    "start_time": "2025-03-21T15:44:49.455Z"
   },
   {
    "duration": 6,
    "start_time": "2025-03-21T15:44:49.600Z"
   },
   {
    "duration": 9,
    "start_time": "2025-03-21T15:44:49.750Z"
   },
   {
    "duration": 12,
    "start_time": "2025-03-21T15:46:44.170Z"
   },
   {
    "duration": 12,
    "start_time": "2025-03-21T15:47:04.354Z"
   },
   {
    "duration": 5,
    "start_time": "2025-03-21T15:47:35.128Z"
   },
   {
    "duration": 28,
    "start_time": "2025-03-21T15:49:52.740Z"
   },
   {
    "duration": 8,
    "start_time": "2025-03-21T15:51:11.802Z"
   },
   {
    "duration": 8,
    "start_time": "2025-03-21T15:52:07.940Z"
   },
   {
    "duration": 189,
    "start_time": "2025-03-21T15:59:21.644Z"
   },
   {
    "duration": 140,
    "start_time": "2025-03-21T16:00:07.206Z"
   },
   {
    "duration": 127,
    "start_time": "2025-03-21T16:01:44.422Z"
   },
   {
    "duration": 192,
    "start_time": "2025-03-21T16:02:19.215Z"
   },
   {
    "duration": 168,
    "start_time": "2025-03-21T16:02:48.935Z"
   },
   {
    "duration": 157,
    "start_time": "2025-03-21T16:02:59.679Z"
   },
   {
    "duration": 172,
    "start_time": "2025-03-21T16:05:00.596Z"
   },
   {
    "duration": 159,
    "start_time": "2025-03-21T16:05:57.020Z"
   },
   {
    "duration": 150,
    "start_time": "2025-03-21T16:06:12.946Z"
   },
   {
    "duration": 35,
    "start_time": "2025-03-21T16:08:59.431Z"
   },
   {
    "duration": 7,
    "start_time": "2025-03-21T16:09:48.489Z"
   },
   {
    "duration": 3,
    "start_time": "2025-03-21T16:10:25.353Z"
   },
   {
    "duration": 4,
    "start_time": "2025-03-21T16:10:40.104Z"
   },
   {
    "duration": 206,
    "start_time": "2025-03-21T17:06:48.499Z"
   },
   {
    "duration": 309,
    "start_time": "2025-03-21T17:07:05.127Z"
   },
   {
    "duration": 66,
    "start_time": "2025-03-21T17:08:01.376Z"
   },
   {
    "duration": 27,
    "start_time": "2025-03-21T17:08:09.324Z"
   },
   {
    "duration": 4,
    "start_time": "2025-03-21T17:08:09.463Z"
   },
   {
    "duration": 5,
    "start_time": "2025-03-21T17:08:09.855Z"
   },
   {
    "duration": 20,
    "start_time": "2025-03-21T17:08:10.554Z"
   },
   {
    "duration": 14,
    "start_time": "2025-03-21T17:08:11.023Z"
   },
   {
    "duration": 169,
    "start_time": "2025-03-21T17:08:11.226Z"
   },
   {
    "duration": 144,
    "start_time": "2025-03-21T17:08:11.399Z"
   },
   {
    "duration": 184,
    "start_time": "2025-03-21T17:08:11.545Z"
   },
   {
    "duration": 165,
    "start_time": "2025-03-21T17:08:35.080Z"
   },
   {
    "duration": 183,
    "start_time": "2025-03-21T17:08:48.149Z"
   },
   {
    "duration": 197,
    "start_time": "2025-03-21T17:09:09.793Z"
   },
   {
    "duration": 4,
    "start_time": "2025-03-21T17:12:29.262Z"
   },
   {
    "duration": 17,
    "start_time": "2025-03-21T17:12:29.903Z"
   },
   {
    "duration": 4,
    "start_time": "2025-03-21T17:12:37.107Z"
   },
   {
    "duration": 21,
    "start_time": "2025-03-21T17:12:37.803Z"
   },
   {
    "duration": 11,
    "start_time": "2025-03-21T17:13:05.442Z"
   },
   {
    "duration": 18,
    "start_time": "2025-03-21T17:13:07.441Z"
   },
   {
    "duration": 13,
    "start_time": "2025-03-21T17:14:40.036Z"
   },
   {
    "duration": 17,
    "start_time": "2025-03-21T17:14:42.697Z"
   },
   {
    "duration": 13,
    "start_time": "2025-03-21T17:15:13.701Z"
   },
   {
    "duration": 14,
    "start_time": "2025-03-21T17:15:16.755Z"
   },
   {
    "duration": 17,
    "start_time": "2025-03-21T17:15:17.770Z"
   },
   {
    "duration": 15,
    "start_time": "2025-03-21T17:15:30.424Z"
   },
   {
    "duration": 16,
    "start_time": "2025-03-21T17:15:30.588Z"
   },
   {
    "duration": 16,
    "start_time": "2025-03-21T17:15:30.718Z"
   },
   {
    "duration": 12,
    "start_time": "2025-03-21T17:15:36.336Z"
   },
   {
    "duration": 6,
    "start_time": "2025-03-21T17:21:46.859Z"
   },
   {
    "duration": 6,
    "start_time": "2025-03-21T17:21:56.703Z"
   },
   {
    "duration": 6,
    "start_time": "2025-03-21T17:23:43.159Z"
   },
   {
    "duration": 1008,
    "start_time": "2025-03-22T08:31:48.517Z"
   },
   {
    "duration": 124,
    "start_time": "2025-03-22T08:31:49.526Z"
   },
   {
    "duration": 11,
    "start_time": "2025-03-22T08:31:49.652Z"
   },
   {
    "duration": 8,
    "start_time": "2025-03-22T08:31:49.665Z"
   },
   {
    "duration": 7,
    "start_time": "2025-03-22T08:31:49.674Z"
   },
   {
    "duration": 11,
    "start_time": "2025-03-22T08:31:49.682Z"
   },
   {
    "duration": 14,
    "start_time": "2025-03-22T08:31:49.694Z"
   },
   {
    "duration": 9,
    "start_time": "2025-03-22T08:31:49.709Z"
   },
   {
    "duration": 20,
    "start_time": "2025-03-22T08:31:49.719Z"
   },
   {
    "duration": 8,
    "start_time": "2025-03-22T08:31:49.742Z"
   },
   {
    "duration": 11,
    "start_time": "2025-03-22T08:31:49.751Z"
   },
   {
    "duration": 5,
    "start_time": "2025-03-22T08:31:49.764Z"
   },
   {
    "duration": 13,
    "start_time": "2025-03-22T08:31:49.770Z"
   },
   {
    "duration": 28,
    "start_time": "2025-03-22T08:31:49.784Z"
   },
   {
    "duration": 4,
    "start_time": "2025-03-22T08:31:49.813Z"
   },
   {
    "duration": 13,
    "start_time": "2025-03-22T08:31:49.818Z"
   },
   {
    "duration": 6,
    "start_time": "2025-03-22T08:31:49.833Z"
   },
   {
    "duration": 148,
    "start_time": "2025-03-22T08:31:49.841Z"
   },
   {
    "duration": 84,
    "start_time": "2025-03-22T08:31:49.991Z"
   },
   {
    "duration": 143,
    "start_time": "2025-03-22T08:31:50.076Z"
   },
   {
    "duration": 174,
    "start_time": "2025-03-22T08:31:50.221Z"
   },
   {
    "duration": 177,
    "start_time": "2025-03-22T08:31:50.396Z"
   },
   {
    "duration": 33,
    "start_time": "2025-03-22T08:31:50.574Z"
   },
   {
    "duration": 3,
    "start_time": "2025-03-22T08:31:50.609Z"
   },
   {
    "duration": 8,
    "start_time": "2025-03-22T08:31:50.614Z"
   },
   {
    "duration": 19,
    "start_time": "2025-03-22T08:31:50.623Z"
   },
   {
    "duration": 14,
    "start_time": "2025-03-22T08:31:50.644Z"
   },
   {
    "duration": 171,
    "start_time": "2025-03-22T08:31:50.661Z"
   },
   {
    "duration": 168,
    "start_time": "2025-03-22T08:31:50.834Z"
   },
   {
    "duration": 164,
    "start_time": "2025-03-22T08:31:51.003Z"
   },
   {
    "duration": 161,
    "start_time": "2025-03-22T08:31:51.168Z"
   },
   {
    "duration": 12,
    "start_time": "2025-03-22T08:31:51.330Z"
   },
   {
    "duration": 24,
    "start_time": "2025-03-22T08:31:51.343Z"
   },
   {
    "duration": 12,
    "start_time": "2025-03-22T08:31:51.369Z"
   },
   {
    "duration": 29,
    "start_time": "2025-03-22T08:31:51.383Z"
   },
   {
    "duration": 14,
    "start_time": "2025-03-22T08:31:51.413Z"
   },
   {
    "duration": 11,
    "start_time": "2025-03-22T08:31:51.429Z"
   },
   {
    "duration": 7,
    "start_time": "2025-03-22T08:31:51.441Z"
   },
   {
    "duration": 5,
    "start_time": "2025-03-22T08:31:51.449Z"
   },
   {
    "duration": 22,
    "start_time": "2025-03-22T08:31:51.455Z"
   },
   {
    "duration": 143,
    "start_time": "2025-03-22T08:31:51.479Z"
   },
   {
    "duration": 142,
    "start_time": "2025-03-22T08:31:51.623Z"
   },
   {
    "duration": 5,
    "start_time": "2025-03-22T08:31:51.766Z"
   },
   {
    "duration": 220,
    "start_time": "2025-03-22T08:31:51.772Z"
   },
   {
    "duration": 996,
    "start_time": "2025-03-22T08:38:21.743Z"
   },
   {
    "duration": 102,
    "start_time": "2025-03-22T08:38:22.741Z"
   },
   {
    "duration": 11,
    "start_time": "2025-03-22T08:38:22.844Z"
   },
   {
    "duration": 12,
    "start_time": "2025-03-22T08:38:22.857Z"
   },
   {
    "duration": 6,
    "start_time": "2025-03-22T08:38:22.871Z"
   },
   {
    "duration": 17,
    "start_time": "2025-03-22T08:38:22.878Z"
   },
   {
    "duration": 10,
    "start_time": "2025-03-22T08:38:22.896Z"
   },
   {
    "duration": 8,
    "start_time": "2025-03-22T08:38:22.908Z"
   },
   {
    "duration": 21,
    "start_time": "2025-03-22T08:38:22.917Z"
   },
   {
    "duration": 10,
    "start_time": "2025-03-22T08:38:22.940Z"
   },
   {
    "duration": 29,
    "start_time": "2025-03-22T08:38:22.951Z"
   },
   {
    "duration": 7,
    "start_time": "2025-03-22T08:38:22.982Z"
   },
   {
    "duration": 5,
    "start_time": "2025-03-22T08:38:22.991Z"
   },
   {
    "duration": 16,
    "start_time": "2025-03-22T08:38:22.997Z"
   },
   {
    "duration": 4,
    "start_time": "2025-03-22T08:38:23.014Z"
   },
   {
    "duration": 12,
    "start_time": "2025-03-22T08:38:23.019Z"
   },
   {
    "duration": 8,
    "start_time": "2025-03-22T08:38:23.032Z"
   },
   {
    "duration": 167,
    "start_time": "2025-03-22T08:38:23.042Z"
   },
   {
    "duration": 81,
    "start_time": "2025-03-22T08:38:23.211Z"
   },
   {
    "duration": 151,
    "start_time": "2025-03-22T08:38:23.294Z"
   },
   {
    "duration": 181,
    "start_time": "2025-03-22T08:38:23.446Z"
   },
   {
    "duration": 185,
    "start_time": "2025-03-22T08:38:23.628Z"
   },
   {
    "duration": 24,
    "start_time": "2025-03-22T08:38:23.814Z"
   },
   {
    "duration": 4,
    "start_time": "2025-03-22T08:38:23.840Z"
   },
   {
    "duration": 8,
    "start_time": "2025-03-22T08:38:23.845Z"
   },
   {
    "duration": 19,
    "start_time": "2025-03-22T08:38:23.855Z"
   },
   {
    "duration": 38,
    "start_time": "2025-03-22T08:38:23.875Z"
   },
   {
    "duration": 169,
    "start_time": "2025-03-22T08:38:23.916Z"
   },
   {
    "duration": 155,
    "start_time": "2025-03-22T08:38:24.086Z"
   },
   {
    "duration": 178,
    "start_time": "2025-03-22T08:38:24.242Z"
   },
   {
    "duration": 173,
    "start_time": "2025-03-22T08:38:24.421Z"
   },
   {
    "duration": 16,
    "start_time": "2025-03-22T08:38:24.596Z"
   },
   {
    "duration": 20,
    "start_time": "2025-03-22T08:38:24.615Z"
   },
   {
    "duration": 13,
    "start_time": "2025-03-22T08:38:24.637Z"
   },
   {
    "duration": 15,
    "start_time": "2025-03-22T08:38:24.652Z"
   },
   {
    "duration": 50,
    "start_time": "2025-03-22T08:38:24.668Z"
   },
   {
    "duration": 13,
    "start_time": "2025-03-22T08:38:24.720Z"
   },
   {
    "duration": 5,
    "start_time": "2025-03-22T08:38:24.734Z"
   },
   {
    "duration": 5,
    "start_time": "2025-03-22T08:38:24.740Z"
   },
   {
    "duration": 9,
    "start_time": "2025-03-22T08:38:24.747Z"
   },
   {
    "duration": 181,
    "start_time": "2025-03-22T08:38:24.757Z"
   },
   {
    "duration": 147,
    "start_time": "2025-03-22T08:38:24.939Z"
   },
   {
    "duration": 5,
    "start_time": "2025-03-22T08:38:25.088Z"
   },
   {
    "duration": 234,
    "start_time": "2025-03-22T08:38:25.094Z"
   },
   {
    "duration": 52,
    "start_time": "2025-03-22T09:03:58.259Z"
   },
   {
    "duration": 1159,
    "start_time": "2025-03-22T09:04:03.103Z"
   },
   {
    "duration": 117,
    "start_time": "2025-03-22T09:04:04.265Z"
   },
   {
    "duration": 13,
    "start_time": "2025-03-22T09:04:04.384Z"
   },
   {
    "duration": 7,
    "start_time": "2025-03-22T09:04:04.400Z"
   },
   {
    "duration": 27,
    "start_time": "2025-03-22T09:04:04.409Z"
   },
   {
    "duration": 26,
    "start_time": "2025-03-22T09:04:04.438Z"
   },
   {
    "duration": 27,
    "start_time": "2025-03-22T09:04:04.466Z"
   },
   {
    "duration": 9,
    "start_time": "2025-03-22T09:04:04.543Z"
   },
   {
    "duration": 15,
    "start_time": "2025-03-22T09:04:05.649Z"
   },
   {
    "duration": 10,
    "start_time": "2025-03-22T09:04:06.180Z"
   },
   {
    "duration": 7,
    "start_time": "2025-03-22T09:04:06.369Z"
   },
   {
    "duration": 7,
    "start_time": "2025-03-22T09:04:06.539Z"
   },
   {
    "duration": 13,
    "start_time": "2025-03-22T09:04:06.691Z"
   },
   {
    "duration": 12,
    "start_time": "2025-03-22T09:04:07.089Z"
   },
   {
    "duration": 4,
    "start_time": "2025-03-22T09:04:07.330Z"
   },
   {
    "duration": 6,
    "start_time": "2025-03-22T09:04:07.437Z"
   },
   {
    "duration": 7,
    "start_time": "2025-03-22T09:04:07.620Z"
   },
   {
    "duration": 127,
    "start_time": "2025-03-22T09:04:08.462Z"
   },
   {
    "duration": 74,
    "start_time": "2025-03-22T09:04:09.010Z"
   },
   {
    "duration": 127,
    "start_time": "2025-03-22T09:04:09.530Z"
   },
   {
    "duration": 151,
    "start_time": "2025-03-22T09:04:10.371Z"
   },
   {
    "duration": 160,
    "start_time": "2025-03-22T09:04:14.220Z"
   },
   {
    "duration": 165,
    "start_time": "2025-03-22T09:05:18.325Z"
   },
   {
    "duration": 24,
    "start_time": "2025-03-22T09:05:20.499Z"
   },
   {
    "duration": 4,
    "start_time": "2025-03-22T09:05:20.699Z"
   },
   {
    "duration": 4,
    "start_time": "2025-03-22T09:05:20.784Z"
   },
   {
    "duration": 19,
    "start_time": "2025-03-22T09:05:24.397Z"
   },
   {
    "duration": 19,
    "start_time": "2025-03-22T09:05:24.939Z"
   },
   {
    "duration": 209,
    "start_time": "2025-03-22T09:06:48.522Z"
   },
   {
    "duration": 150,
    "start_time": "2025-03-22T09:07:15.651Z"
   },
   {
    "duration": 143,
    "start_time": "2025-03-22T09:08:34.749Z"
   },
   {
    "duration": 84,
    "start_time": "2025-03-22T09:09:08.570Z"
   },
   {
    "duration": 174,
    "start_time": "2025-03-22T09:09:13.822Z"
   },
   {
    "duration": 201,
    "start_time": "2025-03-22T09:09:45.980Z"
   },
   {
    "duration": 47,
    "start_time": "2025-03-22T17:29:00.284Z"
   },
   {
    "duration": 1221,
    "start_time": "2025-03-22T17:29:07.451Z"
   },
   {
    "duration": 119,
    "start_time": "2025-03-22T17:29:08.674Z"
   },
   {
    "duration": 12,
    "start_time": "2025-03-22T17:29:08.795Z"
   },
   {
    "duration": 7,
    "start_time": "2025-03-22T17:29:08.809Z"
   },
   {
    "duration": 15,
    "start_time": "2025-03-22T17:29:08.818Z"
   },
   {
    "duration": 16,
    "start_time": "2025-03-22T17:29:08.834Z"
   },
   {
    "duration": 35,
    "start_time": "2025-03-22T17:29:08.852Z"
   },
   {
    "duration": 10,
    "start_time": "2025-03-22T17:29:08.968Z"
   },
   {
    "duration": 16,
    "start_time": "2025-03-22T17:29:10.059Z"
   },
   {
    "duration": 11,
    "start_time": "2025-03-22T17:29:10.390Z"
   },
   {
    "duration": 7,
    "start_time": "2025-03-22T17:29:10.547Z"
   },
   {
    "duration": 7,
    "start_time": "2025-03-22T17:29:10.716Z"
   },
   {
    "duration": 5,
    "start_time": "2025-03-22T17:29:11.298Z"
   },
   {
    "duration": 13,
    "start_time": "2025-03-22T17:29:11.615Z"
   },
   {
    "duration": 4,
    "start_time": "2025-03-22T17:29:11.759Z"
   },
   {
    "duration": 6,
    "start_time": "2025-03-22T17:29:11.914Z"
   },
   {
    "duration": 8,
    "start_time": "2025-03-22T17:29:12.084Z"
   },
   {
    "duration": 141,
    "start_time": "2025-03-22T17:29:12.886Z"
   },
   {
    "duration": 84,
    "start_time": "2025-03-22T17:29:13.328Z"
   },
   {
    "duration": 139,
    "start_time": "2025-03-22T17:29:13.798Z"
   },
   {
    "duration": 171,
    "start_time": "2025-03-22T17:29:14.631Z"
   },
   {
    "duration": 176,
    "start_time": "2025-03-22T17:29:14.968Z"
   },
   {
    "duration": 24,
    "start_time": "2025-03-22T17:29:15.956Z"
   },
   {
    "duration": 4,
    "start_time": "2025-03-22T17:29:16.105Z"
   },
   {
    "duration": 4,
    "start_time": "2025-03-22T17:29:16.286Z"
   },
   {
    "duration": 19,
    "start_time": "2025-03-22T17:29:16.983Z"
   },
   {
    "duration": 16,
    "start_time": "2025-03-22T17:29:17.118Z"
   },
   {
    "duration": 187,
    "start_time": "2025-03-22T17:29:17.308Z"
   },
   {
    "duration": 156,
    "start_time": "2025-03-22T17:29:17.631Z"
   },
   {
    "duration": 181,
    "start_time": "2025-03-22T17:29:17.799Z"
   },
   {
    "duration": 180,
    "start_time": "2025-03-22T17:29:17.982Z"
   },
   {
    "duration": 14,
    "start_time": "2025-03-22T17:29:18.954Z"
   },
   {
    "duration": 18,
    "start_time": "2025-03-22T17:29:19.102Z"
   },
   {
    "duration": 14,
    "start_time": "2025-03-22T17:29:19.635Z"
   },
   {
    "duration": 15,
    "start_time": "2025-03-22T17:29:19.795Z"
   },
   {
    "duration": 15,
    "start_time": "2025-03-22T17:29:19.956Z"
   },
   {
    "duration": 13,
    "start_time": "2025-03-22T17:29:20.419Z"
   },
   {
    "duration": 5,
    "start_time": "2025-03-22T17:29:25.034Z"
   },
   {
    "duration": 11,
    "start_time": "2025-03-22T17:35:43.352Z"
   },
   {
    "duration": 11,
    "start_time": "2025-03-22T17:35:46.163Z"
   },
   {
    "duration": 10,
    "start_time": "2025-03-22T17:43:10.654Z"
   },
   {
    "duration": 2,
    "start_time": "2025-03-23T14:45:12.904Z"
   },
   {
    "duration": 66,
    "start_time": "2025-03-23T14:45:12.908Z"
   },
   {
    "duration": 8,
    "start_time": "2025-03-23T14:45:12.976Z"
   },
   {
    "duration": 20,
    "start_time": "2025-03-23T14:45:12.985Z"
   },
   {
    "duration": 11,
    "start_time": "2025-03-23T14:45:13.007Z"
   },
   {
    "duration": 18,
    "start_time": "2025-03-23T14:45:13.020Z"
   },
   {
    "duration": 18,
    "start_time": "2025-03-23T14:45:13.040Z"
   },
   {
    "duration": 15,
    "start_time": "2025-03-23T14:45:13.060Z"
   },
   {
    "duration": 24,
    "start_time": "2025-03-23T14:45:13.077Z"
   },
   {
    "duration": 13,
    "start_time": "2025-03-23T14:45:13.103Z"
   },
   {
    "duration": 6,
    "start_time": "2025-03-23T14:45:13.118Z"
   },
   {
    "duration": 71,
    "start_time": "2025-03-23T14:45:13.126Z"
   },
   {
    "duration": 16,
    "start_time": "2025-03-23T14:45:13.199Z"
   },
   {
    "duration": 27,
    "start_time": "2025-03-23T14:45:13.217Z"
   },
   {
    "duration": 5,
    "start_time": "2025-03-23T14:45:13.246Z"
   },
   {
    "duration": 14,
    "start_time": "2025-03-23T14:45:13.253Z"
   },
   {
    "duration": 13,
    "start_time": "2025-03-23T14:45:13.268Z"
   },
   {
    "duration": 205,
    "start_time": "2025-03-23T14:45:13.282Z"
   },
   {
    "duration": 101,
    "start_time": "2025-03-23T14:45:13.489Z"
   },
   {
    "duration": 165,
    "start_time": "2025-03-23T14:45:13.591Z"
   },
   {
    "duration": 192,
    "start_time": "2025-03-23T14:45:13.757Z"
   },
   {
    "duration": 195,
    "start_time": "2025-03-23T14:45:13.950Z"
   },
   {
    "duration": 25,
    "start_time": "2025-03-23T14:45:14.147Z"
   },
   {
    "duration": 4,
    "start_time": "2025-03-23T14:45:14.173Z"
   },
   {
    "duration": 6,
    "start_time": "2025-03-23T14:45:14.178Z"
   },
   {
    "duration": 37,
    "start_time": "2025-03-23T14:45:14.185Z"
   },
   {
    "duration": 42,
    "start_time": "2025-03-23T14:45:14.223Z"
   },
   {
    "duration": 202,
    "start_time": "2025-03-23T14:45:14.266Z"
   },
   {
    "duration": 169,
    "start_time": "2025-03-23T14:45:14.470Z"
   },
   {
    "duration": 199,
    "start_time": "2025-03-23T14:45:14.641Z"
   },
   {
    "duration": 196,
    "start_time": "2025-03-23T14:45:14.842Z"
   },
   {
    "duration": 24,
    "start_time": "2025-03-23T14:45:15.040Z"
   },
   {
    "duration": 26,
    "start_time": "2025-03-23T14:45:15.065Z"
   },
   {
    "duration": 15,
    "start_time": "2025-03-23T14:45:15.092Z"
   },
   {
    "duration": 134,
    "start_time": "2025-03-23T14:45:15.108Z"
   },
   {
    "duration": 27,
    "start_time": "2025-03-23T14:45:15.243Z"
   },
   {
    "duration": 13,
    "start_time": "2025-03-23T14:45:15.271Z"
   },
   {
    "duration": 5,
    "start_time": "2025-03-23T14:45:15.289Z"
   },
   {
    "duration": 36,
    "start_time": "2025-03-23T14:45:15.296Z"
   },
   {
    "duration": 39,
    "start_time": "2025-03-23T14:45:15.334Z"
   },
   {
    "duration": 170,
    "start_time": "2025-03-23T14:45:15.375Z"
   },
   {
    "duration": 157,
    "start_time": "2025-03-23T14:45:15.547Z"
   },
   {
    "duration": 6,
    "start_time": "2025-03-23T14:45:15.706Z"
   },
   {
    "duration": 326,
    "start_time": "2025-03-23T14:45:15.713Z"
   }
  ],
  "kernelspec": {
   "display_name": "Python 3 (ipykernel)",
   "language": "python",
   "name": "python3"
  },
  "language_info": {
   "codemirror_mode": {
    "name": "ipython",
    "version": 3
   },
   "file_extension": ".py",
   "mimetype": "text/x-python",
   "name": "python",
   "nbconvert_exporter": "python",
   "pygments_lexer": "ipython3",
   "version": "3.9.5"
  },
  "toc": {
   "base_numbering": 1,
   "nav_menu": {},
   "number_sections": true,
   "sideBar": true,
   "skip_h1_title": true,
   "title_cell": "Table of Contents",
   "title_sidebar": "Contents",
   "toc_cell": false,
   "toc_position": {},
   "toc_section_display": true,
   "toc_window_display": false
  }
 },
 "nbformat": 4,
 "nbformat_minor": 5
}
