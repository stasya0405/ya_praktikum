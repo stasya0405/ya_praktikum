{
 "cells": [
  {
   "cell_type": "markdown",
   "metadata": {},
   "source": [
    "# Определение стоимости автомобилей"
   ]
  },
  {
   "cell_type": "markdown",
   "metadata": {},
   "source": [
    "Сервис по продаже автомобилей с пробегом «Не бит, не крашен» разрабатывает приложение для привлечения новых клиентов. В нём можно быстро узнать рыночную стоимость своего автомобиля. В вашем распоряжении исторические данные: технические характеристики, комплектации и цены автомобилей. Вам нужно построить модель для определения стоимости. \n",
    "\n",
    "Заказчику важны:\n",
    "\n",
    "- качество предсказания;\n",
    "- скорость предсказания;\n",
    "- время обучения."
   ]
  },
  {
   "cell_type": "markdown",
   "metadata": {},
   "source": [
    "## Подготовка данных"
   ]
  },
  {
   "cell_type": "code",
   "execution_count": 29,
   "metadata": {},
   "outputs": [],
   "source": [
    "import pandas as pd\n",
    "import numpy as np\n",
    "import seaborn as sns\n",
    "from sklearn.linear_model import LinearRegression\n",
    "import lightgbm as lgb\n",
    "import catboost as cb\n",
    "from sklearn.preprocessing import StandardScaler, OneHotEncoder\n",
    "from sklearn.model_selection import train_test_split, GridSearchCV, cross_val_score\n",
    "from sklearn.metrics import mean_squared_error\n",
    "from sklearn.ensemble import RandomForestRegressor\n",
    "from sklearn.model_selection import GridSearchCV\n",
    "import matplotlib.pyplot as plt\n",
    "from time import time"
   ]
  },
  {
   "cell_type": "code",
   "execution_count": 3,
   "metadata": {},
   "outputs": [],
   "source": [
    "data = pd.read_csv('/datasets/autos.csv')"
   ]
  },
  {
   "cell_type": "code",
   "execution_count": 4,
   "metadata": {},
   "outputs": [
    {
     "data": {
      "text/html": [
       "<div>\n",
       "<style scoped>\n",
       "    .dataframe tbody tr th:only-of-type {\n",
       "        vertical-align: middle;\n",
       "    }\n",
       "\n",
       "    .dataframe tbody tr th {\n",
       "        vertical-align: top;\n",
       "    }\n",
       "\n",
       "    .dataframe thead th {\n",
       "        text-align: right;\n",
       "    }\n",
       "</style>\n",
       "<table border=\"1\" class=\"dataframe\">\n",
       "  <thead>\n",
       "    <tr style=\"text-align: right;\">\n",
       "      <th></th>\n",
       "      <th>DateCrawled</th>\n",
       "      <th>Price</th>\n",
       "      <th>VehicleType</th>\n",
       "      <th>RegistrationYear</th>\n",
       "      <th>Gearbox</th>\n",
       "      <th>Power</th>\n",
       "      <th>Model</th>\n",
       "      <th>Kilometer</th>\n",
       "      <th>RegistrationMonth</th>\n",
       "      <th>FuelType</th>\n",
       "      <th>Brand</th>\n",
       "      <th>Repaired</th>\n",
       "      <th>DateCreated</th>\n",
       "      <th>NumberOfPictures</th>\n",
       "      <th>PostalCode</th>\n",
       "      <th>LastSeen</th>\n",
       "    </tr>\n",
       "  </thead>\n",
       "  <tbody>\n",
       "    <tr>\n",
       "      <th>0</th>\n",
       "      <td>2016-03-24 11:52:17</td>\n",
       "      <td>480</td>\n",
       "      <td>NaN</td>\n",
       "      <td>1993</td>\n",
       "      <td>manual</td>\n",
       "      <td>0</td>\n",
       "      <td>golf</td>\n",
       "      <td>150000</td>\n",
       "      <td>0</td>\n",
       "      <td>petrol</td>\n",
       "      <td>volkswagen</td>\n",
       "      <td>NaN</td>\n",
       "      <td>2016-03-24 00:00:00</td>\n",
       "      <td>0</td>\n",
       "      <td>70435</td>\n",
       "      <td>2016-04-07 03:16:57</td>\n",
       "    </tr>\n",
       "    <tr>\n",
       "      <th>1</th>\n",
       "      <td>2016-03-24 10:58:45</td>\n",
       "      <td>18300</td>\n",
       "      <td>coupe</td>\n",
       "      <td>2011</td>\n",
       "      <td>manual</td>\n",
       "      <td>190</td>\n",
       "      <td>NaN</td>\n",
       "      <td>125000</td>\n",
       "      <td>5</td>\n",
       "      <td>gasoline</td>\n",
       "      <td>audi</td>\n",
       "      <td>yes</td>\n",
       "      <td>2016-03-24 00:00:00</td>\n",
       "      <td>0</td>\n",
       "      <td>66954</td>\n",
       "      <td>2016-04-07 01:46:50</td>\n",
       "    </tr>\n",
       "    <tr>\n",
       "      <th>2</th>\n",
       "      <td>2016-03-14 12:52:21</td>\n",
       "      <td>9800</td>\n",
       "      <td>suv</td>\n",
       "      <td>2004</td>\n",
       "      <td>auto</td>\n",
       "      <td>163</td>\n",
       "      <td>grand</td>\n",
       "      <td>125000</td>\n",
       "      <td>8</td>\n",
       "      <td>gasoline</td>\n",
       "      <td>jeep</td>\n",
       "      <td>NaN</td>\n",
       "      <td>2016-03-14 00:00:00</td>\n",
       "      <td>0</td>\n",
       "      <td>90480</td>\n",
       "      <td>2016-04-05 12:47:46</td>\n",
       "    </tr>\n",
       "    <tr>\n",
       "      <th>3</th>\n",
       "      <td>2016-03-17 16:54:04</td>\n",
       "      <td>1500</td>\n",
       "      <td>small</td>\n",
       "      <td>2001</td>\n",
       "      <td>manual</td>\n",
       "      <td>75</td>\n",
       "      <td>golf</td>\n",
       "      <td>150000</td>\n",
       "      <td>6</td>\n",
       "      <td>petrol</td>\n",
       "      <td>volkswagen</td>\n",
       "      <td>no</td>\n",
       "      <td>2016-03-17 00:00:00</td>\n",
       "      <td>0</td>\n",
       "      <td>91074</td>\n",
       "      <td>2016-03-17 17:40:17</td>\n",
       "    </tr>\n",
       "    <tr>\n",
       "      <th>4</th>\n",
       "      <td>2016-03-31 17:25:20</td>\n",
       "      <td>3600</td>\n",
       "      <td>small</td>\n",
       "      <td>2008</td>\n",
       "      <td>manual</td>\n",
       "      <td>69</td>\n",
       "      <td>fabia</td>\n",
       "      <td>90000</td>\n",
       "      <td>7</td>\n",
       "      <td>gasoline</td>\n",
       "      <td>skoda</td>\n",
       "      <td>no</td>\n",
       "      <td>2016-03-31 00:00:00</td>\n",
       "      <td>0</td>\n",
       "      <td>60437</td>\n",
       "      <td>2016-04-06 10:17:21</td>\n",
       "    </tr>\n",
       "  </tbody>\n",
       "</table>\n",
       "</div>"
      ],
      "text/plain": [
       "           DateCrawled  Price VehicleType  RegistrationYear Gearbox  Power  \\\n",
       "0  2016-03-24 11:52:17    480         NaN              1993  manual      0   \n",
       "1  2016-03-24 10:58:45  18300       coupe              2011  manual    190   \n",
       "2  2016-03-14 12:52:21   9800         suv              2004    auto    163   \n",
       "3  2016-03-17 16:54:04   1500       small              2001  manual     75   \n",
       "4  2016-03-31 17:25:20   3600       small              2008  manual     69   \n",
       "\n",
       "   Model  Kilometer  RegistrationMonth  FuelType       Brand Repaired  \\\n",
       "0   golf     150000                  0    petrol  volkswagen      NaN   \n",
       "1    NaN     125000                  5  gasoline        audi      yes   \n",
       "2  grand     125000                  8  gasoline        jeep      NaN   \n",
       "3   golf     150000                  6    petrol  volkswagen       no   \n",
       "4  fabia      90000                  7  gasoline       skoda       no   \n",
       "\n",
       "           DateCreated  NumberOfPictures  PostalCode             LastSeen  \n",
       "0  2016-03-24 00:00:00                 0       70435  2016-04-07 03:16:57  \n",
       "1  2016-03-24 00:00:00                 0       66954  2016-04-07 01:46:50  \n",
       "2  2016-03-14 00:00:00                 0       90480  2016-04-05 12:47:46  \n",
       "3  2016-03-17 00:00:00                 0       91074  2016-03-17 17:40:17  \n",
       "4  2016-03-31 00:00:00                 0       60437  2016-04-06 10:17:21  "
      ]
     },
     "execution_count": 4,
     "metadata": {},
     "output_type": "execute_result"
    }
   ],
   "source": [
    "data.head()"
   ]
  },
  {
   "cell_type": "code",
   "execution_count": 5,
   "metadata": {},
   "outputs": [
    {
     "name": "stdout",
     "output_type": "stream",
     "text": [
      "<class 'pandas.core.frame.DataFrame'>\n",
      "RangeIndex: 354369 entries, 0 to 354368\n",
      "Data columns (total 16 columns):\n",
      " #   Column             Non-Null Count   Dtype \n",
      "---  ------             --------------   ----- \n",
      " 0   DateCrawled        354369 non-null  object\n",
      " 1   Price              354369 non-null  int64 \n",
      " 2   VehicleType        316879 non-null  object\n",
      " 3   RegistrationYear   354369 non-null  int64 \n",
      " 4   Gearbox            334536 non-null  object\n",
      " 5   Power              354369 non-null  int64 \n",
      " 6   Model              334664 non-null  object\n",
      " 7   Kilometer          354369 non-null  int64 \n",
      " 8   RegistrationMonth  354369 non-null  int64 \n",
      " 9   FuelType           321474 non-null  object\n",
      " 10  Brand              354369 non-null  object\n",
      " 11  Repaired           283215 non-null  object\n",
      " 12  DateCreated        354369 non-null  object\n",
      " 13  NumberOfPictures   354369 non-null  int64 \n",
      " 14  PostalCode         354369 non-null  int64 \n",
      " 15  LastSeen           354369 non-null  object\n",
      "dtypes: int64(7), object(9)\n",
      "memory usage: 43.3+ MB\n"
     ]
    }
   ],
   "source": [
    "data.info()"
   ]
  },
  {
   "cell_type": "markdown",
   "metadata": {},
   "source": [
    "в некоторых признаках встречаются пропуски, обработаем их, где возможно"
   ]
  },
  {
   "cell_type": "markdown",
   "metadata": {},
   "source": [
    "Такие признаки, как DateCrawled, DateCreated, LastSeen, NumberOfPictures и PostalCode не влияют на стои мость автомобиля, можем их удалить. "
   ]
  },
  {
   "cell_type": "code",
   "execution_count": 6,
   "metadata": {},
   "outputs": [
    {
     "data": {
      "text/html": [
       "<div>\n",
       "<style scoped>\n",
       "    .dataframe tbody tr th:only-of-type {\n",
       "        vertical-align: middle;\n",
       "    }\n",
       "\n",
       "    .dataframe tbody tr th {\n",
       "        vertical-align: top;\n",
       "    }\n",
       "\n",
       "    .dataframe thead th {\n",
       "        text-align: right;\n",
       "    }\n",
       "</style>\n",
       "<table border=\"1\" class=\"dataframe\">\n",
       "  <thead>\n",
       "    <tr style=\"text-align: right;\">\n",
       "      <th></th>\n",
       "      <th>Price</th>\n",
       "      <th>VehicleType</th>\n",
       "      <th>RegistrationYear</th>\n",
       "      <th>Gearbox</th>\n",
       "      <th>Power</th>\n",
       "      <th>Model</th>\n",
       "      <th>Kilometer</th>\n",
       "      <th>RegistrationMonth</th>\n",
       "      <th>FuelType</th>\n",
       "      <th>Brand</th>\n",
       "      <th>Repaired</th>\n",
       "    </tr>\n",
       "  </thead>\n",
       "  <tbody>\n",
       "    <tr>\n",
       "      <th>0</th>\n",
       "      <td>480</td>\n",
       "      <td>NaN</td>\n",
       "      <td>1993</td>\n",
       "      <td>manual</td>\n",
       "      <td>0</td>\n",
       "      <td>golf</td>\n",
       "      <td>150000</td>\n",
       "      <td>0</td>\n",
       "      <td>petrol</td>\n",
       "      <td>volkswagen</td>\n",
       "      <td>NaN</td>\n",
       "    </tr>\n",
       "    <tr>\n",
       "      <th>1</th>\n",
       "      <td>18300</td>\n",
       "      <td>coupe</td>\n",
       "      <td>2011</td>\n",
       "      <td>manual</td>\n",
       "      <td>190</td>\n",
       "      <td>NaN</td>\n",
       "      <td>125000</td>\n",
       "      <td>5</td>\n",
       "      <td>gasoline</td>\n",
       "      <td>audi</td>\n",
       "      <td>yes</td>\n",
       "    </tr>\n",
       "    <tr>\n",
       "      <th>2</th>\n",
       "      <td>9800</td>\n",
       "      <td>suv</td>\n",
       "      <td>2004</td>\n",
       "      <td>auto</td>\n",
       "      <td>163</td>\n",
       "      <td>grand</td>\n",
       "      <td>125000</td>\n",
       "      <td>8</td>\n",
       "      <td>gasoline</td>\n",
       "      <td>jeep</td>\n",
       "      <td>NaN</td>\n",
       "    </tr>\n",
       "    <tr>\n",
       "      <th>3</th>\n",
       "      <td>1500</td>\n",
       "      <td>small</td>\n",
       "      <td>2001</td>\n",
       "      <td>manual</td>\n",
       "      <td>75</td>\n",
       "      <td>golf</td>\n",
       "      <td>150000</td>\n",
       "      <td>6</td>\n",
       "      <td>petrol</td>\n",
       "      <td>volkswagen</td>\n",
       "      <td>no</td>\n",
       "    </tr>\n",
       "    <tr>\n",
       "      <th>4</th>\n",
       "      <td>3600</td>\n",
       "      <td>small</td>\n",
       "      <td>2008</td>\n",
       "      <td>manual</td>\n",
       "      <td>69</td>\n",
       "      <td>fabia</td>\n",
       "      <td>90000</td>\n",
       "      <td>7</td>\n",
       "      <td>gasoline</td>\n",
       "      <td>skoda</td>\n",
       "      <td>no</td>\n",
       "    </tr>\n",
       "  </tbody>\n",
       "</table>\n",
       "</div>"
      ],
      "text/plain": [
       "   Price VehicleType  RegistrationYear Gearbox  Power  Model  Kilometer  \\\n",
       "0    480         NaN              1993  manual      0   golf     150000   \n",
       "1  18300       coupe              2011  manual    190    NaN     125000   \n",
       "2   9800         suv              2004    auto    163  grand     125000   \n",
       "3   1500       small              2001  manual     75   golf     150000   \n",
       "4   3600       small              2008  manual     69  fabia      90000   \n",
       "\n",
       "   RegistrationMonth  FuelType       Brand Repaired  \n",
       "0                  0    petrol  volkswagen      NaN  \n",
       "1                  5  gasoline        audi      yes  \n",
       "2                  8  gasoline        jeep      NaN  \n",
       "3                  6    petrol  volkswagen       no  \n",
       "4                  7  gasoline       skoda       no  "
      ]
     },
     "execution_count": 6,
     "metadata": {},
     "output_type": "execute_result"
    }
   ],
   "source": [
    "data = data.drop([\"DateCrawled\",\"DateCreated\",\"LastSeen\",\"NumberOfPictures\",\"PostalCode\"],axis = 1)\n",
    "data.head()"
   ]
  },
  {
   "cell_type": "markdown",
   "metadata": {},
   "source": [
    "проверим полные дубликаты, так как признаков стало меньше "
   ]
  },
  {
   "cell_type": "code",
   "execution_count": 7,
   "metadata": {},
   "outputs": [
    {
     "data": {
      "text/plain": [
       "27543"
      ]
     },
     "execution_count": 7,
     "metadata": {},
     "output_type": "execute_result"
    }
   ],
   "source": [
    "data.duplicated().sum()"
   ]
  },
  {
   "cell_type": "markdown",
   "metadata": {},
   "source": [
    "полные дублдикаты ценности для модели не ненсут, удалим их"
   ]
  },
  {
   "cell_type": "code",
   "execution_count": 8,
   "metadata": {},
   "outputs": [
    {
     "data": {
      "text/plain": [
       "0"
      ]
     },
     "execution_count": 8,
     "metadata": {},
     "output_type": "execute_result"
    }
   ],
   "source": [
    "data = data.drop_duplicates(keep='first')\n",
    "data.duplicated().sum()"
   ]
  },
  {
   "cell_type": "markdown",
   "metadata": {},
   "source": [
    "Проверим наличие дубликатов в столбцах с категориальными значениями, поскольку чяисла могут повторяться"
   ]
  },
  {
   "cell_type": "code",
   "execution_count": 9,
   "metadata": {
    "scrolled": true
   },
   "outputs": [
    {
     "name": "stdout",
     "output_type": "stream",
     "text": [
      "VehicleType [nan 'coupe' 'suv' 'small' 'sedan' 'convertible' 'bus' 'wagon' 'other']\n",
      "Gearbox ['manual' 'auto' nan]\n",
      "Model ['golf' nan 'grand' 'fabia' '3er' '2_reihe' 'other' 'c_max' '3_reihe'\n",
      " 'passat' 'navara' 'ka' 'polo' 'twingo' 'a_klasse' 'scirocco' '5er'\n",
      " 'meriva' 'arosa' 'c4' 'civic' 'transporter' 'punto' 'e_klasse' 'clio'\n",
      " 'kadett' 'kangoo' 'corsa' 'one' 'fortwo' '1er' 'b_klasse' 'signum'\n",
      " 'astra' 'a8' 'jetta' 'fiesta' 'c_klasse' 'micra' 'vito' 'sprinter' '156'\n",
      " 'escort' 'forester' 'xc_reihe' 'scenic' 'a4' 'a1' 'insignia' 'combo'\n",
      " 'focus' 'tt' 'a6' 'jazz' 'omega' 'slk' '7er' '80' '147' '100' 'z_reihe'\n",
      " 'sportage' 'sorento' 'v40' 'ibiza' 'mustang' 'eos' 'touran' 'getz' 'a3'\n",
      " 'almera' 'megane' 'lupo' 'r19' 'zafira' 'caddy' 'mondeo' 'cordoba' 'colt'\n",
      " 'impreza' 'vectra' 'berlingo' 'tiguan' 'i_reihe' 'espace' 'sharan'\n",
      " '6_reihe' 'panda' 'up' 'seicento' 'ceed' '5_reihe' 'yeti' 'octavia' 'mii'\n",
      " 'rx_reihe' '6er' 'modus' 'fox' 'matiz' 'beetle' 'c1' 'rio' 'touareg'\n",
      " 'logan' 'spider' 'cuore' 's_max' 'a2' 'galaxy' 'c3' 'viano' 's_klasse'\n",
      " '1_reihe' 'avensis' 'roomster' 'sl' 'kaefer' 'santa' 'cooper' 'leon'\n",
      " '4_reihe' 'a5' '500' 'laguna' 'ptcruiser' 'clk' 'primera' 'x_reihe'\n",
      " 'exeo' '159' 'transit' 'juke' 'qashqai' 'carisma' 'accord' 'corolla'\n",
      " 'lanos' 'phaeton' 'verso' 'swift' 'rav' 'picanto' 'boxster' 'kalos'\n",
      " 'superb' 'stilo' 'alhambra' 'mx_reihe' 'roadster' 'ypsilon' 'cayenne'\n",
      " 'galant' 'justy' '90' 'sirion' 'crossfire' 'agila' 'duster' 'cr_reihe'\n",
      " 'v50' 'c_reihe' 'v_klasse' 'm_klasse' 'yaris' 'c5' 'aygo' 'cc' 'carnival'\n",
      " 'fusion' '911' 'bora' 'forfour' 'm_reihe' 'cl' 'tigra' '300c' 'spark'\n",
      " 'v70' 'kuga' 'x_type' 'ducato' 's_type' 'x_trail' 'toledo' 'altea'\n",
      " 'voyager' 'calibra' 'bravo' 'antara' 'tucson' 'citigo' 'jimny' 'wrangler'\n",
      " 'lybra' 'q7' 'lancer' 'captiva' 'c2' 'discovery' 'freelander' 'sandero'\n",
      " 'note' '900' 'cherokee' 'clubman' 'samara' 'defender' '601' 'cx_reihe'\n",
      " 'legacy' 'pajero' 'auris' 'niva' 's60' 'nubira' 'vivaro' 'g_klasse'\n",
      " 'lodgy' '850' 'range_rover' 'q3' 'serie_2' 'glk' 'charade' 'croma'\n",
      " 'outlander' 'doblo' 'musa' 'move' '9000' 'v60' '145' 'aveo' '200' 'b_max'\n",
      " 'range_rover_sport' 'terios' 'rangerover' 'q5' 'range_rover_evoque'\n",
      " 'materia' 'delta' 'gl' 'kalina' 'amarok' 'elefantino' 'i3' 'kappa'\n",
      " 'serie_3' 'serie_1']\n",
      "FuelType ['petrol' 'gasoline' nan 'lpg' 'other' 'hybrid' 'cng' 'electric']\n",
      "Brand ['volkswagen' 'audi' 'jeep' 'skoda' 'bmw' 'peugeot' 'ford' 'mazda'\n",
      " 'nissan' 'renault' 'mercedes_benz' 'opel' 'seat' 'citroen' 'honda' 'fiat'\n",
      " 'mini' 'smart' 'hyundai' 'sonstige_autos' 'alfa_romeo' 'subaru' 'volvo'\n",
      " 'mitsubishi' 'kia' 'suzuki' 'lancia' 'toyota' 'chevrolet' 'dacia'\n",
      " 'daihatsu' 'trabant' 'saab' 'chrysler' 'jaguar' 'daewoo' 'porsche'\n",
      " 'rover' 'land_rover' 'lada']\n",
      "Repaired [nan 'yes' 'no']\n"
     ]
    }
   ],
   "source": [
    "objects = [\"VehicleType\",\"Gearbox\",\"Model\",\"FuelType\",\"Brand\", \"Repaired\"]\n",
    "for column in objects:\n",
    "    print(column, data[column].unique())"
   ]
  },
  {
   "cell_type": "code",
   "execution_count": 10,
   "metadata": {
    "scrolled": true
   },
   "outputs": [
    {
     "name": "stdout",
     "output_type": "stream",
     "text": [
      "VehicleType 0\n",
      "Gearbox 0\n",
      "Model 0\n",
      "FuelType 0\n",
      "Brand 0\n",
      "Repaired 0\n"
     ]
    }
   ],
   "source": [
    "objects = [\"VehicleType\",\"Gearbox\",\"Model\",\"FuelType\",\"Brand\", \"Repaired\"]\n",
    "for column in objects:\n",
    "    print(column, pd.Series(data[column].unique()).duplicated().sum())"
   ]
  },
  {
   "cell_type": "markdown",
   "metadata": {},
   "source": [
    "дубликатов нет, но в столбце Repaired встречаются пропуски, возможно, этот признак не заполняли те, кто не делали ремонт"
   ]
  },
  {
   "cell_type": "code",
   "execution_count": 11,
   "metadata": {},
   "outputs": [
    {
     "data": {
      "text/plain": [
       "array(['no', 'yes'], dtype=object)"
      ]
     },
     "execution_count": 11,
     "metadata": {},
     "output_type": "execute_result"
    }
   ],
   "source": [
    "data[\"Repaired\"] = data[\"Repaired\"].fillna(\"no\")\n",
    "data[\"Repaired\"].unique()"
   ]
  },
  {
   "cell_type": "markdown",
   "metadata": {},
   "source": [
    "в других признаках пропуски оставим, так как их много и заполнение ил удаление может сильно исказить данные"
   ]
  },
  {
   "cell_type": "code",
   "execution_count": 12,
   "metadata": {},
   "outputs": [
    {
     "data": {
      "text/html": [
       "<div>\n",
       "<style scoped>\n",
       "    .dataframe tbody tr th:only-of-type {\n",
       "        vertical-align: middle;\n",
       "    }\n",
       "\n",
       "    .dataframe tbody tr th {\n",
       "        vertical-align: top;\n",
       "    }\n",
       "\n",
       "    .dataframe thead th {\n",
       "        text-align: right;\n",
       "    }\n",
       "</style>\n",
       "<table border=\"1\" class=\"dataframe\">\n",
       "  <thead>\n",
       "    <tr style=\"text-align: right;\">\n",
       "      <th></th>\n",
       "      <th>Price</th>\n",
       "      <th>RegistrationYear</th>\n",
       "      <th>Power</th>\n",
       "      <th>Kilometer</th>\n",
       "      <th>RegistrationMonth</th>\n",
       "    </tr>\n",
       "  </thead>\n",
       "  <tbody>\n",
       "    <tr>\n",
       "      <th>count</th>\n",
       "      <td>326826.000000</td>\n",
       "      <td>326826.000000</td>\n",
       "      <td>326826.000000</td>\n",
       "      <td>326826.000000</td>\n",
       "      <td>326826.000000</td>\n",
       "    </tr>\n",
       "    <tr>\n",
       "      <th>mean</th>\n",
       "      <td>4403.747330</td>\n",
       "      <td>2004.230985</td>\n",
       "      <td>110.244705</td>\n",
       "      <td>128144.073605</td>\n",
       "      <td>5.696239</td>\n",
       "    </tr>\n",
       "    <tr>\n",
       "      <th>std</th>\n",
       "      <td>4518.209808</td>\n",
       "      <td>91.120018</td>\n",
       "      <td>195.886373</td>\n",
       "      <td>37947.663920</td>\n",
       "      <td>3.724122</td>\n",
       "    </tr>\n",
       "    <tr>\n",
       "      <th>min</th>\n",
       "      <td>0.000000</td>\n",
       "      <td>1000.000000</td>\n",
       "      <td>0.000000</td>\n",
       "      <td>5000.000000</td>\n",
       "      <td>0.000000</td>\n",
       "    </tr>\n",
       "    <tr>\n",
       "      <th>25%</th>\n",
       "      <td>1000.000000</td>\n",
       "      <td>1999.000000</td>\n",
       "      <td>69.000000</td>\n",
       "      <td>125000.000000</td>\n",
       "      <td>3.000000</td>\n",
       "    </tr>\n",
       "    <tr>\n",
       "      <th>50%</th>\n",
       "      <td>2700.000000</td>\n",
       "      <td>2003.000000</td>\n",
       "      <td>105.000000</td>\n",
       "      <td>150000.000000</td>\n",
       "      <td>6.000000</td>\n",
       "    </tr>\n",
       "    <tr>\n",
       "      <th>75%</th>\n",
       "      <td>6350.000000</td>\n",
       "      <td>2008.000000</td>\n",
       "      <td>141.000000</td>\n",
       "      <td>150000.000000</td>\n",
       "      <td>9.000000</td>\n",
       "    </tr>\n",
       "    <tr>\n",
       "      <th>max</th>\n",
       "      <td>20000.000000</td>\n",
       "      <td>9999.000000</td>\n",
       "      <td>20000.000000</td>\n",
       "      <td>150000.000000</td>\n",
       "      <td>12.000000</td>\n",
       "    </tr>\n",
       "  </tbody>\n",
       "</table>\n",
       "</div>"
      ],
      "text/plain": [
       "               Price  RegistrationYear          Power      Kilometer  \\\n",
       "count  326826.000000     326826.000000  326826.000000  326826.000000   \n",
       "mean     4403.747330       2004.230985     110.244705  128144.073605   \n",
       "std      4518.209808         91.120018     195.886373   37947.663920   \n",
       "min         0.000000       1000.000000       0.000000    5000.000000   \n",
       "25%      1000.000000       1999.000000      69.000000  125000.000000   \n",
       "50%      2700.000000       2003.000000     105.000000  150000.000000   \n",
       "75%      6350.000000       2008.000000     141.000000  150000.000000   \n",
       "max     20000.000000       9999.000000   20000.000000  150000.000000   \n",
       "\n",
       "       RegistrationMonth  \n",
       "count      326826.000000  \n",
       "mean            5.696239  \n",
       "std             3.724122  \n",
       "min             0.000000  \n",
       "25%             3.000000  \n",
       "50%             6.000000  \n",
       "75%             9.000000  \n",
       "max            12.000000  "
      ]
     },
     "execution_count": 12,
     "metadata": {},
     "output_type": "execute_result"
    }
   ],
   "source": [
    "data.describe()"
   ]
  },
  {
   "cell_type": "markdown",
   "metadata": {},
   "source": [
    "В RegistrationYear есть явные аномальные значения, года из будущего и года, когда не было интернета, в RegistrationMonthRegistrationMonth встречается 0, хотя такого месяца нет"
   ]
  },
  {
   "cell_type": "code",
   "execution_count": 13,
   "metadata": {},
   "outputs": [
    {
     "data": {
      "text/html": [
       "<div>\n",
       "<style scoped>\n",
       "    .dataframe tbody tr th:only-of-type {\n",
       "        vertical-align: middle;\n",
       "    }\n",
       "\n",
       "    .dataframe tbody tr th {\n",
       "        vertical-align: top;\n",
       "    }\n",
       "\n",
       "    .dataframe thead th {\n",
       "        text-align: right;\n",
       "    }\n",
       "</style>\n",
       "<table border=\"1\" class=\"dataframe\">\n",
       "  <thead>\n",
       "    <tr style=\"text-align: right;\">\n",
       "      <th></th>\n",
       "      <th>Price</th>\n",
       "      <th>RegistrationYear</th>\n",
       "      <th>Power</th>\n",
       "      <th>Kilometer</th>\n",
       "      <th>RegistrationMonth</th>\n",
       "    </tr>\n",
       "  </thead>\n",
       "  <tbody>\n",
       "    <tr>\n",
       "      <th>count</th>\n",
       "      <td>280769.000000</td>\n",
       "      <td>280769.000000</td>\n",
       "      <td>280769.000000</td>\n",
       "      <td>280769.000000</td>\n",
       "      <td>280769.000000</td>\n",
       "    </tr>\n",
       "    <tr>\n",
       "      <th>mean</th>\n",
       "      <td>4730.248945</td>\n",
       "      <td>2002.873344</td>\n",
       "      <td>115.653847</td>\n",
       "      <td>128193.532762</td>\n",
       "      <td>6.377688</td>\n",
       "    </tr>\n",
       "    <tr>\n",
       "      <th>std</th>\n",
       "      <td>4608.899209</td>\n",
       "      <td>6.315810</td>\n",
       "      <td>185.209922</td>\n",
       "      <td>36986.897406</td>\n",
       "      <td>3.347357</td>\n",
       "    </tr>\n",
       "    <tr>\n",
       "      <th>min</th>\n",
       "      <td>0.000000</td>\n",
       "      <td>1970.000000</td>\n",
       "      <td>0.000000</td>\n",
       "      <td>5000.000000</td>\n",
       "      <td>1.000000</td>\n",
       "    </tr>\n",
       "    <tr>\n",
       "      <th>25%</th>\n",
       "      <td>1250.000000</td>\n",
       "      <td>1999.000000</td>\n",
       "      <td>75.000000</td>\n",
       "      <td>125000.000000</td>\n",
       "      <td>4.000000</td>\n",
       "    </tr>\n",
       "    <tr>\n",
       "      <th>50%</th>\n",
       "      <td>3000.000000</td>\n",
       "      <td>2003.000000</td>\n",
       "      <td>107.000000</td>\n",
       "      <td>150000.000000</td>\n",
       "      <td>6.000000</td>\n",
       "    </tr>\n",
       "    <tr>\n",
       "      <th>75%</th>\n",
       "      <td>6900.000000</td>\n",
       "      <td>2007.000000</td>\n",
       "      <td>143.000000</td>\n",
       "      <td>150000.000000</td>\n",
       "      <td>9.000000</td>\n",
       "    </tr>\n",
       "    <tr>\n",
       "      <th>max</th>\n",
       "      <td>20000.000000</td>\n",
       "      <td>2016.000000</td>\n",
       "      <td>20000.000000</td>\n",
       "      <td>150000.000000</td>\n",
       "      <td>12.000000</td>\n",
       "    </tr>\n",
       "  </tbody>\n",
       "</table>\n",
       "</div>"
      ],
      "text/plain": [
       "               Price  RegistrationYear          Power      Kilometer  \\\n",
       "count  280769.000000     280769.000000  280769.000000  280769.000000   \n",
       "mean     4730.248945       2002.873344     115.653847  128193.532762   \n",
       "std      4608.899209          6.315810     185.209922   36986.897406   \n",
       "min         0.000000       1970.000000       0.000000    5000.000000   \n",
       "25%      1250.000000       1999.000000      75.000000  125000.000000   \n",
       "50%      3000.000000       2003.000000     107.000000  150000.000000   \n",
       "75%      6900.000000       2007.000000     143.000000  150000.000000   \n",
       "max     20000.000000       2016.000000   20000.000000  150000.000000   \n",
       "\n",
       "       RegistrationMonth  \n",
       "count      280769.000000  \n",
       "mean            6.377688  \n",
       "std             3.347357  \n",
       "min             1.000000  \n",
       "25%             4.000000  \n",
       "50%             6.000000  \n",
       "75%             9.000000  \n",
       "max            12.000000  "
      ]
     },
     "execution_count": 13,
     "metadata": {},
     "output_type": "execute_result"
    }
   ],
   "source": [
    "data = data[(data['RegistrationYear'] > 1969) & (data['RegistrationYear'] <= 2016) & (data['RegistrationMonth'] > 0)]\n",
    "data.describe()"
   ]
  },
  {
   "cell_type": "code",
   "execution_count": 14,
   "metadata": {},
   "outputs": [
    {
     "data": {
      "image/png": "[encoded data removed]",
      "text/plain": [
       "<Figure size 1080x720 with 5 Axes>"
      ]
     },
     "metadata": {
      "needs_background": "light"
     },
     "output_type": "display_data"
    },
    {
     "data": {
      "image/png": "[encoded data removed]",
      "text/plain": [
       "<Figure size 1080x720 with 5 Axes>"
      ]
     },
     "metadata": {
      "needs_background": "light"
     },
     "output_type": "display_data"
    }
   ],
   "source": [
    "plt.figure(figsize=(15, 10))\n",
    "for i, column in enumerate(['Price', 'RegistrationYear', 'Power', 'Kilometer', 'RegistrationMonth'], 1):\n",
    "    plt.subplot(3, 2, i)\n",
    "    sns.histplot(data[column], bins=30, kde=True) \n",
    "    plt.title(f'значение {column}')\n",
    "    plt.xlabel(column)\n",
    "    plt.ylabel('количество значений')\n",
    "plt.tight_layout()\n",
    "plt.show()\n",
    "\n",
    "plt.figure(figsize=(15, 10))\n",
    "for i, column in enumerate(['Price', 'RegistrationYear', 'Power', 'Kilometer', 'RegistrationMonth'], 1):\n",
    "    plt.subplot(3, 2, i)\n",
    "    sns.boxplot(y=data[column])\n",
    "    plt.title(f'Boxplot of {column}')\n",
    "    plt.ylabel(column)\n",
    "plt.tight_layout()\n",
    "plt.show()"
   ]
  },
  {
   "cell_type": "markdown",
   "metadata": {},
   "source": [
    "почти во всех признаках имеются выбросы, оджнако такие могут встретиться и в реальности. Убавим количество выбросов в power, значения довольно аномальные для признака, и выбросов слишком много. Ограничимся 1000 лошадиными силами, более мощные машины сложно встретить в интернет магазинах. Так как сервис все таки по продаже машин, цена должна быть больше нуля. "
   ]
  },
  {
   "cell_type": "markdown",
   "metadata": {},
   "source": [
    "0 л.с.: Это аномалия. Автомобили с нулевой мощностью не существуют, так как это физически невозможно для транспортных средств. Это, скорее всего, ошибка ввода данных или пропуски, обозначенные нулём.\n",
    "    \n",
    "1–2 л.с.: Теоретически, существуют транспортные средства с очень низкой мощностью (например, мопеды, электроскутеры), но для автомобилей, продаваемых по объявлениям, 1–2 л.с. крайне маловероятны. Типичные легковые автомобили имеют мощность от 50 л.с. и выше.\n",
    "    \n",
    "20–40 л.с.: Такие значения возможны для старых или малолитражных автомобилей (например, Fiat Panda, Citroën 2CV), но они редки в современных объявлениях. В датасете такие значения находятся в нижнем квартиле и могут быть реальными.\n",
    "    \n",
    "Вывод: Значения 0 л.с. и 1–2 л.с. являются аномалиями и подлежат удалению или замене. Значения 20–40 л.с. могут быть допустимы, но нужно установить разумный минимальный порог (возьмем 30 л.с.) на основе контекста автомобильного рынка."
   ]
  },
  {
   "cell_type": "markdown",
   "metadata": {},
   "source": [
    "Цены 1, 2, 50, 100 евро:\n",
    "\n",
    "Такие низкие цены маловероятны для автомобилей в реальных объявлениях. \n",
    "\n",
    "    1–2 евро: Это нереалистично, так как даже старые автомобили в плохом состоянии обычно стоят не менее нескольких сотен евро.\n",
    "\n",
    "    50–100 евро: Это может быть возможно для автомобилей на запчасти или в очень плохом состоянии, но такие случаи \n",
    "    Установим минимальный порог для Price 200 евро, чтобы исключить аномально низкие цены, которые не отражают рыночные реалии. "
   ]
  },
  {
   "cell_type": "code",
   "execution_count": 15,
   "metadata": {},
   "outputs": [
    {
     "data": {
      "text/plain": [
       "count    280769.000000\n",
       "mean        115.653847\n",
       "std         185.209922\n",
       "min           0.000000\n",
       "25%          75.000000\n",
       "50%         107.000000\n",
       "75%         143.000000\n",
       "max       20000.000000\n",
       "Name: Power, dtype: float64"
      ]
     },
     "execution_count": 15,
     "metadata": {},
     "output_type": "execute_result"
    }
   ],
   "source": [
    "data['Power'].describe()"
   ]
  },
  {
   "cell_type": "code",
   "execution_count": 16,
   "metadata": {},
   "outputs": [
    {
     "data": {
      "text/html": [
       "<div>\n",
       "<style scoped>\n",
       "    .dataframe tbody tr th:only-of-type {\n",
       "        vertical-align: middle;\n",
       "    }\n",
       "\n",
       "    .dataframe tbody tr th {\n",
       "        vertical-align: top;\n",
       "    }\n",
       "\n",
       "    .dataframe thead th {\n",
       "        text-align: right;\n",
       "    }\n",
       "</style>\n",
       "<table border=\"1\" class=\"dataframe\">\n",
       "  <thead>\n",
       "    <tr style=\"text-align: right;\">\n",
       "      <th></th>\n",
       "      <th>Price</th>\n",
       "      <th>RegistrationYear</th>\n",
       "      <th>Power</th>\n",
       "      <th>Kilometer</th>\n",
       "      <th>RegistrationMonth</th>\n",
       "    </tr>\n",
       "  </thead>\n",
       "  <tbody>\n",
       "    <tr>\n",
       "      <th>count</th>\n",
       "      <td>251282.000000</td>\n",
       "      <td>251282.000000</td>\n",
       "      <td>251282.000000</td>\n",
       "      <td>251282.000000</td>\n",
       "      <td>251282.000000</td>\n",
       "    </tr>\n",
       "    <tr>\n",
       "      <th>mean</th>\n",
       "      <td>5062.082744</td>\n",
       "      <td>2003.132887</td>\n",
       "      <td>122.160553</td>\n",
       "      <td>127923.150086</td>\n",
       "      <td>6.380827</td>\n",
       "    </tr>\n",
       "    <tr>\n",
       "      <th>std</th>\n",
       "      <td>4648.744483</td>\n",
       "      <td>6.115241</td>\n",
       "      <td>54.409268</td>\n",
       "      <td>36675.165285</td>\n",
       "      <td>3.345613</td>\n",
       "    </tr>\n",
       "    <tr>\n",
       "      <th>min</th>\n",
       "      <td>202.000000</td>\n",
       "      <td>1970.000000</td>\n",
       "      <td>30.000000</td>\n",
       "      <td>5000.000000</td>\n",
       "      <td>1.000000</td>\n",
       "    </tr>\n",
       "    <tr>\n",
       "      <th>25%</th>\n",
       "      <td>1499.000000</td>\n",
       "      <td>1999.000000</td>\n",
       "      <td>80.000000</td>\n",
       "      <td>125000.000000</td>\n",
       "      <td>4.000000</td>\n",
       "    </tr>\n",
       "    <tr>\n",
       "      <th>50%</th>\n",
       "      <td>3450.000000</td>\n",
       "      <td>2003.000000</td>\n",
       "      <td>115.000000</td>\n",
       "      <td>150000.000000</td>\n",
       "      <td>6.000000</td>\n",
       "    </tr>\n",
       "    <tr>\n",
       "      <th>75%</th>\n",
       "      <td>7300.000000</td>\n",
       "      <td>2007.000000</td>\n",
       "      <td>150.000000</td>\n",
       "      <td>150000.000000</td>\n",
       "      <td>9.000000</td>\n",
       "    </tr>\n",
       "    <tr>\n",
       "      <th>max</th>\n",
       "      <td>20000.000000</td>\n",
       "      <td>2016.000000</td>\n",
       "      <td>999.000000</td>\n",
       "      <td>150000.000000</td>\n",
       "      <td>12.000000</td>\n",
       "    </tr>\n",
       "  </tbody>\n",
       "</table>\n",
       "</div>"
      ],
      "text/plain": [
       "               Price  RegistrationYear          Power      Kilometer  \\\n",
       "count  251282.000000     251282.000000  251282.000000  251282.000000   \n",
       "mean     5062.082744       2003.132887     122.160553  127923.150086   \n",
       "std      4648.744483          6.115241      54.409268   36675.165285   \n",
       "min       202.000000       1970.000000      30.000000    5000.000000   \n",
       "25%      1499.000000       1999.000000      80.000000  125000.000000   \n",
       "50%      3450.000000       2003.000000     115.000000  150000.000000   \n",
       "75%      7300.000000       2007.000000     150.000000  150000.000000   \n",
       "max     20000.000000       2016.000000     999.000000  150000.000000   \n",
       "\n",
       "       RegistrationMonth  \n",
       "count      251282.000000  \n",
       "mean            6.380827  \n",
       "std             3.345613  \n",
       "min             1.000000  \n",
       "25%             4.000000  \n",
       "50%             6.000000  \n",
       "75%             9.000000  \n",
       "max            12.000000  "
      ]
     },
     "execution_count": 16,
     "metadata": {},
     "output_type": "execute_result"
    }
   ],
   "source": [
    "data = data[(data['Power'] >= 30) & (data['Power'] < 1000)]\n",
    "data = data[(data['Price'] > 200)]\n",
    "\n",
    "data.describe()"
   ]
  },
  {
   "cell_type": "markdown",
   "metadata": {},
   "source": [
    "Итак, мы избавились от явных аномалий в данных, выбросы есть, но могут встретиться и в реальности. "
   ]
  },
  {
   "cell_type": "markdown",
   "metadata": {},
   "source": [
    "\n",
    "Датасет включает 5 числовых столбцов (Price, RegistrationYear, Power, Kilometer, RegistrationMonth) и 6 категориальных (VehicleType, Gearbox, Model, FuelType, Brand, Repaired). Первичный анализ показал, что числовые столбцы содержат аномалии:\n",
    "\n",
    "- Price: Минимальная цена 0 евро, что нереалистично для автомобилей.\n",
    "- Power: Минимальная мощность 0 л.с. и максимальная 20,000 л.с. — явные ошибки.\n",
    "- RegistrationYear: Диапазон от 1000 до 9999, что включает некорректные значения.\n",
    "- RegistrationMonth: Нулевые значения недопустимы, так как месяц должен быть от 1 до 12.\n",
    "- Kilometer: Диапазон значений выглядит правдоподобным для подержанных автомобилей.\n",
    "\n",
    "    Мы проверили датасет на наличие полных дубликатов с помощью .duplicated(). Полные дубликаты были удалены, чтобы избежать искажений в обучении моделей.\n",
    "    Для числовых столбцов мы применили фильтры:\n",
    "\n",
    "- Price: Установили минимальный порог 200 евро, чтобы исключить нереалистичные цены (0–100 евро), которые могут быть ошибками ввода или машинами на запчасти. \n",
    "- Power: Ограничили мощность диапазоном (30, 1000) л.с. Нулевые и экстремально высокие значения (например, 20,000 л.с.) — это аномалии, а значения < 30 л.с. редки для подержанных автомобилей.\n",
    "- RegistrationYear: Установили диапазон [1970, 2016], чтобы исключить ошибочные годы .\n",
    "- RegistrationMonth: Удалили строки с нулевым месяцем, так как это ошибка.\n"
   ]
  },
  {
   "cell_type": "code",
   "execution_count": 18,
   "metadata": {},
   "outputs": [],
   "source": [
    "categorical_cols = ['VehicleType', 'Gearbox', 'Model', 'FuelType', 'Brand', 'Repaired']\n",
    "numeric_cols = ['RegistrationYear', 'Power', 'Kilometer', 'RegistrationMonth']"
   ]
  },
  {
   "cell_type": "code",
   "execution_count": 19,
   "metadata": {},
   "outputs": [],
   "source": [
    "for col in categorical_cols:\n",
    "    data[col] = data[col].fillna('unknown').astype(str)"
   ]
  },
  {
   "cell_type": "code",
   "execution_count": 20,
   "metadata": {},
   "outputs": [],
   "source": [
    "data_catboost = data.copy()\n",
    "\n",
    "X = data.drop('Price', axis=1)\n",
    "y = data['Price']\n",
    "\n",
    "X_train, X_test, y_train, y_test = train_test_split(X, y, test_size=0.25, random_state=42)\n",
    "\n",
    "X_catboost = data_catboost.drop('Price', axis=1)\n",
    "y_catboost = data_catboost['Price']\n",
    "X_train_cb, X_test_cb, y_train_cb, y_test_cb = train_test_split(X_catboost, y_catboost, test_size=0.25, random_state=42)\n",
    "\n",
    "\n",
    "cat_features = ['VehicleType', 'Gearbox', 'Model', 'FuelType', 'Brand', 'Repaired']\n",
    "missing_cat_features = [col for col in cat_features if col not in X_catboost.columns]\n",
    "numeric_cols = ['RegistrationYear', 'Power', 'Kilometer', 'RegistrationMonth']\n",
    "encoder = OneHotEncoder(sparse=False, handle_unknown='ignore') \n",
    "X_train_cat = encoder.fit_transform(X_train[categorical_cols])\n",
    "X_test_cat = encoder.transform(X_test[categorical_cols])\n",
    "\n",
    "encoded_columns = encoder.get_feature_names(categorical_cols)\n",
    "X_train_cat_df = pd.DataFrame(X_train_cat, columns=encoded_columns, index=X_train.index)\n",
    "X_test_cat_df = pd.DataFrame(X_test_cat, columns=encoded_columns, index=X_test.index)\n",
    "\n",
    "scaler = StandardScaler()\n",
    "X_train_numeric = scaler.fit_transform(X_train[numeric_cols])\n",
    "X_test_numeric = scaler.transform(X_test[numeric_cols])\n",
    "\n",
    "X_train_numeric_df = pd.DataFrame(X_train_numeric, columns=numeric_cols, index=X_train.index)\n",
    "X_test_numeric_df = pd.DataFrame(X_test_numeric, columns=numeric_cols, index=X_test.index)\n",
    "\n",
    "X_train = pd.concat([X_train_numeric_df, X_train_cat_df], axis=1)\n",
    "X_test = pd.concat([X_test_numeric_df, X_test_cat_df], axis=1)"
   ]
  },
  {
   "cell_type": "markdown",
   "metadata": {},
   "source": [
    "обработали дубликаты, пропуски и аномалии в данных, подготовили тернировочную и тестовую выборки. Для catboost подготовили отьдельные выборки, поскольку "
   ]
  },
  {
   "cell_type": "markdown",
   "metadata": {},
   "source": [
    "## Обучение моделей"
   ]
  },
  {
   "cell_type": "code",
   "execution_count": 21,
   "metadata": {},
   "outputs": [],
   "source": [
    "def rmse(y_true, y_pred):\n",
    "    return np.sqrt(mean_squared_error(y_true, y_pred))\n",
    "results = {}"
   ]
  },
  {
   "cell_type": "code",
   "execution_count": 22,
   "metadata": {},
   "outputs": [
    {
     "name": "stdout",
     "output_type": "stream",
     "text": [
      "RMSE: 260394899158.77246, Время обучения: 23.375666618347168с, Время предсказания: 0.2050788402557373с\n"
     ]
    }
   ],
   "source": [
    "lr_model = LinearRegression()\n",
    "lr_scores = cross_val_score(lr_model, X_train, y_train, cv=3, scoring='neg_mean_squared_error')\n",
    "lr_rmse_cv = np.sqrt(-lr_scores.mean())\n",
    "start_time = time()\n",
    "lr_model.fit(X_train, y_train)\n",
    "lr_train_time = time() - start_time\n",
    "start_time = time()\n",
    "y_pred_lr_train = lr_model.predict(X_train)\n",
    "lr_pred_time = time() - start_time\n",
    "\n",
    "results['Linear Regression'] = {\n",
    "    'rmse_cv': lr_rmse_cv,\n",
    "    'train_time': lr_train_time,\n",
    "    'pred_time': lr_pred_time\n",
    "}\n",
    "print(f\"RMSE: {lr_rmse_cv:}, Время обучения: {lr_train_time:}с, Время предсказания: {lr_pred_time:}с\")"
   ]
  },
  {
   "cell_type": "code",
   "execution_count": 30,
   "metadata": {},
   "outputs": [
    {
     "name": "stdout",
     "output_type": "stream",
     "text": [
      "RMSE: 1607.4664620748676, Время обучения: 6.598146677017212с, Время предсказания: 2.604583263397217с\n",
      "Лучшие параметры: {'learning_rate': 0.1, 'max_depth': -1, 'n_estimators': 200}\n"
     ]
    }
   ],
   "source": [
    "lgb_model = lgb.LGBMRegressor(random_state=42)\n",
    "start_time = time()\n",
    "lgb_model.fit(X_train, y_train)\n",
    "lgb_train_time = time() - start_time\n",
    "start_time = time()\n",
    "y_pred_lgb_train = lgb_model.predict(X_train)\n",
    "lgb_pred_time = time() - start_time\n",
    "lgb_params = {'n_estimators': [100, 200], 'learning_rate': [0.05, 0.1], 'max_depth': [7, -1]}\n",
    "lgb_grid = GridSearchCV(lgb_model, lgb_params, cv=3, scoring='neg_mean_squared_error', n_jobs=-1)\n",
    "lgb_grid.fit(X_train, y_train)\n",
    "lgb_rmse_cv = np.sqrt(-lgb_grid.best_score_)\n",
    "\n",
    "results['LightGBM'] = {\n",
    "    'rmse_cv': lgb_rmse_cv,\n",
    "    'train_time': lgb_train_time,\n",
    "    'pred_time': lgb_pred_time\n",
    "}\n",
    "print(f\"RMSE: {lgb_rmse_cv:}, Время обучения: {lgb_train_time:}с, Время предсказания: {lgb_pred_time:}с\")\n",
    "print(f\"Лучшие параметры: {lgb_grid.best_params_}\")"
   ]
  },
  {
   "cell_type": "code",
   "execution_count": 31,
   "metadata": {},
   "outputs": [
    {
     "name": "stdout",
     "output_type": "stream",
     "text": [
      "RMSE: 1617.4855039964787, Время обучения: 175.6568205356598с, Время предсказания : 1.3535609245300293с\n",
      "Лучшие параметры: {'depth': 8, 'iterations': 200, 'learning_rate': 0.1}\n"
     ]
    }
   ],
   "source": [
    "cb_model = cb.CatBoostRegressor(cat_features=categorical_cols, random_state=42, verbose=0)\n",
    "start_time = time()\n",
    "cb_model.fit(X_train_cb, y_train_cb)\n",
    "cb_train_time = time() - start_time\n",
    "start_time = time()\n",
    "y_pred_cb_train = cb_model.predict(X_train_cb)\n",
    "cb_pred_time = time() - start_time\n",
    "cb_params = {'iterations': [100, 200], 'learning_rate': [0.05, 0.1], 'depth': [6, 8]}\n",
    "cb_grid = GridSearchCV(cb_model, cb_params, cv=3, scoring='neg_mean_squared_error', n_jobs=-1)\n",
    "cb_grid.fit(X_train_cb, y_train_cb)\n",
    "cb_rmse_cv = np.sqrt(-cb_grid.best_score_)\n",
    "\n",
    "results['CatBoost'] = {\n",
    "    'rmse_cv': cb_rmse_cv,\n",
    "    'train_time': cb_train_time,\n",
    "    'pred_time': cb_pred_time\n",
    "}\n",
    "print(f\"RMSE: {cb_rmse_cv:}, Время обучения: {cb_train_time:}с, Время предсказания : {cb_pred_time:}с\")\n",
    "print(f\"Лучшие параметры: {cb_grid.best_params_}\")"
   ]
  },
  {
   "cell_type": "markdown",
   "metadata": {},
   "source": [
    "## Анализ моделей"
   ]
  },
  {
   "cell_type": "code",
   "execution_count": 32,
   "metadata": {},
   "outputs": [
    {
     "data": {
      "text/html": [
       "<div>\n",
       "<style scoped>\n",
       "    .dataframe tbody tr th:only-of-type {\n",
       "        vertical-align: middle;\n",
       "    }\n",
       "\n",
       "    .dataframe tbody tr th {\n",
       "        vertical-align: top;\n",
       "    }\n",
       "\n",
       "    .dataframe thead th {\n",
       "        text-align: right;\n",
       "    }\n",
       "</style>\n",
       "<table border=\"1\" class=\"dataframe\">\n",
       "  <thead>\n",
       "    <tr style=\"text-align: right;\">\n",
       "      <th></th>\n",
       "      <th>rmse_cv</th>\n",
       "      <th>train_time</th>\n",
       "      <th>pred_time</th>\n",
       "    </tr>\n",
       "  </thead>\n",
       "  <tbody>\n",
       "    <tr>\n",
       "      <th>Linear Regression</th>\n",
       "      <td>2.603949e+11</td>\n",
       "      <td>23.375667</td>\n",
       "      <td>0.205079</td>\n",
       "    </tr>\n",
       "    <tr>\n",
       "      <th>LightGBM</th>\n",
       "      <td>1.607466e+03</td>\n",
       "      <td>6.598147</td>\n",
       "      <td>2.604583</td>\n",
       "    </tr>\n",
       "    <tr>\n",
       "      <th>CatBoost</th>\n",
       "      <td>1.617486e+03</td>\n",
       "      <td>175.656821</td>\n",
       "      <td>1.353561</td>\n",
       "    </tr>\n",
       "  </tbody>\n",
       "</table>\n",
       "</div>"
      ],
      "text/plain": [
       "                        rmse_cv  train_time  pred_time\n",
       "Linear Regression  2.603949e+11   23.375667   0.205079\n",
       "LightGBM           1.607466e+03    6.598147   2.604583\n",
       "CatBoost           1.617486e+03  175.656821   1.353561"
      ]
     },
     "execution_count": 32,
     "metadata": {},
     "output_type": "execute_result"
    }
   ],
   "source": [
    "comparison_df = pd.DataFrame(results).T\n",
    "comparison_df"
   ]
  },
  {
   "cell_type": "markdown",
   "metadata": {},
   "source": [
    "- Линейная регрессия:\n",
    "RMSE крайне высокое, что указывает на плохое качество предсказаний. Это делает модель непригодной, несмотря на быстрое время обучения (23.38 с) и предсказания (0.21 с).\n",
    "- LightGBM:\n",
    "RMSE = 1607.47 — лучший результат, значительно ниже порога 2500.\n",
    "Время обучения: 6.60 с — самое быстрое среди всех моделей.\n",
    "Время предсказания: 2.60 с — медленнее, чем у линейной регрессии и CatBoost, но всё ещё приемлемо.\n",
    "- CatBoost:\n",
    "RMSE = 1617.49 — чуть хуже, чем у LightGBM, но всё ещё ниже порога 2500.\n",
    "Время обучения: 175.66 с — значительно дольше, чем у LightGBM, что может быть критичным для больших датасетов.\n",
    "Время предсказания: 1.35 с — быстрее, чем у LightGBM, но разница небольшая.\n",
    "- Выбор лучшей модели\n",
    "Лучшая модель: LightGBM"
   ]
  },
  {
   "cell_type": "code",
   "execution_count": 35,
   "metadata": {},
   "outputs": [
    {
     "name": "stdout",
     "output_type": "stream",
     "text": [
      "RMSE лучшей модели на тестовой выборке: 1600.5774516687316\n"
     ]
    }
   ],
   "source": [
    "best_model = lgb.LGBMRegressor(random_state=42, learning_rate=0.1, max_depth=-1, n_estimators=200, verbose=-1)\n",
    "best_model.fit(X_train, y_train)\n",
    "y_test_pred = best_model.predict(X_test)\n",
    "test_rmse = rmse(y_test, y_test_pred)\n",
    "print(f\"RMSE лучшей модели на тестовой выборке: {test_rmse:}\")"
   ]
  },
  {
   "cell_type": "markdown",
   "metadata": {},
   "source": [
    "## итоговый вывод"
   ]
  },
  {
   "cell_type": "markdown",
   "metadata": {},
   "source": [
    "\n",
    "Модель LightGBM выбрана как лучшая на основе кросс-валидации с RMSE 1607.47, временем обучения 6.60 с и временем предсказания 2.60 с. Она превосходит линейную регрессию (RMSE 260,394,899,158.77) и CatBoost (RMSE 1617.49, время обучения 175.66 с) по точности и скорости. На тестовой выборке достигнут RMSE 1600.58, что удовлетворяет требованию заказчика (RMSE < 2500). "
   ]
  }
 ],
 "metadata": {
  "ExecuteTimeLog": [
   {
    "duration": 440,
    "start_time": "2025-07-11T11:54:05.072Z"
   },
   {
    "duration": 941,
    "start_time": "2025-07-11T11:54:05.514Z"
   },
   {
    "duration": 1329,
    "start_time": "2025-07-11T11:56:21.163Z"
   },
   {
    "duration": 20,
    "start_time": "2025-07-11T11:57:18.741Z"
   },
   {
    "duration": 175,
    "start_time": "2025-07-11T11:57:42.411Z"
   },
   {
    "duration": 38,
    "start_time": "2025-07-11T12:10:36.943Z"
   },
   {
    "duration": 148,
    "start_time": "2025-07-11T12:13:25.905Z"
   },
   {
    "duration": 134,
    "start_time": "2025-07-11T12:16:46.323Z"
   },
   {
    "duration": 144,
    "start_time": "2025-07-11T12:17:26.095Z"
   },
   {
    "duration": 14,
    "start_time": "2025-07-11T12:20:39.704Z"
   },
   {
    "duration": 52,
    "start_time": "2025-07-11T12:20:56.093Z"
   },
   {
    "duration": 115,
    "start_time": "2025-07-11T19:31:55.182Z"
   },
   {
    "duration": 90,
    "start_time": "2025-07-11T19:33:46.792Z"
   },
   {
    "duration": 45,
    "start_time": "2025-07-11T19:34:05.206Z"
   },
   {
    "duration": 7,
    "start_time": "2025-07-11T19:34:21.942Z"
   },
   {
    "duration": 7,
    "start_time": "2025-07-11T19:34:29.765Z"
   },
   {
    "duration": 1676,
    "start_time": "2025-07-11T19:34:37.563Z"
   },
   {
    "duration": 932,
    "start_time": "2025-07-11T19:34:39.242Z"
   },
   {
    "duration": 23,
    "start_time": "2025-07-11T19:34:40.176Z"
   },
   {
    "duration": 155,
    "start_time": "2025-07-11T19:34:40.201Z"
   },
   {
    "duration": 39,
    "start_time": "2025-07-11T19:34:40.359Z"
   },
   {
    "duration": 129,
    "start_time": "2025-07-11T19:34:40.400Z"
   },
   {
    "duration": 135,
    "start_time": "2025-07-11T19:34:40.531Z"
   },
   {
    "duration": 56,
    "start_time": "2025-07-11T19:34:40.667Z"
   },
   {
    "duration": 247,
    "start_time": "2025-07-11T19:34:44.629Z"
   },
   {
    "duration": 213,
    "start_time": "2025-07-11T19:34:53.798Z"
   },
   {
    "duration": 76,
    "start_time": "2025-07-11T19:35:35.247Z"
   },
   {
    "duration": 84,
    "start_time": "2025-07-11T19:40:40.226Z"
   },
   {
    "duration": 10,
    "start_time": "2025-07-11T19:40:57.738Z"
   },
   {
    "duration": 10,
    "start_time": "2025-07-11T19:41:24.922Z"
   },
   {
    "duration": 103,
    "start_time": "2025-07-11T19:42:18.659Z"
   },
   {
    "duration": 121,
    "start_time": "2025-07-11T19:48:48.953Z"
   },
   {
    "duration": 31,
    "start_time": "2025-07-11T19:49:05.790Z"
   },
   {
    "duration": 9578,
    "start_time": "2025-07-11T19:49:09.701Z"
   },
   {
    "duration": 33,
    "start_time": "2025-07-11T19:55:15.944Z"
   },
   {
    "duration": 95,
    "start_time": "2025-07-11T19:55:30.424Z"
   },
   {
    "duration": 12,
    "start_time": "2025-07-11T19:57:35.886Z"
   },
   {
    "duration": 3,
    "start_time": "2025-07-11T20:10:32.878Z"
   },
   {
    "duration": 14,
    "start_time": "2025-07-11T20:13:34.878Z"
   },
   {
    "duration": 4,
    "start_time": "2025-07-11T20:13:59.233Z"
   },
   {
    "duration": 408,
    "start_time": "2025-07-11T20:14:04.699Z"
   },
   {
    "duration": 92,
    "start_time": "2025-07-11T20:14:58.169Z"
   },
   {
    "duration": 3,
    "start_time": "2025-07-11T20:16:50.196Z"
   },
   {
    "duration": 96,
    "start_time": "2025-07-11T20:17:09.377Z"
   },
   {
    "duration": 4,
    "start_time": "2025-07-11T20:17:25.658Z"
   },
   {
    "duration": 193,
    "start_time": "2025-07-11T20:17:29.092Z"
   },
   {
    "duration": 238,
    "start_time": "2025-07-11T20:18:44.223Z"
   },
   {
    "duration": 1537,
    "start_time": "2025-07-11T20:19:49.000Z"
   },
   {
    "duration": 19197,
    "start_time": "2025-07-11T20:19:52.006Z"
   },
   {
    "duration": 242,
    "start_time": "2025-07-11T20:29:47.110Z"
   },
   {
    "duration": 0,
    "start_time": "2025-07-11T20:29:47.354Z"
   },
   {
    "duration": 0,
    "start_time": "2025-07-11T20:29:47.355Z"
   },
   {
    "duration": 0,
    "start_time": "2025-07-11T20:29:47.357Z"
   },
   {
    "duration": 0,
    "start_time": "2025-07-11T20:29:47.358Z"
   },
   {
    "duration": 91,
    "start_time": "2025-07-11T20:30:09.909Z"
   },
   {
    "duration": 4,
    "start_time": "2025-07-11T20:31:12.021Z"
   },
   {
    "duration": 4,
    "start_time": "2025-07-11T20:31:15.547Z"
   },
   {
    "duration": 87,
    "start_time": "2025-07-11T20:31:21.583Z"
   },
   {
    "duration": 3464,
    "start_time": "2025-07-11T20:34:14.691Z"
   },
   {
    "duration": 1463,
    "start_time": "2025-07-11T20:35:09.528Z"
   },
   {
    "duration": 907,
    "start_time": "2025-07-11T20:35:10.993Z"
   },
   {
    "duration": 18,
    "start_time": "2025-07-11T20:35:11.902Z"
   },
   {
    "duration": 177,
    "start_time": "2025-07-11T20:35:11.922Z"
   },
   {
    "duration": 38,
    "start_time": "2025-07-11T20:35:12.102Z"
   },
   {
    "duration": 131,
    "start_time": "2025-07-11T20:35:12.142Z"
   },
   {
    "duration": 141,
    "start_time": "2025-07-11T20:35:12.275Z"
   },
   {
    "duration": 50,
    "start_time": "2025-07-11T20:35:12.418Z"
   },
   {
    "duration": 92,
    "start_time": "2025-07-11T20:35:12.470Z"
   },
   {
    "duration": 113,
    "start_time": "2025-07-11T20:35:12.563Z"
   },
   {
    "duration": 8588,
    "start_time": "2025-07-11T20:35:12.678Z"
   },
   {
    "duration": 96,
    "start_time": "2025-07-11T20:35:21.268Z"
   },
   {
    "duration": 2,
    "start_time": "2025-07-11T20:35:21.366Z"
   },
   {
    "duration": 1391,
    "start_time": "2025-07-11T20:35:21.371Z"
   },
   {
    "duration": 3,
    "start_time": "2025-07-11T20:35:22.764Z"
   },
   {
    "duration": 20686,
    "start_time": "2025-07-11T20:35:22.769Z"
   },
   {
    "duration": 213532,
    "start_time": "2025-07-11T20:35:43.457Z"
   },
   {
    "duration": 3314,
    "start_time": "2025-07-11T20:39:16.991Z"
   },
   {
    "duration": 20895,
    "start_time": "2025-07-11T20:39:20.307Z"
   },
   {
    "duration": 425689,
    "start_time": "2025-07-11T20:50:14.221Z"
   },
   {
    "duration": 47,
    "start_time": "2025-07-11T20:57:19.912Z"
   },
   {
    "duration": 3437,
    "start_time": "2025-07-11T21:02:27.902Z"
   },
   {
    "duration": 456,
    "start_time": "2025-07-11T21:05:15.842Z"
   },
   {
    "duration": 3788,
    "start_time": "2025-07-11T21:05:19.938Z"
   },
   {
    "duration": 3817,
    "start_time": "2025-07-11T21:06:34.847Z"
   },
   {
    "duration": 461,
    "start_time": "2025-07-11T21:08:49.189Z"
   },
   {
    "duration": 239,
    "start_time": "2025-07-11T21:08:50.051Z"
   },
   {
    "duration": 1591,
    "start_time": "2025-07-11T21:09:32.074Z"
   },
   {
    "duration": 961,
    "start_time": "2025-07-11T21:09:33.667Z"
   },
   {
    "duration": 17,
    "start_time": "2025-07-11T21:09:34.632Z"
   },
   {
    "duration": 210,
    "start_time": "2025-07-11T21:09:34.650Z"
   },
   {
    "duration": 53,
    "start_time": "2025-07-11T21:09:34.862Z"
   },
   {
    "duration": 142,
    "start_time": "2025-07-11T21:09:34.917Z"
   },
   {
    "duration": 157,
    "start_time": "2025-07-11T21:09:35.061Z"
   },
   {
    "duration": 43,
    "start_time": "2025-07-11T21:09:35.220Z"
   },
   {
    "duration": 97,
    "start_time": "2025-07-11T21:09:35.265Z"
   },
   {
    "duration": 118,
    "start_time": "2025-07-11T21:09:35.364Z"
   },
   {
    "duration": 8817,
    "start_time": "2025-07-11T21:09:35.484Z"
   },
   {
    "duration": 105,
    "start_time": "2025-07-11T21:09:44.302Z"
   },
   {
    "duration": 3,
    "start_time": "2025-07-11T21:09:44.409Z"
   },
   {
    "duration": 141,
    "start_time": "2025-07-11T21:09:44.416Z"
   },
   {
    "duration": 1585,
    "start_time": "2025-07-11T21:09:44.559Z"
   },
   {
    "duration": 3,
    "start_time": "2025-07-11T21:09:46.146Z"
   },
   {
    "duration": 32854,
    "start_time": "2025-07-11T21:09:46.151Z"
   },
   {
    "duration": 1603,
    "start_time": "2025-07-12T07:25:36.159Z"
   },
   {
    "duration": 1343,
    "start_time": "2025-07-12T07:25:37.764Z"
   },
   {
    "duration": 16,
    "start_time": "2025-07-12T07:25:39.109Z"
   },
   {
    "duration": 136,
    "start_time": "2025-07-12T07:25:39.127Z"
   },
   {
    "duration": 31,
    "start_time": "2025-07-12T07:25:39.264Z"
   },
   {
    "duration": 128,
    "start_time": "2025-07-12T07:25:39.296Z"
   },
   {
    "duration": 111,
    "start_time": "2025-07-12T07:25:39.661Z"
   },
   {
    "duration": 39,
    "start_time": "2025-07-12T07:25:40.799Z"
   },
   {
    "duration": 65,
    "start_time": "2025-07-12T07:25:41.240Z"
   },
   {
    "duration": 91,
    "start_time": "2025-07-12T07:25:42.165Z"
   },
   {
    "duration": 7686,
    "start_time": "2025-07-12T07:25:42.788Z"
   },
   {
    "duration": 93,
    "start_time": "2025-07-12T07:25:50.475Z"
   },
   {
    "duration": 3,
    "start_time": "2025-07-12T07:25:50.569Z"
   },
   {
    "duration": 188,
    "start_time": "2025-07-12T07:25:50.573Z"
   },
   {
    "duration": 1375,
    "start_time": "2025-07-12T07:25:50.763Z"
   },
   {
    "duration": 3,
    "start_time": "2025-07-12T07:25:52.140Z"
   },
   {
    "duration": 19851,
    "start_time": "2025-07-12T07:25:55.211Z"
   },
   {
    "duration": 195114,
    "start_time": "2025-07-12T07:26:32.358Z"
   },
   {
    "duration": 10586,
    "start_time": "2025-07-12T07:30:30.258Z"
   },
   {
    "duration": 1436,
    "start_time": "2025-07-12T07:32:59.418Z"
   },
   {
    "duration": 1388,
    "start_time": "2025-07-12T07:34:13.694Z"
   },
   {
    "duration": 849,
    "start_time": "2025-07-12T07:34:15.084Z"
   },
   {
    "duration": 15,
    "start_time": "2025-07-12T07:34:15.935Z"
   },
   {
    "duration": 143,
    "start_time": "2025-07-12T07:34:15.951Z"
   },
   {
    "duration": 30,
    "start_time": "2025-07-12T07:34:16.096Z"
   },
   {
    "duration": 133,
    "start_time": "2025-07-12T07:34:16.128Z"
   },
   {
    "duration": 118,
    "start_time": "2025-07-12T07:34:16.263Z"
   },
   {
    "duration": 74,
    "start_time": "2025-07-12T07:34:16.383Z"
   },
   {
    "duration": 76,
    "start_time": "2025-07-12T07:34:16.458Z"
   },
   {
    "duration": 104,
    "start_time": "2025-07-12T07:34:16.536Z"
   },
   {
    "duration": 7731,
    "start_time": "2025-07-12T07:34:16.642Z"
   },
   {
    "duration": 90,
    "start_time": "2025-07-12T07:34:24.375Z"
   },
   {
    "duration": 3,
    "start_time": "2025-07-12T07:34:24.467Z"
   },
   {
    "duration": 313,
    "start_time": "2025-07-12T07:34:24.472Z"
   },
   {
    "duration": 1282,
    "start_time": "2025-07-12T07:34:24.786Z"
   },
   {
    "duration": 2,
    "start_time": "2025-07-12T07:34:26.070Z"
   },
   {
    "duration": 19490,
    "start_time": "2025-07-12T07:34:26.074Z"
   },
   {
    "duration": 188409,
    "start_time": "2025-07-12T07:34:45.565Z"
   },
   {
    "duration": 507908,
    "start_time": "2025-07-12T07:37:53.975Z"
   },
   {
    "duration": 52,
    "start_time": "2025-07-12T09:08:43.026Z"
   },
   {
    "duration": 1879,
    "start_time": "2025-07-12T09:11:55.416Z"
   },
   {
    "duration": 3496,
    "start_time": "2025-07-12T09:11:57.298Z"
   },
   {
    "duration": 20,
    "start_time": "2025-07-12T09:12:00.796Z"
   },
   {
    "duration": 265,
    "start_time": "2025-07-12T09:12:00.817Z"
   },
   {
    "duration": 36,
    "start_time": "2025-07-12T09:12:13.730Z"
   },
   {
    "duration": 142,
    "start_time": "2025-07-12T09:12:25.297Z"
   },
   {
    "duration": 246,
    "start_time": "2025-07-12T09:13:23.331Z"
   },
   {
    "duration": 31501,
    "start_time": "2025-07-12T09:13:35.315Z"
   },
   {
    "duration": 155,
    "start_time": "2025-07-12T09:14:17.281Z"
   },
   {
    "duration": 121,
    "start_time": "2025-07-12T09:14:21.268Z"
   },
   {
    "duration": 85,
    "start_time": "2025-07-12T09:15:10.321Z"
   },
   {
    "duration": 491,
    "start_time": "2025-07-12T09:15:59.774Z"
   },
   {
    "duration": 125,
    "start_time": "2025-07-12T09:16:10.041Z"
   },
   {
    "duration": 106,
    "start_time": "2025-07-12T09:18:09.459Z"
   },
   {
    "duration": 3,
    "start_time": "2025-07-12T10:25:04.268Z"
   },
   {
    "duration": 120,
    "start_time": "2025-07-12T10:25:04.709Z"
   },
   {
    "duration": 178,
    "start_time": "2025-07-12T10:26:05.493Z"
   },
   {
    "duration": 3,
    "start_time": "2025-07-12T10:26:25.018Z"
   },
   {
    "duration": 176,
    "start_time": "2025-07-12T10:26:33.505Z"
   },
   {
    "duration": 1369,
    "start_time": "2025-07-12T10:26:49.992Z"
   },
   {
    "duration": 3812,
    "start_time": "2025-07-12T10:27:42.509Z"
   },
   {
    "duration": 3,
    "start_time": "2025-07-12T10:36:13.268Z"
   },
   {
    "duration": 16,
    "start_time": "2025-07-12T10:36:59.475Z"
   },
   {
    "duration": 4,
    "start_time": "2025-07-12T10:37:17.327Z"
   },
   {
    "duration": 17,
    "start_time": "2025-07-12T10:37:26.742Z"
   },
   {
    "duration": 5,
    "start_time": "2025-07-12T10:37:47.162Z"
   },
   {
    "duration": 68436,
    "start_time": "2025-07-12T10:37:53.743Z"
   },
   {
    "duration": 4,
    "start_time": "2025-07-12T14:12:51.326Z"
   },
   {
    "duration": 809,
    "start_time": "2025-07-12T14:12:51.934Z"
   },
   {
    "duration": 0,
    "start_time": "2025-07-12T14:12:52.820Z"
   },
   {
    "duration": 0,
    "start_time": "2025-07-12T14:12:52.826Z"
   },
   {
    "duration": 0,
    "start_time": "2025-07-12T14:12:52.831Z"
   },
   {
    "duration": 0,
    "start_time": "2025-07-12T14:12:52.836Z"
   },
   {
    "duration": 0,
    "start_time": "2025-07-12T14:12:52.879Z"
   },
   {
    "duration": 0,
    "start_time": "2025-07-12T14:12:52.884Z"
   },
   {
    "duration": 0,
    "start_time": "2025-07-12T14:12:52.889Z"
   },
   {
    "duration": 0,
    "start_time": "2025-07-12T14:12:52.893Z"
   },
   {
    "duration": 0,
    "start_time": "2025-07-12T14:12:52.898Z"
   },
   {
    "duration": 0,
    "start_time": "2025-07-12T14:12:52.902Z"
   },
   {
    "duration": 0,
    "start_time": "2025-07-12T14:12:52.906Z"
   },
   {
    "duration": 0,
    "start_time": "2025-07-12T14:12:52.911Z"
   },
   {
    "duration": 0,
    "start_time": "2025-07-12T14:12:52.977Z"
   },
   {
    "duration": 0,
    "start_time": "2025-07-12T14:12:52.982Z"
   },
   {
    "duration": 0,
    "start_time": "2025-07-12T14:12:52.987Z"
   },
   {
    "duration": 0,
    "start_time": "2025-07-12T14:12:52.992Z"
   },
   {
    "duration": 10,
    "start_time": "2025-07-12T14:13:10.418Z"
   },
   {
    "duration": 98,
    "start_time": "2025-07-12T14:13:12.337Z"
   },
   {
    "duration": 13,
    "start_time": "2025-07-12T14:13:13.969Z"
   },
   {
    "duration": 170,
    "start_time": "2025-07-12T14:13:14.570Z"
   },
   {
    "duration": 339,
    "start_time": "2025-07-12T14:13:15.083Z"
   },
   {
    "duration": 102,
    "start_time": "2025-07-12T14:13:16.142Z"
   },
   {
    "duration": 111,
    "start_time": "2025-07-12T14:13:16.403Z"
   },
   {
    "duration": 37,
    "start_time": "2025-07-12T14:13:16.954Z"
   },
   {
    "duration": 59,
    "start_time": "2025-07-12T14:13:17.492Z"
   },
   {
    "duration": 73,
    "start_time": "2025-07-12T14:13:18.571Z"
   },
   {
    "duration": 7551,
    "start_time": "2025-07-12T14:13:19.664Z"
   },
   {
    "duration": 86,
    "start_time": "2025-07-12T14:13:33.780Z"
   },
   {
    "duration": 2,
    "start_time": "2025-07-12T14:13:38.993Z"
   },
   {
    "duration": 112,
    "start_time": "2025-07-12T14:13:39.189Z"
   },
   {
    "duration": 4335,
    "start_time": "2025-07-12T14:13:41.434Z"
   },
   {
    "duration": 6,
    "start_time": "2025-07-12T14:13:45.771Z"
   },
   {
    "duration": 57043,
    "start_time": "2025-07-12T14:13:47.235Z"
   },
   {
    "duration": 196003,
    "start_time": "2025-07-12T14:14:57.906Z"
   },
   {
    "duration": 485654,
    "start_time": "2025-07-12T14:28:31.799Z"
   },
   {
    "duration": 6,
    "start_time": "2025-07-12T14:37:31.638Z"
   },
   {
    "duration": 11,
    "start_time": "2025-07-12T14:37:38.842Z"
   },
   {
    "duration": 2445,
    "start_time": "2025-07-12T19:25:06.333Z"
   },
   {
    "duration": 950,
    "start_time": "2025-07-12T19:25:08.780Z"
   },
   {
    "duration": 17,
    "start_time": "2025-07-12T19:25:09.732Z"
   },
   {
    "duration": 156,
    "start_time": "2025-07-12T19:25:09.761Z"
   },
   {
    "duration": 43,
    "start_time": "2025-07-12T19:25:09.919Z"
   },
   {
    "duration": 229,
    "start_time": "2025-07-12T19:25:09.963Z"
   },
   {
    "duration": 453,
    "start_time": "2025-07-12T19:25:10.194Z"
   },
   {
    "duration": 125,
    "start_time": "2025-07-12T19:25:10.648Z"
   },
   {
    "duration": 126,
    "start_time": "2025-07-12T19:25:10.775Z"
   },
   {
    "duration": 56,
    "start_time": "2025-07-12T19:25:10.905Z"
   },
   {
    "duration": 82,
    "start_time": "2025-07-12T19:25:10.963Z"
   },
   {
    "duration": 97,
    "start_time": "2025-07-12T19:25:11.047Z"
   },
   {
    "duration": 8039,
    "start_time": "2025-07-12T19:25:11.146Z"
   },
   {
    "duration": 122,
    "start_time": "2025-07-12T19:25:19.188Z"
   },
   {
    "duration": 3,
    "start_time": "2025-07-12T19:25:19.312Z"
   },
   {
    "duration": 136,
    "start_time": "2025-07-12T19:25:19.317Z"
   },
   {
    "duration": 4524,
    "start_time": "2025-07-12T19:25:19.454Z"
   },
   {
    "duration": 3,
    "start_time": "2025-07-12T19:25:23.980Z"
   },
   {
    "duration": 65677,
    "start_time": "2025-07-12T19:25:23.985Z"
   },
   {
    "duration": 241722,
    "start_time": "2025-07-12T19:26:29.664Z"
   },
   {
    "duration": 526508,
    "start_time": "2025-07-12T19:30:31.388Z"
   },
   {
    "duration": 10,
    "start_time": "2025-07-12T19:39:17.897Z"
   },
   {
    "duration": 25,
    "start_time": "2025-07-12T19:39:17.909Z"
   },
   {
    "duration": 54,
    "start_time": "2025-07-13T06:08:01.736Z"
   },
   {
    "duration": 1890,
    "start_time": "2025-07-13T06:08:08.478Z"
   },
   {
    "duration": 904,
    "start_time": "2025-07-13T06:08:10.370Z"
   },
   {
    "duration": 18,
    "start_time": "2025-07-13T06:08:11.275Z"
   },
   {
    "duration": 173,
    "start_time": "2025-07-13T06:08:11.296Z"
   },
   {
    "duration": 94,
    "start_time": "2025-07-13T06:08:11.471Z"
   },
   {
    "duration": 216,
    "start_time": "2025-07-13T06:08:11.567Z"
   },
   {
    "duration": 436,
    "start_time": "2025-07-13T06:08:11.785Z"
   },
   {
    "duration": 126,
    "start_time": "2025-07-13T06:08:12.223Z"
   },
   {
    "duration": 136,
    "start_time": "2025-07-13T06:08:12.351Z"
   },
   {
    "duration": 40,
    "start_time": "2025-07-13T06:08:12.490Z"
   },
   {
    "duration": 92,
    "start_time": "2025-07-13T06:08:12.532Z"
   },
   {
    "duration": 105,
    "start_time": "2025-07-13T06:08:12.626Z"
   },
   {
    "duration": 8087,
    "start_time": "2025-07-13T06:08:12.732Z"
   },
   {
    "duration": 17,
    "start_time": "2025-07-13T06:08:20.822Z"
   },
   {
    "duration": 97,
    "start_time": "2025-07-13T06:13:58.347Z"
   },
   {
    "duration": 85,
    "start_time": "2025-07-13T06:32:35.013Z"
   },
   {
    "duration": 3,
    "start_time": "2025-07-13T06:32:43.375Z"
   },
   {
    "duration": 120,
    "start_time": "2025-07-13T06:32:43.931Z"
   },
   {
    "duration": 3299,
    "start_time": "2025-07-13T06:32:44.987Z"
   },
   {
    "duration": 4,
    "start_time": "2025-07-13T06:32:48.288Z"
   },
   {
    "duration": 76779,
    "start_time": "2025-07-13T06:32:48.686Z"
   },
   {
    "duration": 0,
    "start_time": "2025-07-13T07:04:08.579Z"
   },
   {
    "duration": 0,
    "start_time": "2025-07-13T07:04:08.580Z"
   },
   {
    "duration": 0,
    "start_time": "2025-07-13T08:25:58.078Z"
   },
   {
    "duration": 4,
    "start_time": "2025-07-13T08:26:04.709Z"
   },
   {
    "duration": 4,
    "start_time": "2025-07-13T08:26:07.392Z"
   },
   {
    "duration": 198098,
    "start_time": "2025-07-13T08:26:13.567Z"
   },
   {
    "duration": 657226,
    "start_time": "2025-07-13T08:29:43.716Z"
   },
   {
    "duration": 11,
    "start_time": "2025-07-13T08:42:46.449Z"
   },
   {
    "duration": 39296,
    "start_time": "2025-07-13T08:45:50.778Z"
   },
   {
    "duration": 11,
    "start_time": "2025-07-13T08:49:10.435Z"
   },
   {
    "duration": 11608,
    "start_time": "2025-07-13T08:50:20.861Z"
   }
  ],
  "kernelspec": {
   "display_name": "Python 3 (ipykernel)",
   "language": "python",
   "name": "python3"
  },
  "language_info": {
   "codemirror_mode": {
    "name": "ipython",
    "version": 3
   },
   "file_extension": ".py",
   "mimetype": "text/x-python",
   "name": "python",
   "nbconvert_exporter": "python",
   "pygments_lexer": "ipython3",
   "version": "3.9.5"
  },
  "toc": {
   "base_numbering": 1,
   "nav_menu": {},
   "number_sections": true,
   "sideBar": true,
   "skip_h1_title": true,
   "title_cell": "Table of Contents",
   "title_sidebar": "Contents",
   "toc_cell": false,
   "toc_position": {
    "height": "calc(100% - 180px)",
    "left": "10px",
    "top": "150px",
    "width": "289.594px"
   },
   "toc_section_display": true,
   "toc_window_display": true
  }
 },
 "nbformat": 4,
 "nbformat_minor": 2
}
