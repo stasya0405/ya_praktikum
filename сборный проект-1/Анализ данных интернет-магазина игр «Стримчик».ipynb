{
 "cells": [
  {
   "cell_type": "markdown",
   "metadata": {},
   "source": [
    "<b>Введение</b>\n"
   ]
  },
  {
   "cell_type": "markdown",
   "metadata": {},
   "source": [
    "Нам предстоит анализировать данные о продажах игр, оценки пользователей и экспертов, жанры и платформы для интернет-магазина «Стримчик», который продаёт по всему миру компьютерные игры. \n",
    "Необходимо выявить определяющие успешность игры закономерности, чтобы сделать ставку на потенциально популярный продукт и спланировать рекламные кампании.\n",
    "Для этого сначала рассмотрим имеющиеся данные, обработаем их, после чего проведем исследовательский анализ и рассмотрим различия пользователей по регионам. Также, чтобы ответить на вопросы бизнеса выдвенем и проверим гипотезы. "
   ]
  },
  {
   "cell_type": "markdown",
   "metadata": {},
   "source": [
    "<b>Импортируем все необходимые библиотеки</b>"
   ]
  },
  {
   "cell_type": "code",
   "execution_count": 1,
   "metadata": {},
   "outputs": [],
   "source": [
    "import pandas as pd\n",
    "import matplotlib.pyplot as plt\n",
    "import numpy as np\n",
    "import seaborn as sns\n",
    "from scipy import stats as st"
   ]
  },
  {
   "cell_type": "markdown",
   "metadata": {},
   "source": [
    "<b>Шаг 1. Откроем файл с данными и изучим общую информацию</b>"
   ]
  },
  {
   "cell_type": "code",
   "execution_count": 2,
   "metadata": {},
   "outputs": [],
   "source": [
    "data = pd.read_csv('/datasets/games.csv')"
   ]
  },
  {
   "cell_type": "code",
   "execution_count": 3,
   "metadata": {},
   "outputs": [
    {
     "data": {
      "text/html": [
       "<div>\n",
       "<style scoped>\n",
       "    .dataframe tbody tr th:only-of-type {\n",
       "        vertical-align: middle;\n",
       "    }\n",
       "\n",
       "    .dataframe tbody tr th {\n",
       "        vertical-align: top;\n",
       "    }\n",
       "\n",
       "    .dataframe thead th {\n",
       "        text-align: right;\n",
       "    }\n",
       "</style>\n",
       "<table border=\"1\" class=\"dataframe\">\n",
       "  <thead>\n",
       "    <tr style=\"text-align: right;\">\n",
       "      <th></th>\n",
       "      <th>Name</th>\n",
       "      <th>Platform</th>\n",
       "      <th>Year_of_Release</th>\n",
       "      <th>Genre</th>\n",
       "      <th>NA_sales</th>\n",
       "      <th>EU_sales</th>\n",
       "      <th>JP_sales</th>\n",
       "      <th>Other_sales</th>\n",
       "      <th>Critic_Score</th>\n",
       "      <th>User_Score</th>\n",
       "      <th>Rating</th>\n",
       "    </tr>\n",
       "  </thead>\n",
       "  <tbody>\n",
       "    <tr>\n",
       "      <th>0</th>\n",
       "      <td>Wii Sports</td>\n",
       "      <td>Wii</td>\n",
       "      <td>2006.0</td>\n",
       "      <td>Sports</td>\n",
       "      <td>41.36</td>\n",
       "      <td>28.96</td>\n",
       "      <td>3.77</td>\n",
       "      <td>8.45</td>\n",
       "      <td>76.0</td>\n",
       "      <td>8</td>\n",
       "      <td>E</td>\n",
       "    </tr>\n",
       "    <tr>\n",
       "      <th>1</th>\n",
       "      <td>Super Mario Bros.</td>\n",
       "      <td>NES</td>\n",
       "      <td>1985.0</td>\n",
       "      <td>Platform</td>\n",
       "      <td>29.08</td>\n",
       "      <td>3.58</td>\n",
       "      <td>6.81</td>\n",
       "      <td>0.77</td>\n",
       "      <td>NaN</td>\n",
       "      <td>NaN</td>\n",
       "      <td>NaN</td>\n",
       "    </tr>\n",
       "    <tr>\n",
       "      <th>2</th>\n",
       "      <td>Mario Kart Wii</td>\n",
       "      <td>Wii</td>\n",
       "      <td>2008.0</td>\n",
       "      <td>Racing</td>\n",
       "      <td>15.68</td>\n",
       "      <td>12.76</td>\n",
       "      <td>3.79</td>\n",
       "      <td>3.29</td>\n",
       "      <td>82.0</td>\n",
       "      <td>8.3</td>\n",
       "      <td>E</td>\n",
       "    </tr>\n",
       "    <tr>\n",
       "      <th>3</th>\n",
       "      <td>Wii Sports Resort</td>\n",
       "      <td>Wii</td>\n",
       "      <td>2009.0</td>\n",
       "      <td>Sports</td>\n",
       "      <td>15.61</td>\n",
       "      <td>10.93</td>\n",
       "      <td>3.28</td>\n",
       "      <td>2.95</td>\n",
       "      <td>80.0</td>\n",
       "      <td>8</td>\n",
       "      <td>E</td>\n",
       "    </tr>\n",
       "    <tr>\n",
       "      <th>4</th>\n",
       "      <td>Pokemon Red/Pokemon Blue</td>\n",
       "      <td>GB</td>\n",
       "      <td>1996.0</td>\n",
       "      <td>Role-Playing</td>\n",
       "      <td>11.27</td>\n",
       "      <td>8.89</td>\n",
       "      <td>10.22</td>\n",
       "      <td>1.00</td>\n",
       "      <td>NaN</td>\n",
       "      <td>NaN</td>\n",
       "      <td>NaN</td>\n",
       "    </tr>\n",
       "  </tbody>\n",
       "</table>\n",
       "</div>"
      ],
      "text/plain": [
       "                       Name Platform  Year_of_Release         Genre  NA_sales  \\\n",
       "0                Wii Sports      Wii           2006.0        Sports     41.36   \n",
       "1         Super Mario Bros.      NES           1985.0      Platform     29.08   \n",
       "2            Mario Kart Wii      Wii           2008.0        Racing     15.68   \n",
       "3         Wii Sports Resort      Wii           2009.0        Sports     15.61   \n",
       "4  Pokemon Red/Pokemon Blue       GB           1996.0  Role-Playing     11.27   \n",
       "\n",
       "   EU_sales  JP_sales  Other_sales  Critic_Score User_Score Rating  \n",
       "0     28.96      3.77         8.45          76.0          8      E  \n",
       "1      3.58      6.81         0.77           NaN        NaN    NaN  \n",
       "2     12.76      3.79         3.29          82.0        8.3      E  \n",
       "3     10.93      3.28         2.95          80.0          8      E  \n",
       "4      8.89     10.22         1.00           NaN        NaN    NaN  "
      ]
     },
     "execution_count": 3,
     "metadata": {},
     "output_type": "execute_result"
    }
   ],
   "source": [
    "data.head()"
   ]
  },
  {
   "cell_type": "code",
   "execution_count": 4,
   "metadata": {},
   "outputs": [
    {
     "name": "stdout",
     "output_type": "stream",
     "text": [
      "<class 'pandas.core.frame.DataFrame'>\n",
      "RangeIndex: 16715 entries, 0 to 16714\n",
      "Data columns (total 11 columns):\n",
      " #   Column           Non-Null Count  Dtype  \n",
      "---  ------           --------------  -----  \n",
      " 0   Name             16713 non-null  object \n",
      " 1   Platform         16715 non-null  object \n",
      " 2   Year_of_Release  16446 non-null  float64\n",
      " 3   Genre            16713 non-null  object \n",
      " 4   NA_sales         16715 non-null  float64\n",
      " 5   EU_sales         16715 non-null  float64\n",
      " 6   JP_sales         16715 non-null  float64\n",
      " 7   Other_sales      16715 non-null  float64\n",
      " 8   Critic_Score     8137 non-null   float64\n",
      " 9   User_Score       10014 non-null  object \n",
      " 10  Rating           9949 non-null   object \n",
      "dtypes: float64(6), object(5)\n",
      "memory usage: 1.4+ MB\n"
     ]
    }
   ],
   "source": [
    "data.info()"
   ]
  },
  {
   "cell_type": "markdown",
   "metadata": {},
   "source": [
    "В стоблцах name, Year_of_Release, Genre, Critic_Score, User_Score, Rating присутсвуют пропуски, на дальнейшем шаге обработаем их. Пропуски могли возникнуть из-за человеческой ошибки, если поля были необязательны. Также, на следующем шаге изменим тип данных в некоторых столбцах на более подходящий. "
   ]
  },
  {
   "cell_type": "markdown",
   "metadata": {},
   "source": [
    "<b>Шаг 2. Подготовка данных</b>"
   ]
  },
  {
   "cell_type": "markdown",
   "metadata": {},
   "source": [
    "приведем названия столбцов к единому регистру для удобства дальнейшего анализа данных. "
   ]
  },
  {
   "cell_type": "code",
   "execution_count": 5,
   "metadata": {},
   "outputs": [
    {
     "data": {
      "text/html": [
       "<div>\n",
       "<style scoped>\n",
       "    .dataframe tbody tr th:only-of-type {\n",
       "        vertical-align: middle;\n",
       "    }\n",
       "\n",
       "    .dataframe tbody tr th {\n",
       "        vertical-align: top;\n",
       "    }\n",
       "\n",
       "    .dataframe thead th {\n",
       "        text-align: right;\n",
       "    }\n",
       "</style>\n",
       "<table border=\"1\" class=\"dataframe\">\n",
       "  <thead>\n",
       "    <tr style=\"text-align: right;\">\n",
       "      <th></th>\n",
       "      <th>name</th>\n",
       "      <th>platform</th>\n",
       "      <th>year_of_release</th>\n",
       "      <th>genre</th>\n",
       "      <th>na_sales</th>\n",
       "      <th>eu_sales</th>\n",
       "      <th>jp_sales</th>\n",
       "      <th>other_sales</th>\n",
       "      <th>critic_score</th>\n",
       "      <th>user_score</th>\n",
       "      <th>rating</th>\n",
       "    </tr>\n",
       "  </thead>\n",
       "  <tbody>\n",
       "    <tr>\n",
       "      <th>0</th>\n",
       "      <td>Wii Sports</td>\n",
       "      <td>Wii</td>\n",
       "      <td>2006.0</td>\n",
       "      <td>Sports</td>\n",
       "      <td>41.36</td>\n",
       "      <td>28.96</td>\n",
       "      <td>3.77</td>\n",
       "      <td>8.45</td>\n",
       "      <td>76.0</td>\n",
       "      <td>8</td>\n",
       "      <td>E</td>\n",
       "    </tr>\n",
       "    <tr>\n",
       "      <th>1</th>\n",
       "      <td>Super Mario Bros.</td>\n",
       "      <td>NES</td>\n",
       "      <td>1985.0</td>\n",
       "      <td>Platform</td>\n",
       "      <td>29.08</td>\n",
       "      <td>3.58</td>\n",
       "      <td>6.81</td>\n",
       "      <td>0.77</td>\n",
       "      <td>NaN</td>\n",
       "      <td>NaN</td>\n",
       "      <td>NaN</td>\n",
       "    </tr>\n",
       "    <tr>\n",
       "      <th>2</th>\n",
       "      <td>Mario Kart Wii</td>\n",
       "      <td>Wii</td>\n",
       "      <td>2008.0</td>\n",
       "      <td>Racing</td>\n",
       "      <td>15.68</td>\n",
       "      <td>12.76</td>\n",
       "      <td>3.79</td>\n",
       "      <td>3.29</td>\n",
       "      <td>82.0</td>\n",
       "      <td>8.3</td>\n",
       "      <td>E</td>\n",
       "    </tr>\n",
       "    <tr>\n",
       "      <th>3</th>\n",
       "      <td>Wii Sports Resort</td>\n",
       "      <td>Wii</td>\n",
       "      <td>2009.0</td>\n",
       "      <td>Sports</td>\n",
       "      <td>15.61</td>\n",
       "      <td>10.93</td>\n",
       "      <td>3.28</td>\n",
       "      <td>2.95</td>\n",
       "      <td>80.0</td>\n",
       "      <td>8</td>\n",
       "      <td>E</td>\n",
       "    </tr>\n",
       "    <tr>\n",
       "      <th>4</th>\n",
       "      <td>Pokemon Red/Pokemon Blue</td>\n",
       "      <td>GB</td>\n",
       "      <td>1996.0</td>\n",
       "      <td>Role-Playing</td>\n",
       "      <td>11.27</td>\n",
       "      <td>8.89</td>\n",
       "      <td>10.22</td>\n",
       "      <td>1.00</td>\n",
       "      <td>NaN</td>\n",
       "      <td>NaN</td>\n",
       "      <td>NaN</td>\n",
       "    </tr>\n",
       "  </tbody>\n",
       "</table>\n",
       "</div>"
      ],
      "text/plain": [
       "                       name platform  year_of_release         genre  na_sales  \\\n",
       "0                Wii Sports      Wii           2006.0        Sports     41.36   \n",
       "1         Super Mario Bros.      NES           1985.0      Platform     29.08   \n",
       "2            Mario Kart Wii      Wii           2008.0        Racing     15.68   \n",
       "3         Wii Sports Resort      Wii           2009.0        Sports     15.61   \n",
       "4  Pokemon Red/Pokemon Blue       GB           1996.0  Role-Playing     11.27   \n",
       "\n",
       "   eu_sales  jp_sales  other_sales  critic_score user_score rating  \n",
       "0     28.96      3.77         8.45          76.0          8      E  \n",
       "1      3.58      6.81         0.77           NaN        NaN    NaN  \n",
       "2     12.76      3.79         3.29          82.0        8.3      E  \n",
       "3     10.93      3.28         2.95          80.0          8      E  \n",
       "4      8.89     10.22         1.00           NaN        NaN    NaN  "
      ]
     },
     "execution_count": 5,
     "metadata": {},
     "output_type": "execute_result"
    }
   ],
   "source": [
    "data.columns = data.columns.map(str.lower) \n",
    "data.head()"
   ]
  },
  {
   "cell_type": "markdown",
   "metadata": {},
   "source": [
    "Теперь изменим тип данных в некоторых столбцах:\n",
    "- year_of_release изменим на int32, поскольку год - это целое число и нам не нужен тип float, но из-за наличия пропусков мы не можем применить просто int\n",
    "- critic_score тоже меняем на int32 по аналогичным причинам\n"
   ]
  },
  {
   "cell_type": "code",
   "execution_count": 6,
   "metadata": {},
   "outputs": [
    {
     "name": "stdout",
     "output_type": "stream",
     "text": [
      "<class 'pandas.core.frame.DataFrame'>\n",
      "RangeIndex: 16715 entries, 0 to 16714\n",
      "Data columns (total 11 columns):\n",
      " #   Column           Non-Null Count  Dtype  \n",
      "---  ------           --------------  -----  \n",
      " 0   name             16713 non-null  object \n",
      " 1   platform         16715 non-null  object \n",
      " 2   year_of_release  16446 non-null  Int32  \n",
      " 3   genre            16713 non-null  object \n",
      " 4   na_sales         16715 non-null  float64\n",
      " 5   eu_sales         16715 non-null  float64\n",
      " 6   jp_sales         16715 non-null  float64\n",
      " 7   other_sales      16715 non-null  float64\n",
      " 8   critic_score     8137 non-null   Int32  \n",
      " 9   user_score       10014 non-null  object \n",
      " 10  rating           9949 non-null   object \n",
      "dtypes: Int32(2), float64(4), object(5)\n",
      "memory usage: 1.3+ MB\n"
     ]
    }
   ],
   "source": [
    "data['year_of_release'] = data['year_of_release'].astype('Int32')\n",
    "data['critic_score'] = data['critic_score'].astype('Int32')\n",
    "\n",
    "data.info()"
   ]
  },
  {
   "cell_type": "markdown",
   "metadata": {},
   "source": [
    "Теперь обработаем пропуски. В первом шаге мы выяснили, что они встречаются в стобцах year_of_release, genre, critic_score, user_score, rating. Посмотрим на их количество и процент пропусков относительно всего количества данных в столбце. "
   ]
  },
  {
   "cell_type": "code",
   "execution_count": 7,
   "metadata": {},
   "outputs": [
    {
     "data": {
      "text/plain": [
       "name                  2\n",
       "platform              0\n",
       "year_of_release     269\n",
       "genre                 2\n",
       "na_sales              0\n",
       "eu_sales              0\n",
       "jp_sales              0\n",
       "other_sales           0\n",
       "critic_score       8578\n",
       "user_score         6701\n",
       "rating             6766\n",
       "dtype: int64"
      ]
     },
     "execution_count": 7,
     "metadata": {},
     "output_type": "execute_result"
    }
   ],
   "source": [
    "data.isna().sum()"
   ]
  },
  {
   "cell_type": "code",
   "execution_count": 8,
   "metadata": {},
   "outputs": [
    {
     "data": {
      "text/plain": [
       "name               0.000120\n",
       "platform           0.000000\n",
       "year_of_release    0.016093\n",
       "genre              0.000120\n",
       "na_sales           0.000000\n",
       "eu_sales           0.000000\n",
       "jp_sales           0.000000\n",
       "other_sales        0.000000\n",
       "critic_score       0.513192\n",
       "user_score         0.400897\n",
       "rating             0.404786\n",
       "dtype: float64"
      ]
     },
     "execution_count": 8,
     "metadata": {},
     "output_type": "execute_result"
    }
   ],
   "source": [
    "(data.isna().sum())/len(data)"
   ]
  },
  {
   "cell_type": "markdown",
   "metadata": {},
   "source": [
    "В столбцах name и genre хранятся категориальные значения, которые лучше ничем не заменять. В них одинаковое количество пропусков, проверим, не из одной ли они строки. "
   ]
  },
  {
   "cell_type": "code",
   "execution_count": 9,
   "metadata": {},
   "outputs": [
    {
     "data": {
      "text/html": [
       "<div>\n",
       "<style scoped>\n",
       "    .dataframe tbody tr th:only-of-type {\n",
       "        vertical-align: middle;\n",
       "    }\n",
       "\n",
       "    .dataframe tbody tr th {\n",
       "        vertical-align: top;\n",
       "    }\n",
       "\n",
       "    .dataframe thead th {\n",
       "        text-align: right;\n",
       "    }\n",
       "</style>\n",
       "<table border=\"1\" class=\"dataframe\">\n",
       "  <thead>\n",
       "    <tr style=\"text-align: right;\">\n",
       "      <th></th>\n",
       "      <th>name</th>\n",
       "      <th>platform</th>\n",
       "      <th>year_of_release</th>\n",
       "      <th>genre</th>\n",
       "      <th>na_sales</th>\n",
       "      <th>eu_sales</th>\n",
       "      <th>jp_sales</th>\n",
       "      <th>other_sales</th>\n",
       "      <th>critic_score</th>\n",
       "      <th>user_score</th>\n",
       "      <th>rating</th>\n",
       "    </tr>\n",
       "  </thead>\n",
       "  <tbody>\n",
       "    <tr>\n",
       "      <th>659</th>\n",
       "      <td>NaN</td>\n",
       "      <td>GEN</td>\n",
       "      <td>1993</td>\n",
       "      <td>NaN</td>\n",
       "      <td>1.78</td>\n",
       "      <td>0.53</td>\n",
       "      <td>0.00</td>\n",
       "      <td>0.08</td>\n",
       "      <td>&lt;NA&gt;</td>\n",
       "      <td>NaN</td>\n",
       "      <td>NaN</td>\n",
       "    </tr>\n",
       "    <tr>\n",
       "      <th>14244</th>\n",
       "      <td>NaN</td>\n",
       "      <td>GEN</td>\n",
       "      <td>1993</td>\n",
       "      <td>NaN</td>\n",
       "      <td>0.00</td>\n",
       "      <td>0.00</td>\n",
       "      <td>0.03</td>\n",
       "      <td>0.00</td>\n",
       "      <td>&lt;NA&gt;</td>\n",
       "      <td>NaN</td>\n",
       "      <td>NaN</td>\n",
       "    </tr>\n",
       "  </tbody>\n",
       "</table>\n",
       "</div>"
      ],
      "text/plain": [
       "      name platform  year_of_release genre  na_sales  eu_sales  jp_sales  \\\n",
       "659    NaN      GEN             1993   NaN      1.78      0.53      0.00   \n",
       "14244  NaN      GEN             1993   NaN      0.00      0.00      0.03   \n",
       "\n",
       "       other_sales  critic_score user_score rating  \n",
       "659           0.08          <NA>        NaN    NaN  \n",
       "14244         0.00          <NA>        NaN    NaN  "
      ]
     },
     "execution_count": 9,
     "metadata": {},
     "output_type": "execute_result"
    }
   ],
   "source": [
    "data[data['name'].isna()==True]"
   ]
  },
  {
   "cell_type": "markdown",
   "metadata": {},
   "source": [
    "Удалим эти строки, так как только они не имеют название и жанр. Скорее всего они возникли из-за технической ошибки. "
   ]
  },
  {
   "cell_type": "code",
   "execution_count": 10,
   "metadata": {},
   "outputs": [
    {
     "data": {
      "text/plain": [
       "name                  0\n",
       "platform              0\n",
       "year_of_release     269\n",
       "genre                 0\n",
       "na_sales              0\n",
       "eu_sales              0\n",
       "jp_sales              0\n",
       "other_sales           0\n",
       "critic_score       8576\n",
       "user_score         6699\n",
       "rating             6764\n",
       "dtype: int64"
      ]
     },
     "execution_count": 10,
     "metadata": {},
     "output_type": "execute_result"
    }
   ],
   "source": [
    "data = data.dropna(subset=['name'])\n",
    "data.isna().sum()"
   ]
  },
  {
   "cell_type": "markdown",
   "metadata": {},
   "source": [
    "Пропуски в столбце со значением года заполнять не будем, поскольку нельзя подобрать значение, которое не исказит дальнейший анализ. "
   ]
  },
  {
   "cell_type": "markdown",
   "metadata": {},
   "source": [
    "Скорее всего пропуски в столбцах critic_score, user_score, rating связаны с отсутствием таких данных по этим играм.\n",
    "Их процент относительно всех данных в этих столбцах довольно большой, около половины в каждом, заполнение или избавление от них может существенно исказить анализ, оставляем эти пропуски без изменений. "
   ]
  },
  {
   "cell_type": "code",
   "execution_count": 11,
   "metadata": {},
   "outputs": [
    {
     "data": {
      "text/plain": [
       "array(['8', nan, '8.3', '8.5', '6.6', '8.4', '8.6', '7.7', '6.3', '7.4',\n",
       "       '8.2', '9', '7.9', '8.1', '8.7', '7.1', '3.4', '5.3', '4.8', '3.2',\n",
       "       '8.9', '6.4', '7.8', '7.5', '2.6', '7.2', '9.2', '7', '7.3', '4.3',\n",
       "       '7.6', '5.7', '5', '9.1', '6.5', 'tbd', '8.8', '6.9', '9.4', '6.8',\n",
       "       '6.1', '6.7', '5.4', '4', '4.9', '4.5', '9.3', '6.2', '4.2', '6',\n",
       "       '3.7', '4.1', '5.8', '5.6', '5.5', '4.4', '4.6', '5.9', '3.9',\n",
       "       '3.1', '2.9', '5.2', '3.3', '4.7', '5.1', '3.5', '2.5', '1.9', '3',\n",
       "       '2.7', '2.2', '2', '9.5', '2.1', '3.6', '2.8', '1.8', '3.8', '0',\n",
       "       '1.6', '9.6', '2.4', '1.7', '1.1', '0.3', '1.5', '0.7', '1.2',\n",
       "       '2.3', '0.5', '1.3', '0.2', '0.6', '1.4', '0.9', '1', '9.7'],\n",
       "      dtype=object)"
      ]
     },
     "execution_count": 11,
     "metadata": {},
     "output_type": "execute_result"
    }
   ],
   "source": [
    "data['user_score'].unique()"
   ]
  },
  {
   "cell_type": "markdown",
   "metadata": {},
   "source": [
    "Помимо пропумков в столбце user_score встречается аббревиатура tbd, она расшифровывается как to be determined, что значит будет определено. Скорее всего они возникли из-за недостаточного количетво отзывов, чтобы выставить игре оценку пользователей. \n",
    "tbd означает, что оценки пока нет, что равно пропуску (NaN). Произведем замену."
   ]
  },
  {
   "cell_type": "code",
   "execution_count": 12,
   "metadata": {},
   "outputs": [
    {
     "data": {
      "text/plain": [
       "name                  0\n",
       "platform              0\n",
       "year_of_release     269\n",
       "genre                 0\n",
       "na_sales              0\n",
       "eu_sales              0\n",
       "jp_sales              0\n",
       "other_sales           0\n",
       "critic_score       8576\n",
       "user_score         9123\n",
       "rating             6764\n",
       "dtype: int64"
      ]
     },
     "execution_count": 12,
     "metadata": {},
     "output_type": "execute_result"
    }
   ],
   "source": [
    "data['user_score'] = data['user_score'].replace('tbd', float('nan'))\n",
    "data.isna().sum()"
   ]
  },
  {
   "cell_type": "markdown",
   "metadata": {},
   "source": [
    "Добавим столбец, в котором будут храниться суммарные продажи во всех регионах. "
   ]
  },
  {
   "cell_type": "code",
   "execution_count": 13,
   "metadata": {},
   "outputs": [
    {
     "data": {
      "text/html": [
       "<div>\n",
       "<style scoped>\n",
       "    .dataframe tbody tr th:only-of-type {\n",
       "        vertical-align: middle;\n",
       "    }\n",
       "\n",
       "    .dataframe tbody tr th {\n",
       "        vertical-align: top;\n",
       "    }\n",
       "\n",
       "    .dataframe thead th {\n",
       "        text-align: right;\n",
       "    }\n",
       "</style>\n",
       "<table border=\"1\" class=\"dataframe\">\n",
       "  <thead>\n",
       "    <tr style=\"text-align: right;\">\n",
       "      <th></th>\n",
       "      <th>name</th>\n",
       "      <th>platform</th>\n",
       "      <th>year_of_release</th>\n",
       "      <th>genre</th>\n",
       "      <th>na_sales</th>\n",
       "      <th>eu_sales</th>\n",
       "      <th>jp_sales</th>\n",
       "      <th>other_sales</th>\n",
       "      <th>critic_score</th>\n",
       "      <th>user_score</th>\n",
       "      <th>rating</th>\n",
       "      <th>total_sales</th>\n",
       "    </tr>\n",
       "  </thead>\n",
       "  <tbody>\n",
       "    <tr>\n",
       "      <th>0</th>\n",
       "      <td>Wii Sports</td>\n",
       "      <td>Wii</td>\n",
       "      <td>2006</td>\n",
       "      <td>Sports</td>\n",
       "      <td>41.36</td>\n",
       "      <td>28.96</td>\n",
       "      <td>3.77</td>\n",
       "      <td>8.45</td>\n",
       "      <td>76</td>\n",
       "      <td>8</td>\n",
       "      <td>E</td>\n",
       "      <td>82.54</td>\n",
       "    </tr>\n",
       "    <tr>\n",
       "      <th>1</th>\n",
       "      <td>Super Mario Bros.</td>\n",
       "      <td>NES</td>\n",
       "      <td>1985</td>\n",
       "      <td>Platform</td>\n",
       "      <td>29.08</td>\n",
       "      <td>3.58</td>\n",
       "      <td>6.81</td>\n",
       "      <td>0.77</td>\n",
       "      <td>&lt;NA&gt;</td>\n",
       "      <td>NaN</td>\n",
       "      <td>NaN</td>\n",
       "      <td>40.24</td>\n",
       "    </tr>\n",
       "    <tr>\n",
       "      <th>2</th>\n",
       "      <td>Mario Kart Wii</td>\n",
       "      <td>Wii</td>\n",
       "      <td>2008</td>\n",
       "      <td>Racing</td>\n",
       "      <td>15.68</td>\n",
       "      <td>12.76</td>\n",
       "      <td>3.79</td>\n",
       "      <td>3.29</td>\n",
       "      <td>82</td>\n",
       "      <td>8.3</td>\n",
       "      <td>E</td>\n",
       "      <td>35.52</td>\n",
       "    </tr>\n",
       "    <tr>\n",
       "      <th>3</th>\n",
       "      <td>Wii Sports Resort</td>\n",
       "      <td>Wii</td>\n",
       "      <td>2009</td>\n",
       "      <td>Sports</td>\n",
       "      <td>15.61</td>\n",
       "      <td>10.93</td>\n",
       "      <td>3.28</td>\n",
       "      <td>2.95</td>\n",
       "      <td>80</td>\n",
       "      <td>8</td>\n",
       "      <td>E</td>\n",
       "      <td>32.77</td>\n",
       "    </tr>\n",
       "    <tr>\n",
       "      <th>4</th>\n",
       "      <td>Pokemon Red/Pokemon Blue</td>\n",
       "      <td>GB</td>\n",
       "      <td>1996</td>\n",
       "      <td>Role-Playing</td>\n",
       "      <td>11.27</td>\n",
       "      <td>8.89</td>\n",
       "      <td>10.22</td>\n",
       "      <td>1.00</td>\n",
       "      <td>&lt;NA&gt;</td>\n",
       "      <td>NaN</td>\n",
       "      <td>NaN</td>\n",
       "      <td>31.38</td>\n",
       "    </tr>\n",
       "  </tbody>\n",
       "</table>\n",
       "</div>"
      ],
      "text/plain": [
       "                       name platform  year_of_release         genre  na_sales  \\\n",
       "0                Wii Sports      Wii             2006        Sports     41.36   \n",
       "1         Super Mario Bros.      NES             1985      Platform     29.08   \n",
       "2            Mario Kart Wii      Wii             2008        Racing     15.68   \n",
       "3         Wii Sports Resort      Wii             2009        Sports     15.61   \n",
       "4  Pokemon Red/Pokemon Blue       GB             1996  Role-Playing     11.27   \n",
       "\n",
       "   eu_sales  jp_sales  other_sales  critic_score user_score rating  \\\n",
       "0     28.96      3.77         8.45            76          8      E   \n",
       "1      3.58      6.81         0.77          <NA>        NaN    NaN   \n",
       "2     12.76      3.79         3.29            82        8.3      E   \n",
       "3     10.93      3.28         2.95            80          8      E   \n",
       "4      8.89     10.22         1.00          <NA>        NaN    NaN   \n",
       "\n",
       "   total_sales  \n",
       "0        82.54  \n",
       "1        40.24  \n",
       "2        35.52  \n",
       "3        32.77  \n",
       "4        31.38  "
      ]
     },
     "execution_count": 13,
     "metadata": {},
     "output_type": "execute_result"
    }
   ],
   "source": [
    "data['total_sales'] = data['na_sales'] + data['eu_sales'] + data['jp_sales'] + data['other_sales']\n",
    "data.head()"
   ]
  },
  {
   "cell_type": "markdown",
   "metadata": {},
   "source": [
    "Пропуски обработаны, тип данных и названия столбцов приведены в удобный вид, также добавлен столбец с подсчетом продаж со всех регионов, можем преходить к дальнейшему анализу. "
   ]
  },
  {
   "cell_type": "markdown",
   "metadata": {},
   "source": [
    "<b>Шаг 3. Исследовательский анализ данных</b>"
   ]
  },
  {
   "cell_type": "markdown",
   "metadata": {},
   "source": [
    "Проверим сколько игр выпускалось в разные годы и определим, какой период времени выпуска нам стоит учитывать. "
   ]
  },
  {
   "cell_type": "code",
   "execution_count": 14,
   "metadata": {},
   "outputs": [
    {
     "data": {
      "text/plain": [
       "2008    1427\n",
       "2009    1426\n",
       "2010    1255\n",
       "2007    1197\n",
       "2011    1136\n",
       "2006    1006\n",
       "2005     939\n",
       "2002     829\n",
       "2003     775\n",
       "2004     762\n",
       "2012     653\n",
       "2015     606\n",
       "2014     581\n",
       "2013     544\n",
       "2016     502\n",
       "2001     482\n",
       "1998     379\n",
       "2000     350\n",
       "1999     338\n",
       "1997     289\n",
       "1996     263\n",
       "1995     219\n",
       "1994     121\n",
       "1993      60\n",
       "1981      46\n",
       "1992      43\n",
       "1991      41\n",
       "1982      36\n",
       "1986      21\n",
       "1983      17\n",
       "1989      17\n",
       "1990      16\n",
       "1987      16\n",
       "1988      15\n",
       "1985      14\n",
       "1984      14\n",
       "1980       9\n",
       "Name: year_of_release, dtype: Int64"
      ]
     },
     "execution_count": 14,
     "metadata": {},
     "output_type": "execute_result"
    }
   ],
   "source": [
    "data['year_of_release'].value_counts()"
   ]
  },
  {
   "cell_type": "code",
   "execution_count": 15,
   "metadata": {},
   "outputs": [
    {
     "data": {
      "text/plain": [
       "Text(0, 0.5, 'Количество игр')"
      ]
     },
     "execution_count": 15,
     "metadata": {},
     "output_type": "execute_result"
    },
    {
     "data": {
      "image/png": "[encoded data removed]",
      "text/plain": [
       "<Figure size 1440x1440 with 1 Axes>"
      ]
     },
     "metadata": {
      "needs_background": "light"
     },
     "output_type": "display_data"
    }
   ],
   "source": [
    "data['year_of_release'].value_counts().plot(kind='bar', title='количество игр по годам', figsize=(20,20))\n",
    "plt.xlabel('Год выпуска')\n",
    "plt.ylabel('Количество игр')"
   ]
  },
  {
   "cell_type": "markdown",
   "metadata": {},
   "source": [
    "Нам не важны все периоды, поскольку в некоторые года данных слишком мало, а также прошло много времени и они могли устареть. Также 2016 год кажется подозрительным, данные за него могут быть не полными. "
   ]
  },
  {
   "cell_type": "markdown",
   "metadata": {},
   "source": [
    "Теперь изучим, как менялись продажи по платформам. "
   ]
  },
  {
   "cell_type": "code",
   "execution_count": 16,
   "metadata": {},
   "outputs": [
    {
     "data": {
      "text/plain": [
       "platform\n",
       "PS2     1255.77\n",
       "X360     971.42\n",
       "PS3      939.65\n",
       "Wii      907.51\n",
       "DS       806.12\n",
       "PS       730.86\n",
       "GBA      317.85\n",
       "PS4      314.14\n",
       "PSP      294.05\n",
       "PC       259.52\n",
       "3DS      259.00\n",
       "XB       257.74\n",
       "GB       255.46\n",
       "NES      251.05\n",
       "N64      218.68\n",
       "SNES     200.04\n",
       "GC       198.93\n",
       "XOne     159.32\n",
       "2600      96.98\n",
       "WiiU      82.19\n",
       "PSV       54.07\n",
       "SAT       33.59\n",
       "GEN       28.35\n",
       "DC        15.95\n",
       "SCD        1.86\n",
       "NG         1.44\n",
       "WS         1.42\n",
       "TG16       0.16\n",
       "3DO        0.10\n",
       "GG         0.04\n",
       "PCFX       0.03\n",
       "Name: total_sales, dtype: float64"
      ]
     },
     "execution_count": 16,
     "metadata": {},
     "output_type": "execute_result"
    }
   ],
   "source": [
    "data.groupby('platform')['total_sales'].sum().sort_values(ascending=False)"
   ]
  },
  {
   "cell_type": "markdown",
   "metadata": {},
   "source": [
    "Платформы с наибольшими продажами это: PS2, X360, PS3, Wii, DS, PS- построим для них распределение по годам.  Продажи на других платформах уже сильно ниже. "
   ]
  },
  {
   "cell_type": "code",
   "execution_count": 17,
   "metadata": {},
   "outputs": [
    {
     "data": {
      "text/plain": [
       "Text(0, 0.5, 'Продажи')"
      ]
     },
     "execution_count": 17,
     "metadata": {},
     "output_type": "execute_result"
    },
    {
     "data": {
      "image/png": "[encoded data removed]",
      "text/plain": [
       "<Figure size 432x288 with 1 Axes>"
      ]
     },
     "metadata": {
      "needs_background": "light"
     },
     "output_type": "display_data"
    }
   ],
   "source": [
    "data.query('platform==\"PS2\"').groupby('year_of_release')['total_sales'].sum().plot(grid='True', title='распределение продаж по годам платформы PS2', marker='o')\n",
    "plt.xlabel('Год выпуска')\n",
    "plt.ylabel('Продажи')"
   ]
  },
  {
   "cell_type": "code",
   "execution_count": 18,
   "metadata": {},
   "outputs": [
    {
     "data": {
      "text/plain": [
       "Text(0, 0.5, 'Продажи')"
      ]
     },
     "execution_count": 18,
     "metadata": {},
     "output_type": "execute_result"
    },
    {
     "data": {
      "image/png": "[encoded data removed]",
      "text/plain": [
       "<Figure size 432x288 with 1 Axes>"
      ]
     },
     "metadata": {
      "needs_background": "light"
     },
     "output_type": "display_data"
    }
   ],
   "source": [
    "data.query('platform==\"X360\"').groupby('year_of_release')['total_sales'].sum().plot(grid='True', title='распределение продаж по годам платформы X360', marker='o')\n",
    "plt.xlabel('Год выпуска')\n",
    "plt.ylabel('Продажи')"
   ]
  },
  {
   "cell_type": "code",
   "execution_count": 19,
   "metadata": {},
   "outputs": [
    {
     "data": {
      "text/plain": [
       "Text(0, 0.5, 'Продажи')"
      ]
     },
     "execution_count": 19,
     "metadata": {},
     "output_type": "execute_result"
    },
    {
     "data": {
      "image/png": "[encoded data removed]",
      "text/plain": [
       "<Figure size 432x288 with 1 Axes>"
      ]
     },
     "metadata": {
      "needs_background": "light"
     },
     "output_type": "display_data"
    }
   ],
   "source": [
    "data.query('platform==\"PS3\"').groupby('year_of_release')['total_sales'].sum().plot(grid='True', title='распределение продаж по годам платформы PS3', marker='o')\n",
    "plt.xlabel('Год выпуска')\n",
    "plt.ylabel('Продажи')"
   ]
  },
  {
   "cell_type": "code",
   "execution_count": 20,
   "metadata": {},
   "outputs": [
    {
     "data": {
      "text/plain": [
       "Text(0, 0.5, 'Продажи')"
      ]
     },
     "execution_count": 20,
     "metadata": {},
     "output_type": "execute_result"
    },
    {
     "data": {
      "image/png": "[encoded data removed]",
      "text/plain": [
       "<Figure size 432x288 with 1 Axes>"
      ]
     },
     "metadata": {
      "needs_background": "light"
     },
     "output_type": "display_data"
    }
   ],
   "source": [
    "data.query('platform==\"Wii\"').groupby('year_of_release')['total_sales'].sum().plot(grid='True', title='распределение продаж по годам платформы Wii', marker='o')\n",
    "plt.xlabel('Год выпуска')\n",
    "plt.ylabel('Продажи')"
   ]
  },
  {
   "cell_type": "code",
   "execution_count": 21,
   "metadata": {},
   "outputs": [
    {
     "data": {
      "text/plain": [
       "Text(0, 0.5, 'Продажи')"
      ]
     },
     "execution_count": 21,
     "metadata": {},
     "output_type": "execute_result"
    },
    {
     "data": {
      "image/png": "[encoded data removed]",
      "text/plain": [
       "<Figure size 432x288 with 1 Axes>"
      ]
     },
     "metadata": {
      "needs_background": "light"
     },
     "output_type": "display_data"
    }
   ],
   "source": [
    "data.query('platform==\"DS\"').groupby('year_of_release')['total_sales'].sum().plot(grid='True', title='распределение продаж по годам платформы DS', marker='o')\n",
    "plt.xlabel('Год выпуска')\n",
    "plt.ylabel('Продажи')"
   ]
  },
  {
   "cell_type": "code",
   "execution_count": 22,
   "metadata": {},
   "outputs": [
    {
     "data": {
      "text/plain": [
       "Text(0, 0.5, 'Продажи')"
      ]
     },
     "execution_count": 22,
     "metadata": {},
     "output_type": "execute_result"
    },
    {
     "data": {
      "image/png": "[encoded data removed]",
      "text/plain": [
       "<Figure size 432x288 with 1 Axes>"
      ]
     },
     "metadata": {
      "needs_background": "light"
     },
     "output_type": "display_data"
    }
   ],
   "source": [
    "data.query('platform==\"PS\"').groupby('year_of_release')['total_sales'].sum().plot(grid='True', title='распределение продаж по годам платформы PS', marker='o')\n",
    "plt.xlabel('Год выпуска')\n",
    "plt.ylabel('Продажи')"
   ]
  },
  {
   "cell_type": "markdown",
   "metadata": {},
   "source": [
    "<b>PS2</b>\n",
    "- Игры выпускались с 2000 по 2012 года, т.е. 13 лет.\n",
    "- Пик продаж приходится на 2002–2004 годы.\n",
    "\n",
    "<b>X360</b>\n",
    "- Игры выпускались с 2005 по 2015 года, т.е. 11 лет.\n",
    "- Пик продаж приходится на 2007–2011 годы.\n",
    "\n",
    "<b>PS3</b>\n",
    "- Игры выпускались с 2006 по 2015 года, т.е. 10 лет.\n",
    "- Пик продаж приходится на 2008–2012 годы.\n",
    "\n",
    "<b>Wii</b>\n",
    "- Игры выпускались с 2006 по 2013 года, т.е. 8 лет.\n",
    "- Пик продаж приходится на 2006–2009 годы.\n",
    "\n",
    "<b>DS</b>\n",
    "- Игры выпускались с 2004 по 2012 года, т.е. 9 лет.\n",
    "- Пик продаж приходится на 2005–2008 годы.\n",
    "\n",
    "<b>PS</b>\n",
    "- Игры выпускались с 1994 по 2003 года, т.е. 10 лет.\n",
    "- Пик продаж приходится на 1997–1999 годы.\n",
    "\n",
    "Из этого можем сделать вывод, что средняя продолжительность работы платформы состовляет 10 лет, а каждые 5-7 появляются новые. "
   ]
  },
  {
   "cell_type": "markdown",
   "metadata": {},
   "source": [
    "Актуальным периодом для построения прогноза на 2017 год являются 2011-2015 года. Он охватывает последние 4 года, в половину средней продолжительности работы платформы, а значит, именно платформы этих лет будут влиять на рынок в 2017 году. Также этот период содержит достаточное количество данных (около или больше 600 игр в каждом), 2016 не включаем из-за его неполноты. \n",
    "\n",
    "Выделим этот период и в дальнейшем будем работать именно с ним. "
   ]
  },
  {
   "cell_type": "code",
   "execution_count": 23,
   "metadata": {},
   "outputs": [
    {
     "data": {
      "text/html": [
       "<div>\n",
       "<style scoped>\n",
       "    .dataframe tbody tr th:only-of-type {\n",
       "        vertical-align: middle;\n",
       "    }\n",
       "\n",
       "    .dataframe tbody tr th {\n",
       "        vertical-align: top;\n",
       "    }\n",
       "\n",
       "    .dataframe thead th {\n",
       "        text-align: right;\n",
       "    }\n",
       "</style>\n",
       "<table border=\"1\" class=\"dataframe\">\n",
       "  <thead>\n",
       "    <tr style=\"text-align: right;\">\n",
       "      <th></th>\n",
       "      <th>name</th>\n",
       "      <th>platform</th>\n",
       "      <th>year_of_release</th>\n",
       "      <th>genre</th>\n",
       "      <th>na_sales</th>\n",
       "      <th>eu_sales</th>\n",
       "      <th>jp_sales</th>\n",
       "      <th>other_sales</th>\n",
       "      <th>critic_score</th>\n",
       "      <th>user_score</th>\n",
       "      <th>rating</th>\n",
       "      <th>total_sales</th>\n",
       "    </tr>\n",
       "  </thead>\n",
       "  <tbody>\n",
       "    <tr>\n",
       "      <th>16</th>\n",
       "      <td>Grand Theft Auto V</td>\n",
       "      <td>PS3</td>\n",
       "      <td>2013</td>\n",
       "      <td>Action</td>\n",
       "      <td>7.02</td>\n",
       "      <td>9.09</td>\n",
       "      <td>0.98</td>\n",
       "      <td>3.96</td>\n",
       "      <td>97</td>\n",
       "      <td>8.2</td>\n",
       "      <td>M</td>\n",
       "      <td>21.05</td>\n",
       "    </tr>\n",
       "    <tr>\n",
       "      <th>23</th>\n",
       "      <td>Grand Theft Auto V</td>\n",
       "      <td>X360</td>\n",
       "      <td>2013</td>\n",
       "      <td>Action</td>\n",
       "      <td>9.66</td>\n",
       "      <td>5.14</td>\n",
       "      <td>0.06</td>\n",
       "      <td>1.41</td>\n",
       "      <td>97</td>\n",
       "      <td>8.1</td>\n",
       "      <td>M</td>\n",
       "      <td>16.27</td>\n",
       "    </tr>\n",
       "    <tr>\n",
       "      <th>29</th>\n",
       "      <td>Call of Duty: Modern Warfare 3</td>\n",
       "      <td>X360</td>\n",
       "      <td>2011</td>\n",
       "      <td>Shooter</td>\n",
       "      <td>9.04</td>\n",
       "      <td>4.24</td>\n",
       "      <td>0.13</td>\n",
       "      <td>1.32</td>\n",
       "      <td>88</td>\n",
       "      <td>3.4</td>\n",
       "      <td>M</td>\n",
       "      <td>14.73</td>\n",
       "    </tr>\n",
       "    <tr>\n",
       "      <th>31</th>\n",
       "      <td>Call of Duty: Black Ops 3</td>\n",
       "      <td>PS4</td>\n",
       "      <td>2015</td>\n",
       "      <td>Shooter</td>\n",
       "      <td>6.03</td>\n",
       "      <td>5.86</td>\n",
       "      <td>0.36</td>\n",
       "      <td>2.38</td>\n",
       "      <td>&lt;NA&gt;</td>\n",
       "      <td>NaN</td>\n",
       "      <td>NaN</td>\n",
       "      <td>14.63</td>\n",
       "    </tr>\n",
       "    <tr>\n",
       "      <th>33</th>\n",
       "      <td>Pokemon X/Pokemon Y</td>\n",
       "      <td>3DS</td>\n",
       "      <td>2013</td>\n",
       "      <td>Role-Playing</td>\n",
       "      <td>5.28</td>\n",
       "      <td>4.19</td>\n",
       "      <td>4.35</td>\n",
       "      <td>0.78</td>\n",
       "      <td>&lt;NA&gt;</td>\n",
       "      <td>NaN</td>\n",
       "      <td>NaN</td>\n",
       "      <td>14.60</td>\n",
       "    </tr>\n",
       "  </tbody>\n",
       "</table>\n",
       "</div>"
      ],
      "text/plain": [
       "                              name platform  year_of_release         genre  \\\n",
       "16              Grand Theft Auto V      PS3             2013        Action   \n",
       "23              Grand Theft Auto V     X360             2013        Action   \n",
       "29  Call of Duty: Modern Warfare 3     X360             2011       Shooter   \n",
       "31       Call of Duty: Black Ops 3      PS4             2015       Shooter   \n",
       "33             Pokemon X/Pokemon Y      3DS             2013  Role-Playing   \n",
       "\n",
       "    na_sales  eu_sales  jp_sales  other_sales  critic_score user_score rating  \\\n",
       "16      7.02      9.09      0.98         3.96            97        8.2      M   \n",
       "23      9.66      5.14      0.06         1.41            97        8.1      M   \n",
       "29      9.04      4.24      0.13         1.32            88        3.4      M   \n",
       "31      6.03      5.86      0.36         2.38          <NA>        NaN    NaN   \n",
       "33      5.28      4.19      4.35         0.78          <NA>        NaN    NaN   \n",
       "\n",
       "    total_sales  \n",
       "16        21.05  \n",
       "23        16.27  \n",
       "29        14.73  \n",
       "31        14.63  \n",
       "33        14.60  "
      ]
     },
     "execution_count": 23,
     "metadata": {},
     "output_type": "execute_result"
    }
   ],
   "source": [
    "data_actual = data.query('2010<year_of_release<2016')\n",
    "data_actual.head()"
   ]
  },
  {
   "cell_type": "markdown",
   "metadata": {},
   "source": [
    "Определим потенциально прибильны платформы, рассмотрев какие платформы лидируют по продажам, растут или падают. "
   ]
  },
  {
   "cell_type": "code",
   "execution_count": 24,
   "metadata": {},
   "outputs": [
    {
     "data": {
      "text/plain": [
       "platform\n",
       "PS3     441.97\n",
       "X360    378.86\n",
       "PS4     244.89\n",
       "3DS     242.67\n",
       "XOne    133.17\n",
       "Wii      94.84\n",
       "PC       92.43\n",
       "WiiU     77.59\n",
       "PSV      49.56\n",
       "DS       38.73\n",
       "PSP      29.01\n",
       "PS2       0.45\n",
       "Name: total_sales, dtype: float64"
      ]
     },
     "execution_count": 24,
     "metadata": {},
     "output_type": "execute_result"
    }
   ],
   "source": [
    "data_actual.groupby('platform')['total_sales'].sum().sort_values(ascending=False)"
   ]
  },
  {
   "cell_type": "code",
   "execution_count": 25,
   "metadata": {},
   "outputs": [
    {
     "data": {
      "text/plain": [
       "Text(0, 0.5, 'Суммарные продажи')"
      ]
     },
     "execution_count": 25,
     "metadata": {},
     "output_type": "execute_result"
    },
    {
     "data": {
      "image/png": "[encoded data removed]",
      "text/plain": [
       "<Figure size 432x288 with 1 Axes>"
      ]
     },
     "metadata": {
      "needs_background": "light"
     },
     "output_type": "display_data"
    }
   ],
   "source": [
    "data_actual.groupby('platform')['total_sales'].sum().sort_values(ascending=False).plot(kind='bar', title='суммарные продажи по платформам')\n",
    "plt.xlabel('Платформы')\n",
    "plt.ylabel('Суммарные продажи')"
   ]
  },
  {
   "cell_type": "markdown",
   "metadata": {},
   "source": [
    "Лидером продаж является X360, а худший показатель у DC. "
   ]
  },
  {
   "cell_type": "code",
   "execution_count": 26,
   "metadata": {
    "scrolled": true
   },
   "outputs": [
    {
     "data": {
      "text/plain": [
       "<matplotlib.legend.Legend at 0x7f47d525e4f0>"
      ]
     },
     "execution_count": 26,
     "metadata": {},
     "output_type": "execute_result"
    },
    {
     "data": {
      "image/png": "[encoded data removed]",
      "text/plain": [
       "<Figure size 1080x720 with 1 Axes>"
      ]
     },
     "metadata": {
      "needs_background": "light"
     },
     "output_type": "display_data"
    }
   ],
   "source": [
    "platforms = data_actual.groupby('platform')\n",
    "plt.figure(figsize=(15, 10))\n",
    "\n",
    "for platform, group in platforms:\n",
    "    sales_year = group.groupby('year_of_release')['total_sales'].sum()\n",
    "    plt.plot(sales_year.index, sales_year.values, marker='o', label=platform)\n",
    "    \n",
    "plt.title('Динамика продаж по платформам')\n",
    "plt.xlabel('Год выпуска')\n",
    "plt.ylabel('Продажи')\n",
    "plt.grid(True)\n",
    "plt.legend(title='Платформа')"
   ]
  },
  {
   "cell_type": "markdown",
   "metadata": {},
   "source": [
    "Из графика ясно, что платформы, которые появились давно, падают по продажам, в то время, как такие платформы как DC и XOne растут, и скорее всего, именно они будут прибыльными в 2017 году. Помимо них довольно стабильны продажи у PS3, хоть продажи и падают, они все равно выше, чем у других. \n"
   ]
  },
  {
   "cell_type": "code",
   "execution_count": 27,
   "metadata": {},
   "outputs": [
    {
     "data": {
      "text/plain": [
       "(0.01, 15.0)"
      ]
     },
     "execution_count": 27,
     "metadata": {},
     "output_type": "execute_result"
    },
    {
     "data": {
      "image/png": "[encoded data removed]",
      "text/plain": [
       "<Figure size 1080x1800 with 1 Axes>"
      ]
     },
     "metadata": {
      "needs_background": "light"
     },
     "output_type": "display_data"
    }
   ],
   "source": [
    "sales_data = []\n",
    "platform_labels = []\n",
    "\n",
    "for platform, group in platforms:\n",
    "    platform_sales = group['total_sales']\n",
    "    sales_data.append(platform_sales.values)\n",
    "    platform_labels.append(platform)\n",
    "\n",
    "plt.figure(figsize=(15, 25))\n",
    "plt.boxplot(sales_data, vert=True, patch_artist=True, showfliers=True)\n",
    "plt.title('Ящик с усами: Глобальные продажи игр ')\n",
    "plt.xlabel('Платформа', fontsize=12)\n",
    "plt.ylabel('Продажи ', fontsize=12)\n",
    "plt.grid(True)\n",
    "plt.xticks(ticks=range(1, len(platform_labels) + 1), labels=platform_labels, rotation=45)\n",
    "plt.ylim(0.01, 15)  \n"
   ]
  },
  {
   "cell_type": "code",
   "execution_count": 28,
   "metadata": {},
   "outputs": [
    {
     "data": {
      "text/plain": [
       "(0.01, 4.0)"
      ]
     },
     "execution_count": 28,
     "metadata": {},
     "output_type": "execute_result"
    },
    {
     "data": {
      "image/png": "[encoded data removed]",
      "text/plain": [
       "<Figure size 1080x1800 with 1 Axes>"
      ]
     },
     "metadata": {
      "needs_background": "light"
     },
     "output_type": "display_data"
    }
   ],
   "source": [
    "sales_data = []\n",
    "platform_labels = []\n",
    "\n",
    "for platform, group in platforms:\n",
    "    platform_sales = group['total_sales']\n",
    "    sales_data.append(platform_sales.values)\n",
    "    platform_labels.append(platform)\n",
    "\n",
    "plt.figure(figsize=(15, 25))\n",
    "plt.boxplot(sales_data, vert=True, patch_artist=True, showfliers=True)\n",
    "plt.title('Ящик с усами: Глобальные продажи игр ')\n",
    "plt.xlabel('Платформа', fontsize=12)\n",
    "plt.ylabel('Продажи ', fontsize=12)\n",
    "plt.grid(True)\n",
    "plt.xticks(ticks=range(1, len(platform_labels) + 1), labels=platform_labels, rotation=45)\n",
    "plt.ylim(0.01, 4)  \n"
   ]
  },
  {
   "cell_type": "markdown",
   "metadata": {},
   "source": [
    "Самые высокие медианы продаж наблюдаются у платформ PS4, XOne, X360, PS3. Также у платформ X360, PS3, Wii, DS, PS2, PSP много выбросов в большую сторону продаж, что говорит нам о наличии хитов у этих платформ. Так, указанные платформы являются лидерами продаж в 2006–2015 годах. \n",
    "DC, GB, GBA, PC, XB, PSP, PSV имеют низкие медианные продажи  и мало выбросов, что говорит о низкой популярности в 2006–2015 годах.\n"
   ]
  },
  {
   "cell_type": "markdown",
   "metadata": {},
   "source": [
    "Рассмотрим, как влияют на продажи отзывы пользователей и критиков на примере PS4, XOne, X360, поскольку они довольно популярны и перспективны, а также показали высокое медианное значение. Для этого сначала удалим строки с пропусками в данных, чтобы не возникло ошибки. "
   ]
  },
  {
   "cell_type": "code",
   "execution_count": 29,
   "metadata": {},
   "outputs": [
    {
     "data": {
      "text/html": [
       "<div>\n",
       "<style scoped>\n",
       "    .dataframe tbody tr th:only-of-type {\n",
       "        vertical-align: middle;\n",
       "    }\n",
       "\n",
       "    .dataframe tbody tr th {\n",
       "        vertical-align: top;\n",
       "    }\n",
       "\n",
       "    .dataframe thead th {\n",
       "        text-align: right;\n",
       "    }\n",
       "</style>\n",
       "<table border=\"1\" class=\"dataframe\">\n",
       "  <thead>\n",
       "    <tr style=\"text-align: right;\">\n",
       "      <th></th>\n",
       "      <th>name</th>\n",
       "      <th>platform</th>\n",
       "      <th>year_of_release</th>\n",
       "      <th>genre</th>\n",
       "      <th>na_sales</th>\n",
       "      <th>eu_sales</th>\n",
       "      <th>jp_sales</th>\n",
       "      <th>other_sales</th>\n",
       "      <th>critic_score</th>\n",
       "      <th>user_score</th>\n",
       "      <th>rating</th>\n",
       "      <th>total_sales</th>\n",
       "    </tr>\n",
       "  </thead>\n",
       "  <tbody>\n",
       "    <tr>\n",
       "      <th>42</th>\n",
       "      <td>Grand Theft Auto V</td>\n",
       "      <td>PS4</td>\n",
       "      <td>2014</td>\n",
       "      <td>Action</td>\n",
       "      <td>3.96</td>\n",
       "      <td>6.31</td>\n",
       "      <td>0.38</td>\n",
       "      <td>1.97</td>\n",
       "      <td>97</td>\n",
       "      <td>8.3</td>\n",
       "      <td>M</td>\n",
       "      <td>12.62</td>\n",
       "    </tr>\n",
       "    <tr>\n",
       "      <th>77</th>\n",
       "      <td>FIFA 16</td>\n",
       "      <td>PS4</td>\n",
       "      <td>2015</td>\n",
       "      <td>Sports</td>\n",
       "      <td>1.12</td>\n",
       "      <td>6.12</td>\n",
       "      <td>0.06</td>\n",
       "      <td>1.28</td>\n",
       "      <td>82</td>\n",
       "      <td>4.3</td>\n",
       "      <td>E</td>\n",
       "      <td>8.58</td>\n",
       "    </tr>\n",
       "    <tr>\n",
       "      <th>92</th>\n",
       "      <td>Call of Duty: Advanced Warfare</td>\n",
       "      <td>PS4</td>\n",
       "      <td>2014</td>\n",
       "      <td>Shooter</td>\n",
       "      <td>2.81</td>\n",
       "      <td>3.48</td>\n",
       "      <td>0.14</td>\n",
       "      <td>1.23</td>\n",
       "      <td>83</td>\n",
       "      <td>5.7</td>\n",
       "      <td>M</td>\n",
       "      <td>7.66</td>\n",
       "    </tr>\n",
       "    <tr>\n",
       "      <th>105</th>\n",
       "      <td>Fallout 4</td>\n",
       "      <td>PS4</td>\n",
       "      <td>2015</td>\n",
       "      <td>Role-Playing</td>\n",
       "      <td>2.53</td>\n",
       "      <td>3.27</td>\n",
       "      <td>0.24</td>\n",
       "      <td>1.13</td>\n",
       "      <td>87</td>\n",
       "      <td>6.5</td>\n",
       "      <td>M</td>\n",
       "      <td>7.17</td>\n",
       "    </tr>\n",
       "    <tr>\n",
       "      <th>143</th>\n",
       "      <td>FIFA 15</td>\n",
       "      <td>PS4</td>\n",
       "      <td>2014</td>\n",
       "      <td>Sports</td>\n",
       "      <td>0.80</td>\n",
       "      <td>4.33</td>\n",
       "      <td>0.05</td>\n",
       "      <td>0.90</td>\n",
       "      <td>82</td>\n",
       "      <td>5.7</td>\n",
       "      <td>E</td>\n",
       "      <td>6.08</td>\n",
       "    </tr>\n",
       "    <tr>\n",
       "      <th>154</th>\n",
       "      <td>Destiny</td>\n",
       "      <td>PS4</td>\n",
       "      <td>2014</td>\n",
       "      <td>Shooter</td>\n",
       "      <td>2.49</td>\n",
       "      <td>2.07</td>\n",
       "      <td>0.16</td>\n",
       "      <td>0.92</td>\n",
       "      <td>76</td>\n",
       "      <td>6.1</td>\n",
       "      <td>T</td>\n",
       "      <td>5.64</td>\n",
       "    </tr>\n",
       "    <tr>\n",
       "      <th>231</th>\n",
       "      <td>Uncharted: The Nathan Drake Collection</td>\n",
       "      <td>PS4</td>\n",
       "      <td>2015</td>\n",
       "      <td>Action</td>\n",
       "      <td>2.07</td>\n",
       "      <td>1.71</td>\n",
       "      <td>0.08</td>\n",
       "      <td>0.76</td>\n",
       "      <td>86</td>\n",
       "      <td>8.1</td>\n",
       "      <td>T</td>\n",
       "      <td>4.62</td>\n",
       "    </tr>\n",
       "    <tr>\n",
       "      <th>295</th>\n",
       "      <td>Watch Dogs</td>\n",
       "      <td>PS4</td>\n",
       "      <td>2014</td>\n",
       "      <td>Action</td>\n",
       "      <td>1.40</td>\n",
       "      <td>1.90</td>\n",
       "      <td>0.11</td>\n",
       "      <td>0.64</td>\n",
       "      <td>80</td>\n",
       "      <td>6.3</td>\n",
       "      <td>M</td>\n",
       "      <td>4.05</td>\n",
       "    </tr>\n",
       "    <tr>\n",
       "      <th>298</th>\n",
       "      <td>Far Cry 4</td>\n",
       "      <td>PS4</td>\n",
       "      <td>2014</td>\n",
       "      <td>Shooter</td>\n",
       "      <td>1.13</td>\n",
       "      <td>2.18</td>\n",
       "      <td>0.10</td>\n",
       "      <td>0.63</td>\n",
       "      <td>85</td>\n",
       "      <td>7.7</td>\n",
       "      <td>M</td>\n",
       "      <td>4.04</td>\n",
       "    </tr>\n",
       "    <tr>\n",
       "      <th>303</th>\n",
       "      <td>The Witcher 3: Wild Hunt</td>\n",
       "      <td>PS4</td>\n",
       "      <td>2015</td>\n",
       "      <td>Role-Playing</td>\n",
       "      <td>1.02</td>\n",
       "      <td>2.13</td>\n",
       "      <td>0.23</td>\n",
       "      <td>0.59</td>\n",
       "      <td>92</td>\n",
       "      <td>9.2</td>\n",
       "      <td>M</td>\n",
       "      <td>3.97</td>\n",
       "    </tr>\n",
       "  </tbody>\n",
       "</table>\n",
       "</div>"
      ],
      "text/plain": [
       "                                       name platform  year_of_release  \\\n",
       "42                       Grand Theft Auto V      PS4             2014   \n",
       "77                                  FIFA 16      PS4             2015   \n",
       "92           Call of Duty: Advanced Warfare      PS4             2014   \n",
       "105                               Fallout 4      PS4             2015   \n",
       "143                                 FIFA 15      PS4             2014   \n",
       "154                                 Destiny      PS4             2014   \n",
       "231  Uncharted: The Nathan Drake Collection      PS4             2015   \n",
       "295                              Watch Dogs      PS4             2014   \n",
       "298                               Far Cry 4      PS4             2014   \n",
       "303                The Witcher 3: Wild Hunt      PS4             2015   \n",
       "\n",
       "            genre  na_sales  eu_sales  jp_sales  other_sales  critic_score  \\\n",
       "42         Action      3.96      6.31      0.38         1.97            97   \n",
       "77         Sports      1.12      6.12      0.06         1.28            82   \n",
       "92        Shooter      2.81      3.48      0.14         1.23            83   \n",
       "105  Role-Playing      2.53      3.27      0.24         1.13            87   \n",
       "143        Sports      0.80      4.33      0.05         0.90            82   \n",
       "154       Shooter      2.49      2.07      0.16         0.92            76   \n",
       "231        Action      2.07      1.71      0.08         0.76            86   \n",
       "295        Action      1.40      1.90      0.11         0.64            80   \n",
       "298       Shooter      1.13      2.18      0.10         0.63            85   \n",
       "303  Role-Playing      1.02      2.13      0.23         0.59            92   \n",
       "\n",
       "    user_score rating  total_sales  \n",
       "42         8.3      M        12.62  \n",
       "77         4.3      E         8.58  \n",
       "92         5.7      M         7.66  \n",
       "105        6.5      M         7.17  \n",
       "143        5.7      E         6.08  \n",
       "154        6.1      T         5.64  \n",
       "231        8.1      T         4.62  \n",
       "295        6.3      M         4.05  \n",
       "298        7.7      M         4.04  \n",
       "303        9.2      M         3.97  "
      ]
     },
     "execution_count": 29,
     "metadata": {},
     "output_type": "execute_result"
    }
   ],
   "source": [
    "ps4_data = data_actual.query('platform==\"PS4\"')\n",
    "ps4_data = ps4_data.dropna(subset=['total_sales', 'critic_score', 'user_score'])\n",
    "ps4_data.head(10)"
   ]
  },
  {
   "cell_type": "code",
   "execution_count": 30,
   "metadata": {},
   "outputs": [
    {
     "data": {
      "text/html": [
       "<div>\n",
       "<style scoped>\n",
       "    .dataframe tbody tr th:only-of-type {\n",
       "        vertical-align: middle;\n",
       "    }\n",
       "\n",
       "    .dataframe tbody tr th {\n",
       "        vertical-align: top;\n",
       "    }\n",
       "\n",
       "    .dataframe thead th {\n",
       "        text-align: right;\n",
       "    }\n",
       "</style>\n",
       "<table border=\"1\" class=\"dataframe\">\n",
       "  <thead>\n",
       "    <tr style=\"text-align: right;\">\n",
       "      <th></th>\n",
       "      <th>name</th>\n",
       "      <th>platform</th>\n",
       "      <th>year_of_release</th>\n",
       "      <th>genre</th>\n",
       "      <th>na_sales</th>\n",
       "      <th>eu_sales</th>\n",
       "      <th>jp_sales</th>\n",
       "      <th>other_sales</th>\n",
       "      <th>critic_score</th>\n",
       "      <th>user_score</th>\n",
       "      <th>rating</th>\n",
       "      <th>total_sales</th>\n",
       "    </tr>\n",
       "  </thead>\n",
       "  <tbody>\n",
       "    <tr>\n",
       "      <th>165</th>\n",
       "      <td>Grand Theft Auto V</td>\n",
       "      <td>XOne</td>\n",
       "      <td>2014</td>\n",
       "      <td>Action</td>\n",
       "      <td>2.81</td>\n",
       "      <td>2.19</td>\n",
       "      <td>0.00</td>\n",
       "      <td>0.47</td>\n",
       "      <td>97</td>\n",
       "      <td>7.9</td>\n",
       "      <td>M</td>\n",
       "      <td>5.47</td>\n",
       "    </tr>\n",
       "    <tr>\n",
       "      <th>179</th>\n",
       "      <td>Call of Duty: Advanced Warfare</td>\n",
       "      <td>XOne</td>\n",
       "      <td>2014</td>\n",
       "      <td>Shooter</td>\n",
       "      <td>3.22</td>\n",
       "      <td>1.55</td>\n",
       "      <td>0.01</td>\n",
       "      <td>0.48</td>\n",
       "      <td>81</td>\n",
       "      <td>5.4</td>\n",
       "      <td>M</td>\n",
       "      <td>5.26</td>\n",
       "    </tr>\n",
       "    <tr>\n",
       "      <th>242</th>\n",
       "      <td>Halo 5: Guardians</td>\n",
       "      <td>XOne</td>\n",
       "      <td>2015</td>\n",
       "      <td>Shooter</td>\n",
       "      <td>2.78</td>\n",
       "      <td>1.27</td>\n",
       "      <td>0.03</td>\n",
       "      <td>0.41</td>\n",
       "      <td>84</td>\n",
       "      <td>6.4</td>\n",
       "      <td>T</td>\n",
       "      <td>4.49</td>\n",
       "    </tr>\n",
       "    <tr>\n",
       "      <th>270</th>\n",
       "      <td>Fallout 4</td>\n",
       "      <td>XOne</td>\n",
       "      <td>2015</td>\n",
       "      <td>Role-Playing</td>\n",
       "      <td>2.51</td>\n",
       "      <td>1.32</td>\n",
       "      <td>0.01</td>\n",
       "      <td>0.38</td>\n",
       "      <td>88</td>\n",
       "      <td>6.2</td>\n",
       "      <td>M</td>\n",
       "      <td>4.22</td>\n",
       "    </tr>\n",
       "    <tr>\n",
       "      <th>373</th>\n",
       "      <td>Assassin's Creed: Unity</td>\n",
       "      <td>XOne</td>\n",
       "      <td>2014</td>\n",
       "      <td>Action</td>\n",
       "      <td>2.27</td>\n",
       "      <td>0.90</td>\n",
       "      <td>0.00</td>\n",
       "      <td>0.33</td>\n",
       "      <td>72</td>\n",
       "      <td>4.1</td>\n",
       "      <td>M</td>\n",
       "      <td>3.50</td>\n",
       "    </tr>\n",
       "    <tr>\n",
       "      <th>398</th>\n",
       "      <td>Destiny</td>\n",
       "      <td>XOne</td>\n",
       "      <td>2014</td>\n",
       "      <td>Shooter</td>\n",
       "      <td>2.14</td>\n",
       "      <td>0.92</td>\n",
       "      <td>0.00</td>\n",
       "      <td>0.31</td>\n",
       "      <td>75</td>\n",
       "      <td>5.5</td>\n",
       "      <td>T</td>\n",
       "      <td>3.37</td>\n",
       "    </tr>\n",
       "    <tr>\n",
       "      <th>413</th>\n",
       "      <td>Gears of War: Ultimate Edition</td>\n",
       "      <td>XOne</td>\n",
       "      <td>2015</td>\n",
       "      <td>Shooter</td>\n",
       "      <td>2.61</td>\n",
       "      <td>0.33</td>\n",
       "      <td>0.00</td>\n",
       "      <td>0.34</td>\n",
       "      <td>82</td>\n",
       "      <td>7.5</td>\n",
       "      <td>M</td>\n",
       "      <td>3.28</td>\n",
       "    </tr>\n",
       "    <tr>\n",
       "      <th>417</th>\n",
       "      <td>FIFA 16</td>\n",
       "      <td>XOne</td>\n",
       "      <td>2015</td>\n",
       "      <td>Sports</td>\n",
       "      <td>0.89</td>\n",
       "      <td>2.12</td>\n",
       "      <td>0.00</td>\n",
       "      <td>0.24</td>\n",
       "      <td>84</td>\n",
       "      <td>4.4</td>\n",
       "      <td>E</td>\n",
       "      <td>3.25</td>\n",
       "    </tr>\n",
       "    <tr>\n",
       "      <th>422</th>\n",
       "      <td>Halo: The Master Chief Collection</td>\n",
       "      <td>XOne</td>\n",
       "      <td>2014</td>\n",
       "      <td>Shooter</td>\n",
       "      <td>1.91</td>\n",
       "      <td>1.00</td>\n",
       "      <td>0.03</td>\n",
       "      <td>0.29</td>\n",
       "      <td>85</td>\n",
       "      <td>7.2</td>\n",
       "      <td>M</td>\n",
       "      <td>3.23</td>\n",
       "    </tr>\n",
       "    <tr>\n",
       "      <th>484</th>\n",
       "      <td>Titanfall</td>\n",
       "      <td>XOne</td>\n",
       "      <td>2014</td>\n",
       "      <td>Shooter</td>\n",
       "      <td>1.84</td>\n",
       "      <td>0.80</td>\n",
       "      <td>0.04</td>\n",
       "      <td>0.27</td>\n",
       "      <td>86</td>\n",
       "      <td>6.4</td>\n",
       "      <td>M</td>\n",
       "      <td>2.95</td>\n",
       "    </tr>\n",
       "  </tbody>\n",
       "</table>\n",
       "</div>"
      ],
      "text/plain": [
       "                                  name platform  year_of_release  \\\n",
       "165                 Grand Theft Auto V     XOne             2014   \n",
       "179     Call of Duty: Advanced Warfare     XOne             2014   \n",
       "242                  Halo 5: Guardians     XOne             2015   \n",
       "270                          Fallout 4     XOne             2015   \n",
       "373            Assassin's Creed: Unity     XOne             2014   \n",
       "398                            Destiny     XOne             2014   \n",
       "413     Gears of War: Ultimate Edition     XOne             2015   \n",
       "417                            FIFA 16     XOne             2015   \n",
       "422  Halo: The Master Chief Collection     XOne             2014   \n",
       "484                          Titanfall     XOne             2014   \n",
       "\n",
       "            genre  na_sales  eu_sales  jp_sales  other_sales  critic_score  \\\n",
       "165        Action      2.81      2.19      0.00         0.47            97   \n",
       "179       Shooter      3.22      1.55      0.01         0.48            81   \n",
       "242       Shooter      2.78      1.27      0.03         0.41            84   \n",
       "270  Role-Playing      2.51      1.32      0.01         0.38            88   \n",
       "373        Action      2.27      0.90      0.00         0.33            72   \n",
       "398       Shooter      2.14      0.92      0.00         0.31            75   \n",
       "413       Shooter      2.61      0.33      0.00         0.34            82   \n",
       "417        Sports      0.89      2.12      0.00         0.24            84   \n",
       "422       Shooter      1.91      1.00      0.03         0.29            85   \n",
       "484       Shooter      1.84      0.80      0.04         0.27            86   \n",
       "\n",
       "    user_score rating  total_sales  \n",
       "165        7.9      M         5.47  \n",
       "179        5.4      M         5.26  \n",
       "242        6.4      T         4.49  \n",
       "270        6.2      M         4.22  \n",
       "373        4.1      M         3.50  \n",
       "398        5.5      T         3.37  \n",
       "413        7.5      M         3.28  \n",
       "417        4.4      E         3.25  \n",
       "422        7.2      M         3.23  \n",
       "484        6.4      M         2.95  "
      ]
     },
     "execution_count": 30,
     "metadata": {},
     "output_type": "execute_result"
    }
   ],
   "source": [
    "XOne_data = data_actual.query('platform==\"XOne\"')\n",
    "XOne_data = XOne_data.dropna(subset=['total_sales', 'critic_score', 'user_score'])\n",
    "XOne_data.head(10)"
   ]
  },
  {
   "cell_type": "code",
   "execution_count": 31,
   "metadata": {},
   "outputs": [
    {
     "data": {
      "text/html": [
       "<div>\n",
       "<style scoped>\n",
       "    .dataframe tbody tr th:only-of-type {\n",
       "        vertical-align: middle;\n",
       "    }\n",
       "\n",
       "    .dataframe tbody tr th {\n",
       "        vertical-align: top;\n",
       "    }\n",
       "\n",
       "    .dataframe thead th {\n",
       "        text-align: right;\n",
       "    }\n",
       "</style>\n",
       "<table border=\"1\" class=\"dataframe\">\n",
       "  <thead>\n",
       "    <tr style=\"text-align: right;\">\n",
       "      <th></th>\n",
       "      <th>name</th>\n",
       "      <th>platform</th>\n",
       "      <th>year_of_release</th>\n",
       "      <th>genre</th>\n",
       "      <th>na_sales</th>\n",
       "      <th>eu_sales</th>\n",
       "      <th>jp_sales</th>\n",
       "      <th>other_sales</th>\n",
       "      <th>critic_score</th>\n",
       "      <th>user_score</th>\n",
       "      <th>rating</th>\n",
       "      <th>total_sales</th>\n",
       "    </tr>\n",
       "  </thead>\n",
       "  <tbody>\n",
       "    <tr>\n",
       "      <th>23</th>\n",
       "      <td>Grand Theft Auto V</td>\n",
       "      <td>X360</td>\n",
       "      <td>2013</td>\n",
       "      <td>Action</td>\n",
       "      <td>9.66</td>\n",
       "      <td>5.14</td>\n",
       "      <td>0.06</td>\n",
       "      <td>1.41</td>\n",
       "      <td>97</td>\n",
       "      <td>8.1</td>\n",
       "      <td>M</td>\n",
       "      <td>16.27</td>\n",
       "    </tr>\n",
       "    <tr>\n",
       "      <th>29</th>\n",
       "      <td>Call of Duty: Modern Warfare 3</td>\n",
       "      <td>X360</td>\n",
       "      <td>2011</td>\n",
       "      <td>Shooter</td>\n",
       "      <td>9.04</td>\n",
       "      <td>4.24</td>\n",
       "      <td>0.13</td>\n",
       "      <td>1.32</td>\n",
       "      <td>88</td>\n",
       "      <td>3.4</td>\n",
       "      <td>M</td>\n",
       "      <td>14.73</td>\n",
       "    </tr>\n",
       "    <tr>\n",
       "      <th>35</th>\n",
       "      <td>Call of Duty: Black Ops II</td>\n",
       "      <td>X360</td>\n",
       "      <td>2012</td>\n",
       "      <td>Shooter</td>\n",
       "      <td>8.25</td>\n",
       "      <td>4.24</td>\n",
       "      <td>0.07</td>\n",
       "      <td>1.12</td>\n",
       "      <td>83</td>\n",
       "      <td>4.8</td>\n",
       "      <td>M</td>\n",
       "      <td>13.68</td>\n",
       "    </tr>\n",
       "    <tr>\n",
       "      <th>60</th>\n",
       "      <td>Call of Duty: Ghosts</td>\n",
       "      <td>X360</td>\n",
       "      <td>2013</td>\n",
       "      <td>Shooter</td>\n",
       "      <td>6.73</td>\n",
       "      <td>2.56</td>\n",
       "      <td>0.04</td>\n",
       "      <td>0.91</td>\n",
       "      <td>73</td>\n",
       "      <td>2.6</td>\n",
       "      <td>M</td>\n",
       "      <td>10.24</td>\n",
       "    </tr>\n",
       "    <tr>\n",
       "      <th>66</th>\n",
       "      <td>Halo 4</td>\n",
       "      <td>X360</td>\n",
       "      <td>2012</td>\n",
       "      <td>Shooter</td>\n",
       "      <td>6.65</td>\n",
       "      <td>2.28</td>\n",
       "      <td>0.04</td>\n",
       "      <td>0.74</td>\n",
       "      <td>87</td>\n",
       "      <td>7</td>\n",
       "      <td>M</td>\n",
       "      <td>9.71</td>\n",
       "    </tr>\n",
       "    <tr>\n",
       "      <th>75</th>\n",
       "      <td>The Elder Scrolls V: Skyrim</td>\n",
       "      <td>X360</td>\n",
       "      <td>2011</td>\n",
       "      <td>Role-Playing</td>\n",
       "      <td>5.05</td>\n",
       "      <td>2.79</td>\n",
       "      <td>0.10</td>\n",
       "      <td>0.85</td>\n",
       "      <td>96</td>\n",
       "      <td>8.4</td>\n",
       "      <td>M</td>\n",
       "      <td>8.79</td>\n",
       "    </tr>\n",
       "    <tr>\n",
       "      <th>101</th>\n",
       "      <td>Battlefield 3</td>\n",
       "      <td>X360</td>\n",
       "      <td>2011</td>\n",
       "      <td>Shooter</td>\n",
       "      <td>4.46</td>\n",
       "      <td>2.11</td>\n",
       "      <td>0.06</td>\n",
       "      <td>0.69</td>\n",
       "      <td>84</td>\n",
       "      <td>7.4</td>\n",
       "      <td>M</td>\n",
       "      <td>7.32</td>\n",
       "    </tr>\n",
       "    <tr>\n",
       "      <th>140</th>\n",
       "      <td>Gears of War 3</td>\n",
       "      <td>X360</td>\n",
       "      <td>2011</td>\n",
       "      <td>Shooter</td>\n",
       "      <td>4.05</td>\n",
       "      <td>1.59</td>\n",
       "      <td>0.07</td>\n",
       "      <td>0.50</td>\n",
       "      <td>91</td>\n",
       "      <td>7.8</td>\n",
       "      <td>M</td>\n",
       "      <td>6.21</td>\n",
       "    </tr>\n",
       "    <tr>\n",
       "      <th>176</th>\n",
       "      <td>Assassin's Creed III</td>\n",
       "      <td>X360</td>\n",
       "      <td>2012</td>\n",
       "      <td>Action</td>\n",
       "      <td>3.13</td>\n",
       "      <td>1.69</td>\n",
       "      <td>0.03</td>\n",
       "      <td>0.44</td>\n",
       "      <td>84</td>\n",
       "      <td>6.7</td>\n",
       "      <td>M</td>\n",
       "      <td>5.29</td>\n",
       "    </tr>\n",
       "    <tr>\n",
       "      <th>190</th>\n",
       "      <td>FIFA Soccer 13</td>\n",
       "      <td>X360</td>\n",
       "      <td>2012</td>\n",
       "      <td>Action</td>\n",
       "      <td>1.09</td>\n",
       "      <td>3.47</td>\n",
       "      <td>0.03</td>\n",
       "      <td>0.57</td>\n",
       "      <td>90</td>\n",
       "      <td>6.1</td>\n",
       "      <td>E</td>\n",
       "      <td>5.16</td>\n",
       "    </tr>\n",
       "  </tbody>\n",
       "</table>\n",
       "</div>"
      ],
      "text/plain": [
       "                               name platform  year_of_release         genre  \\\n",
       "23               Grand Theft Auto V     X360             2013        Action   \n",
       "29   Call of Duty: Modern Warfare 3     X360             2011       Shooter   \n",
       "35       Call of Duty: Black Ops II     X360             2012       Shooter   \n",
       "60             Call of Duty: Ghosts     X360             2013       Shooter   \n",
       "66                           Halo 4     X360             2012       Shooter   \n",
       "75      The Elder Scrolls V: Skyrim     X360             2011  Role-Playing   \n",
       "101                   Battlefield 3     X360             2011       Shooter   \n",
       "140                  Gears of War 3     X360             2011       Shooter   \n",
       "176            Assassin's Creed III     X360             2012        Action   \n",
       "190                  FIFA Soccer 13     X360             2012        Action   \n",
       "\n",
       "     na_sales  eu_sales  jp_sales  other_sales  critic_score user_score  \\\n",
       "23       9.66      5.14      0.06         1.41            97        8.1   \n",
       "29       9.04      4.24      0.13         1.32            88        3.4   \n",
       "35       8.25      4.24      0.07         1.12            83        4.8   \n",
       "60       6.73      2.56      0.04         0.91            73        2.6   \n",
       "66       6.65      2.28      0.04         0.74            87          7   \n",
       "75       5.05      2.79      0.10         0.85            96        8.4   \n",
       "101      4.46      2.11      0.06         0.69            84        7.4   \n",
       "140      4.05      1.59      0.07         0.50            91        7.8   \n",
       "176      3.13      1.69      0.03         0.44            84        6.7   \n",
       "190      1.09      3.47      0.03         0.57            90        6.1   \n",
       "\n",
       "    rating  total_sales  \n",
       "23       M        16.27  \n",
       "29       M        14.73  \n",
       "35       M        13.68  \n",
       "60       M        10.24  \n",
       "66       M         9.71  \n",
       "75       M         8.79  \n",
       "101      M         7.32  \n",
       "140      M         6.21  \n",
       "176      M         5.29  \n",
       "190      E         5.16  "
      ]
     },
     "execution_count": 31,
     "metadata": {},
     "output_type": "execute_result"
    }
   ],
   "source": [
    "X360_data = data_actual.query('platform==\"X360\"')\n",
    "X360_data = X360_data.dropna(subset=['total_sales', 'critic_score', 'user_score'])\n",
    "X360_data.head(10)"
   ]
  },
  {
   "cell_type": "code",
   "execution_count": 32,
   "metadata": {},
   "outputs": [
    {
     "data": {
      "image/png": "[encoded data removed]",
      "text/plain": [
       "<Figure size 432x288 with 1 Axes>"
      ]
     },
     "metadata": {
      "needs_background": "light"
     },
     "output_type": "display_data"
    }
   ],
   "source": [
    "plt.scatter(ps4_data['critic_score'], ps4_data['total_sales'], alpha=0.6)\n",
    "plt.title('Продажи игр на PS4 в зависимости от рейтинга критиков')\n",
    "plt.xlabel('Рейтинг критиков')\n",
    "plt.ylabel('Продажи')\n",
    "plt.grid(True, alpha=0.7)"
   ]
  },
  {
   "cell_type": "code",
   "execution_count": 33,
   "metadata": {},
   "outputs": [
    {
     "data": {
      "image/png": "[encoded data removed]",
      "text/plain": [
       "<Figure size 432x288 with 1 Axes>"
      ]
     },
     "metadata": {
      "needs_background": "light"
     },
     "output_type": "display_data"
    }
   ],
   "source": [
    "plt.scatter(XOne_data['critic_score'], XOne_data['total_sales'], alpha=0.6)\n",
    "plt.title('Продажи игр на XOne в зависимости от рейтинга критиков')\n",
    "plt.xlabel('Рейтинг критиков')\n",
    "plt.ylabel('Продажи')\n",
    "plt.grid(True, alpha=0.7)"
   ]
  },
  {
   "cell_type": "code",
   "execution_count": 34,
   "metadata": {},
   "outputs": [
    {
     "data": {
      "image/png": "[encoded data removed]",
      "text/plain": [
       "<Figure size 432x288 with 1 Axes>"
      ]
     },
     "metadata": {
      "needs_background": "light"
     },
     "output_type": "display_data"
    }
   ],
   "source": [
    "plt.scatter(X360_data['critic_score'], X360_data['total_sales'], alpha=0.6)\n",
    "plt.title('Продажи игр на X360 в зависимости от рейтинга критиков')\n",
    "plt.xlabel('Рейтинг критиков')\n",
    "plt.ylabel('Продажи')\n",
    "plt.grid(True, alpha=0.7)"
   ]
  },
  {
   "cell_type": "code",
   "execution_count": 35,
   "metadata": {},
   "outputs": [
    {
     "data": {
      "image/png": "[encoded data removed]",
      "text/plain": [
       "<Figure size 432x288 with 1 Axes>"
      ]
     },
     "metadata": {
      "needs_background": "light"
     },
     "output_type": "display_data"
    }
   ],
   "source": [
    "ps4_data['user_score'] = pd.to_numeric(ps4_data['user_score'])\n",
    "ps4_data['user_score_rounded'] = ps4_data['user_score'].round(0).astype(int)\n",
    "plt.scatter(ps4_data['user_score_rounded'], ps4_data['total_sales'], alpha=0.6)\n",
    "plt.title('Продажи игр на PS4 в зависимости от рейтинга пользователей')\n",
    "plt.xlabel('Рейтинг пользователей')\n",
    "plt.ylabel('Продажи')\n",
    "plt.grid(True)"
   ]
  },
  {
   "cell_type": "code",
   "execution_count": 36,
   "metadata": {},
   "outputs": [
    {
     "data": {
      "image/png": "[encoded data removed]",
      "text/plain": [
       "<Figure size 432x288 with 1 Axes>"
      ]
     },
     "metadata": {
      "needs_background": "light"
     },
     "output_type": "display_data"
    }
   ],
   "source": [
    "XOne_data['user_score'] = pd.to_numeric(XOne_data['user_score'])\n",
    "XOne_data['user_score_rounded'] = XOne_data['user_score'].round(0).astype(int)\n",
    "plt.scatter(XOne_data['user_score_rounded'], XOne_data['total_sales'], alpha=0.6)\n",
    "plt.title('Продажи игр на XOne в зависимости от рейтинга пользователей')\n",
    "plt.xlabel('Рейтинг пользователей')\n",
    "plt.ylabel('Продажи')\n",
    "plt.grid(True)"
   ]
  },
  {
   "cell_type": "code",
   "execution_count": 37,
   "metadata": {},
   "outputs": [
    {
     "data": {
      "image/png": "[encoded data removed]",
      "text/plain": [
       "<Figure size 432x288 with 1 Axes>"
      ]
     },
     "metadata": {
      "needs_background": "light"
     },
     "output_type": "display_data"
    }
   ],
   "source": [
    "X360_data['user_score'] = pd.to_numeric(X360_data['user_score'])\n",
    "X360_data['user_score_rounded'] = X360_data['user_score'].round(0).astype(int)\n",
    "plt.scatter(X360_data['user_score_rounded'], X360_data['total_sales'], alpha=0.6)\n",
    "plt.title('Продажи игр на PS4 в зависимости от рейтинга пользователей')\n",
    "plt.xlabel('Рейтинг пользователей')\n",
    "plt.ylabel('Продажи')\n",
    "plt.grid(True)"
   ]
  },
  {
   "cell_type": "code",
   "execution_count": 38,
   "metadata": {},
   "outputs": [
    {
     "data": {
      "text/plain": [
       "0.43077683172975184"
      ]
     },
     "execution_count": 38,
     "metadata": {},
     "output_type": "execute_result"
    }
   ],
   "source": [
    "total_sales = ps4_data['total_sales'].astype(float).values\n",
    "critic_score = ps4_data['critic_score'].astype(float).values\n",
    "np.corrcoef(total_sales, critic_score)[0, 1]"
   ]
  },
  {
   "cell_type": "code",
   "execution_count": 39,
   "metadata": {},
   "outputs": [
    {
     "data": {
      "text/plain": [
       "0.45135977879464817"
      ]
     },
     "execution_count": 39,
     "metadata": {},
     "output_type": "execute_result"
    }
   ],
   "source": [
    "total_sales = XOne_data['total_sales'].astype(float).values\n",
    "critic_score = XOne_data['critic_score'].astype(float).values\n",
    "np.corrcoef(total_sales, critic_score)[0, 1]"
   ]
  },
  {
   "cell_type": "code",
   "execution_count": 40,
   "metadata": {},
   "outputs": [
    {
     "data": {
      "text/plain": [
       "0.3903969695010255"
      ]
     },
     "execution_count": 40,
     "metadata": {},
     "output_type": "execute_result"
    }
   ],
   "source": [
    "total_sales = X360_data['total_sales'].astype(float).values\n",
    "critic_score = X360_data['critic_score'].astype(float).values\n",
    "np.corrcoef(total_sales, critic_score)[0, 1]"
   ]
  },
  {
   "cell_type": "code",
   "execution_count": 41,
   "metadata": {},
   "outputs": [
    {
     "data": {
      "text/plain": [
       "0.018139495872710115"
      ]
     },
     "execution_count": 41,
     "metadata": {},
     "output_type": "execute_result"
    }
   ],
   "source": [
    "ps4_data['total_sales'].corr(ps4_data['user_score'])"
   ]
  },
  {
   "cell_type": "code",
   "execution_count": 42,
   "metadata": {},
   "outputs": [
    {
     "data": {
      "text/plain": [
       "-0.05124338998440079"
      ]
     },
     "execution_count": 42,
     "metadata": {},
     "output_type": "execute_result"
    }
   ],
   "source": [
    "XOne_data['total_sales'].corr(XOne_data['user_score'])"
   ]
  },
  {
   "cell_type": "code",
   "execution_count": 43,
   "metadata": {},
   "outputs": [
    {
     "data": {
      "text/plain": [
       "0.02411054268508378"
      ]
     },
     "execution_count": 43,
     "metadata": {},
     "output_type": "execute_result"
    }
   ],
   "source": [
    "X360_data['total_sales'].corr(X360_data['user_score'])"
   ]
  },
  {
   "cell_type": "markdown",
   "metadata": {},
   "source": [
    "Оценка пользователей влияет на продажи, но не сильно, корреляция между отзывами и продажами довольно низкая, но все же по диаграммам у рассеяния видно, что больше продаж приносят игры с рейтингом выше половины. Однако, корреляция рейтинга критиков и размера продаж довольно высокая, значит этот параметр значительно влияет на доходность платформы. "
   ]
  },
  {
   "cell_type": "markdown",
   "metadata": {},
   "source": [
    "Рассмотрим общее распределение игр по жанрам и как они влияют на прибыль. "
   ]
  },
  {
   "cell_type": "code",
   "execution_count": 44,
   "metadata": {},
   "outputs": [
    {
     "data": {
      "text/plain": [
       "Action          1091\n",
       "Role-Playing     411\n",
       "Adventure        354\n",
       "Misc             343\n",
       "Sports           341\n",
       "Shooter          282\n",
       "Racing           156\n",
       "Fighting         143\n",
       "Simulation       118\n",
       "Platform         107\n",
       "Strategy         104\n",
       "Puzzle            70\n",
       "Name: genre, dtype: int64"
      ]
     },
     "execution_count": 44,
     "metadata": {},
     "output_type": "execute_result"
    }
   ],
   "source": [
    "data_actual['genre'].value_counts()"
   ]
  },
  {
   "cell_type": "code",
   "execution_count": 45,
   "metadata": {},
   "outputs": [
    {
     "data": {
      "text/plain": [
       "Text(0, 0.5, 'Количество игр')"
      ]
     },
     "execution_count": 45,
     "metadata": {},
     "output_type": "execute_result"
    },
    {
     "data": {
      "image/png": "[encoded data removed]",
      "text/plain": [
       "<Figure size 432x288 with 1 Axes>"
      ]
     },
     "metadata": {
      "needs_background": "light"
     },
     "output_type": "display_data"
    }
   ],
   "source": [
    "data_actual['genre'].value_counts().plot(kind='bar')\n",
    "plt.title('Распределение игр по жанрам')\n",
    "plt.xlabel('Жанр')\n",
    "plt.ylabel('Количество игр')"
   ]
  },
  {
   "cell_type": "code",
   "execution_count": 46,
   "metadata": {},
   "outputs": [
    {
     "data": {
      "text/plain": [
       "genre\n",
       "Action          527.69\n",
       "Shooter         364.69\n",
       "Role-Playing    227.45\n",
       "Sports          213.66\n",
       "Misc            136.82\n",
       "Racing           85.52\n",
       "Platform         85.45\n",
       "Fighting         62.43\n",
       "Simulation       48.37\n",
       "Adventure        41.22\n",
       "Strategy         21.03\n",
       "Puzzle            9.84\n",
       "Name: total_sales, dtype: float64"
      ]
     },
     "execution_count": 46,
     "metadata": {},
     "output_type": "execute_result"
    }
   ],
   "source": [
    "data_actual.groupby('genre')['total_sales'].sum().sort_values(ascending=False)"
   ]
  },
  {
   "cell_type": "code",
   "execution_count": 47,
   "metadata": {},
   "outputs": [
    {
     "data": {
      "text/plain": [
       "Text(0, 0.5, 'Жанр')"
      ]
     },
     "execution_count": 47,
     "metadata": {},
     "output_type": "execute_result"
    },
    {
     "data": {
      "image/png": "[encoded data removed]",
      "text/plain": [
       "<Figure size 432x288 with 1 Axes>"
      ]
     },
     "metadata": {
      "needs_background": "light"
     },
     "output_type": "display_data"
    }
   ],
   "source": [
    "sales_by_genre = data_actual.groupby('genre')['total_sales'].sum().sort_values()\n",
    "plt.barh(sales_by_genre.index, sales_by_genre.values)\n",
    "plt.title('Распределение продаж по жанрам')\n",
    "plt.xlabel('Продажи')\n",
    "plt.ylabel('Жанр')"
   ]
  },
  {
   "cell_type": "code",
   "execution_count": 48,
   "metadata": {},
   "outputs": [
    {
     "data": {
      "text/plain": [
       "genre\n",
       "Shooter         0.440\n",
       "Platform        0.240\n",
       "Sports          0.210\n",
       "Fighting        0.190\n",
       "Racing          0.170\n",
       "Role-Playing    0.160\n",
       "Action          0.150\n",
       "Misc            0.150\n",
       "Simulation      0.125\n",
       "Strategy        0.080\n",
       "Puzzle          0.050\n",
       "Adventure       0.040\n",
       "Name: total_sales, dtype: float64"
      ]
     },
     "execution_count": 48,
     "metadata": {},
     "output_type": "execute_result"
    }
   ],
   "source": [
    "data_actual.groupby('genre')['total_sales'].median().sort_values(ascending=False)"
   ]
  },
  {
   "cell_type": "code",
   "execution_count": 49,
   "metadata": {},
   "outputs": [
    {
     "data": {
      "text/plain": [
       "genre\n",
       "Shooter         1.293227\n",
       "Platform        0.798598\n",
       "Sports          0.626569\n",
       "Role-Playing    0.553406\n",
       "Racing          0.548205\n",
       "Action          0.483676\n",
       "Fighting        0.436573\n",
       "Simulation      0.409915\n",
       "Misc            0.398892\n",
       "Strategy        0.202212\n",
       "Puzzle          0.140571\n",
       "Adventure       0.116441\n",
       "Name: total_sales, dtype: float64"
      ]
     },
     "execution_count": 49,
     "metadata": {},
     "output_type": "execute_result"
    }
   ],
   "source": [
    "data_actual.groupby('genre')['total_sales'].mean().sort_values(ascending=False)"
   ]
  },
  {
   "cell_type": "markdown",
   "metadata": {},
   "source": [
    "Самыми популярными и самыми прибыльными оказались одни и те же жанры (action, sports). Это связано с тем, что такие игры обычно более динамичны, что привлекает пользователей. И наоборот, наименеее прибыльными и популярными являются такие жанры, как пазлы, в которых все спокойно и размерено. Однако, более стабильно продаются Shooter и Platform, их среднее и медиана, выше чем у всех остальных, значит может оказаться более выгодным именно их продажа и популяризация. "
   ]
  },
  {
   "cell_type": "markdown",
   "metadata": {},
   "source": [
    "Так, мы провели анализ как влияют на продажи и популярность игр год выпуска, отзывы, а также жанр. Больше всего на это влияет год выпуска и жанр, оценки пользователей и критиков также оказывают влияние, но в меньшей степени. Это связано с тем, что многие выбирают по картинке и сюжету, хотят попробовать что-то новое, не вдаваясь в подробности мнения других людей. "
   ]
  },
  {
   "cell_type": "markdown",
   "metadata": {},
   "source": [
    "<b>Шаг 4. Портрет пользователя каждого региона</b>"
   ]
  },
  {
   "cell_type": "code",
   "execution_count": 50,
   "metadata": {},
   "outputs": [],
   "source": [
    "total_na_sales = data_actual['na_sales'].sum()\n",
    "total_eu_sales = data_actual['eu_sales'].sum()\n",
    "total_jp_sales = data_actual['jp_sales'].sum()"
   ]
  },
  {
   "cell_type": "code",
   "execution_count": 51,
   "metadata": {},
   "outputs": [
    {
     "data": {
      "text/plain": [
       "platform\n",
       "X360    28.810061\n",
       "PS3     21.353669\n",
       "PS4     11.117057\n",
       "XOne    10.046762\n",
       "3DS     10.003440\n",
       "Name: na_sales, dtype: float64"
      ]
     },
     "execution_count": 51,
     "metadata": {},
     "output_type": "execute_result"
    }
   ],
   "source": [
    "(data_actual.groupby('platform')['na_sales'].sum() / total_na_sales * 100).sort_values(ascending=False).head(5)"
   ]
  },
  {
   "cell_type": "code",
   "execution_count": 52,
   "metadata": {},
   "outputs": [
    {
     "data": {
      "text/plain": [
       "platform\n",
       "PS3     26.163571\n",
       "X360    18.815979\n",
       "PS4     17.671403\n",
       "3DS      9.528428\n",
       "PC       8.595632\n",
       "Name: eu_sales, dtype: float64"
      ]
     },
     "execution_count": 52,
     "metadata": {},
     "output_type": "execute_result"
    }
   ],
   "source": [
    "(data_actual.groupby('platform')['eu_sales'].sum() / total_eu_sales * 100).sort_values(ascending=False).head(5)"
   ]
  },
  {
   "cell_type": "code",
   "execution_count": 53,
   "metadata": {},
   "outputs": [
    {
     "data": {
      "text/plain": [
       "platform\n",
       "3DS     40.907484\n",
       "PS3     21.246797\n",
       "PSP     10.621189\n",
       "PSV      8.076345\n",
       "WiiU     5.451975\n",
       "Name: jp_sales, dtype: float64"
      ]
     },
     "execution_count": 53,
     "metadata": {},
     "output_type": "execute_result"
    }
   ],
   "source": [
    "(data_actual.groupby('platform')['jp_sales'].sum() / total_jp_sales * 100).sort_values(ascending=False).head(5)"
   ]
  },
  {
   "cell_type": "markdown",
   "metadata": {},
   "source": [
    "В топ 5 платформ по продажам в каждом регионе вошли PS3, DS, но в каждом регионе занимают разное место в рейтинге. В северной Америке самыми прибыльными платформами оказались PS3, X360, Wii, DS, PS2\n",
    "В Европе: PS3, X360, Wii, DS, PS4\n",
    "В Японии: DS, 3DS, PS3, PSP, Wii\n",
    "\n",
    "Скорее всего разница доли продаж в разных регионах обусловлена доступностью платформ в конкретных местах, а также удобством способа оплаты. "
   ]
  },
  {
   "cell_type": "markdown",
   "metadata": {},
   "source": [
    "Рассмотрим самые популярные жанры по регионам"
   ]
  },
  {
   "cell_type": "code",
   "execution_count": 54,
   "metadata": {},
   "outputs": [
    {
     "data": {
      "text/plain": [
       "genre\n",
       "Action          221.63\n",
       "Shooter         178.19\n",
       "Sports          101.16\n",
       "Role-Playing     77.89\n",
       "Misc             68.93\n",
       "Name: na_sales, dtype: float64"
      ]
     },
     "execution_count": 54,
     "metadata": {},
     "output_type": "execute_result"
    }
   ],
   "source": [
    "data_actual.groupby('genre')['na_sales'].sum().sort_values(ascending=False).head(5)"
   ]
  },
  {
   "cell_type": "code",
   "execution_count": 55,
   "metadata": {},
   "outputs": [
    {
     "data": {
      "text/plain": [
       "genre\n",
       "Action          188.44\n",
       "Shooter         132.12\n",
       "Sports           76.47\n",
       "Role-Playing     58.02\n",
       "Misc             39.06\n",
       "Name: eu_sales, dtype: float64"
      ]
     },
     "execution_count": 55,
     "metadata": {},
     "output_type": "execute_result"
    }
   ],
   "source": [
    "data_actual.groupby('genre')['eu_sales'].sum().sort_values(ascending=False).head(5)"
   ]
  },
  {
   "cell_type": "code",
   "execution_count": 56,
   "metadata": {},
   "outputs": [
    {
     "data": {
      "text/plain": [
       "genre\n",
       "Role-Playing    73.26\n",
       "Action          56.55\n",
       "Misc            16.56\n",
       "Platform        12.02\n",
       "Fighting        11.63\n",
       "Name: jp_sales, dtype: float64"
      ]
     },
     "execution_count": 56,
     "metadata": {},
     "output_type": "execute_result"
    }
   ],
   "source": [
    "data_actual.groupby('genre')['jp_sales'].sum().sort_values(ascending=False).head(5)"
   ]
  },
  {
   "cell_type": "markdown",
   "metadata": {},
   "source": [
    "В северной Америке и Европе топ-5 жанров практически не отличаются: первые 4 строчки занимают action, sports, shooter, misc, только 5 место не совпадает: Role-Playing и Racing соответсвенно. Это связано со схожестью культурных ценностей и привычек людей из этих регионов. В Японии самыми популярными жанрами по убыванию являются: Role-Playing, action, misc, sports, platform. Сами жанры в топе не сильно отличаются, но по разному распределены в рейтинге. Это говорит нам о том, что в Японии обычаи людей отличаются от северо-американских и европейских. "
   ]
  },
  {
   "cell_type": "code",
   "execution_count": 57,
   "metadata": {},
   "outputs": [
    {
     "data": {
      "text/plain": [
       "rating\n",
       "M       292.78\n",
       "E       162.20\n",
       "E10+    113.91\n",
       "T       100.36\n",
       "EC        0.42\n",
       "RP        0.00\n",
       "Name: na_sales, dtype: float64"
      ]
     },
     "execution_count": 57,
     "metadata": {},
     "output_type": "execute_result"
    }
   ],
   "source": [
    "data_actual.groupby('rating')['na_sales'].sum().sort_values(ascending=False)"
   ]
  },
  {
   "cell_type": "code",
   "execution_count": 58,
   "metadata": {},
   "outputs": [
    {
     "data": {
      "text/plain": [
       "rating\n",
       "M       233.72\n",
       "E       128.12\n",
       "E10+     74.19\n",
       "T        73.37\n",
       "RP        0.03\n",
       "EC        0.00\n",
       "Name: eu_sales, dtype: float64"
      ]
     },
     "execution_count": 58,
     "metadata": {},
     "output_type": "execute_result"
    }
   ],
   "source": [
    "data_actual.groupby('rating')['eu_sales'].sum().sort_values(ascending=False)"
   ]
  },
  {
   "cell_type": "code",
   "execution_count": 59,
   "metadata": {},
   "outputs": [
    {
     "data": {
      "text/plain": [
       "rating\n",
       "E       35.61\n",
       "T       31.12\n",
       "M       24.94\n",
       "E10+    10.78\n",
       "EC       0.00\n",
       "RP       0.00\n",
       "Name: jp_sales, dtype: float64"
      ]
     },
     "execution_count": 59,
     "metadata": {},
     "output_type": "execute_result"
    }
   ],
   "source": [
    "data_actual.groupby('rating')['jp_sales'].sum().sort_values(ascending=False)"
   ]
  },
  {
   "cell_type": "markdown",
   "metadata": {},
   "source": [
    "Рейтинг ESRB явно влияет на продажи, примерно одинаково во всех регионах, в северной Америке и Японии абсолютно идентичны, а в Европе последние две строки топа поставлены наоборот. Значит, влияние рейтинга ESRB на продажи не сильно зависит от региона. "
   ]
  },
  {
   "cell_type": "markdown",
   "metadata": {},
   "source": [
    "Мы рассмотрели портрет пользователя для каждого региона. Выяснилось, что в регионах много схожостей(во влиянии рейтинга на продажи и самые популярные жанры), обусловленных такими факторами, как схожесть культурных ценностей и обычаев. Но самые прибыльные платформы различаются, это может быть связано с использованием платформы на определенной местности, где-то они могут быть недоступны, или предоставляются менее удобные способы оплаты. "
   ]
  },
  {
   "cell_type": "markdown",
   "metadata": {},
   "source": [
    "<b>Шаг 5. Проверка гипотез</b>"
   ]
  },
  {
   "cell_type": "markdown",
   "metadata": {},
   "source": [
    "Выясним различаются ли средние пользовательские рейтинги платформ Xbox One и PC. Для этого сформулируем нулевую и альтернативную гипотезы соответсвенно:\n",
    "- Средние пользовательские рейтинги платформ Xbox One и PC равны\n",
    "- Средние пользовательские рейтинги платформ Xbox One и PC различаются\n",
    "\n",
    "Именно такая формулировка гипотез позволит нам ответить на поставленный вопрос. \n",
    "\n",
    "Для проверки гипотез будем использовать метод для проверки равенства средних двух генеральных совокупностей scipy.stats.ttest_ind с параметром alternative='two-sided', который стоит по умолчанию. Примем значение альфа за 0.01"
   ]
  },
  {
   "cell_type": "code",
   "execution_count": 60,
   "metadata": {},
   "outputs": [
    {
     "data": {
      "text/plain": [
       "0.9968723176117981"
      ]
     },
     "execution_count": 60,
     "metadata": {},
     "output_type": "execute_result"
    }
   ],
   "source": [
    "results = st.ttest_ind(pd.to_numeric(data_actual[data_actual['platform'] == 'XOne']['user_score']).dropna(), pd.to_numeric(data_actual[data_actual['platform'] == 'PC']['user_score']).dropna())\n",
    "results.pvalue"
   ]
  },
  {
   "cell_type": "markdown",
   "metadata": {},
   "source": [
    "p-значение слишком маленькое и меньше выбранного альфа, значит мы отвергаем нулевую гипотезу и делаем вывод о том, что средние пользовательские рейтинги платформ Xbox One и PC различаются.\n"
   ]
  },
  {
   "cell_type": "markdown",
   "metadata": {},
   "source": [
    "Выясним различаются ли средние пользовательские рейтинги жанров Action (англ. «действие», экшен-игры) и Sports (англ. «спортивные соревнования»). Для этого сформулируем нулевую и альтернативную гипотезы соответсвенно:\n",
    "- Средние пользовательские рейтинги жанров Action и Sports равны\n",
    "- Средние пользовательские рейтинги жанров Action и Sports разные\n",
    "\n",
    "Именно такая формулировка гипотез позволит нам ответить на поставленный вопрос. \n",
    "\n",
    "Для проверки гипотез будем использовать метод для проверки равенства средних двух генеральных совокупностей scipy.stats.ttest_ind с параметром alternative='two-sided', который стоит по умолчанию. Примем значение альфа за 0.01"
   ]
  },
  {
   "cell_type": "code",
   "execution_count": 61,
   "metadata": {},
   "outputs": [
    {
     "data": {
      "text/plain": [
       "4.4287702630764084e-21"
      ]
     },
     "execution_count": 61,
     "metadata": {},
     "output_type": "execute_result"
    }
   ],
   "source": [
    "results = st.ttest_ind(pd.to_numeric(data_actual[data_actual['genre'] == 'Action']['user_score']).dropna(), pd.to_numeric(data_actual[data_actual['genre'] == 'Sports']['user_score']).dropna())\n",
    "results.pvalue"
   ]
  },
  {
   "cell_type": "markdown",
   "metadata": {},
   "source": [
    "p-значение меньше выбранного альфа, значит мы отвергаем нулевую гипотезу и делаем вывод о том, что средние пользовательские рейтинги жанров Action и Sports разные. "
   ]
  },
  {
   "cell_type": "markdown",
   "metadata": {},
   "source": [
    "Так, средние пользовательские рейтинги отличаются и в жанрах action, sports, и в платформах XOne, PC. "
   ]
  },
  {
   "cell_type": "markdown",
   "metadata": {},
   "source": [
    "<b>Общий вывод</b>"
   ]
  },
  {
   "cell_type": "markdown",
   "metadata": {},
   "source": [
    "В рамках анализа данных о видеоиграх мы изучили датасет, содержащий информацию о продажах, пользовательских и  рейтингах критиков, жанрах, платформах и возрастных рейтингах ESRB за период до 2016 года включительно. В данных были пропуски, которые мы обработали в первом шаге, а также был изменен формат некоторых данных и добавлен столбец для суммы продаж по всем регионам. \n",
    "\n",
    "В результате исследовательского анализа оказалось, что средняя продолжительность работы платформы составляет 5 лет, каждые 5-7 появляются новые, значит при планировании кампании на 2017 год надо опираться на более свежие платформы. Самыми популярными и  прибыльными оказались жанры action и sports за счет своей динамичности, что привлекает пользователей. Сильнее на популярность и прибыльность влияют год выпуска, оценка критиков и жанр, оценки пользователей также оказывают влияние, но в меньшей степени. \n",
    "\n",
    "Были исследованы пользователи по регионам. Оказалось, что в регионах много схожостей, обусловленных такими факторами, как схожесть культурных ценностей и обычаев, так в северной Америке и Европе пользователи отдают предпочтение одинаковым жанрам. Однако, самые прибыльные платформы различаются, это может быть обусловлено разными способами оплаты или поддержания работы платформ в определенных странах. \n",
    "\n",
    "С помощью проверки гипотез выяснилось, что средние пользовательские рейтинги отличаются в жанрах action, sports, и в платформах XOne, PC. \n",
    "\n"
   ]
  }
 ],
 "metadata": {
  "ExecuteTimeLog": [
   {
    "duration": 387,
    "start_time": "2025-03-24T14:16:37.590Z"
   },
   {
    "duration": 44,
    "start_time": "2025-03-24T14:16:38.612Z"
   },
   {
    "duration": 22,
    "start_time": "2025-03-24T14:16:39.126Z"
   },
   {
    "duration": 15,
    "start_time": "2025-03-24T14:16:50.304Z"
   },
   {
    "duration": 80,
    "start_time": "2025-03-24T14:25:15.892Z"
   },
   {
    "duration": 14,
    "start_time": "2025-03-24T16:48:18.112Z"
   },
   {
    "duration": 18,
    "start_time": "2025-03-24T17:02:59.167Z"
   },
   {
    "duration": 50,
    "start_time": "2025-03-24T18:35:41.973Z"
   },
   {
    "duration": 420,
    "start_time": "2025-03-24T18:35:45.942Z"
   },
   {
    "duration": 59,
    "start_time": "2025-03-24T18:35:46.366Z"
   },
   {
    "duration": 28,
    "start_time": "2025-03-24T18:35:46.427Z"
   },
   {
    "duration": 15,
    "start_time": "2025-03-24T18:35:46.639Z"
   },
   {
    "duration": 14,
    "start_time": "2025-03-24T18:35:47.221Z"
   },
   {
    "duration": 17,
    "start_time": "2025-03-24T18:35:47.508Z"
   },
   {
    "duration": 10,
    "start_time": "2025-03-24T18:35:47.947Z"
   },
   {
    "duration": 23,
    "start_time": "2025-03-24T18:36:04.611Z"
   },
   {
    "duration": 10,
    "start_time": "2025-03-24T18:36:11.769Z"
   },
   {
    "duration": 4,
    "start_time": "2025-03-24T18:36:55.754Z"
   },
   {
    "duration": 12,
    "start_time": "2025-03-24T18:37:30.328Z"
   },
   {
    "duration": 7,
    "start_time": "2025-03-24T19:01:12.996Z"
   },
   {
    "duration": 13,
    "start_time": "2025-03-24T19:01:40.429Z"
   },
   {
    "duration": 6,
    "start_time": "2025-03-24T19:02:57.703Z"
   },
   {
    "duration": 9,
    "start_time": "2025-03-24T19:03:08.724Z"
   },
   {
    "duration": 32,
    "start_time": "2025-03-24T19:03:43.806Z"
   },
   {
    "duration": 14,
    "start_time": "2025-03-24T19:04:07.000Z"
   },
   {
    "duration": 10,
    "start_time": "2025-03-24T19:04:10.677Z"
   },
   {
    "duration": 8,
    "start_time": "2025-03-24T19:05:23.067Z"
   },
   {
    "duration": 9,
    "start_time": "2025-03-24T19:05:25.929Z"
   },
   {
    "duration": 9,
    "start_time": "2025-03-24T19:05:37.728Z"
   },
   {
    "duration": 8,
    "start_time": "2025-03-24T19:05:38.029Z"
   },
   {
    "duration": 9,
    "start_time": "2025-03-24T19:05:38.158Z"
   },
   {
    "duration": 3,
    "start_time": "2025-03-24T19:05:50.619Z"
   },
   {
    "duration": 46,
    "start_time": "2025-03-24T19:05:50.936Z"
   },
   {
    "duration": 16,
    "start_time": "2025-03-24T19:05:51.095Z"
   },
   {
    "duration": 15,
    "start_time": "2025-03-24T19:05:51.247Z"
   },
   {
    "duration": 14,
    "start_time": "2025-03-24T19:05:52.061Z"
   },
   {
    "duration": 16,
    "start_time": "2025-03-24T19:05:52.367Z"
   },
   {
    "duration": 10,
    "start_time": "2025-03-24T19:05:52.698Z"
   },
   {
    "duration": 11,
    "start_time": "2025-03-24T19:05:52.853Z"
   },
   {
    "duration": 14,
    "start_time": "2025-03-24T19:05:53.669Z"
   },
   {
    "duration": 10,
    "start_time": "2025-03-24T19:05:55.001Z"
   },
   {
    "duration": 15,
    "start_time": "2025-03-24T19:05:56.391Z"
   },
   {
    "duration": 7,
    "start_time": "2025-03-24T19:06:57.658Z"
   },
   {
    "duration": 18,
    "start_time": "2025-03-24T19:18:05.407Z"
   },
   {
    "duration": 15,
    "start_time": "2025-03-24T19:18:20.306Z"
   },
   {
    "duration": 5,
    "start_time": "2025-03-24T19:18:50.139Z"
   },
   {
    "duration": 12,
    "start_time": "2025-03-24T19:19:16.197Z"
   },
   {
    "duration": 15,
    "start_time": "2025-03-24T19:19:25.419Z"
   },
   {
    "duration": 16,
    "start_time": "2025-03-24T19:35:19.769Z"
   },
   {
    "duration": 17,
    "start_time": "2025-03-24T19:35:57.073Z"
   },
   {
    "duration": 15,
    "start_time": "2025-03-24T19:36:54.318Z"
   },
   {
    "duration": 2,
    "start_time": "2025-03-24T19:37:03.230Z"
   },
   {
    "duration": 43,
    "start_time": "2025-03-24T19:37:03.483Z"
   },
   {
    "duration": 14,
    "start_time": "2025-03-24T19:37:03.639Z"
   },
   {
    "duration": 13,
    "start_time": "2025-03-24T19:37:03.768Z"
   },
   {
    "duration": 14,
    "start_time": "2025-03-24T19:37:04.328Z"
   },
   {
    "duration": 15,
    "start_time": "2025-03-24T19:37:04.612Z"
   },
   {
    "duration": 9,
    "start_time": "2025-03-24T19:37:04.938Z"
   },
   {
    "duration": 12,
    "start_time": "2025-03-24T19:37:05.093Z"
   },
   {
    "duration": 15,
    "start_time": "2025-03-24T19:37:05.386Z"
   },
   {
    "duration": 14,
    "start_time": "2025-03-24T19:37:05.679Z"
   },
   {
    "duration": 11,
    "start_time": "2025-03-24T19:37:05.966Z"
   },
   {
    "duration": 17,
    "start_time": "2025-03-24T19:37:06.544Z"
   },
   {
    "duration": 11,
    "start_time": "2025-03-24T19:39:30.752Z"
   },
   {
    "duration": 11,
    "start_time": "2025-03-24T19:39:49.156Z"
   },
   {
    "duration": 2,
    "start_time": "2025-03-24T19:42:59.659Z"
   },
   {
    "duration": 45,
    "start_time": "2025-03-24T19:43:00.210Z"
   },
   {
    "duration": 13,
    "start_time": "2025-03-24T19:43:00.381Z"
   },
   {
    "duration": 13,
    "start_time": "2025-03-24T19:43:00.640Z"
   },
   {
    "duration": 14,
    "start_time": "2025-03-24T19:43:01.298Z"
   },
   {
    "duration": 17,
    "start_time": "2025-03-24T19:43:01.630Z"
   },
   {
    "duration": 10,
    "start_time": "2025-03-24T19:43:01.959Z"
   },
   {
    "duration": 11,
    "start_time": "2025-03-24T19:43:05.581Z"
   },
   {
    "duration": 14,
    "start_time": "2025-03-24T19:43:05.880Z"
   },
   {
    "duration": 15,
    "start_time": "2025-03-24T19:43:06.194Z"
   },
   {
    "duration": 14,
    "start_time": "2025-03-24T19:43:07.323Z"
   },
   {
    "duration": 6,
    "start_time": "2025-03-24T19:43:08.235Z"
   },
   {
    "duration": 11,
    "start_time": "2025-03-24T19:43:48.756Z"
   },
   {
    "duration": 17,
    "start_time": "2025-03-24T19:47:30.093Z"
   },
   {
    "duration": 50,
    "start_time": "2025-03-25T07:48:03.885Z"
   },
   {
    "duration": 389,
    "start_time": "2025-03-25T07:48:07.857Z"
   },
   {
    "duration": 43,
    "start_time": "2025-03-25T07:48:08.247Z"
   },
   {
    "duration": 19,
    "start_time": "2025-03-25T07:48:08.345Z"
   },
   {
    "duration": 14,
    "start_time": "2025-03-25T07:48:08.515Z"
   },
   {
    "duration": 15,
    "start_time": "2025-03-25T07:48:09.115Z"
   },
   {
    "duration": 16,
    "start_time": "2025-03-25T07:48:09.436Z"
   },
   {
    "duration": 9,
    "start_time": "2025-03-25T07:48:09.771Z"
   },
   {
    "duration": 11,
    "start_time": "2025-03-25T07:48:09.885Z"
   },
   {
    "duration": 15,
    "start_time": "2025-03-25T07:48:10.243Z"
   },
   {
    "duration": 15,
    "start_time": "2025-03-25T07:48:10.552Z"
   },
   {
    "duration": 12,
    "start_time": "2025-03-25T07:48:10.865Z"
   },
   {
    "duration": 5,
    "start_time": "2025-03-25T07:48:11.145Z"
   },
   {
    "duration": 15,
    "start_time": "2025-03-25T07:48:11.495Z"
   },
   {
    "duration": 26,
    "start_time": "2025-03-25T07:48:11.785Z"
   },
   {
    "duration": 8,
    "start_time": "2025-03-25T07:48:12.275Z"
   },
   {
    "duration": 445,
    "start_time": "2025-03-25T08:05:01.801Z"
   },
   {
    "duration": 48,
    "start_time": "2025-03-25T08:05:02.248Z"
   },
   {
    "duration": 53,
    "start_time": "2025-03-25T08:05:02.298Z"
   },
   {
    "duration": 16,
    "start_time": "2025-03-25T08:05:02.430Z"
   },
   {
    "duration": 14,
    "start_time": "2025-03-25T08:05:03.075Z"
   },
   {
    "duration": 18,
    "start_time": "2025-03-25T08:05:03.394Z"
   },
   {
    "duration": 12,
    "start_time": "2025-03-25T08:05:03.722Z"
   },
   {
    "duration": 11,
    "start_time": "2025-03-25T08:05:04.023Z"
   },
   {
    "duration": 15,
    "start_time": "2025-03-25T08:05:04.390Z"
   },
   {
    "duration": 7,
    "start_time": "2025-03-25T08:11:45.571Z"
   },
   {
    "duration": 164,
    "start_time": "2025-03-25T08:12:20.377Z"
   },
   {
    "duration": 287,
    "start_time": "2025-03-25T08:12:37.549Z"
   },
   {
    "duration": 484,
    "start_time": "2025-03-25T08:13:01.485Z"
   },
   {
    "duration": 47,
    "start_time": "2025-03-25T14:32:08.071Z"
   },
   {
    "duration": 754,
    "start_time": "2025-03-25T14:32:12.290Z"
   },
   {
    "duration": 45,
    "start_time": "2025-03-25T14:32:13.046Z"
   },
   {
    "duration": 19,
    "start_time": "2025-03-25T14:32:13.093Z"
   },
   {
    "duration": 14,
    "start_time": "2025-03-25T14:32:13.113Z"
   },
   {
    "duration": 14,
    "start_time": "2025-03-25T14:32:13.471Z"
   },
   {
    "duration": 14,
    "start_time": "2025-03-25T14:32:15.762Z"
   },
   {
    "duration": 17,
    "start_time": "2025-03-25T14:32:16.100Z"
   },
   {
    "duration": 11,
    "start_time": "2025-03-25T14:32:18.884Z"
   },
   {
    "duration": 12,
    "start_time": "2025-03-25T14:32:18.994Z"
   },
   {
    "duration": 15,
    "start_time": "2025-03-25T14:32:19.305Z"
   },
   {
    "duration": 17,
    "start_time": "2025-03-25T14:32:20.263Z"
   },
   {
    "duration": 14,
    "start_time": "2025-03-25T14:32:20.565Z"
   },
   {
    "duration": 6,
    "start_time": "2025-03-25T14:32:20.932Z"
   },
   {
    "duration": 12,
    "start_time": "2025-03-25T14:32:21.383Z"
   },
   {
    "duration": 18,
    "start_time": "2025-03-25T14:32:21.721Z"
   },
   {
    "duration": 41,
    "start_time": "2025-03-25T14:32:22.402Z"
   },
   {
    "duration": 431,
    "start_time": "2025-03-25T14:32:22.570Z"
   },
   {
    "duration": 6,
    "start_time": "2025-03-25T14:32:35.760Z"
   },
   {
    "duration": 254,
    "start_time": "2025-03-25T14:47:57.585Z"
   },
   {
    "duration": 437,
    "start_time": "2025-03-25T14:48:15.024Z"
   },
   {
    "duration": 8,
    "start_time": "2025-03-25T14:59:31.698Z"
   },
   {
    "duration": 7,
    "start_time": "2025-03-25T15:01:09.408Z"
   },
   {
    "duration": 130,
    "start_time": "2025-03-25T15:16:03.316Z"
   },
   {
    "duration": 133,
    "start_time": "2025-03-25T15:18:22.544Z"
   },
   {
    "duration": 150,
    "start_time": "2025-03-25T15:19:15.530Z"
   },
   {
    "duration": 128,
    "start_time": "2025-03-25T15:19:40.126Z"
   },
   {
    "duration": 138,
    "start_time": "2025-03-25T15:20:08.799Z"
   },
   {
    "duration": 143,
    "start_time": "2025-03-25T15:20:09.292Z"
   },
   {
    "duration": 130,
    "start_time": "2025-03-25T15:20:38.797Z"
   },
   {
    "duration": 143,
    "start_time": "2025-03-25T15:20:58.219Z"
   },
   {
    "duration": 139,
    "start_time": "2025-03-25T15:21:22.349Z"
   },
   {
    "duration": 353,
    "start_time": "2025-03-25T17:32:16.181Z"
   },
   {
    "duration": 44,
    "start_time": "2025-03-25T17:42:47.759Z"
   },
   {
    "duration": 871,
    "start_time": "2025-03-25T17:42:53.046Z"
   },
   {
    "duration": 57,
    "start_time": "2025-03-25T17:42:53.920Z"
   },
   {
    "duration": 18,
    "start_time": "2025-03-25T17:42:53.979Z"
   },
   {
    "duration": 18,
    "start_time": "2025-03-25T17:42:53.999Z"
   },
   {
    "duration": 15,
    "start_time": "2025-03-25T17:42:54.277Z"
   },
   {
    "duration": 19,
    "start_time": "2025-03-25T17:42:54.567Z"
   },
   {
    "duration": 11,
    "start_time": "2025-03-25T17:42:54.877Z"
   },
   {
    "duration": 12,
    "start_time": "2025-03-25T17:42:55.026Z"
   },
   {
    "duration": 14,
    "start_time": "2025-03-25T17:42:55.610Z"
   },
   {
    "duration": 15,
    "start_time": "2025-03-25T17:42:55.938Z"
   },
   {
    "duration": 13,
    "start_time": "2025-03-25T17:42:56.277Z"
   },
   {
    "duration": 5,
    "start_time": "2025-03-25T17:42:56.598Z"
   },
   {
    "duration": 12,
    "start_time": "2025-03-25T17:42:56.937Z"
   },
   {
    "duration": 18,
    "start_time": "2025-03-25T17:42:57.197Z"
   },
   {
    "duration": 9,
    "start_time": "2025-03-25T17:42:58.158Z"
   },
   {
    "duration": 440,
    "start_time": "2025-03-25T17:42:58.350Z"
   },
   {
    "duration": 13,
    "start_time": "2025-03-25T17:42:58.863Z"
   },
   {
    "duration": 145,
    "start_time": "2025-03-25T17:42:59.166Z"
   },
   {
    "duration": 220,
    "start_time": "2025-03-25T17:42:59.312Z"
   },
   {
    "duration": 163,
    "start_time": "2025-03-25T17:42:59.534Z"
   },
   {
    "duration": 145,
    "start_time": "2025-03-25T17:42:59.699Z"
   },
   {
    "duration": 158,
    "start_time": "2025-03-25T17:42:59.846Z"
   },
   {
    "duration": 161,
    "start_time": "2025-03-25T17:43:00.126Z"
   },
   {
    "duration": 45,
    "start_time": "2025-03-25T17:43:00.641Z"
   },
   {
    "duration": 19,
    "start_time": "2025-03-25T17:43:33.490Z"
   },
   {
    "duration": 9,
    "start_time": "2025-03-25T18:37:24.931Z"
   },
   {
    "duration": 207,
    "start_time": "2025-03-25T18:39:13.829Z"
   },
   {
    "duration": 1354,
    "start_time": "2025-03-25T18:55:40.606Z"
   },
   {
    "duration": 1452,
    "start_time": "2025-03-25T18:56:37.887Z"
   },
   {
    "duration": 174,
    "start_time": "2025-03-25T19:02:50.876Z"
   },
   {
    "duration": 179,
    "start_time": "2025-03-25T19:03:11.570Z"
   },
   {
    "duration": 188,
    "start_time": "2025-03-25T19:03:25.176Z"
   },
   {
    "duration": 199,
    "start_time": "2025-03-25T19:03:35.608Z"
   },
   {
    "duration": 751,
    "start_time": "2025-03-25T19:04:14.907Z"
   },
   {
    "duration": 770,
    "start_time": "2025-03-25T19:04:28.747Z"
   },
   {
    "duration": 863,
    "start_time": "2025-03-25T19:06:44.922Z"
   },
   {
    "duration": 5254,
    "start_time": "2025-03-25T19:07:50.858Z"
   },
   {
    "duration": 5371,
    "start_time": "2025-03-25T19:08:56.149Z"
   },
   {
    "duration": 323,
    "start_time": "2025-03-25T19:11:02.947Z"
   },
   {
    "duration": 455,
    "start_time": "2025-03-25T19:12:25.295Z"
   },
   {
    "duration": 538,
    "start_time": "2025-03-25T19:12:51.043Z"
   },
   {
    "duration": 101,
    "start_time": "2025-03-25T19:22:31.917Z"
   },
   {
    "duration": 390,
    "start_time": "2025-03-25T19:55:59.585Z"
   },
   {
    "duration": 348,
    "start_time": "2025-03-25T19:56:30.526Z"
   },
   {
    "duration": 708,
    "start_time": "2025-03-25T19:57:05.259Z"
   },
   {
    "duration": 448,
    "start_time": "2025-03-25T19:59:29.270Z"
   },
   {
    "duration": 492,
    "start_time": "2025-03-25T20:00:16.529Z"
   },
   {
    "duration": 104,
    "start_time": "2025-03-25T20:00:36.279Z"
   },
   {
    "duration": 515,
    "start_time": "2025-03-25T20:00:44.688Z"
   },
   {
    "duration": 486,
    "start_time": "2025-03-25T20:00:57.259Z"
   },
   {
    "duration": 422,
    "start_time": "2025-03-25T20:01:25.696Z"
   },
   {
    "duration": 434,
    "start_time": "2025-03-25T20:01:41.068Z"
   },
   {
    "duration": 500,
    "start_time": "2025-03-25T20:05:17.966Z"
   },
   {
    "duration": 594,
    "start_time": "2025-03-25T20:05:42.968Z"
   },
   {
    "duration": 52,
    "start_time": "2025-03-25T22:08:28.758Z"
   },
   {
    "duration": 767,
    "start_time": "2025-03-25T22:08:35.673Z"
   },
   {
    "duration": 43,
    "start_time": "2025-03-25T22:08:36.442Z"
   },
   {
    "duration": 17,
    "start_time": "2025-03-25T22:08:36.486Z"
   },
   {
    "duration": 13,
    "start_time": "2025-03-25T22:08:36.505Z"
   },
   {
    "duration": 13,
    "start_time": "2025-03-25T22:08:36.867Z"
   },
   {
    "duration": 16,
    "start_time": "2025-03-25T22:08:37.193Z"
   },
   {
    "duration": 9,
    "start_time": "2025-03-25T22:08:37.497Z"
   },
   {
    "duration": 11,
    "start_time": "2025-03-25T22:08:37.649Z"
   },
   {
    "duration": 14,
    "start_time": "2025-03-25T22:08:38.022Z"
   },
   {
    "duration": 14,
    "start_time": "2025-03-25T22:08:38.336Z"
   },
   {
    "duration": 11,
    "start_time": "2025-03-25T22:08:38.676Z"
   },
   {
    "duration": 5,
    "start_time": "2025-03-25T22:08:38.988Z"
   },
   {
    "duration": 11,
    "start_time": "2025-03-25T22:08:39.338Z"
   },
   {
    "duration": 17,
    "start_time": "2025-03-25T22:08:39.697Z"
   },
   {
    "duration": 6,
    "start_time": "2025-03-25T22:08:40.358Z"
   },
   {
    "duration": 385,
    "start_time": "2025-03-25T22:08:40.517Z"
   },
   {
    "duration": 9,
    "start_time": "2025-03-25T22:08:41.056Z"
   },
   {
    "duration": 124,
    "start_time": "2025-03-25T22:08:41.387Z"
   },
   {
    "duration": 133,
    "start_time": "2025-03-25T22:08:41.538Z"
   },
   {
    "duration": 188,
    "start_time": "2025-03-25T22:08:41.716Z"
   },
   {
    "duration": 133,
    "start_time": "2025-03-25T22:08:41.906Z"
   },
   {
    "duration": 140,
    "start_time": "2025-03-25T22:08:42.041Z"
   },
   {
    "duration": 139,
    "start_time": "2025-03-25T22:08:42.185Z"
   },
   {
    "duration": 17,
    "start_time": "2025-03-25T22:08:42.692Z"
   },
   {
    "duration": 8,
    "start_time": "2025-03-25T22:08:42.991Z"
   },
   {
    "duration": 215,
    "start_time": "2025-03-25T22:08:43.158Z"
   },
   {
    "duration": 430,
    "start_time": "2025-03-25T22:08:43.499Z"
   },
   {
    "duration": 426,
    "start_time": "2025-03-25T22:08:43.931Z"
   },
   {
    "duration": 20,
    "start_time": "2025-03-25T22:08:44.359Z"
   },
   {
    "duration": 22,
    "start_time": "2025-03-25T22:11:10.684Z"
   },
   {
    "duration": 337,
    "start_time": "2025-03-25T22:12:50.992Z"
   },
   {
    "duration": 212,
    "start_time": "2025-03-25T22:21:02.764Z"
   },
   {
    "duration": 139,
    "start_time": "2025-03-25T22:22:04.427Z"
   },
   {
    "duration": 416,
    "start_time": "2025-03-25T22:23:32.887Z"
   },
   {
    "duration": 406,
    "start_time": "2025-03-25T22:26:58.038Z"
   },
   {
    "duration": 2,
    "start_time": "2025-03-25T22:29:24.727Z"
   },
   {
    "duration": 537,
    "start_time": "2025-03-25T22:29:29.758Z"
   },
   {
    "duration": 150,
    "start_time": "2025-03-25T22:30:06.567Z"
   },
   {
    "duration": 409,
    "start_time": "2025-03-25T22:30:48.256Z"
   },
   {
    "duration": 153,
    "start_time": "2025-03-25T22:31:40.075Z"
   },
   {
    "duration": 388,
    "start_time": "2025-03-25T22:32:51.688Z"
   },
   {
    "duration": 142,
    "start_time": "2025-03-25T22:33:39.802Z"
   },
   {
    "duration": 204,
    "start_time": "2025-03-25T22:34:17.263Z"
   },
   {
    "duration": 136,
    "start_time": "2025-03-25T22:34:23.302Z"
   },
   {
    "duration": 36,
    "start_time": "2025-03-25T22:36:26.770Z"
   },
   {
    "duration": 140,
    "start_time": "2025-03-25T22:38:49.415Z"
   },
   {
    "duration": 329,
    "start_time": "2025-03-25T22:44:16.657Z"
   },
   {
    "duration": 4,
    "start_time": "2025-03-25T22:44:37.158Z"
   },
   {
    "duration": 6,
    "start_time": "2025-03-25T22:48:03.270Z"
   },
   {
    "duration": 298,
    "start_time": "2025-03-25T22:48:14.746Z"
   },
   {
    "duration": 326,
    "start_time": "2025-03-25T22:52:58.883Z"
   },
   {
    "duration": 324,
    "start_time": "2025-03-25T22:55:23.753Z"
   },
   {
    "duration": 297,
    "start_time": "2025-03-25T22:56:54.379Z"
   },
   {
    "duration": 332,
    "start_time": "2025-03-25T22:58:06.208Z"
   },
   {
    "duration": 13,
    "start_time": "2025-03-25T23:07:52.468Z"
   },
   {
    "duration": 7,
    "start_time": "2025-03-25T23:08:43.770Z"
   },
   {
    "duration": 7,
    "start_time": "2025-03-25T23:09:12.349Z"
   },
   {
    "duration": 155,
    "start_time": "2025-03-25T23:09:57.230Z"
   },
   {
    "duration": 7,
    "start_time": "2025-03-25T23:10:34.640Z"
   },
   {
    "duration": 7,
    "start_time": "2025-03-25T23:12:05.411Z"
   },
   {
    "duration": 101,
    "start_time": "2025-03-25T23:12:41.962Z"
   },
   {
    "duration": 99,
    "start_time": "2025-03-25T23:12:53.841Z"
   },
   {
    "duration": 7,
    "start_time": "2025-03-25T23:13:10.080Z"
   },
   {
    "duration": 127,
    "start_time": "2025-03-25T23:13:51.769Z"
   },
   {
    "duration": 7,
    "start_time": "2025-03-25T23:14:38.670Z"
   },
   {
    "duration": 556,
    "start_time": "2025-03-25T23:14:55.520Z"
   },
   {
    "duration": 42,
    "start_time": "2025-03-25T23:15:02.159Z"
   },
   {
    "duration": 97,
    "start_time": "2025-03-25T23:17:47.711Z"
   },
   {
    "duration": 161,
    "start_time": "2025-03-25T23:18:01.498Z"
   },
   {
    "duration": 144,
    "start_time": "2025-03-25T23:18:10.700Z"
   },
   {
    "duration": 108,
    "start_time": "2025-03-25T23:24:25.686Z"
   },
   {
    "duration": 8,
    "start_time": "2025-03-25T23:27:46.703Z"
   },
   {
    "duration": 8,
    "start_time": "2025-03-25T23:28:02.003Z"
   },
   {
    "duration": 7,
    "start_time": "2025-03-25T23:28:21.704Z"
   },
   {
    "duration": 4,
    "start_time": "2025-03-25T23:30:31.888Z"
   },
   {
    "duration": 8,
    "start_time": "2025-03-25T23:31:03.390Z"
   },
   {
    "duration": 7,
    "start_time": "2025-03-25T23:32:37.791Z"
   },
   {
    "duration": 8,
    "start_time": "2025-03-25T23:32:53.160Z"
   },
   {
    "duration": 88,
    "start_time": "2025-03-25T23:33:42.419Z"
   },
   {
    "duration": 100,
    "start_time": "2025-03-26T00:02:29.257Z"
   },
   {
    "duration": 8,
    "start_time": "2025-03-26T00:03:47.591Z"
   },
   {
    "duration": 7,
    "start_time": "2025-03-26T00:04:00.276Z"
   },
   {
    "duration": 7,
    "start_time": "2025-03-26T00:04:13.073Z"
   },
   {
    "duration": 7,
    "start_time": "2025-03-26T00:11:25.450Z"
   },
   {
    "duration": 7,
    "start_time": "2025-03-26T00:11:29.951Z"
   },
   {
    "duration": 7,
    "start_time": "2025-03-26T00:11:35.012Z"
   },
   {
    "duration": 91,
    "start_time": "2025-03-26T00:20:26.974Z"
   },
   {
    "duration": 3,
    "start_time": "2025-03-26T00:28:42.829Z"
   },
   {
    "duration": 12,
    "start_time": "2025-03-26T00:32:29.218Z"
   },
   {
    "duration": 18,
    "start_time": "2025-03-26T00:32:58.880Z"
   },
   {
    "duration": 16,
    "start_time": "2025-03-26T00:33:42.699Z"
   },
   {
    "duration": 9,
    "start_time": "2025-03-26T00:35:41.567Z"
   },
   {
    "duration": 10,
    "start_time": "2025-03-26T00:36:30.018Z"
   },
   {
    "duration": 10,
    "start_time": "2025-03-26T00:40:40.296Z"
   },
   {
    "duration": 10,
    "start_time": "2025-03-26T00:40:49.918Z"
   },
   {
    "duration": 87,
    "start_time": "2025-03-26T00:42:56.767Z"
   },
   {
    "duration": 146,
    "start_time": "2025-03-26T00:44:32.138Z"
   },
   {
    "duration": 1303,
    "start_time": "2025-03-26T03:40:07.787Z"
   },
   {
    "duration": 57,
    "start_time": "2025-03-26T03:40:09.092Z"
   },
   {
    "duration": 18,
    "start_time": "2025-03-26T03:40:09.150Z"
   },
   {
    "duration": 15,
    "start_time": "2025-03-26T03:40:09.169Z"
   },
   {
    "duration": 13,
    "start_time": "2025-03-26T03:40:09.186Z"
   },
   {
    "duration": 17,
    "start_time": "2025-03-26T03:40:09.200Z"
   },
   {
    "duration": 8,
    "start_time": "2025-03-26T03:40:09.219Z"
   },
   {
    "duration": 11,
    "start_time": "2025-03-26T03:40:09.229Z"
   },
   {
    "duration": 41,
    "start_time": "2025-03-26T03:40:09.242Z"
   },
   {
    "duration": 13,
    "start_time": "2025-03-26T03:40:09.284Z"
   },
   {
    "duration": 11,
    "start_time": "2025-03-26T03:40:09.299Z"
   },
   {
    "duration": 4,
    "start_time": "2025-03-26T03:40:09.311Z"
   },
   {
    "duration": 10,
    "start_time": "2025-03-26T03:40:09.317Z"
   },
   {
    "duration": 48,
    "start_time": "2025-03-26T03:40:09.330Z"
   },
   {
    "duration": 14,
    "start_time": "2025-03-26T03:40:09.379Z"
   },
   {
    "duration": 413,
    "start_time": "2025-03-26T03:40:09.395Z"
   },
   {
    "duration": 9,
    "start_time": "2025-03-26T03:40:09.810Z"
   },
   {
    "duration": 146,
    "start_time": "2025-03-26T03:40:09.820Z"
   },
   {
    "duration": 155,
    "start_time": "2025-03-26T03:40:09.968Z"
   },
   {
    "duration": 154,
    "start_time": "2025-03-26T03:40:10.125Z"
   },
   {
    "duration": 143,
    "start_time": "2025-03-26T03:40:10.280Z"
   },
   {
    "duration": 143,
    "start_time": "2025-03-26T03:40:10.425Z"
   },
   {
    "duration": 149,
    "start_time": "2025-03-26T03:40:10.574Z"
   },
   {
    "duration": 18,
    "start_time": "2025-03-26T03:40:10.724Z"
   },
   {
    "duration": 9,
    "start_time": "2025-03-26T03:40:10.743Z"
   },
   {
    "duration": 286,
    "start_time": "2025-03-26T03:40:10.753Z"
   },
   {
    "duration": 445,
    "start_time": "2025-03-26T03:40:11.041Z"
   },
   {
    "duration": 441,
    "start_time": "2025-03-26T03:40:11.487Z"
   },
   {
    "duration": 21,
    "start_time": "2025-03-26T03:40:11.930Z"
   },
   {
    "duration": 158,
    "start_time": "2025-03-26T03:40:11.952Z"
   },
   {
    "duration": 148,
    "start_time": "2025-03-26T03:40:12.111Z"
   },
   {
    "duration": 2,
    "start_time": "2025-03-26T03:40:12.261Z"
   },
   {
    "duration": 5,
    "start_time": "2025-03-26T03:40:12.272Z"
   },
   {
    "duration": 12,
    "start_time": "2025-03-26T03:40:12.278Z"
   },
   {
    "duration": 165,
    "start_time": "2025-03-26T03:40:12.291Z"
   },
   {
    "duration": 16,
    "start_time": "2025-03-26T03:40:12.457Z"
   },
   {
    "duration": 154,
    "start_time": "2025-03-26T03:40:12.474Z"
   },
   {
    "duration": 3,
    "start_time": "2025-03-26T03:40:12.630Z"
   },
   {
    "duration": 10,
    "start_time": "2025-03-26T03:40:12.635Z"
   },
   {
    "duration": 9,
    "start_time": "2025-03-26T03:40:12.647Z"
   },
   {
    "duration": 6,
    "start_time": "2025-03-26T03:40:12.673Z"
   },
   {
    "duration": 10,
    "start_time": "2025-03-26T03:40:12.680Z"
   },
   {
    "duration": 6,
    "start_time": "2025-03-26T03:40:12.692Z"
   },
   {
    "duration": 6,
    "start_time": "2025-03-26T03:40:12.699Z"
   },
   {
    "duration": 7,
    "start_time": "2025-03-26T03:40:12.706Z"
   },
   {
    "duration": 8,
    "start_time": "2025-03-26T03:40:12.714Z"
   },
   {
    "duration": 9,
    "start_time": "2025-03-26T03:40:12.724Z"
   },
   {
    "duration": 13,
    "start_time": "2025-03-26T03:40:12.778Z"
   },
   {
    "duration": 17,
    "start_time": "2025-03-26T03:40:12.793Z"
   },
   {
    "duration": 1119,
    "start_time": "2025-03-26T04:17:25.553Z"
   },
   {
    "duration": 46,
    "start_time": "2025-03-26T04:17:26.674Z"
   },
   {
    "duration": 17,
    "start_time": "2025-03-26T04:17:26.721Z"
   },
   {
    "duration": 15,
    "start_time": "2025-03-26T04:17:26.740Z"
   },
   {
    "duration": 22,
    "start_time": "2025-03-26T04:17:26.756Z"
   },
   {
    "duration": 15,
    "start_time": "2025-03-26T04:17:26.780Z"
   },
   {
    "duration": 8,
    "start_time": "2025-03-26T04:17:26.797Z"
   },
   {
    "duration": 10,
    "start_time": "2025-03-26T04:17:26.807Z"
   },
   {
    "duration": 13,
    "start_time": "2025-03-26T04:17:26.819Z"
   },
   {
    "duration": 44,
    "start_time": "2025-03-26T04:17:26.835Z"
   },
   {
    "duration": 11,
    "start_time": "2025-03-26T04:17:26.880Z"
   },
   {
    "duration": 5,
    "start_time": "2025-03-26T04:17:26.892Z"
   },
   {
    "duration": 16,
    "start_time": "2025-03-26T04:17:26.898Z"
   },
   {
    "duration": 18,
    "start_time": "2025-03-26T04:17:26.915Z"
   },
   {
    "duration": 6,
    "start_time": "2025-03-26T04:17:26.934Z"
   },
   {
    "duration": 459,
    "start_time": "2025-03-26T04:17:26.942Z"
   },
   {
    "duration": 9,
    "start_time": "2025-03-26T04:17:27.402Z"
   },
   {
    "duration": 143,
    "start_time": "2025-03-26T04:17:27.412Z"
   },
   {
    "duration": 152,
    "start_time": "2025-03-26T04:17:27.557Z"
   },
   {
    "duration": 159,
    "start_time": "2025-03-26T04:17:27.710Z"
   },
   {
    "duration": 135,
    "start_time": "2025-03-26T04:17:27.873Z"
   },
   {
    "duration": 150,
    "start_time": "2025-03-26T04:17:28.010Z"
   },
   {
    "duration": 162,
    "start_time": "2025-03-26T04:17:28.162Z"
   },
   {
    "duration": 17,
    "start_time": "2025-03-26T04:17:28.326Z"
   },
   {
    "duration": 8,
    "start_time": "2025-03-26T04:17:28.344Z"
   },
   {
    "duration": 283,
    "start_time": "2025-03-26T04:17:28.353Z"
   },
   {
    "duration": 425,
    "start_time": "2025-03-26T04:17:28.638Z"
   },
   {
    "duration": 481,
    "start_time": "2025-03-26T04:17:29.066Z"
   },
   {
    "duration": 31,
    "start_time": "2025-03-26T04:17:29.548Z"
   },
   {
    "duration": 155,
    "start_time": "2025-03-26T04:17:29.581Z"
   },
   {
    "duration": 145,
    "start_time": "2025-03-26T04:17:29.738Z"
   },
   {
    "duration": 3,
    "start_time": "2025-03-26T04:17:29.884Z"
   },
   {
    "duration": 7,
    "start_time": "2025-03-26T04:17:29.888Z"
   },
   {
    "duration": 6,
    "start_time": "2025-03-26T04:17:29.896Z"
   },
   {
    "duration": 174,
    "start_time": "2025-03-26T04:17:29.904Z"
   },
   {
    "duration": 8,
    "start_time": "2025-03-26T04:17:30.079Z"
   },
   {
    "duration": 180,
    "start_time": "2025-03-26T04:17:30.088Z"
   },
   {
    "duration": 4,
    "start_time": "2025-03-26T04:17:30.272Z"
   },
   {
    "duration": 49,
    "start_time": "2025-03-26T04:17:30.277Z"
   },
   {
    "duration": 18,
    "start_time": "2025-03-26T04:17:30.327Z"
   },
   {
    "duration": 23,
    "start_time": "2025-03-26T04:17:30.347Z"
   },
   {
    "duration": 40,
    "start_time": "2025-03-26T04:17:30.372Z"
   },
   {
    "duration": 22,
    "start_time": "2025-03-26T04:17:30.414Z"
   },
   {
    "duration": 7,
    "start_time": "2025-03-26T04:17:30.438Z"
   },
   {
    "duration": 27,
    "start_time": "2025-03-26T04:17:30.446Z"
   },
   {
    "duration": 19,
    "start_time": "2025-03-26T04:17:30.475Z"
   },
   {
    "duration": 18,
    "start_time": "2025-03-26T04:17:30.495Z"
   },
   {
    "duration": 9,
    "start_time": "2025-03-26T04:17:30.515Z"
   },
   {
    "duration": 33,
    "start_time": "2025-03-26T04:17:30.525Z"
   },
   {
    "duration": 1505,
    "start_time": "2025-03-27T10:45:00.837Z"
   },
   {
    "duration": 66,
    "start_time": "2025-03-27T10:45:02.344Z"
   },
   {
    "duration": 20,
    "start_time": "2025-03-27T10:45:02.412Z"
   },
   {
    "duration": 46,
    "start_time": "2025-03-27T10:45:02.435Z"
   },
   {
    "duration": 15,
    "start_time": "2025-03-27T10:45:02.565Z"
   },
   {
    "duration": 19,
    "start_time": "2025-03-27T10:45:03.145Z"
   },
   {
    "duration": 11,
    "start_time": "2025-03-27T10:45:03.510Z"
   },
   {
    "duration": 13,
    "start_time": "2025-03-27T10:45:03.685Z"
   },
   {
    "duration": 17,
    "start_time": "2025-03-27T10:45:04.042Z"
   },
   {
    "duration": 17,
    "start_time": "2025-03-27T10:45:04.411Z"
   },
   {
    "duration": 6,
    "start_time": "2025-03-27T10:45:05.365Z"
   },
   {
    "duration": 13,
    "start_time": "2025-03-27T10:45:08.477Z"
   },
   {
    "duration": 18,
    "start_time": "2025-03-27T10:45:08.934Z"
   },
   {
    "duration": 6,
    "start_time": "2025-03-27T10:45:09.672Z"
   },
   {
    "duration": 435,
    "start_time": "2025-03-27T10:45:09.803Z"
   },
   {
    "duration": 9,
    "start_time": "2025-03-27T10:45:10.395Z"
   },
   {
    "duration": 137,
    "start_time": "2025-03-27T10:45:10.928Z"
   },
   {
    "duration": 148,
    "start_time": "2025-03-27T10:45:11.095Z"
   },
   {
    "duration": 146,
    "start_time": "2025-03-27T10:45:35.780Z"
   },
   {
    "duration": 133,
    "start_time": "2025-03-27T10:45:35.940Z"
   },
   {
    "duration": 150,
    "start_time": "2025-03-27T10:45:36.172Z"
   },
   {
    "duration": 128,
    "start_time": "2025-03-27T10:45:42.565Z"
   },
   {
    "duration": 17,
    "start_time": "2025-03-27T10:45:43.150Z"
   },
   {
    "duration": 10,
    "start_time": "2025-03-27T10:45:43.984Z"
   },
   {
    "duration": 219,
    "start_time": "2025-03-27T10:45:50.626Z"
   },
   {
    "duration": 388,
    "start_time": "2025-03-27T10:45:53.558Z"
   },
   {
    "duration": 361,
    "start_time": "2025-03-27T10:46:21.806Z"
   },
   {
    "duration": 23,
    "start_time": "2025-03-27T10:48:11.681Z"
   },
   {
    "duration": 146,
    "start_time": "2025-03-27T10:48:12.308Z"
   },
   {
    "duration": 148,
    "start_time": "2025-03-27T10:48:14.543Z"
   },
   {
    "duration": 110,
    "start_time": "2025-03-27T10:48:31.172Z"
   },
   {
    "duration": 457,
    "start_time": "2025-03-27T10:48:39.593Z"
   },
   {
    "duration": 5,
    "start_time": "2025-03-27T10:53:06.782Z"
   },
   {
    "duration": 23,
    "start_time": "2025-03-27T10:56:06.915Z"
   },
   {
    "duration": 23,
    "start_time": "2025-03-27T10:56:07.767Z"
   },
   {
    "duration": 21,
    "start_time": "2025-03-27T10:56:25.528Z"
   },
   {
    "duration": 21,
    "start_time": "2025-03-27T10:56:26.210Z"
   },
   {
    "duration": 19,
    "start_time": "2025-03-27T10:56:42.204Z"
   },
   {
    "duration": 22,
    "start_time": "2025-03-27T10:56:51.117Z"
   },
   {
    "duration": 101,
    "start_time": "2025-03-27T10:58:12.517Z"
   },
   {
    "duration": 306,
    "start_time": "2025-03-27T10:58:19.277Z"
   },
   {
    "duration": 301,
    "start_time": "2025-03-27T11:03:51.445Z"
   },
   {
    "duration": 9,
    "start_time": "2025-03-27T11:06:47.148Z"
   },
   {
    "duration": 7,
    "start_time": "2025-03-27T11:07:18.588Z"
   },
   {
    "duration": 23,
    "start_time": "2025-03-27T15:33:15.659Z"
   },
   {
    "duration": 33,
    "start_time": "2025-03-27T15:33:15.798Z"
   },
   {
    "duration": 33,
    "start_time": "2025-03-27T15:33:15.965Z"
   },
   {
    "duration": 160,
    "start_time": "2025-03-27T15:33:16.112Z"
   },
   {
    "duration": 159,
    "start_time": "2025-03-27T15:33:16.274Z"
   },
   {
    "duration": 8,
    "start_time": "2025-03-27T15:33:16.436Z"
   },
   {
    "duration": 334,
    "start_time": "2025-03-27T15:33:16.573Z"
   },
   {
    "duration": 0,
    "start_time": "2025-03-27T15:33:16.908Z"
   },
   {
    "duration": 3,
    "start_time": "2025-03-27T15:33:30.767Z"
   },
   {
    "duration": 49,
    "start_time": "2025-03-27T15:33:31.343Z"
   },
   {
    "duration": 14,
    "start_time": "2025-03-27T15:33:31.515Z"
   },
   {
    "duration": 13,
    "start_time": "2025-03-27T15:33:31.643Z"
   },
   {
    "duration": 13,
    "start_time": "2025-03-27T15:33:32.391Z"
   },
   {
    "duration": 16,
    "start_time": "2025-03-27T15:33:32.846Z"
   },
   {
    "duration": 9,
    "start_time": "2025-03-27T15:33:33.147Z"
   },
   {
    "duration": 10,
    "start_time": "2025-03-27T15:33:33.288Z"
   },
   {
    "duration": 15,
    "start_time": "2025-03-27T15:33:33.588Z"
   },
   {
    "duration": 14,
    "start_time": "2025-03-27T15:33:33.891Z"
   },
   {
    "duration": 6,
    "start_time": "2025-03-27T15:33:36.220Z"
   },
   {
    "duration": 12,
    "start_time": "2025-03-27T15:33:36.695Z"
   },
   {
    "duration": 16,
    "start_time": "2025-03-27T15:33:37.057Z"
   },
   {
    "duration": 6,
    "start_time": "2025-03-27T15:33:37.913Z"
   },
   {
    "duration": 395,
    "start_time": "2025-03-27T15:33:38.096Z"
   },
   {
    "duration": 9,
    "start_time": "2025-03-27T15:33:39.244Z"
   },
   {
    "duration": 128,
    "start_time": "2025-03-27T15:33:39.779Z"
   },
   {
    "duration": 241,
    "start_time": "2025-03-27T15:33:39.979Z"
   },
   {
    "duration": 157,
    "start_time": "2025-03-27T15:33:40.222Z"
   },
   {
    "duration": 134,
    "start_time": "2025-03-27T15:33:40.387Z"
   },
   {
    "duration": 142,
    "start_time": "2025-03-27T15:33:40.591Z"
   },
   {
    "duration": 158,
    "start_time": "2025-03-27T15:33:40.757Z"
   },
   {
    "duration": 18,
    "start_time": "2025-03-27T15:33:43.032Z"
   },
   {
    "duration": 8,
    "start_time": "2025-03-27T15:33:43.762Z"
   },
   {
    "duration": 154,
    "start_time": "2025-03-27T15:33:44.002Z"
   },
   {
    "duration": 345,
    "start_time": "2025-03-27T15:33:47.325Z"
   },
   {
    "duration": 347,
    "start_time": "2025-03-27T15:33:48.751Z"
   },
   {
    "duration": 338,
    "start_time": "2025-03-27T15:33:49.238Z"
   },
   {
    "duration": 21,
    "start_time": "2025-03-27T15:33:51.066Z"
   },
   {
    "duration": 21,
    "start_time": "2025-03-27T15:33:57.145Z"
   },
   {
    "duration": 22,
    "start_time": "2025-03-27T15:33:57.314Z"
   },
   {
    "duration": 140,
    "start_time": "2025-03-27T15:33:57.474Z"
   },
   {
    "duration": 251,
    "start_time": "2025-03-27T15:33:57.646Z"
   },
   {
    "duration": 8,
    "start_time": "2025-03-27T15:33:57.899Z"
   },
   {
    "duration": 300,
    "start_time": "2025-03-27T15:33:57.975Z"
   },
   {
    "duration": 0,
    "start_time": "2025-03-27T15:33:58.277Z"
   },
   {
    "duration": 21,
    "start_time": "2025-03-27T15:34:30.227Z"
   },
   {
    "duration": 21,
    "start_time": "2025-03-27T15:34:30.294Z"
   },
   {
    "duration": 21,
    "start_time": "2025-03-27T15:34:30.437Z"
   },
   {
    "duration": 146,
    "start_time": "2025-03-27T15:34:30.583Z"
   },
   {
    "duration": 144,
    "start_time": "2025-03-27T15:34:30.744Z"
   },
   {
    "duration": 7,
    "start_time": "2025-03-27T15:34:30.940Z"
   },
   {
    "duration": 295,
    "start_time": "2025-03-27T15:34:31.317Z"
   },
   {
    "duration": 4,
    "start_time": "2025-03-27T15:35:14.060Z"
   },
   {
    "duration": 4,
    "start_time": "2025-03-27T15:35:27.645Z"
   },
   {
    "duration": 5,
    "start_time": "2025-03-27T15:35:28.552Z"
   },
   {
    "duration": 5,
    "start_time": "2025-03-27T15:35:41.824Z"
   },
   {
    "duration": 7,
    "start_time": "2025-03-27T15:35:55.572Z"
   },
   {
    "duration": 9,
    "start_time": "2025-03-27T15:36:13.700Z"
   },
   {
    "duration": 5,
    "start_time": "2025-03-27T15:36:32.235Z"
   },
   {
    "duration": 4,
    "start_time": "2025-03-27T15:38:21.434Z"
   },
   {
    "duration": 4,
    "start_time": "2025-03-27T15:38:30.303Z"
   },
   {
    "duration": 3,
    "start_time": "2025-03-27T15:38:53.743Z"
   },
   {
    "duration": 4,
    "start_time": "2025-03-27T15:39:01.375Z"
   },
   {
    "duration": 5,
    "start_time": "2025-03-27T15:40:26.302Z"
   },
   {
    "duration": 464,
    "start_time": "2025-03-27T15:40:28.822Z"
   },
   {
    "duration": 336,
    "start_time": "2025-03-27T15:40:43.142Z"
   },
   {
    "duration": 4,
    "start_time": "2025-03-27T15:41:49.372Z"
   },
   {
    "duration": 4,
    "start_time": "2025-03-27T15:41:54.740Z"
   },
   {
    "duration": 6,
    "start_time": "2025-03-27T15:42:25.630Z"
   },
   {
    "duration": 312,
    "start_time": "2025-03-27T15:42:27.976Z"
   },
   {
    "duration": 300,
    "start_time": "2025-03-27T15:42:41.152Z"
   },
   {
    "duration": 5,
    "start_time": "2025-03-27T15:43:07.031Z"
   },
   {
    "duration": 6,
    "start_time": "2025-03-27T15:43:33.650Z"
   },
   {
    "duration": 103,
    "start_time": "2025-03-27T15:45:32.642Z"
   },
   {
    "duration": 132,
    "start_time": "2025-03-27T15:45:53.351Z"
   },
   {
    "duration": 147,
    "start_time": "2025-03-27T15:46:46.034Z"
   },
   {
    "duration": 154,
    "start_time": "2025-03-27T15:48:13.104Z"
   },
   {
    "duration": 5,
    "start_time": "2025-03-27T15:48:32.106Z"
   },
   {
    "duration": 5,
    "start_time": "2025-03-27T15:48:35.036Z"
   },
   {
    "duration": 150,
    "start_time": "2025-03-27T15:49:58.628Z"
   },
   {
    "duration": 6,
    "start_time": "2025-03-27T15:50:10.435Z"
   },
   {
    "duration": 5,
    "start_time": "2025-03-27T15:50:17.394Z"
   },
   {
    "duration": 8,
    "start_time": "2025-03-27T15:51:52.305Z"
   },
   {
    "duration": 7,
    "start_time": "2025-03-27T15:53:08.314Z"
   },
   {
    "duration": 6,
    "start_time": "2025-03-27T15:53:42.236Z"
   },
   {
    "duration": 1200,
    "start_time": "2025-03-27T18:14:25.576Z"
   },
   {
    "duration": 46,
    "start_time": "2025-03-27T18:14:26.778Z"
   },
   {
    "duration": 18,
    "start_time": "2025-03-27T18:14:26.825Z"
   },
   {
    "duration": 25,
    "start_time": "2025-03-27T18:14:26.845Z"
   },
   {
    "duration": 25,
    "start_time": "2025-03-27T18:14:26.872Z"
   },
   {
    "duration": 18,
    "start_time": "2025-03-27T18:14:26.899Z"
   },
   {
    "duration": 9,
    "start_time": "2025-03-27T18:14:26.919Z"
   },
   {
    "duration": 12,
    "start_time": "2025-03-27T18:14:26.930Z"
   },
   {
    "duration": 20,
    "start_time": "2025-03-27T18:14:26.964Z"
   },
   {
    "duration": 15,
    "start_time": "2025-03-27T18:14:26.987Z"
   },
   {
    "duration": 37,
    "start_time": "2025-03-27T18:14:27.003Z"
   },
   {
    "duration": 136,
    "start_time": "2025-03-27T18:14:27.042Z"
   },
   {
    "duration": 40,
    "start_time": "2025-03-27T18:14:27.179Z"
   },
   {
    "duration": 17,
    "start_time": "2025-03-27T18:14:27.221Z"
   },
   {
    "duration": 549,
    "start_time": "2025-03-27T18:14:27.239Z"
   },
   {
    "duration": 8,
    "start_time": "2025-03-27T18:14:27.790Z"
   },
   {
    "duration": 334,
    "start_time": "2025-03-27T18:14:27.800Z"
   },
   {
    "duration": 176,
    "start_time": "2025-03-27T18:14:28.135Z"
   },
   {
    "duration": 179,
    "start_time": "2025-03-27T18:14:28.312Z"
   },
   {
    "duration": 174,
    "start_time": "2025-03-27T18:14:28.493Z"
   },
   {
    "duration": 173,
    "start_time": "2025-03-27T18:14:28.669Z"
   },
   {
    "duration": 161,
    "start_time": "2025-03-27T18:14:28.843Z"
   },
   {
    "duration": 19,
    "start_time": "2025-03-27T18:14:29.006Z"
   },
   {
    "duration": 7,
    "start_time": "2025-03-27T18:14:29.027Z"
   },
   {
    "duration": 300,
    "start_time": "2025-03-27T18:14:29.035Z"
   },
   {
    "duration": 388,
    "start_time": "2025-03-27T18:14:29.337Z"
   },
   {
    "duration": 401,
    "start_time": "2025-03-27T18:14:29.727Z"
   },
   {
    "duration": 403,
    "start_time": "2025-03-27T18:14:30.132Z"
   },
   {
    "duration": 40,
    "start_time": "2025-03-27T18:14:30.537Z"
   },
   {
    "duration": 154,
    "start_time": "2025-03-27T18:14:30.579Z"
   },
   {
    "duration": 52,
    "start_time": "2025-03-27T18:14:30.735Z"
   },
   {
    "duration": 189,
    "start_time": "2025-03-27T18:14:30.789Z"
   },
   {
    "duration": 151,
    "start_time": "2025-03-27T18:14:30.980Z"
   },
   {
    "duration": 195,
    "start_time": "2025-03-27T18:14:31.133Z"
   },
   {
    "duration": 168,
    "start_time": "2025-03-27T18:14:31.331Z"
   },
   {
    "duration": 157,
    "start_time": "2025-03-27T18:14:31.501Z"
   },
   {
    "duration": 269,
    "start_time": "2025-03-27T18:14:31.661Z"
   },
   {
    "duration": 6,
    "start_time": "2025-03-27T18:14:31.932Z"
   },
   {
    "duration": 35,
    "start_time": "2025-03-27T18:14:31.940Z"
   },
   {
    "duration": 23,
    "start_time": "2025-03-27T18:14:31.977Z"
   },
   {
    "duration": 7,
    "start_time": "2025-03-27T18:14:32.001Z"
   },
   {
    "duration": 47,
    "start_time": "2025-03-27T18:14:32.010Z"
   },
   {
    "duration": 18,
    "start_time": "2025-03-27T18:14:32.059Z"
   },
   {
    "duration": 41,
    "start_time": "2025-03-27T18:14:32.079Z"
   },
   {
    "duration": 188,
    "start_time": "2025-03-27T18:14:32.122Z"
   },
   {
    "duration": 7,
    "start_time": "2025-03-27T18:14:32.312Z"
   },
   {
    "duration": 184,
    "start_time": "2025-03-27T18:14:32.321Z"
   },
   {
    "duration": 7,
    "start_time": "2025-03-27T18:14:32.507Z"
   },
   {
    "duration": 13,
    "start_time": "2025-03-27T18:14:32.516Z"
   },
   {
    "duration": 11,
    "start_time": "2025-03-27T18:14:32.531Z"
   },
   {
    "duration": 20,
    "start_time": "2025-03-27T18:14:32.544Z"
   },
   {
    "duration": 103,
    "start_time": "2025-03-27T18:14:32.573Z"
   },
   {
    "duration": 30,
    "start_time": "2025-03-27T18:14:32.678Z"
   },
   {
    "duration": 38,
    "start_time": "2025-03-27T18:14:32.710Z"
   },
   {
    "duration": 27,
    "start_time": "2025-03-27T18:14:32.749Z"
   },
   {
    "duration": 19,
    "start_time": "2025-03-27T18:14:32.778Z"
   },
   {
    "duration": 33,
    "start_time": "2025-03-27T18:14:32.799Z"
   },
   {
    "duration": 13,
    "start_time": "2025-03-27T18:14:32.834Z"
   },
   {
    "duration": 30,
    "start_time": "2025-03-27T18:14:32.849Z"
   },
   {
    "duration": 51,
    "start_time": "2025-03-27T18:14:32.881Z"
   },
   {
    "duration": 16,
    "start_time": "2025-03-27T18:14:32.934Z"
   }
  ],
  "kernelspec": {
   "display_name": "Python 3 (ipykernel)",
   "language": "python",
   "name": "python3"
  },
  "language_info": {
   "codemirror_mode": {
    "name": "ipython",
    "version": 3
   },
   "file_extension": ".py",
   "mimetype": "text/x-python",
   "name": "python",
   "nbconvert_exporter": "python",
   "pygments_lexer": "ipython3",
   "version": "3.9.5"
  },
  "toc": {
   "base_numbering": 1,
   "nav_menu": {},
   "number_sections": true,
   "sideBar": true,
   "skip_h1_title": true,
   "title_cell": "Table of Contents",
   "title_sidebar": "Contents",
   "toc_cell": false,
   "toc_position": {},
   "toc_section_display": true,
   "toc_window_display": false
  }
 },
 "nbformat": 4,
 "nbformat_minor": 2
}
